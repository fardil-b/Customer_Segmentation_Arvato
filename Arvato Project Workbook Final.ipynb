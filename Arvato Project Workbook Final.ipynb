{
 "cells": [
  {
   "cell_type": "markdown",
   "metadata": {},
   "source": [
    "# Capstone Project: Create a Customer Segmentation Report for Arvato Financial Services\n",
    "\n",
    "In this project, you will analyze demographics data for customers of a mail-order sales company in Germany, comparing it against demographics information for the general population. You'll use unsupervised learning techniques to perform customer segmentation, identifying the parts of the population that best describe the core customer base of the company. Then, you'll apply what you've learned on a third dataset with demographics information for targets of a marketing campaign for the company, and use a model to predict which individuals are most likely to convert into becoming customers for the company. The data that you will use has been provided by our partners at Bertelsmann Arvato Analytics, and represents a real-life data science task.\n",
    "\n",
    "If you completed the first term of this program, you will be familiar with the first part of this project, from the unsupervised learning project. The versions of those two datasets used in this project will include many more features and has not been pre-cleaned. You are also free to choose whatever approach you'd like to analyzing the data rather than follow pre-determined steps. In your work on this project, make sure that you carefully document your steps and decisions, since your main deliverable for this project will be a blog post reporting your findings."
   ]
  },
  {
   "cell_type": "code",
   "execution_count": 2,
   "metadata": {},
   "outputs": [],
   "source": [
    "# import libraries here; add more as necessary\n",
    "import numpy as np\n",
    "import pandas as pd\n",
    "import matplotlib.pyplot as plt\n",
    "import seaborn as sns\n",
    "import time\n",
    "from sklearn.preprocessing import StandardScaler\n",
    "from sklearn.decomposition import PCA\n",
    "# from sklearn.preprocessing import Imputer\n",
    "from sklearn.cluster import KMeans\n",
    "\n",
    "# magic word for producing visualizations in notebook\n",
    "%matplotlib inline"
   ]
  },
  {
   "cell_type": "markdown",
   "metadata": {},
   "source": [
    "## Part 0: Get to Know the Data\n",
    "\n",
    "There are four data files associated with this project:\n",
    "\n",
    "- `Udacity_AZDIAS_052018.csv`: Demographics data for the general population of Germany; 891 211 persons (rows) x 366 features (columns).\n",
    "- `Udacity_CUSTOMERS_052018.csv`: Demographics data for customers of a mail-order company; 191 652 persons (rows) x 369 features (columns).\n",
    "- `Udacity_MAILOUT_052018_TRAIN.csv`: Demographics data for individuals who were targets of a marketing campaign; 42 982 persons (rows) x 367 (columns).\n",
    "- `Udacity_MAILOUT_052018_TEST.csv`: Demographics data for individuals who were targets of a marketing campaign; 42 833 persons (rows) x 366 (columns).\n",
    "\n",
    "Each row of the demographics files represents a single person, but also includes information outside of individuals, including information about their household, building, and neighborhood. Use the information from the first two files to figure out how customers (\"CUSTOMERS\") are similar to or differ from the general population at large (\"AZDIAS\"), then use your analysis to make predictions on the other two files (\"MAILOUT\"), predicting which recipients are most likely to become a customer for the mail-order company.\n",
    "\n",
    "The \"CUSTOMERS\" file contains three extra columns ('CUSTOMER_GROUP', 'ONLINE_PURCHASE', and 'PRODUCT_GROUP'), which provide broad information about the customers depicted in the file. The original \"MAILOUT\" file included one additional column, \"RESPONSE\", which indicated whether or not each recipient became a customer of the company. For the \"TRAIN\" subset, this column has been retained, but in the \"TEST\" subset it has been removed; it is against that withheld column that your final predictions will be assessed in the Kaggle competition.\n",
    "\n",
    "Otherwise, all of the remaining columns are the same between the three data files. For more information about the columns depicted in the files, you can refer to two Excel spreadsheets provided in the workspace. [One of them](./DIAS Information Levels - Attributes 2017.xlsx) is a top-level list of attributes and descriptions, organized by informational category. [The other](./DIAS Attributes - Values 2017.xlsx) is a detailed mapping of data values for each feature in alphabetical order.\n",
    "\n",
    "In the below cell, we've provided some initial code to load in the first two datasets. Note for all of the `.csv` data files in this project that they're semicolon (`;`) delimited, so an additional argument in the [`read_csv()`](https://pandas.pydata.org/pandas-docs/stable/generated/pandas.read_csv.html) call has been included to read in the data properly. Also, considering the size of the datasets, it may take some time for them to load completely.\n",
    "\n",
    "You'll notice when the data is loaded in that a warning message will immediately pop up. Before you really start digging into the modeling and analysis, you're going to need to perform some cleaning. Take some time to browse the structure of the data and look over the informational spreadsheets to understand the data values. Make some decisions on which features to keep, which features to drop, and if any revisions need to be made on data formats. It'll be a good idea to create a function with pre-processing steps, since you'll need to clean all of the datasets before you work with them."
   ]
  },
  {
   "cell_type": "code",
   "execution_count": 3,
   "metadata": {},
   "outputs": [],
   "source": [
    "# # load in the data\n",
    "# azdias = pd.read_csv('../../data/Term2/capstone/arvato_data/Udacity_AZDIAS_052018.csv', sep=';')\n",
    "# customers = pd.read_csv('../../data/Term2/capstone/arvato_data/Udacity_CUSTOMERS_052018.csv', sep=';')"
   ]
  },
  {
   "cell_type": "markdown",
   "metadata": {},
   "source": [
    "### Memory Reduction"
   ]
  },
  {
   "cell_type": "markdown",
   "metadata": {},
   "source": [
    "Due to the huge size of data, analysing the data is very time consuming. As such I started looking for solution online. I found a nice article \"[How to handle BigData Files on Low Memory?](https://towardsdatascience.com/how-to-learn-from-bigdata-files-on-low-memory-incremental-learning-d377282d38ff#e618)\""
   ]
  },
  {
   "cell_type": "code",
   "execution_count": null,
   "metadata": {},
   "outputs": [],
   "source": [
    "def reduce_mem_usage(df):\n",
    "    \"\"\" \n",
    "    iterate through all the columns of a dataframe and \n",
    "    modify the data type to reduce memory usage.        \n",
    "    \"\"\"\n",
    "    start_mem = df.memory_usage().sum() / 1024**2\n",
    "    print(('Memory usage of dataframe is {:.2f}' \n",
    "                     'MB').format(start_mem))\n",
    "    \n",
    "    for col in df.columns:\n",
    "        col_type = df[col].dtype\n",
    "        \n",
    "        if col_type != object:\n",
    "            c_min = df[col].min()\n",
    "            c_max = df[col].max()\n",
    "            if str(col_type)[:3] == 'int':\n",
    "                if c_min > np.iinfo(np.int8).min and c_max <\\\n",
    "                  np.iinfo(np.int8).max:\n",
    "                    df[col] = df[col].astype(np.int8)\n",
    "                elif c_min > np.iinfo(np.int16).min and c_max <\\\n",
    "                   np.iinfo(np.int16).max:\n",
    "                    df[col] = df[col].astype(np.int16)\n",
    "                elif c_min > np.iinfo(np.int32).min and c_max <\\\n",
    "                   np.iinfo(np.int32).max:\n",
    "                    df[col] = df[col].astype(np.int32)\n",
    "                elif c_min > np.iinfo(np.int64).min and c_max <\\\n",
    "                   np.iinfo(np.int64).max:\n",
    "                    df[col] = df[col].astype(np.int64)  \n",
    "            else:\n",
    "                if c_min > np.finfo(np.float16).min and c_max <\\\n",
    "                   np.finfo(np.float16).max:\n",
    "                    df[col] = df[col].astype(np.float16)\n",
    "                elif c_min > np.finfo(np.float32).min and c_max <\\\n",
    "                   np.finfo(np.float32).max:\n",
    "                    df[col] = df[col].astype(np.float32)\n",
    "                else:\n",
    "                    df[col] = df[col].astype(np.float64)\n",
    "        else:\n",
    "            df[col] = df[col].astype('category')\n",
    "    end_mem = df.memory_usage().sum() / 1024**2\n",
    "    print(('Memory usage after optimization is: {:.2f}' \n",
    "                              'MB').format(end_mem))\n",
    "    print('Decreased by {:.1f}%'.format(100 * (start_mem - end_mem) \n",
    "                                             / start_mem))\n",
    "    \n",
    "    return df"
   ]
  },
  {
   "cell_type": "code",
   "execution_count": null,
   "metadata": {},
   "outputs": [],
   "source": [
    "azdias_reduce = reduce_mem_usage(azdias)\n",
    "customers_reduce = reduce_mem_usage(customers)\n",
    "mailout_train_reduce = reduce_mem_usage(mailout_train)\n",
    "mailout_test_reduce = reduce_mem_usage(mailout_test)"
   ]
  },
  {
   "cell_type": "code",
   "execution_count": null,
   "metadata": {},
   "outputs": [],
   "source": [
    "# Save the reduced Memory file\n",
    "azdias_reduce.to_csv('Udacity_AZDIAS_reduce_mem_052018.csv')\n",
    "customers_reduce.to_csv('Udacity_CUSTOMERS_reduce_mem_052018.csv')\n",
    "mailout_train_reduce.to_csv('Udacity_MAILOUT_052018_TRAIN_reduce_mem.csv')\n",
    "mailout_test_reduce.to_csv('Udacity_MAILOUT_052018_TEST_reduce_mem.csv')"
   ]
  },
  {
   "cell_type": "markdown",
   "metadata": {},
   "source": [
    "### Loading memory reduced data"
   ]
  },
  {
   "cell_type": "code",
   "execution_count": 4,
   "metadata": {},
   "outputs": [
    {
     "name": "stderr",
     "output_type": "stream",
     "text": [
      "C:\\ProgramData\\Anaconda3\\lib\\site-packages\\IPython\\core\\interactiveshell.py:3071: DtypeWarning: Columns (19,20) have mixed types.Specify dtype option on import or set low_memory=False.\n",
      "  has_raised = await self.run_ast_nodes(code_ast.body, cell_name,\n"
     ]
    }
   ],
   "source": [
    "# Read data with after memory reduction\n",
    "azdias = pd.read_csv('Udacity_AZDIAS_reduce_mem_052018.csv')\n",
    "customers = pd.read_csv('Udacity_CUSTOMERS_reduce_mem_052018.csv')\n",
    "\n",
    "#Load train and test data after memory reduction\n",
    "# mailout_train = pd.read_csv('Udacity_MAILOUT_052018_TRAIN_reduce_mem.csv')\n",
    "# mailout_test = pd.read_csv('Udacity_MAILOUT_052018_TEST_reduce_mem.csv')"
   ]
  },
  {
   "cell_type": "code",
   "execution_count": 5,
   "metadata": {},
   "outputs": [],
   "source": [
    "# Read information on the attributes \n",
    "# top-level list of attributes and descriptions, organized by informational category\n",
    "attributes_des = pd.read_excel('DIAS Information Levels - Attributes 2017.xlsx', header=1)\n",
    "# Detailed mapping of data values for each feature in alphabetical order\n",
    "attributes_info = pd.read_excel('DIAS Attributes - Values 2017.xlsx', header=1)"
   ]
  },
  {
   "cell_type": "markdown",
   "metadata": {},
   "source": [
    "### View the data"
   ]
  },
  {
   "cell_type": "code",
   "execution_count": 6,
   "metadata": {},
   "outputs": [
    {
     "data": {
      "text/html": [
       "<div>\n",
       "<style scoped>\n",
       "    .dataframe tbody tr th:only-of-type {\n",
       "        vertical-align: middle;\n",
       "    }\n",
       "\n",
       "    .dataframe tbody tr th {\n",
       "        vertical-align: top;\n",
       "    }\n",
       "\n",
       "    .dataframe thead th {\n",
       "        text-align: right;\n",
       "    }\n",
       "</style>\n",
       "<table border=\"1\" class=\"dataframe\">\n",
       "  <thead>\n",
       "    <tr style=\"text-align: right;\">\n",
       "      <th></th>\n",
       "      <th>Unnamed: 0</th>\n",
       "      <th>LNR</th>\n",
       "      <th>AGER_TYP</th>\n",
       "      <th>AKT_DAT_KL</th>\n",
       "      <th>ALTER_HH</th>\n",
       "      <th>ALTER_KIND1</th>\n",
       "      <th>ALTER_KIND2</th>\n",
       "      <th>ALTER_KIND3</th>\n",
       "      <th>ALTER_KIND4</th>\n",
       "      <th>ALTERSKATEGORIE_FEIN</th>\n",
       "      <th>...</th>\n",
       "      <th>VHN</th>\n",
       "      <th>VK_DHT4A</th>\n",
       "      <th>VK_DISTANZ</th>\n",
       "      <th>VK_ZG11</th>\n",
       "      <th>W_KEIT_KIND_HH</th>\n",
       "      <th>WOHNDAUER_2008</th>\n",
       "      <th>WOHNLAGE</th>\n",
       "      <th>ZABEOTYP</th>\n",
       "      <th>ANREDE_KZ</th>\n",
       "      <th>ALTERSKATEGORIE_GROB</th>\n",
       "    </tr>\n",
       "  </thead>\n",
       "  <tbody>\n",
       "    <tr>\n",
       "      <th>0</th>\n",
       "      <td>0</td>\n",
       "      <td>910215</td>\n",
       "      <td>-1</td>\n",
       "      <td>NaN</td>\n",
       "      <td>NaN</td>\n",
       "      <td>NaN</td>\n",
       "      <td>NaN</td>\n",
       "      <td>NaN</td>\n",
       "      <td>NaN</td>\n",
       "      <td>NaN</td>\n",
       "      <td>...</td>\n",
       "      <td>NaN</td>\n",
       "      <td>NaN</td>\n",
       "      <td>NaN</td>\n",
       "      <td>NaN</td>\n",
       "      <td>NaN</td>\n",
       "      <td>NaN</td>\n",
       "      <td>NaN</td>\n",
       "      <td>3</td>\n",
       "      <td>1</td>\n",
       "      <td>2</td>\n",
       "    </tr>\n",
       "    <tr>\n",
       "      <th>1</th>\n",
       "      <td>1</td>\n",
       "      <td>910220</td>\n",
       "      <td>-1</td>\n",
       "      <td>9.0</td>\n",
       "      <td>0.0</td>\n",
       "      <td>NaN</td>\n",
       "      <td>NaN</td>\n",
       "      <td>NaN</td>\n",
       "      <td>NaN</td>\n",
       "      <td>21.0</td>\n",
       "      <td>...</td>\n",
       "      <td>4.0</td>\n",
       "      <td>8.0</td>\n",
       "      <td>11.0</td>\n",
       "      <td>10.0</td>\n",
       "      <td>3.0</td>\n",
       "      <td>9.0</td>\n",
       "      <td>4.0</td>\n",
       "      <td>5</td>\n",
       "      <td>2</td>\n",
       "      <td>1</td>\n",
       "    </tr>\n",
       "    <tr>\n",
       "      <th>2</th>\n",
       "      <td>2</td>\n",
       "      <td>910225</td>\n",
       "      <td>-1</td>\n",
       "      <td>9.0</td>\n",
       "      <td>17.0</td>\n",
       "      <td>NaN</td>\n",
       "      <td>NaN</td>\n",
       "      <td>NaN</td>\n",
       "      <td>NaN</td>\n",
       "      <td>17.0</td>\n",
       "      <td>...</td>\n",
       "      <td>2.0</td>\n",
       "      <td>9.0</td>\n",
       "      <td>9.0</td>\n",
       "      <td>6.0</td>\n",
       "      <td>3.0</td>\n",
       "      <td>9.0</td>\n",
       "      <td>2.0</td>\n",
       "      <td>5</td>\n",
       "      <td>2</td>\n",
       "      <td>3</td>\n",
       "    </tr>\n",
       "    <tr>\n",
       "      <th>3</th>\n",
       "      <td>3</td>\n",
       "      <td>910226</td>\n",
       "      <td>2</td>\n",
       "      <td>1.0</td>\n",
       "      <td>13.0</td>\n",
       "      <td>NaN</td>\n",
       "      <td>NaN</td>\n",
       "      <td>NaN</td>\n",
       "      <td>NaN</td>\n",
       "      <td>13.0</td>\n",
       "      <td>...</td>\n",
       "      <td>0.0</td>\n",
       "      <td>7.0</td>\n",
       "      <td>10.0</td>\n",
       "      <td>11.0</td>\n",
       "      <td>NaN</td>\n",
       "      <td>9.0</td>\n",
       "      <td>7.0</td>\n",
       "      <td>3</td>\n",
       "      <td>2</td>\n",
       "      <td>4</td>\n",
       "    </tr>\n",
       "    <tr>\n",
       "      <th>4</th>\n",
       "      <td>4</td>\n",
       "      <td>910241</td>\n",
       "      <td>-1</td>\n",
       "      <td>1.0</td>\n",
       "      <td>20.0</td>\n",
       "      <td>NaN</td>\n",
       "      <td>NaN</td>\n",
       "      <td>NaN</td>\n",
       "      <td>NaN</td>\n",
       "      <td>14.0</td>\n",
       "      <td>...</td>\n",
       "      <td>2.0</td>\n",
       "      <td>3.0</td>\n",
       "      <td>5.0</td>\n",
       "      <td>4.0</td>\n",
       "      <td>2.0</td>\n",
       "      <td>9.0</td>\n",
       "      <td>3.0</td>\n",
       "      <td>4</td>\n",
       "      <td>1</td>\n",
       "      <td>3</td>\n",
       "    </tr>\n",
       "  </tbody>\n",
       "</table>\n",
       "<p>5 rows × 367 columns</p>\n",
       "</div>"
      ],
      "text/plain": [
       "   Unnamed: 0     LNR  AGER_TYP  AKT_DAT_KL  ALTER_HH  ALTER_KIND1  \\\n",
       "0           0  910215        -1         NaN       NaN          NaN   \n",
       "1           1  910220        -1         9.0       0.0          NaN   \n",
       "2           2  910225        -1         9.0      17.0          NaN   \n",
       "3           3  910226         2         1.0      13.0          NaN   \n",
       "4           4  910241        -1         1.0      20.0          NaN   \n",
       "\n",
       "   ALTER_KIND2  ALTER_KIND3  ALTER_KIND4  ALTERSKATEGORIE_FEIN  ...  VHN  \\\n",
       "0          NaN          NaN          NaN                   NaN  ...  NaN   \n",
       "1          NaN          NaN          NaN                  21.0  ...  4.0   \n",
       "2          NaN          NaN          NaN                  17.0  ...  2.0   \n",
       "3          NaN          NaN          NaN                  13.0  ...  0.0   \n",
       "4          NaN          NaN          NaN                  14.0  ...  2.0   \n",
       "\n",
       "   VK_DHT4A  VK_DISTANZ  VK_ZG11  W_KEIT_KIND_HH  WOHNDAUER_2008  WOHNLAGE  \\\n",
       "0       NaN         NaN      NaN             NaN             NaN       NaN   \n",
       "1       8.0        11.0     10.0             3.0             9.0       4.0   \n",
       "2       9.0         9.0      6.0             3.0             9.0       2.0   \n",
       "3       7.0        10.0     11.0             NaN             9.0       7.0   \n",
       "4       3.0         5.0      4.0             2.0             9.0       3.0   \n",
       "\n",
       "   ZABEOTYP ANREDE_KZ ALTERSKATEGORIE_GROB  \n",
       "0         3         1                    2  \n",
       "1         5         2                    1  \n",
       "2         5         2                    3  \n",
       "3         3         2                    4  \n",
       "4         4         1                    3  \n",
       "\n",
       "[5 rows x 367 columns]"
      ]
     },
     "execution_count": 6,
     "metadata": {},
     "output_type": "execute_result"
    }
   ],
   "source": [
    "azdias.head()"
   ]
  },
  {
   "cell_type": "code",
   "execution_count": null,
   "metadata": {},
   "outputs": [],
   "source": [
    "azdias.describe()"
   ]
  },
  {
   "cell_type": "code",
   "execution_count": null,
   "metadata": {},
   "outputs": [],
   "source": [
    "customers.head()"
   ]
  },
  {
   "cell_type": "code",
   "execution_count": null,
   "metadata": {},
   "outputs": [],
   "source": [
    "customers. describe()"
   ]
  },
  {
   "cell_type": "code",
   "execution_count": 7,
   "metadata": {},
   "outputs": [
    {
     "data": {
      "text/html": [
       "<div>\n",
       "<style scoped>\n",
       "    .dataframe tbody tr th:only-of-type {\n",
       "        vertical-align: middle;\n",
       "    }\n",
       "\n",
       "    .dataframe tbody tr th {\n",
       "        vertical-align: top;\n",
       "    }\n",
       "\n",
       "    .dataframe thead th {\n",
       "        text-align: right;\n",
       "    }\n",
       "</style>\n",
       "<table border=\"1\" class=\"dataframe\">\n",
       "  <thead>\n",
       "    <tr style=\"text-align: right;\">\n",
       "      <th></th>\n",
       "      <th>Unnamed: 0</th>\n",
       "      <th>Attribute</th>\n",
       "      <th>Description</th>\n",
       "      <th>Value</th>\n",
       "      <th>Meaning</th>\n",
       "    </tr>\n",
       "  </thead>\n",
       "  <tbody>\n",
       "    <tr>\n",
       "      <th>0</th>\n",
       "      <td>NaN</td>\n",
       "      <td>AGER_TYP</td>\n",
       "      <td>best-ager typology</td>\n",
       "      <td>-1</td>\n",
       "      <td>unknown</td>\n",
       "    </tr>\n",
       "    <tr>\n",
       "      <th>1</th>\n",
       "      <td>NaN</td>\n",
       "      <td>NaN</td>\n",
       "      <td>NaN</td>\n",
       "      <td>0</td>\n",
       "      <td>no classification possible</td>\n",
       "    </tr>\n",
       "    <tr>\n",
       "      <th>2</th>\n",
       "      <td>NaN</td>\n",
       "      <td>NaN</td>\n",
       "      <td>NaN</td>\n",
       "      <td>1</td>\n",
       "      <td>passive elderly</td>\n",
       "    </tr>\n",
       "    <tr>\n",
       "      <th>3</th>\n",
       "      <td>NaN</td>\n",
       "      <td>NaN</td>\n",
       "      <td>NaN</td>\n",
       "      <td>2</td>\n",
       "      <td>cultural elderly</td>\n",
       "    </tr>\n",
       "    <tr>\n",
       "      <th>4</th>\n",
       "      <td>NaN</td>\n",
       "      <td>NaN</td>\n",
       "      <td>NaN</td>\n",
       "      <td>3</td>\n",
       "      <td>experience-driven elderly</td>\n",
       "    </tr>\n",
       "    <tr>\n",
       "      <th>5</th>\n",
       "      <td>NaN</td>\n",
       "      <td>ALTERSKATEGORIE_GROB</td>\n",
       "      <td>age classification through prename analysis</td>\n",
       "      <td>-1, 0</td>\n",
       "      <td>unknown</td>\n",
       "    </tr>\n",
       "    <tr>\n",
       "      <th>6</th>\n",
       "      <td>NaN</td>\n",
       "      <td>NaN</td>\n",
       "      <td>NaN</td>\n",
       "      <td>1</td>\n",
       "      <td>&lt; 30 years</td>\n",
       "    </tr>\n",
       "    <tr>\n",
       "      <th>7</th>\n",
       "      <td>NaN</td>\n",
       "      <td>NaN</td>\n",
       "      <td>NaN</td>\n",
       "      <td>2</td>\n",
       "      <td>30 - 45 years</td>\n",
       "    </tr>\n",
       "    <tr>\n",
       "      <th>8</th>\n",
       "      <td>NaN</td>\n",
       "      <td>NaN</td>\n",
       "      <td>NaN</td>\n",
       "      <td>3</td>\n",
       "      <td>46 - 60 years</td>\n",
       "    </tr>\n",
       "    <tr>\n",
       "      <th>9</th>\n",
       "      <td>NaN</td>\n",
       "      <td>NaN</td>\n",
       "      <td>NaN</td>\n",
       "      <td>4</td>\n",
       "      <td>&gt; 60 years</td>\n",
       "    </tr>\n",
       "  </tbody>\n",
       "</table>\n",
       "</div>"
      ],
      "text/plain": [
       "   Unnamed: 0             Attribute  \\\n",
       "0         NaN              AGER_TYP   \n",
       "1         NaN                   NaN   \n",
       "2         NaN                   NaN   \n",
       "3         NaN                   NaN   \n",
       "4         NaN                   NaN   \n",
       "5         NaN  ALTERSKATEGORIE_GROB   \n",
       "6         NaN                   NaN   \n",
       "7         NaN                   NaN   \n",
       "8         NaN                   NaN   \n",
       "9         NaN                   NaN   \n",
       "\n",
       "                                    Description  Value  \\\n",
       "0                            best-ager typology     -1   \n",
       "1                                           NaN      0   \n",
       "2                                           NaN      1   \n",
       "3                                           NaN      2   \n",
       "4                                           NaN      3   \n",
       "5  age classification through prename analysis   -1, 0   \n",
       "6                                           NaN      1   \n",
       "7                                           NaN      2   \n",
       "8                                           NaN      3   \n",
       "9                                           NaN      4   \n",
       "\n",
       "                      Meaning  \n",
       "0                     unknown  \n",
       "1  no classification possible  \n",
       "2             passive elderly  \n",
       "3            cultural elderly  \n",
       "4   experience-driven elderly  \n",
       "5                     unknown  \n",
       "6                  < 30 years  \n",
       "7               30 - 45 years  \n",
       "8               46 - 60 years  \n",
       "9                  > 60 years  "
      ]
     },
     "execution_count": 7,
     "metadata": {},
     "output_type": "execute_result"
    }
   ],
   "source": [
    "attributes_info.head(10)"
   ]
  },
  {
   "cell_type": "code",
   "execution_count": 8,
   "metadata": {},
   "outputs": [],
   "source": [
    "def drop_unnamed_cols(df):\n",
    "    \"\"\"\n",
    "    drop the Unnamed first columns in the data\n",
    "\n",
    "    \"\"\"\n",
    "    df.drop(columns=['Unnamed: 0'], inplace=True)\n",
    "    return df"
   ]
  },
  {
   "cell_type": "code",
   "execution_count": 9,
   "metadata": {},
   "outputs": [
    {
     "data": {
      "text/html": [
       "<div>\n",
       "<style scoped>\n",
       "    .dataframe tbody tr th:only-of-type {\n",
       "        vertical-align: middle;\n",
       "    }\n",
       "\n",
       "    .dataframe tbody tr th {\n",
       "        vertical-align: top;\n",
       "    }\n",
       "\n",
       "    .dataframe thead th {\n",
       "        text-align: right;\n",
       "    }\n",
       "</style>\n",
       "<table border=\"1\" class=\"dataframe\">\n",
       "  <thead>\n",
       "    <tr style=\"text-align: right;\">\n",
       "      <th></th>\n",
       "      <th>Information level</th>\n",
       "      <th>Attribute</th>\n",
       "      <th>Description</th>\n",
       "      <th>Additional notes</th>\n",
       "    </tr>\n",
       "  </thead>\n",
       "  <tbody>\n",
       "    <tr>\n",
       "      <th>0</th>\n",
       "      <td>NaN</td>\n",
       "      <td>AGER_TYP</td>\n",
       "      <td>best-ager typology</td>\n",
       "      <td>in cooperation with Kantar TNS; the informatio...</td>\n",
       "    </tr>\n",
       "    <tr>\n",
       "      <th>1</th>\n",
       "      <td>Person</td>\n",
       "      <td>ALTERSKATEGORIE_GROB</td>\n",
       "      <td>age through prename analysis</td>\n",
       "      <td>modelled on millions of first name-age-referen...</td>\n",
       "    </tr>\n",
       "    <tr>\n",
       "      <th>2</th>\n",
       "      <td>NaN</td>\n",
       "      <td>ANREDE_KZ</td>\n",
       "      <td>gender</td>\n",
       "      <td>NaN</td>\n",
       "    </tr>\n",
       "    <tr>\n",
       "      <th>3</th>\n",
       "      <td>NaN</td>\n",
       "      <td>CJT_GESAMTTYP</td>\n",
       "      <td>Customer-Journey-Typology relating to the pref...</td>\n",
       "      <td>relating to the preferred information, marketi...</td>\n",
       "    </tr>\n",
       "    <tr>\n",
       "      <th>4</th>\n",
       "      <td>NaN</td>\n",
       "      <td>FINANZ_MINIMALIST</td>\n",
       "      <td>financial typology: low financial interest</td>\n",
       "      <td>Gfk-Typology based on a representative househo...</td>\n",
       "    </tr>\n",
       "    <tr>\n",
       "      <th>...</th>\n",
       "      <td>...</td>\n",
       "      <td>...</td>\n",
       "      <td>...</td>\n",
       "      <td>...</td>\n",
       "    </tr>\n",
       "    <tr>\n",
       "      <th>308</th>\n",
       "      <td>Community</td>\n",
       "      <td>ARBEIT</td>\n",
       "      <td>share of unemployed person in the community</td>\n",
       "      <td>NaN</td>\n",
       "    </tr>\n",
       "    <tr>\n",
       "      <th>309</th>\n",
       "      <td>NaN</td>\n",
       "      <td>EINWOHNER</td>\n",
       "      <td>inhabitants</td>\n",
       "      <td>NaN</td>\n",
       "    </tr>\n",
       "    <tr>\n",
       "      <th>310</th>\n",
       "      <td>NaN</td>\n",
       "      <td>GKZ</td>\n",
       "      <td>standardized community-code</td>\n",
       "      <td>NaN</td>\n",
       "    </tr>\n",
       "    <tr>\n",
       "      <th>311</th>\n",
       "      <td>NaN</td>\n",
       "      <td>ORTSGR_KLS9</td>\n",
       "      <td>classified number of inhabitants</td>\n",
       "      <td>NaN</td>\n",
       "    </tr>\n",
       "    <tr>\n",
       "      <th>312</th>\n",
       "      <td>NaN</td>\n",
       "      <td>RELAT_AB</td>\n",
       "      <td>share of unemployed in relation to the county ...</td>\n",
       "      <td>NaN</td>\n",
       "    </tr>\n",
       "  </tbody>\n",
       "</table>\n",
       "<p>313 rows × 4 columns</p>\n",
       "</div>"
      ],
      "text/plain": [
       "    Information level             Attribute  \\\n",
       "0                 NaN              AGER_TYP   \n",
       "1              Person  ALTERSKATEGORIE_GROB   \n",
       "2                 NaN             ANREDE_KZ   \n",
       "3                 NaN         CJT_GESAMTTYP   \n",
       "4                 NaN     FINANZ_MINIMALIST   \n",
       "..                ...                   ...   \n",
       "308         Community                ARBEIT   \n",
       "309               NaN             EINWOHNER   \n",
       "310               NaN                   GKZ   \n",
       "311               NaN           ORTSGR_KLS9   \n",
       "312               NaN              RELAT_AB   \n",
       "\n",
       "                                           Description  \\\n",
       "0                                   best-ager typology   \n",
       "1                        age through prename analysis    \n",
       "2                                               gender   \n",
       "3    Customer-Journey-Typology relating to the pref...   \n",
       "4           financial typology: low financial interest   \n",
       "..                                                 ...   \n",
       "308        share of unemployed person in the community   \n",
       "309                                        inhabitants   \n",
       "310                        standardized community-code   \n",
       "311                   classified number of inhabitants   \n",
       "312  share of unemployed in relation to the county ...   \n",
       "\n",
       "                                      Additional notes  \n",
       "0    in cooperation with Kantar TNS; the informatio...  \n",
       "1    modelled on millions of first name-age-referen...  \n",
       "2                                                  NaN  \n",
       "3    relating to the preferred information, marketi...  \n",
       "4    Gfk-Typology based on a representative househo...  \n",
       "..                                                 ...  \n",
       "308                                                NaN  \n",
       "309                                                NaN  \n",
       "310                                                NaN  \n",
       "311                                                NaN  \n",
       "312                                                NaN  \n",
       "\n",
       "[313 rows x 4 columns]"
      ]
     },
     "execution_count": 9,
     "metadata": {},
     "output_type": "execute_result"
    }
   ],
   "source": [
    "# drop the unnamed columns\n",
    "drop_unnamed_cols(azdias)\n",
    "drop_unnamed_cols(customers)\n",
    "drop_unnamed_cols(attributes_info)\n",
    "drop_unnamed_cols(attributes_des)"
   ]
  },
  {
   "cell_type": "code",
   "execution_count": 10,
   "metadata": {},
   "outputs": [
    {
     "data": {
      "text/html": [
       "<div>\n",
       "<style scoped>\n",
       "    .dataframe tbody tr th:only-of-type {\n",
       "        vertical-align: middle;\n",
       "    }\n",
       "\n",
       "    .dataframe tbody tr th {\n",
       "        vertical-align: top;\n",
       "    }\n",
       "\n",
       "    .dataframe thead th {\n",
       "        text-align: right;\n",
       "    }\n",
       "</style>\n",
       "<table border=\"1\" class=\"dataframe\">\n",
       "  <thead>\n",
       "    <tr style=\"text-align: right;\">\n",
       "      <th></th>\n",
       "      <th>Attribute</th>\n",
       "      <th>Description</th>\n",
       "      <th>Value</th>\n",
       "      <th>Meaning</th>\n",
       "    </tr>\n",
       "  </thead>\n",
       "  <tbody>\n",
       "    <tr>\n",
       "      <th>0</th>\n",
       "      <td>AGER_TYP</td>\n",
       "      <td>best-ager typology</td>\n",
       "      <td>-1</td>\n",
       "      <td>unknown</td>\n",
       "    </tr>\n",
       "    <tr>\n",
       "      <th>1</th>\n",
       "      <td>AGER_TYP</td>\n",
       "      <td>NaN</td>\n",
       "      <td>0</td>\n",
       "      <td>no classification possible</td>\n",
       "    </tr>\n",
       "    <tr>\n",
       "      <th>2</th>\n",
       "      <td>AGER_TYP</td>\n",
       "      <td>NaN</td>\n",
       "      <td>1</td>\n",
       "      <td>passive elderly</td>\n",
       "    </tr>\n",
       "    <tr>\n",
       "      <th>3</th>\n",
       "      <td>AGER_TYP</td>\n",
       "      <td>NaN</td>\n",
       "      <td>2</td>\n",
       "      <td>cultural elderly</td>\n",
       "    </tr>\n",
       "    <tr>\n",
       "      <th>4</th>\n",
       "      <td>AGER_TYP</td>\n",
       "      <td>NaN</td>\n",
       "      <td>3</td>\n",
       "      <td>experience-driven elderly</td>\n",
       "    </tr>\n",
       "    <tr>\n",
       "      <th>5</th>\n",
       "      <td>ALTERSKATEGORIE_GROB</td>\n",
       "      <td>age classification through prename analysis</td>\n",
       "      <td>-1, 0</td>\n",
       "      <td>unknown</td>\n",
       "    </tr>\n",
       "    <tr>\n",
       "      <th>6</th>\n",
       "      <td>ALTERSKATEGORIE_GROB</td>\n",
       "      <td>NaN</td>\n",
       "      <td>1</td>\n",
       "      <td>&lt; 30 years</td>\n",
       "    </tr>\n",
       "    <tr>\n",
       "      <th>7</th>\n",
       "      <td>ALTERSKATEGORIE_GROB</td>\n",
       "      <td>NaN</td>\n",
       "      <td>2</td>\n",
       "      <td>30 - 45 years</td>\n",
       "    </tr>\n",
       "    <tr>\n",
       "      <th>8</th>\n",
       "      <td>ALTERSKATEGORIE_GROB</td>\n",
       "      <td>NaN</td>\n",
       "      <td>3</td>\n",
       "      <td>46 - 60 years</td>\n",
       "    </tr>\n",
       "    <tr>\n",
       "      <th>9</th>\n",
       "      <td>ALTERSKATEGORIE_GROB</td>\n",
       "      <td>NaN</td>\n",
       "      <td>4</td>\n",
       "      <td>&gt; 60 years</td>\n",
       "    </tr>\n",
       "  </tbody>\n",
       "</table>\n",
       "</div>"
      ],
      "text/plain": [
       "              Attribute                                   Description  Value  \\\n",
       "0              AGER_TYP                            best-ager typology     -1   \n",
       "1              AGER_TYP                                           NaN      0   \n",
       "2              AGER_TYP                                           NaN      1   \n",
       "3              AGER_TYP                                           NaN      2   \n",
       "4              AGER_TYP                                           NaN      3   \n",
       "5  ALTERSKATEGORIE_GROB  age classification through prename analysis   -1, 0   \n",
       "6  ALTERSKATEGORIE_GROB                                           NaN      1   \n",
       "7  ALTERSKATEGORIE_GROB                                           NaN      2   \n",
       "8  ALTERSKATEGORIE_GROB                                           NaN      3   \n",
       "9  ALTERSKATEGORIE_GROB                                           NaN      4   \n",
       "\n",
       "                      Meaning  \n",
       "0                     unknown  \n",
       "1  no classification possible  \n",
       "2             passive elderly  \n",
       "3            cultural elderly  \n",
       "4   experience-driven elderly  \n",
       "5                     unknown  \n",
       "6                  < 30 years  \n",
       "7               30 - 45 years  \n",
       "8               46 - 60 years  \n",
       "9                  > 60 years  "
      ]
     },
     "execution_count": 10,
     "metadata": {},
     "output_type": "execute_result"
    }
   ],
   "source": [
    "# Fill in the null values in the attribute column\n",
    "attributes_info[\"Attribute\"] = attributes_info[\"Attribute\"].ffill()\n",
    "attributes_info.head(10)"
   ]
  },
  {
   "cell_type": "markdown",
   "metadata": {},
   "source": [
    "### Fix the warning received when loading the data"
   ]
  },
  {
   "cell_type": "code",
   "execution_count": 11,
   "metadata": {},
   "outputs": [
    {
     "data": {
      "text/plain": [
       "Index(['CAMEO_DEUG_2015', 'CAMEO_INTL_2015'], dtype='object')"
      ]
     },
     "execution_count": 11,
     "metadata": {},
     "output_type": "execute_result"
    }
   ],
   "source": [
    "azdias.columns[18:20]"
   ]
  },
  {
   "cell_type": "code",
   "execution_count": 12,
   "metadata": {},
   "outputs": [
    {
     "data": {
      "text/plain": [
       "Index(['CAMEO_DEUG_2015', 'CAMEO_INTL_2015'], dtype='object')"
      ]
     },
     "execution_count": 12,
     "metadata": {},
     "output_type": "execute_result"
    }
   ],
   "source": [
    "customers.columns[18:20]"
   ]
  },
  {
   "cell_type": "code",
   "execution_count": 13,
   "metadata": {},
   "outputs": [
    {
     "data": {
      "text/plain": [
       "array([nan, 51.0, 24.0, 12.0, 43.0, 54.0, 22.0, 14.0, 13.0, 15.0, 33.0,\n",
       "       41.0, 34.0, 55.0, 25.0, 23.0, 31.0, 52.0, 35.0, 45.0, 44.0, 32.0,\n",
       "       '22', '24', '41', '12', '54', '51', '44', '35', '23', '25', '14',\n",
       "       '34', '52', '55', '31', '32', '15', '13', '43', '33', '45', 'XX'],\n",
       "      dtype=object)"
      ]
     },
     "execution_count": 13,
     "metadata": {},
     "output_type": "execute_result"
    }
   ],
   "source": [
    "azdias['CAMEO_INTL_2015'].unique()"
   ]
  },
  {
   "cell_type": "code",
   "execution_count": 14,
   "metadata": {},
   "outputs": [
    {
     "data": {
      "text/html": [
       "<div>\n",
       "<style scoped>\n",
       "    .dataframe tbody tr th:only-of-type {\n",
       "        vertical-align: middle;\n",
       "    }\n",
       "\n",
       "    .dataframe tbody tr th {\n",
       "        vertical-align: top;\n",
       "    }\n",
       "\n",
       "    .dataframe thead th {\n",
       "        text-align: right;\n",
       "    }\n",
       "</style>\n",
       "<table border=\"1\" class=\"dataframe\">\n",
       "  <thead>\n",
       "    <tr style=\"text-align: right;\">\n",
       "      <th></th>\n",
       "      <th>Attribute</th>\n",
       "      <th>Description</th>\n",
       "      <th>Value</th>\n",
       "      <th>Meaning</th>\n",
       "    </tr>\n",
       "  </thead>\n",
       "  <tbody>\n",
       "    <tr>\n",
       "      <th>51</th>\n",
       "      <td>CAMEO_DEUG_2015</td>\n",
       "      <td>CAMEO classification 2015 - Uppergroup</td>\n",
       "      <td>-1</td>\n",
       "      <td>unknown</td>\n",
       "    </tr>\n",
       "    <tr>\n",
       "      <th>52</th>\n",
       "      <td>CAMEO_DEUG_2015</td>\n",
       "      <td>NaN</td>\n",
       "      <td>1</td>\n",
       "      <td>upper class</td>\n",
       "    </tr>\n",
       "    <tr>\n",
       "      <th>53</th>\n",
       "      <td>CAMEO_DEUG_2015</td>\n",
       "      <td>NaN</td>\n",
       "      <td>2</td>\n",
       "      <td>upper middleclass</td>\n",
       "    </tr>\n",
       "    <tr>\n",
       "      <th>54</th>\n",
       "      <td>CAMEO_DEUG_2015</td>\n",
       "      <td>NaN</td>\n",
       "      <td>3</td>\n",
       "      <td>established middleclasse</td>\n",
       "    </tr>\n",
       "    <tr>\n",
       "      <th>55</th>\n",
       "      <td>CAMEO_DEUG_2015</td>\n",
       "      <td>NaN</td>\n",
       "      <td>4</td>\n",
       "      <td>consumption-oriented middleclass</td>\n",
       "    </tr>\n",
       "    <tr>\n",
       "      <th>56</th>\n",
       "      <td>CAMEO_DEUG_2015</td>\n",
       "      <td>NaN</td>\n",
       "      <td>5</td>\n",
       "      <td>active middleclass</td>\n",
       "    </tr>\n",
       "    <tr>\n",
       "      <th>57</th>\n",
       "      <td>CAMEO_DEUG_2015</td>\n",
       "      <td>NaN</td>\n",
       "      <td>6</td>\n",
       "      <td>low-consumption middleclass</td>\n",
       "    </tr>\n",
       "    <tr>\n",
       "      <th>58</th>\n",
       "      <td>CAMEO_DEUG_2015</td>\n",
       "      <td>NaN</td>\n",
       "      <td>7</td>\n",
       "      <td>lower middleclass</td>\n",
       "    </tr>\n",
       "    <tr>\n",
       "      <th>59</th>\n",
       "      <td>CAMEO_DEUG_2015</td>\n",
       "      <td>NaN</td>\n",
       "      <td>8</td>\n",
       "      <td>working class</td>\n",
       "    </tr>\n",
       "    <tr>\n",
       "      <th>60</th>\n",
       "      <td>CAMEO_DEUG_2015</td>\n",
       "      <td>NaN</td>\n",
       "      <td>9</td>\n",
       "      <td>urban working class</td>\n",
       "    </tr>\n",
       "  </tbody>\n",
       "</table>\n",
       "</div>"
      ],
      "text/plain": [
       "          Attribute                             Description Value  \\\n",
       "51  CAMEO_DEUG_2015  CAMEO classification 2015 - Uppergroup    -1   \n",
       "52  CAMEO_DEUG_2015                                     NaN     1   \n",
       "53  CAMEO_DEUG_2015                                     NaN     2   \n",
       "54  CAMEO_DEUG_2015                                     NaN     3   \n",
       "55  CAMEO_DEUG_2015                                     NaN     4   \n",
       "56  CAMEO_DEUG_2015                                     NaN     5   \n",
       "57  CAMEO_DEUG_2015                                     NaN     6   \n",
       "58  CAMEO_DEUG_2015                                     NaN     7   \n",
       "59  CAMEO_DEUG_2015                                     NaN     8   \n",
       "60  CAMEO_DEUG_2015                                     NaN     9   \n",
       "\n",
       "                              Meaning  \n",
       "51                            unknown  \n",
       "52                        upper class  \n",
       "53                  upper middleclass  \n",
       "54           established middleclasse  \n",
       "55  consumption-oriented middleclass   \n",
       "56                active middleclass   \n",
       "57        low-consumption middleclass  \n",
       "58                  lower middleclass  \n",
       "59                      working class  \n",
       "60                urban working class  "
      ]
     },
     "execution_count": 14,
     "metadata": {},
     "output_type": "execute_result"
    }
   ],
   "source": [
    "attributes_info[attributes_info[\"Attribute\"] == \"CAMEO_DEUG_2015\"]"
   ]
  },
  {
   "cell_type": "markdown",
   "metadata": {},
   "source": [
    "##### Look at the extra columnns in customers"
   ]
  },
  {
   "cell_type": "code",
   "execution_count": null,
   "metadata": {},
   "outputs": [],
   "source": [
    "customers['PRODUCT_GROUP'].unique()"
   ]
  },
  {
   "cell_type": "code",
   "execution_count": null,
   "metadata": {},
   "outputs": [],
   "source": [
    "customers['ONLINE_PURCHASE'].describe()"
   ]
  },
  {
   "cell_type": "code",
   "execution_count": null,
   "metadata": {},
   "outputs": [],
   "source": [
    "customers['CUSTOMER_GROUP'].unique()"
   ]
  },
  {
   "cell_type": "code",
   "execution_count": null,
   "metadata": {},
   "outputs": [],
   "source": [
    "# Drop the additional columns\n",
    "customers.drop(['PRODUCT_GROUP', 'ONLINE_PURCHASE', 'CUSTOMER_GROUP'],axis=1,inplace=True)"
   ]
  },
  {
   "cell_type": "code",
   "execution_count": 19,
   "metadata": {},
   "outputs": [
    {
     "name": "stdout",
     "output_type": "stream",
     "text": [
      "(891221, 310)\n",
      "(191652, 310)\n"
     ]
    }
   ],
   "source": [
    "print(azdias.shape)\n",
    "print(customers.shape)"
   ]
  },
  {
   "cell_type": "markdown",
   "metadata": {},
   "source": [
    "### Looking at the missing values"
   ]
  },
  {
   "cell_type": "code",
   "execution_count": 15,
   "metadata": {},
   "outputs": [
    {
     "name": "stdout",
     "output_type": "stream",
     "text": [
      "                attribute                                 missing_or_unknown\n",
      "0                AGER_TYP                                   [-1, 0, 1, 2, 3]\n",
      "1    ALTERSKATEGORIE_GROB                            [-1,  0, 1, 2, 3, 4, 9]\n",
      "2                ALTER_HH  [0, 1, 2, 3, 4, 5, 6, 7, 8, 9, 10, 11, 12, 13,...\n",
      "3               ANREDE_KZ                                     [-1,  0, 1, 2]\n",
      "4     ANZ_HAUSHALTE_AKTIV                                                […]\n",
      "..                    ...                                                ...\n",
      "309        WOHNDAUER_2008                [-1,  0, 1, 2, 3, 4, 5, 6, 7, 8, 9]\n",
      "310              WOHNLAGE                       [-1, 0, 1, 2, 3, 4, 5, 7, 8]\n",
      "311    WACHSTUMSGEBIET_NB                            [-1,  0, 1, 2, 3, 4, 5]\n",
      "312        W_KEIT_KIND_HH                         [-1,  0, 1, 2, 3, 4, 5, 6]\n",
      "313              ZABEOTYP                         [-1,  9, 1, 2, 3, 4, 5, 6]\n",
      "\n",
      "[314 rows x 2 columns]\n"
     ]
    }
   ],
   "source": [
    "# Attributes with missing or unknown\n",
    "unknowns = []\n",
    "for attribute in attributes_info['Attribute'].unique():\n",
    "    _ = attributes_info.loc[attributes_info['Attribute'] == attribute, 'Value'].astype(str).str.cat(sep=',')\n",
    "    _ = _.split(',')\n",
    "    unknowns.append(_)\n",
    "    \n",
    "unknowns = pd.concat([pd.Series(attributes_info['Attribute'].unique()), pd.Series(unknowns)], axis=1)\n",
    "unknowns.columns = ['attribute', 'missing_or_unknown']\n",
    "print(unknowns)"
   ]
  },
  {
   "cell_type": "code",
   "execution_count": 16,
   "metadata": {},
   "outputs": [
    {
     "data": {
      "text/html": [
       "<div>\n",
       "<style scoped>\n",
       "    .dataframe tbody tr th:only-of-type {\n",
       "        vertical-align: middle;\n",
       "    }\n",
       "\n",
       "    .dataframe tbody tr th {\n",
       "        vertical-align: top;\n",
       "    }\n",
       "\n",
       "    .dataframe thead th {\n",
       "        text-align: right;\n",
       "    }\n",
       "</style>\n",
       "<table border=\"1\" class=\"dataframe\">\n",
       "  <thead>\n",
       "    <tr style=\"text-align: right;\">\n",
       "      <th></th>\n",
       "      <th>column</th>\n",
       "      <th>azdias_nan</th>\n",
       "      <th>azdiaz_nan_percent</th>\n",
       "      <th>customers_nan</th>\n",
       "      <th>customer_nan_percent</th>\n",
       "    </tr>\n",
       "  </thead>\n",
       "  <tbody>\n",
       "    <tr>\n",
       "      <th>7</th>\n",
       "      <td>ALTER_KIND4</td>\n",
       "      <td>890016</td>\n",
       "      <td>99.864792</td>\n",
       "      <td>191416</td>\n",
       "      <td>99.876860</td>\n",
       "    </tr>\n",
       "    <tr>\n",
       "      <th>6</th>\n",
       "      <td>ALTER_KIND3</td>\n",
       "      <td>885051</td>\n",
       "      <td>99.307691</td>\n",
       "      <td>190377</td>\n",
       "      <td>99.334732</td>\n",
       "    </tr>\n",
       "    <tr>\n",
       "      <th>5</th>\n",
       "      <td>ALTER_KIND2</td>\n",
       "      <td>861722</td>\n",
       "      <td>96.690047</td>\n",
       "      <td>186552</td>\n",
       "      <td>97.338927</td>\n",
       "    </tr>\n",
       "    <tr>\n",
       "      <th>4</th>\n",
       "      <td>ALTER_KIND1</td>\n",
       "      <td>810163</td>\n",
       "      <td>90.904837</td>\n",
       "      <td>179886</td>\n",
       "      <td>93.860748</td>\n",
       "    </tr>\n",
       "    <tr>\n",
       "      <th>100</th>\n",
       "      <td>EXTSEL992</td>\n",
       "      <td>654153</td>\n",
       "      <td>73.399639</td>\n",
       "      <td>85283</td>\n",
       "      <td>44.498883</td>\n",
       "    </tr>\n",
       "    <tr>\n",
       "      <th>...</th>\n",
       "      <td>...</td>\n",
       "      <td>...</td>\n",
       "      <td>...</td>\n",
       "      <td>...</td>\n",
       "      <td>...</td>\n",
       "    </tr>\n",
       "    <tr>\n",
       "      <th>346</th>\n",
       "      <td>SHOPPER_TYP</td>\n",
       "      <td>0</td>\n",
       "      <td>0.000000</td>\n",
       "      <td>0</td>\n",
       "      <td>0.000000</td>\n",
       "    </tr>\n",
       "    <tr>\n",
       "      <th>354</th>\n",
       "      <td>VERS_TYP</td>\n",
       "      <td>0</td>\n",
       "      <td>0.000000</td>\n",
       "      <td>0</td>\n",
       "      <td>0.000000</td>\n",
       "    </tr>\n",
       "    <tr>\n",
       "      <th>363</th>\n",
       "      <td>ZABEOTYP</td>\n",
       "      <td>0</td>\n",
       "      <td>0.000000</td>\n",
       "      <td>0</td>\n",
       "      <td>0.000000</td>\n",
       "    </tr>\n",
       "    <tr>\n",
       "      <th>364</th>\n",
       "      <td>ANREDE_KZ</td>\n",
       "      <td>0</td>\n",
       "      <td>0.000000</td>\n",
       "      <td>0</td>\n",
       "      <td>0.000000</td>\n",
       "    </tr>\n",
       "    <tr>\n",
       "      <th>365</th>\n",
       "      <td>ALTERSKATEGORIE_GROB</td>\n",
       "      <td>0</td>\n",
       "      <td>0.000000</td>\n",
       "      <td>0</td>\n",
       "      <td>0.000000</td>\n",
       "    </tr>\n",
       "  </tbody>\n",
       "</table>\n",
       "<p>366 rows × 5 columns</p>\n",
       "</div>"
      ],
      "text/plain": [
       "                   column  azdias_nan  azdiaz_nan_percent  customers_nan  \\\n",
       "7             ALTER_KIND4      890016           99.864792         191416   \n",
       "6             ALTER_KIND3      885051           99.307691         190377   \n",
       "5             ALTER_KIND2      861722           96.690047         186552   \n",
       "4             ALTER_KIND1      810163           90.904837         179886   \n",
       "100             EXTSEL992      654153           73.399639          85283   \n",
       "..                    ...         ...                 ...            ...   \n",
       "346           SHOPPER_TYP           0            0.000000              0   \n",
       "354              VERS_TYP           0            0.000000              0   \n",
       "363              ZABEOTYP           0            0.000000              0   \n",
       "364             ANREDE_KZ           0            0.000000              0   \n",
       "365  ALTERSKATEGORIE_GROB           0            0.000000              0   \n",
       "\n",
       "     customer_nan_percent  \n",
       "7               99.876860  \n",
       "6               99.334732  \n",
       "5               97.338927  \n",
       "4               93.860748  \n",
       "100             44.498883  \n",
       "..                    ...  \n",
       "346              0.000000  \n",
       "354              0.000000  \n",
       "363              0.000000  \n",
       "364              0.000000  \n",
       "365              0.000000  \n",
       "\n",
       "[366 rows x 5 columns]"
      ]
     },
     "execution_count": 16,
     "metadata": {},
     "output_type": "execute_result"
    }
   ],
   "source": [
    "# creating a dataframe to get count/percentage of missing values in azdias and customers\n",
    "azdias_nan=pd.DataFrame(azdias.isna().sum(axis=0)).reset_index()\n",
    "azdias_nan.columns=['column','azdias_nan']\n",
    "azdias_nan['azdiaz_nan_percent']=(azdias_nan['azdias_nan']/len(azdias))*100\n",
    "\n",
    "customers_nan=pd.DataFrame(customers.isna().sum(axis=0)).reset_index()\n",
    "customers_nan.columns=['column','customers_nan']\n",
    "customers_nan['customer_nan_percent']=(customers_nan['customers_nan']/len(customers))*100\n",
    "missing_values=pd.merge(azdias_nan, customers_nan, on='column')\n",
    "missing_values=missing_values.sort_values(by=['azdias_nan','customers_nan'],ascending=[False,False])\n",
    "missing_values"
   ]
  },
  {
   "cell_type": "code",
   "execution_count": 17,
   "metadata": {},
   "outputs": [
    {
     "data": {
      "image/png": "[encoded data removed]",
      "text/plain": [
       "<Figure size 1440x576 with 1 Axes>"
      ]
     },
     "metadata": {
      "needs_background": "light"
     },
     "output_type": "display_data"
    }
   ],
   "source": [
    "plt.figure(figsize=(20,8))\n",
    "# set width of bar\n",
    "barWidth = 0.25\n",
    "# set height of bar\n",
    "bars1 = missing_values['azdiaz_nan_percent'][:10]\n",
    "bars2 = missing_values['customer_nan_percent'][:10]\n",
    "label=missing_values['column'][:10]\n",
    "# Set position of bar on X axis\n",
    "r1 = np.arange(len(bars1))\n",
    "r2 = [x + barWidth for x in r1]\n",
    " \n",
    "# Make the plot\n",
    "plt.bar(r1, bars1, width=barWidth, edgecolor='white')\n",
    "plt.bar(r2, bars2, width=barWidth, edgecolor='white')\n",
    "\n",
    " \n",
    "# Add xticks on the middle of the group bars\n",
    "plt.xlabel('Features')\n",
    "plt.ylabel('Percentage')\n",
    "plt.xticks([r + barWidth/2 for r in range(len(bars1))], label,rotation=90)\n",
    " \n",
    "# Create legend & Show graphic\n",
    "plt.title('Top 10 Features with most missing values')\n",
    "plt.legend(['azdiaz_nan_percent','customer_nan_percent'],prop={'size': 12})\n",
    "plt.show()"
   ]
  },
  {
   "cell_type": "code",
   "execution_count": 18,
   "metadata": {},
   "outputs": [
    {
     "data": {
      "text/plain": [
       "['ALTER_KIND4', 'ALTER_KIND3', 'ALTER_KIND2', 'ALTER_KIND1']"
      ]
     },
     "execution_count": 18,
     "metadata": {},
     "output_type": "execute_result"
    }
   ],
   "source": [
    "# we will drop the columns with highest missing value\n",
    "# Only the first variable has more than 60% missing value\n",
    "drop_cols=list(label[:4])\n",
    "drop_cols"
   ]
  },
  {
   "cell_type": "markdown",
   "metadata": {},
   "source": [
    "### Check categorical variables"
   ]
  },
  {
   "cell_type": "code",
   "execution_count": 19,
   "metadata": {},
   "outputs": [
    {
     "name": "stdout",
     "output_type": "stream",
     "text": [
      "Length of Numeric columns 360\n",
      "Length of categorical columns 6\n",
      "Categorial columns are {'D19_LETZTER_KAUF_BRANCHE', 'EINGEFUEGT_AM', 'OST_WEST_KZ', 'CAMEO_INTL_2015', 'CAMEO_DEU_2015', 'CAMEO_DEUG_2015'}\n"
     ]
    }
   ],
   "source": [
    "# Getting all numeric columns and categorical columns\n",
    "Numeric_columns=azdias.select_dtypes(include=np.number).columns.tolist()\n",
    "categorical_col=set(azdias.columns).difference(set(Numeric_columns))\n",
    "print(\"Length of Numeric columns\",len(Numeric_columns))\n",
    "print(\"Length of categorical columns\",len(categorical_col))\n",
    "print(\"Categorial columns are\",categorical_col)"
   ]
  },
  {
   "cell_type": "code",
   "execution_count": 20,
   "metadata": {},
   "outputs": [],
   "source": [
    "# convert variables to numeric types\n",
    "azdias[Numeric_columns] = azdias[Numeric_columns].apply(pd.to_numeric)\n",
    "customers[Numeric_columns] = customers[Numeric_columns].apply(pd.to_numeric)"
   ]
  },
  {
   "cell_type": "code",
   "execution_count": 21,
   "metadata": {},
   "outputs": [
    {
     "data": {
      "text/plain": [
       "{'D19_LETZTER_KAUF_BRANCHE': array(['D19_UNBEKANNT', 'D19_SCHUHE', 'D19_ENERGIE', 'D19_KOSMETIK',\n",
       "        'D19_VOLLSORTIMENT', 'D19_SONSTIGE', 'D19_BANKEN_GROSS',\n",
       "        'D19_DROGERIEARTIKEL', 'D19_HANDWERK', 'D19_BUCH_CD',\n",
       "        'D19_VERSICHERUNGEN', 'D19_VERSAND_REST', 'D19_TELKO_REST',\n",
       "        'D19_BANKEN_DIREKT', 'D19_BANKEN_REST', 'D19_FREIZEIT',\n",
       "        'D19_LEBENSMITTEL', 'D19_HAUS_DEKO', 'D19_BEKLEIDUNG_REST',\n",
       "        'D19_SAMMELARTIKEL', 'D19_TELKO_MOBILE', 'D19_REISEN',\n",
       "        'D19_BEKLEIDUNG_GEH', 'D19_TECHNIK', 'D19_NAHRUNGSERGAENZUNG',\n",
       "        'D19_DIGIT_SERV', 'D19_LOTTO', 'D19_RATGEBER', 'D19_TIERARTIKEL',\n",
       "        'D19_KINDERARTIKEL', 'D19_BIO_OEKO', 'D19_WEIN_FEINKOST',\n",
       "        'D19_GARTEN', 'D19_BILDUNG', 'D19_BANKEN_LOKAL'], dtype=object),\n",
       " 'EINGEFUEGT_AM': array(['1992-02-10 00:00:00', '1992-02-12 00:00:00',\n",
       "        '1997-04-21 00:00:00', ..., '2010-12-02 00:00:00',\n",
       "        '2005-03-19 00:00:00', '2011-11-18 00:00:00'], dtype=object),\n",
       " 'OST_WEST_KZ': array(['W', 'O'], dtype=object),\n",
       " 'CAMEO_INTL_2015': array([51.0, 24.0, 12.0, 43.0, 54.0, 22.0, 14.0, 13.0, 15.0, 33.0, 41.0,\n",
       "        34.0, 55.0, 25.0, 23.0, 31.0, 52.0, 35.0, 45.0, 44.0, 32.0, '22',\n",
       "        '24', '41', '12', '54', '51', '44', '35', '23', '25', '14', '34',\n",
       "        '52', '55', '31', '32', '15', '13', '43', '33', '45', 'XX'],\n",
       "       dtype=object),\n",
       " 'CAMEO_DEU_2015': array(['8A', '4C', '2A', '6B', '8C', '4A', '2D', '1A', '1E', '9D', '5C',\n",
       "        '8B', '7A', '5D', '9E', '9B', '1B', '3D', '4E', '4B', '3C', '5A',\n",
       "        '7B', '9A', '6D', '6E', '2C', '7C', '9C', '7D', '5E', '1D', '8D',\n",
       "        '6C', '6A', '5B', '4D', '3A', '2B', '7E', '3B', '6F', '5F', '1C',\n",
       "        'XX'], dtype=object),\n",
       " 'CAMEO_DEUG_2015': array([8.0, 4.0, 2.0, 6.0, 1.0, 9.0, 5.0, 7.0, 3.0, '4', '3', '7', '2',\n",
       "        '8', '9', '6', '5', '1', 'X'], dtype=object)}"
      ]
     },
     "execution_count": 21,
     "metadata": {},
     "output_type": "execute_result"
    }
   ],
   "source": [
    "# Further analysis of categorical columns\n",
    "category={}\n",
    "def categorical_check():\n",
    "    '''\n",
    "    return a list of unique categorical variables \n",
    "    \n",
    "    '''\n",
    "    for i in categorical_col:\n",
    "        category[i]=azdias[i].dropna().unique()\n",
    "    return category\n",
    "categorical_check()"
   ]
  },
  {
   "cell_type": "markdown",
   "metadata": {},
   "source": [
    "- 'EINGEFUEGT_AM' is time data\n",
    "- 'CAMEO_INTL_2015', 'CAMEO_DEU_2015' and 'CAMEO_DEUG_2015' have XX and X as values"
   ]
  },
  {
   "cell_type": "code",
   "execution_count": 22,
   "metadata": {},
   "outputs": [],
   "source": [
    "# After further analysis, these variables will be dropped\n",
    "azdias=azdias.drop('D19_LETZTER_KAUF_BRANCHE',axis=1)\n",
    "customers=customers.drop('D19_LETZTER_KAUF_BRANCHE',axis=1)\n",
    "\n",
    "azdias=azdias.drop('EINGEFUEGT_AM',axis=1)\n",
    "customers=customers.drop('EINGEFUEGT_AM',axis=1)"
   ]
  },
  {
   "cell_type": "code",
   "execution_count": 23,
   "metadata": {},
   "outputs": [],
   "source": [
    "# Replace the X and XX with nan\n",
    "azdias[['CAMEO_DEUG_2015','CAMEO_INTL_2015','CAMEO_DEU_2015']]=azdias[['CAMEO_DEUG_2015','CAMEO_INTL_2015','CAMEO_DEU_2015']].replace(['X','XX'],-1)\n",
    "azdias[['CAMEO_DEUG_2015','CAMEO_INTL_2015']]=azdias[['CAMEO_DEUG_2015','CAMEO_INTL_2015']].apply(pd.to_numeric)\n",
    "\n",
    "customers[['CAMEO_DEUG_2015','CAMEO_INTL_2015','CAMEO_DEU_2015']]=customers[['CAMEO_DEUG_2015','CAMEO_INTL_2015','CAMEO_DEU_2015']].replace(['X','XX'],-1)\n",
    "customers[['CAMEO_DEUG_2015','CAMEO_INTL_2015']]=customers[['CAMEO_DEUG_2015','CAMEO_INTL_2015']].apply(pd.to_numeric)"
   ]
  },
  {
   "cell_type": "markdown",
   "metadata": {},
   "source": [
    "#### Further analysis of missing values"
   ]
  },
  {
   "cell_type": "code",
   "execution_count": 24,
   "metadata": {},
   "outputs": [
    {
     "data": {
      "text/plain": [
       "unknown                            232\n",
       "average                            162\n",
       "low                                154\n",
       "high                               154\n",
       "very high                          142\n",
       "very low                           139\n",
       "none                               138\n",
       "Multibuyer 0-12 months              34\n",
       "no transaction known                34\n",
       "Prospects > 24 months               34\n",
       "Singlebuyer 13-24 months            34\n",
       "Doublebuyer 0-12 months             34\n",
       "Singlebuyer 0-12 months             34\n",
       "Buyer > 24 months                   34\n",
       "Multi-/Doublebuyer 13-24 months     34\n",
       "no transactions known               22\n",
       "highest affinity                    14\n",
       "low affinity                        14\n",
       "lowest affinity                     14\n",
       "very high affinity                  14\n",
       "Name: Meaning, dtype: int64"
      ]
     },
     "execution_count": 24,
     "metadata": {},
     "output_type": "execute_result"
    }
   ],
   "source": [
    "# Let's have a closer look at 'Meaning' column in attribute values\n",
    "attributes_info['Meaning'].value_counts()[:20]"
   ]
  },
  {
   "cell_type": "markdown",
   "metadata": {},
   "source": [
    "we have lots of unknown value in our dataset"
   ]
  },
  {
   "cell_type": "code",
   "execution_count": 25,
   "metadata": {},
   "outputs": [
    {
     "data": {
      "text/html": [
       "<div>\n",
       "<style scoped>\n",
       "    .dataframe tbody tr th:only-of-type {\n",
       "        vertical-align: middle;\n",
       "    }\n",
       "\n",
       "    .dataframe tbody tr th {\n",
       "        vertical-align: top;\n",
       "    }\n",
       "\n",
       "    .dataframe thead th {\n",
       "        text-align: right;\n",
       "    }\n",
       "</style>\n",
       "<table border=\"1\" class=\"dataframe\">\n",
       "  <thead>\n",
       "    <tr style=\"text-align: right;\">\n",
       "      <th></th>\n",
       "      <th>Attribute</th>\n",
       "      <th>Description</th>\n",
       "      <th>Value</th>\n",
       "      <th>Meaning</th>\n",
       "    </tr>\n",
       "  </thead>\n",
       "  <tbody>\n",
       "    <tr>\n",
       "      <th>0</th>\n",
       "      <td>AGER_TYP</td>\n",
       "      <td>best-ager typology</td>\n",
       "      <td>-1</td>\n",
       "      <td>unknown</td>\n",
       "    </tr>\n",
       "    <tr>\n",
       "      <th>5</th>\n",
       "      <td>ALTERSKATEGORIE_GROB</td>\n",
       "      <td>age classification through prename analysis</td>\n",
       "      <td>-1, 0</td>\n",
       "      <td>unknown</td>\n",
       "    </tr>\n",
       "    <tr>\n",
       "      <th>33</th>\n",
       "      <td>ANREDE_KZ</td>\n",
       "      <td>gender</td>\n",
       "      <td>-1, 0</td>\n",
       "      <td>unknown</td>\n",
       "    </tr>\n",
       "    <tr>\n",
       "      <th>40</th>\n",
       "      <td>BALLRAUM</td>\n",
       "      <td>distance to next urban centre</td>\n",
       "      <td>-1</td>\n",
       "      <td>unknown</td>\n",
       "    </tr>\n",
       "    <tr>\n",
       "      <th>48</th>\n",
       "      <td>BIP_FLAG</td>\n",
       "      <td>business-flag indicating companies in the buil...</td>\n",
       "      <td>-1</td>\n",
       "      <td>unknown</td>\n",
       "    </tr>\n",
       "    <tr>\n",
       "      <th>...</th>\n",
       "      <td>...</td>\n",
       "      <td>...</td>\n",
       "      <td>...</td>\n",
       "      <td>...</td>\n",
       "    </tr>\n",
       "    <tr>\n",
       "      <th>2219</th>\n",
       "      <td>WOHNDAUER_2008</td>\n",
       "      <td>length of residence</td>\n",
       "      <td>-1, 0</td>\n",
       "      <td>unknown</td>\n",
       "    </tr>\n",
       "    <tr>\n",
       "      <th>2229</th>\n",
       "      <td>WOHNLAGE</td>\n",
       "      <td>residential-area</td>\n",
       "      <td>-1</td>\n",
       "      <td>unknown</td>\n",
       "    </tr>\n",
       "    <tr>\n",
       "      <th>2238</th>\n",
       "      <td>WACHSTUMSGEBIET_NB</td>\n",
       "      <td>growing area (population growth in the last 5 ...</td>\n",
       "      <td>-1, 0</td>\n",
       "      <td>unknown</td>\n",
       "    </tr>\n",
       "    <tr>\n",
       "      <th>2244</th>\n",
       "      <td>W_KEIT_KIND_HH</td>\n",
       "      <td>likelihood of a child present in this household</td>\n",
       "      <td>-1, 0</td>\n",
       "      <td>unknown</td>\n",
       "    </tr>\n",
       "    <tr>\n",
       "      <th>2251</th>\n",
       "      <td>ZABEOTYP</td>\n",
       "      <td>typification of energy consumers</td>\n",
       "      <td>-1, 9</td>\n",
       "      <td>unknown</td>\n",
       "    </tr>\n",
       "  </tbody>\n",
       "</table>\n",
       "<p>232 rows × 4 columns</p>\n",
       "</div>"
      ],
      "text/plain": [
       "                 Attribute                                        Description  \\\n",
       "0                 AGER_TYP                                 best-ager typology   \n",
       "5     ALTERSKATEGORIE_GROB       age classification through prename analysis    \n",
       "33               ANREDE_KZ                                             gender   \n",
       "40                BALLRAUM                     distance to next urban centre    \n",
       "48                BIP_FLAG  business-flag indicating companies in the buil...   \n",
       "...                    ...                                                ...   \n",
       "2219        WOHNDAUER_2008                                length of residence   \n",
       "2229              WOHNLAGE                                  residential-area    \n",
       "2238    WACHSTUMSGEBIET_NB  growing area (population growth in the last 5 ...   \n",
       "2244        W_KEIT_KIND_HH    likelihood of a child present in this household   \n",
       "2251              ZABEOTYP                   typification of energy consumers   \n",
       "\n",
       "      Value  Meaning  \n",
       "0        -1  unknown  \n",
       "5     -1, 0  unknown  \n",
       "33    -1, 0  unknown  \n",
       "40       -1  unknown  \n",
       "48       -1  unknown  \n",
       "...     ...      ...  \n",
       "2219  -1, 0  unknown  \n",
       "2229     -1  unknown  \n",
       "2238  -1, 0  unknown  \n",
       "2244  -1, 0  unknown  \n",
       "2251  -1, 9  unknown  \n",
       "\n",
       "[232 rows x 4 columns]"
      ]
     },
     "execution_count": 25,
     "metadata": {},
     "output_type": "execute_result"
    }
   ],
   "source": [
    "# Investigate the unknown values\n",
    "unknown_attributes_info = attributes_info[attributes_info[\"Meaning\"] == \"unknown\"]\n",
    "unknown_attributes_info"
   ]
  },
  {
   "cell_type": "markdown",
   "metadata": {},
   "source": [
    "The unknown values are not consistent throughtout the dataset\n",
    "- Some are represented as (-1,0) or (-1,9) or just -1. \n",
    "- We need to fix this and make the data consistent."
   ]
  },
  {
   "cell_type": "code",
   "execution_count": 26,
   "metadata": {},
   "outputs": [],
   "source": [
    "fix_unknown1=list(set(list(attributes_info[attributes_info['Value']=='-1, 0']['Attribute'])).intersection(set(azdias.columns)))\n",
    "fix_unknown9=list(set(list(attributes_info[attributes_info['Value']=='-1, 9']['Attribute'])).intersection(set(azdias.columns)))"
   ]
  },
  {
   "cell_type": "code",
   "execution_count": 27,
   "metadata": {},
   "outputs": [
    {
     "name": "stdout",
     "output_type": "stream",
     "text": [
      "['KKK', 'KBA05_GBZ', 'PRAEGENDE_JUGENDJAHRE', 'TITEL_KZ', 'HH_EINKOMMEN_SCORE', 'ANREDE_KZ', 'REGIOTYP', 'WOHNDAUER_2008', 'W_KEIT_KIND_HH', 'KBA05_BAUMAX', 'GEBAEUDETYP', 'NATIONALITAET_KZ', 'ALTERSKATEGORIE_GROB']\n"
     ]
    }
   ],
   "source": [
    "print(fix_unknown1)"
   ]
  },
  {
   "cell_type": "code",
   "execution_count": 28,
   "metadata": {},
   "outputs": [
    {
     "name": "stdout",
     "output_type": "stream",
     "text": [
      "['KBA05_ALTER1', 'KBA05_HERST2', 'SEMIO_FAM', 'KBA05_KRSAQUOT', 'KBA05_MOD1', 'KBA05_HERST1', 'SEMIO_MAT', 'SEMIO_TRADV', 'KBA05_AUTOQUOT', 'KBA05_MAXHERST', 'KBA05_DIESEL', 'KBA05_KRSOBER', 'KBA05_ZUL3', 'SEMIO_KAEM', 'SEMIO_VERT', 'KBA05_CCM3', 'KBA05_ALTER4', 'SEMIO_REL', 'KBA05_KW3', 'KBA05_SEG3', 'KBA05_HERST4', 'KBA05_ZUL4', 'KBA05_MAXAH', 'KBA05_KRSHERST3', 'KBA05_KRSHERST1', 'SEMIO_PFLICHT', 'KBA05_KRSVAN', 'KBA05_MOTRAD', 'KBA05_HERST5', 'KBA05_ANHANG', 'KBA05_ZUL1', 'KBA05_CCM2', 'SEMIO_RAT', 'KBA05_VORB0', 'KBA05_ALTER2', 'KBA05_SEG4', 'KBA05_MAXBJ', 'KBA05_MOD8', 'KBA05_KRSKLEIN', 'KBA05_SEG9', 'SEMIO_ERL', 'SEMIO_KRIT', 'KBA05_SEG5', 'KBA05_KW2', 'KBA05_SEG7', 'KBA05_MAXSEG', 'KBA05_HERSTTEMP', 'KBA05_ALTER3', 'KBA05_KRSHERST2', 'KBA05_KW1', 'KBA05_SEG10', 'KBA05_MOD2', 'KBA05_SEG2', 'KBA05_SEG8', 'KBA05_VORB1', 'KBA05_MOTOR', 'KBA05_KRSZUL', 'SEMIO_SOZ', 'RELAT_AB', 'KBA05_MAXVORB', 'KBA05_FRAU', 'KBA05_MOD4', 'SEMIO_DOM', 'KBA05_HERST3', 'KBA05_MOD3', 'KBA05_SEG6', 'SEMIO_LUST', 'KBA05_ZUL2', 'KBA05_CCM1', 'KBA05_MODTEMP', 'ZABEOTYP', 'KBA05_SEG1', 'SEMIO_KULT', 'KBA05_CCM4', 'KBA05_VORB2']\n"
     ]
    }
   ],
   "source": [
    "print(fix_unknown9)"
   ]
  },
  {
   "cell_type": "code",
   "execution_count": 29,
   "metadata": {},
   "outputs": [],
   "source": [
    "azdias[fix_unknown1]=azdias[fix_unknown1].replace(0,-1)\n",
    "azdias[fix_unknown9]=azdias[fix_unknown9].replace(9,-1)"
   ]
  },
  {
   "cell_type": "code",
   "execution_count": 30,
   "metadata": {},
   "outputs": [],
   "source": [
    "customers[fix_unknown1]=customers[fix_unknown1].replace(0,-1)\n",
    "customers[fix_unknown9]=customers[fix_unknown9].replace(9,-1)"
   ]
  },
  {
   "cell_type": "markdown",
   "metadata": {},
   "source": [
    "#### Missing value in Columns"
   ]
  },
  {
   "cell_type": "code",
   "execution_count": 31,
   "metadata": {},
   "outputs": [],
   "source": [
    "# Remove rows with most missing values\n",
    "azdias=azdias[azdias.isnull().sum(axis=1)<=20]\n",
    "\n",
    "customers=customers[customers.isnull().sum(axis=1)<=20]"
   ]
  },
  {
   "cell_type": "code",
   "execution_count": 33,
   "metadata": {},
   "outputs": [],
   "source": [
    "# Dropping columns with most missing values\n",
    "azdias=azdias.drop(drop_cols,axis=1)\n",
    "\n",
    "customers=customers.drop(drop_cols,axis=1)"
   ]
  },
  {
   "cell_type": "markdown",
   "metadata": {},
   "source": [
    "### Drop Correlated features above threshold of 75%\n"
   ]
  },
  {
   "cell_type": "code",
   "execution_count": null,
   "metadata": {},
   "outputs": [],
   "source": [
    "# find correlation matrix and drop variables with greater than 75% correlation  \n",
    "corr_matrix = azdias.corr().abs()\n",
    "upper_limit = corr_matrix.where(np.triu(np.ones(corr_matrix.shape), k=1).astype(np.bool))\n",
    "# identify columns to drop based on threshold limit\n",
    "drop_columns = [column for column in upper_limit.columns if any(upper_limit[column] > .75)]"
   ]
  },
  {
   "cell_type": "code",
   "execution_count": null,
   "metadata": {},
   "outputs": [],
   "source": [
    "azdias.drop(drop_columns,axis=1,inplace=True)"
   ]
  },
  {
   "cell_type": "code",
   "execution_count": null,
   "metadata": {},
   "outputs": [],
   "source": [
    "customers.drop(drop_columns,axis=1,inplace=True)"
   ]
  },
  {
   "cell_type": "markdown",
   "metadata": {},
   "source": [
    "### forward fill Nan Values \n",
    "Find and relace nan values witht the mode"
   ]
  },
  {
   "cell_type": "code",
   "execution_count": 35,
   "metadata": {},
   "outputs": [
    {
     "name": "stdout",
     "output_type": "stream",
     "text": [
      "2664489\n",
      "131091\n"
     ]
    }
   ],
   "source": [
    "print(azdias.isna().sum().sum())\n",
    "print(customers.isna().sum().sum())"
   ]
  },
  {
   "cell_type": "code",
   "execution_count": 36,
   "metadata": {},
   "outputs": [
    {
     "data": {
      "text/plain": [
       "Text(0.5, 0, 'Percent of missing values')"
      ]
     },
     "execution_count": 36,
     "metadata": {},
     "output_type": "execute_result"
    },
    {
     "data": {
      "image/png": "[encoded data removed]",
      "text/plain": [
       "<Figure size 432x288 with 1 Axes>"
      ]
     },
     "metadata": {
      "needs_background": "light"
     },
     "output_type": "display_data"
    }
   ],
   "source": [
    "#looking for nans in columns\n",
    "column_nans = azdias.isnull().mean()\n",
    "plt.hist(column_nans, bins = np.arange(0,1+.05,.05))\n",
    "plt.ylabel('features')\n",
    "plt.xlabel('Percent of missing values')"
   ]
  },
  {
   "cell_type": "code",
   "execution_count": 37,
   "metadata": {},
   "outputs": [],
   "source": [
    "azdias=azdias.fillna(azdias.mode().iloc[0])\n",
    "customers=customers.fillna(customers.mode().iloc[0])"
   ]
  },
  {
   "cell_type": "code",
   "execution_count": 38,
   "metadata": {},
   "outputs": [
    {
     "name": "stdout",
     "output_type": "stream",
     "text": [
      "0\n",
      "0\n"
     ]
    }
   ],
   "source": [
    "print(azdias.isna().sum().sum())\n",
    "print(customers.isna().sum().sum())"
   ]
  },
  {
   "cell_type": "code",
   "execution_count": 39,
   "metadata": {},
   "outputs": [
    {
     "name": "stdout",
     "output_type": "stream",
     "text": [
      "(745305, 360)\n",
      "(132095, 363)\n"
     ]
    }
   ],
   "source": [
    "print(azdias.shape)\n",
    "print(customers.shape)"
   ]
  },
  {
   "cell_type": "markdown",
   "metadata": {},
   "source": [
    "### One-hot encoding categorical variables"
   ]
  },
  {
   "cell_type": "code",
   "execution_count": 40,
   "metadata": {},
   "outputs": [
    {
     "name": "stdout",
     "output_type": "stream",
     "text": [
      "Length of Numeric columns in azdias 358\n",
      "Length of categorical columns in azdias 2\n",
      "Categorial columns in azdias are {'OST_WEST_KZ', 'CAMEO_DEU_2015'}\n"
     ]
    }
   ],
   "source": [
    "# Getting all numeric columns and categorical columns\n",
    "Numeric_columns=azdias.select_dtypes(include=np.number).columns.tolist()\n",
    "categorical_col=set(azdias.columns).difference(set(Numeric_columns))\n",
    "print(\"Length of Numeric columns in azdias\",len(Numeric_columns))\n",
    "print(\"Length of categorical columns in azdias\",len(categorical_col))\n",
    "print(\"Categorial columns in azdias are\",categorical_col)"
   ]
  },
  {
   "cell_type": "code",
   "execution_count": 42,
   "metadata": {},
   "outputs": [
    {
     "name": "stdout",
     "output_type": "stream",
     "text": [
      "Length of Numeric columns in customers 359\n",
      "Length of categorical columns in customers 4\n",
      "Categorial columns in customers are {'PRODUCT_GROUP', 'OST_WEST_KZ', 'CAMEO_DEU_2015', 'CUSTOMER_GROUP'}\n"
     ]
    }
   ],
   "source": [
    "# Getting all numeric columns and categorical columns\n",
    "Numeric_columns=customers.select_dtypes(include=np.number).columns.tolist()\n",
    "categorical_col=set(customers.columns).difference(set(Numeric_columns))\n",
    "print(\"Length of Numeric columns in customers\",len(Numeric_columns))\n",
    "print(\"Length of categorical columns in customers\",len(categorical_col))\n",
    "print(\"Categorial columns in customers are\",categorical_col)"
   ]
  },
  {
   "cell_type": "code",
   "execution_count": 43,
   "metadata": {},
   "outputs": [],
   "source": [
    "azdias=pd.get_dummies(azdias)\n",
    "customers=pd.get_dummies(customers)"
   ]
  },
  {
   "cell_type": "markdown",
   "metadata": {},
   "source": [
    "### Standardize the data"
   ]
  },
  {
   "cell_type": "code",
   "execution_count": 45,
   "metadata": {},
   "outputs": [],
   "source": [
    "scaler = StandardScaler()\n",
    "azdias[azdias.columns] = scaler.fit_transform(azdias)\n",
    "customers[customers.columns] = scaler.fit_transform(customers)"
   ]
  },
  {
   "cell_type": "code",
   "execution_count": 46,
   "metadata": {},
   "outputs": [
    {
     "name": "stdout",
     "output_type": "stream",
     "text": [
      "(745305, 405)\n",
      "(132095, 411)\n"
     ]
    }
   ],
   "source": [
    "print(azdias.shape)\n",
    "print(customers.shape)"
   ]
  },
  {
   "cell_type": "markdown",
   "metadata": {},
   "source": [
    "### Save the cleaned data"
   ]
  },
  {
   "cell_type": "code",
   "execution_count": null,
   "metadata": {},
   "outputs": [],
   "source": [
    "azdias.to_csv('azdias_clean.csv')\n",
    "customers.to_csv('customers_clean.csv')\n"
   ]
  },
  {
   "cell_type": "markdown",
   "metadata": {},
   "source": [
    "### Complete data preprocessing"
   ]
  },
  {
   "cell_type": "code",
   "execution_count": 51,
   "metadata": {},
   "outputs": [
    {
     "name": "stderr",
     "output_type": "stream",
     "text": [
      "C:\\ProgramData\\Anaconda3\\lib\\site-packages\\IPython\\core\\interactiveshell.py:3071: DtypeWarning: Columns (19,20) have mixed types.Specify dtype option on import or set low_memory=False.\n",
      "  has_raised = await self.run_ast_nodes(code_ast.body, cell_name,\n"
     ]
    },
    {
     "name": "stdout",
     "output_type": "stream",
     "text": [
      "Shape before (891221, 366)\n",
      "{'D19_LETZTER_KAUF_BRANCHE', 'EINGEFUEGT_AM', 'OST_WEST_KZ', 'CAMEO_INTL_2015', 'CAMEO_DEU_2015', 'CAMEO_DEUG_2015'}\n",
      "shape after corr (744305, 279)\n",
      "Number of nan Values 0\n",
      "shape after (744305, 324)\n",
      "Shape before (191652, 369)\n",
      "{'D19_LETZTER_KAUF_BRANCHE', 'EINGEFUEGT_AM', 'OST_WEST_KZ', 'CAMEO_INTL_2015', 'CAMEO_DEU_2015', 'CAMEO_DEUG_2015'}\n",
      "shape after corr (191652, 276)\n",
      "Number of nan Values 0\n",
      "shape after (191652, 321)\n"
     ]
    }
   ],
   "source": [
    "azdias = pd.read_csv('Udacity_AZDIAS_reduce_mem_052018.csv')\n",
    "customers = pd.read_csv('Udacity_CUSTOMERS_reduce_mem_052018.csv')\n",
    "def drop_unnamed_cols(df):\n",
    "    \"\"\"\n",
    "    drop the Unnamed columns in the data\n",
    "\n",
    "    \"\"\"\n",
    "    df.drop(columns=['Unnamed: 0'], inplace=True)\n",
    "    return df\n",
    "\n",
    "fix_unknown1 = ['KKK', 'KBA05_GBZ', 'PRAEGENDE_JUGENDJAHRE', 'TITEL_KZ', 'HH_EINKOMMEN_SCORE', 'ANREDE_KZ', 'REGIOTYP', \n",
    "                'WOHNDAUER_2008', 'W_KEIT_KIND_HH', 'KBA05_BAUMAX', 'GEBAEUDETYP', 'NATIONALITAET_KZ', 'ALTERSKATEGORIE_GROB']\n",
    "\n",
    "fix_unknown9 =['KBA05_ALTER1', 'KBA05_HERST2', 'SEMIO_FAM', 'KBA05_KRSAQUOT', 'KBA05_MOD1', 'KBA05_HERST1', 'SEMIO_MAT', \n",
    "                'SEMIO_TRADV', 'KBA05_AUTOQUOT', 'KBA05_MAXHERST', 'KBA05_DIESEL', 'KBA05_KRSOBER', 'KBA05_ZUL3', 'SEMIO_KAEM',\n",
    "               'SEMIO_VERT', 'KBA05_CCM3', 'KBA05_ALTER4', 'SEMIO_REL', 'KBA05_KW3', 'KBA05_SEG3', 'KBA05_HERST4', \n",
    "               'KBA05_ZUL4', 'KBA05_MAXAH', 'KBA05_KRSHERST3', 'KBA05_KRSHERST1', 'SEMIO_PFLICHT', 'KBA05_KRSVAN', \n",
    "               'KBA05_MOTRAD', 'KBA05_HERST5', 'KBA05_ANHANG', 'KBA05_ZUL1', 'KBA05_CCM2', 'SEMIO_RAT', 'KBA05_VORB0', \n",
    "               'KBA05_ALTER2', 'KBA05_SEG4', 'KBA05_MAXBJ', 'KBA05_MOD8', 'KBA05_KRSKLEIN', 'KBA05_SEG9', 'SEMIO_ERL', \n",
    "               'SEMIO_KRIT', 'KBA05_SEG5', 'KBA05_KW2', 'KBA05_SEG7', 'KBA05_MAXSEG', 'KBA05_HERSTTEMP', 'KBA05_ALTER3', \n",
    "               'KBA05_KRSHERST2', 'KBA05_KW1', 'KBA05_SEG10', 'KBA05_MOD2', 'KBA05_SEG2', 'KBA05_SEG8', 'KBA05_VORB1', \n",
    "               'KBA05_MOTOR', 'KBA05_KRSZUL', 'SEMIO_SOZ', 'RELAT_AB', 'KBA05_MAXVORB', 'KBA05_FRAU', 'KBA05_MOD4', \n",
    "               'SEMIO_DOM', 'KBA05_HERST3', 'KBA05_MOD3', 'KBA05_SEG6', 'SEMIO_LUST', 'KBA05_ZUL2', 'KBA05_CCM1', \n",
    "               'KBA05_MODTEMP', 'ZABEOTYP', 'KBA05_SEG1', 'SEMIO_KULT', 'KBA05_CCM4', 'KBA05_VORB2']\n",
    "\n",
    "from sklearn.preprocessing import StandardScaler\n",
    "def data_cleaning(df,name=None):\n",
    "    '''\n",
    "    Function take data as uinput and pre_processed the data \n",
    "    Output is cleaned data\n",
    "    \n",
    "    '''\n",
    "    drop_unnamed_cols(df)\n",
    "    print(\"Shape before\",df.shape)\n",
    "    if name=='customers':\n",
    "        df=df.drop(['PRODUCT_GROUP','CUSTOMER_GROUP','ONLINE_PURCHASE'],axis=1)\n",
    "    \n",
    "    if name=='azdias':\n",
    "        df=df[df.isnull().sum(axis=1)<=20].reset_index(drop=True)\n",
    "        \n",
    "    # finding numeric and categorical columns\n",
    "    Numeric_columns=df.select_dtypes(include=np.number).columns.tolist()\n",
    "    categorical_col=set(df.columns).difference(set(Numeric_columns))\n",
    "    \n",
    "    # numeric cols to numeric\n",
    "    print(categorical_col)\n",
    "    df[Numeric_columns]=df[Numeric_columns].apply(pd.to_numeric)\n",
    "    \n",
    "    # drop columns to avoid lot of columns\n",
    "    df=df.drop('D19_LETZTER_KAUF_BRANCHE',axis=1)\n",
    "    df=df.drop('EINGEFUEGT_AM',axis=1)\n",
    "    df=df.drop(['ALTER_KIND4', 'ALTER_KIND3', 'ALTER_KIND2', 'ALTER_KIND1'],axis=1)\n",
    "\n",
    "    \n",
    "    df[['CAMEO_DEUG_2015','CAMEO_INTL_2015','CAMEO_DEU_2015']]=df[['CAMEO_DEUG_2015','CAMEO_INTL_2015','CAMEO_DEU_2015']].replace(['X','XX'],-1)\n",
    "    df[['CAMEO_DEUG_2015','CAMEO_INTL_2015']]=df[['CAMEO_DEUG_2015','CAMEO_INTL_2015']].apply(pd.to_numeric)\n",
    "    #\n",
    "\n",
    "    df[fix_unknown1]=df[fix_unknown1].replace(0,-1)\n",
    "    df[fix_unknown9]=df[fix_unknown9].replace(9,-1)\n",
    "    \n",
    "    # find correlation matrix    \n",
    "    corr_matrix = df.corr().abs()\n",
    "    upper_limit = corr_matrix.where(np.triu(np.ones(corr_matrix.shape), k=1).astype(np.bool))\n",
    "    # identify columns to drop based on threshold limit\n",
    "    drop_columns = [column for column in upper_limit.columns if any(upper_limit[column] > .75)]\n",
    "    # drop columns from df\n",
    "    df = df.drop(drop_columns, axis=1)\n",
    "    print('shape after corr', df.shape)\n",
    "    \n",
    "    # fill nan with mode\n",
    "    df=df.fillna(df.mode().iloc[0])\n",
    "    print(\"Number of nan Values\",df.isna().sum().sum())\n",
    "    df=pd.get_dummies(df)\n",
    "    \n",
    "    # Standardised data\n",
    "    scaler = StandardScaler()\n",
    "    df[df.columns] = scaler.fit_transform(df)\n",
    "    print(\"shape after\",df.shape)\n",
    "    df = df.set_index('LNR')\n",
    "    return df\n",
    "\n",
    "azdias_clean=data_cleaning(azdias,'azdias')\n",
    "customers_clean=data_cleaning(customers,'customers')"
   ]
  },
  {
   "cell_type": "markdown",
   "metadata": {},
   "source": [
    "#### Fix columns difference"
   ]
  },
  {
   "cell_type": "code",
   "execution_count": 55,
   "metadata": {},
   "outputs": [
    {
     "data": {
      "text/plain": [
       "(744305, 323)"
      ]
     },
     "execution_count": 55,
     "metadata": {},
     "output_type": "execute_result"
    }
   ],
   "source": [
    "azdias_clean.shape"
   ]
  },
  {
   "cell_type": "code",
   "execution_count": 56,
   "metadata": {},
   "outputs": [
    {
     "data": {
      "text/plain": [
       "(191652, 320)"
      ]
     },
     "execution_count": 56,
     "metadata": {},
     "output_type": "execute_result"
    }
   ],
   "source": [
    "customers_clean.shape"
   ]
  },
  {
   "cell_type": "code",
   "execution_count": 60,
   "metadata": {},
   "outputs": [
    {
     "name": "stdout",
     "output_type": "stream",
     "text": [
      "{'GEBAEUDETYP_RASTER', 'D19_KONSUMTYP', 'KBA13_BAUMAX', 'KONSUMZELLE', 'CJT_TYP_3', 'ANREDE_KZ', 'WOHNDAUER_2008', 'VK_DHT4A'}\n"
     ]
    }
   ],
   "source": [
    "# Difference in columns\n",
    "print(set(list(customers_clean.columns)) - set(list(azdias_clean.columns)))"
   ]
  },
  {
   "cell_type": "code",
   "execution_count": 59,
   "metadata": {},
   "outputs": [
    {
     "name": "stdout",
     "output_type": "stream",
     "text": [
      "{'SEMIO_REL', 'FINANZ_ANLEGER', 'KBA13_HHZ', 'KOMBIALTER', 'KBA13_BJ_2000', 'CJT_TYP_4', 'SEMIO_KAEM', 'SEMIO_KRIT', 'FINANZ_UNAUFFAELLIGER', 'NATIONALITAET_KZ', 'VERS_TYP'}\n"
     ]
    }
   ],
   "source": [
    "# Difference in columns\n",
    "print(set(list(azdias_clean.columns)) - set(list(customers_clean.columns)))"
   ]
  },
  {
   "cell_type": "code",
   "execution_count": 62,
   "metadata": {},
   "outputs": [],
   "source": [
    "# Drop columns\n",
    "customers_clean.drop(columns=['GEBAEUDETYP_RASTER', 'D19_KONSUMTYP', 'KBA13_BAUMAX', 'KONSUMZELLE', 'CJT_TYP_3', 'ANREDE_KZ',\n",
    "                              'WOHNDAUER_2008', 'VK_DHT4A'], inplace=True)\n",
    "\n",
    "azdias_clean.drop(columns=['SEMIO_REL', 'FINANZ_ANLEGER', 'KBA13_HHZ', 'KOMBIALTER', 'KBA13_BJ_2000', 'CJT_TYP_4', 'SEMIO_KAEM',\n",
    "                           'SEMIO_KRIT', 'FINANZ_UNAUFFAELLIGER', 'NATIONALITAET_KZ', 'VERS_TYP'], inplace=True)"
   ]
  },
  {
   "cell_type": "code",
   "execution_count": 63,
   "metadata": {},
   "outputs": [
    {
     "name": "stdout",
     "output_type": "stream",
     "text": [
      "(744305, 312)\n",
      "(191652, 312)\n"
     ]
    }
   ],
   "source": [
    "print(azdias_clean.shape)\n",
    "print(customers_clean.shape)\n"
   ]
  },
  {
   "cell_type": "markdown",
   "metadata": {},
   "source": [
    "#### Save clean data"
   ]
  },
  {
   "cell_type": "code",
   "execution_count": 65,
   "metadata": {},
   "outputs": [],
   "source": [
    "# Save cleaned data\n",
    "azdias_clean.to_csv('azdias_cleaned.csv', index=False)\n",
    "customers_clean.to_csv('customers_cleaned.csv', index=False)"
   ]
  },
  {
   "cell_type": "markdown",
   "metadata": {},
   "source": [
    "## Part 1: Customer Segmentation Report\n",
    "\n",
    "The main bulk of your analysis will come in this part of the project. Here, you should use unsupervised learning techniques to describe the relationship between the demographics of the company's existing customers and the general population of Germany. By the end of this part, you should be able to describe parts of the general population that are more likely to be part of the mail-order company's main customer base, and which parts of the general population are less so."
   ]
  },
  {
   "cell_type": "markdown",
   "metadata": {},
   "source": [
    "### Load the cleaned data"
   ]
  },
  {
   "cell_type": "code",
   "execution_count": 66,
   "metadata": {},
   "outputs": [],
   "source": [
    "azdias = pd.read_csv('azdias_cleaned.csv')"
   ]
  },
  {
   "cell_type": "code",
   "execution_count": 67,
   "metadata": {},
   "outputs": [
    {
     "data": {
      "text/html": [
       "<div>\n",
       "<style scoped>\n",
       "    .dataframe tbody tr th:only-of-type {\n",
       "        vertical-align: middle;\n",
       "    }\n",
       "\n",
       "    .dataframe tbody tr th {\n",
       "        vertical-align: top;\n",
       "    }\n",
       "\n",
       "    .dataframe thead th {\n",
       "        text-align: right;\n",
       "    }\n",
       "</style>\n",
       "<table border=\"1\" class=\"dataframe\">\n",
       "  <thead>\n",
       "    <tr style=\"text-align: right;\">\n",
       "      <th></th>\n",
       "      <th>AGER_TYP</th>\n",
       "      <th>AKT_DAT_KL</th>\n",
       "      <th>ALTER_HH</th>\n",
       "      <th>ALTERSKATEGORIE_FEIN</th>\n",
       "      <th>ANZ_HAUSHALTE_AKTIV</th>\n",
       "      <th>ANZ_HH_TITEL</th>\n",
       "      <th>ANZ_KINDER</th>\n",
       "      <th>ANZ_PERSONEN</th>\n",
       "      <th>ANZ_TITEL</th>\n",
       "      <th>ARBEIT</th>\n",
       "      <th>...</th>\n",
       "      <th>CAMEO_DEU_2015_8B</th>\n",
       "      <th>CAMEO_DEU_2015_8C</th>\n",
       "      <th>CAMEO_DEU_2015_8D</th>\n",
       "      <th>CAMEO_DEU_2015_9A</th>\n",
       "      <th>CAMEO_DEU_2015_9B</th>\n",
       "      <th>CAMEO_DEU_2015_9C</th>\n",
       "      <th>CAMEO_DEU_2015_9D</th>\n",
       "      <th>CAMEO_DEU_2015_9E</th>\n",
       "      <th>OST_WEST_KZ_O</th>\n",
       "      <th>OST_WEST_KZ_W</th>\n",
       "    </tr>\n",
       "  </thead>\n",
       "  <tbody>\n",
       "    <tr>\n",
       "      <th>0</th>\n",
       "      <td>-0.573138</td>\n",
       "      <td>1.249922</td>\n",
       "      <td>-1.419539</td>\n",
       "      <td>1.560724</td>\n",
       "      <td>0.158256</td>\n",
       "      <td>-0.128594</td>\n",
       "      <td>-0.297023</td>\n",
       "      <td>0.232945</td>\n",
       "      <td>-0.060494</td>\n",
       "      <td>-0.189851</td>\n",
       "      <td>...</td>\n",
       "      <td>-0.211823</td>\n",
       "      <td>-0.205615</td>\n",
       "      <td>-0.153395</td>\n",
       "      <td>-0.166375</td>\n",
       "      <td>-0.19337</td>\n",
       "      <td>-0.183414</td>\n",
       "      <td>-0.196412</td>\n",
       "      <td>-0.087037</td>\n",
       "      <td>-0.519892</td>\n",
       "      <td>0.519892</td>\n",
       "    </tr>\n",
       "    <tr>\n",
       "      <th>1</th>\n",
       "      <td>-0.573138</td>\n",
       "      <td>1.249922</td>\n",
       "      <td>0.808202</td>\n",
       "      <td>0.675260</td>\n",
       "      <td>0.094457</td>\n",
       "      <td>-0.128594</td>\n",
       "      <td>-0.297023</td>\n",
       "      <td>-0.627017</td>\n",
       "      <td>-0.060494</td>\n",
       "      <td>-0.189851</td>\n",
       "      <td>...</td>\n",
       "      <td>-0.211823</td>\n",
       "      <td>-0.205615</td>\n",
       "      <td>-0.153395</td>\n",
       "      <td>-0.166375</td>\n",
       "      <td>-0.19337</td>\n",
       "      <td>-0.183414</td>\n",
       "      <td>-0.196412</td>\n",
       "      <td>-0.087037</td>\n",
       "      <td>-0.519892</td>\n",
       "      <td>0.519892</td>\n",
       "    </tr>\n",
       "    <tr>\n",
       "      <th>2</th>\n",
       "      <td>1.857451</td>\n",
       "      <td>-0.942389</td>\n",
       "      <td>0.284028</td>\n",
       "      <td>-0.210205</td>\n",
       "      <td>-0.479738</td>\n",
       "      <td>-0.128594</td>\n",
       "      <td>-0.297023</td>\n",
       "      <td>-1.486979</td>\n",
       "      <td>-0.060494</td>\n",
       "      <td>-1.195240</td>\n",
       "      <td>...</td>\n",
       "      <td>-0.211823</td>\n",
       "      <td>-0.205615</td>\n",
       "      <td>-0.153395</td>\n",
       "      <td>-0.166375</td>\n",
       "      <td>-0.19337</td>\n",
       "      <td>-0.183414</td>\n",
       "      <td>-0.196412</td>\n",
       "      <td>-0.087037</td>\n",
       "      <td>-0.519892</td>\n",
       "      <td>0.519892</td>\n",
       "    </tr>\n",
       "    <tr>\n",
       "      <th>3</th>\n",
       "      <td>-0.573138</td>\n",
       "      <td>-0.942389</td>\n",
       "      <td>1.201333</td>\n",
       "      <td>0.011161</td>\n",
       "      <td>-0.352140</td>\n",
       "      <td>-0.128594</td>\n",
       "      <td>-0.297023</td>\n",
       "      <td>1.952869</td>\n",
       "      <td>-0.060494</td>\n",
       "      <td>0.815537</td>\n",
       "      <td>...</td>\n",
       "      <td>-0.211823</td>\n",
       "      <td>-0.205615</td>\n",
       "      <td>-0.153395</td>\n",
       "      <td>-0.166375</td>\n",
       "      <td>-0.19337</td>\n",
       "      <td>-0.183414</td>\n",
       "      <td>-0.196412</td>\n",
       "      <td>-0.087037</td>\n",
       "      <td>-0.519892</td>\n",
       "      <td>0.519892</td>\n",
       "    </tr>\n",
       "    <tr>\n",
       "      <th>4</th>\n",
       "      <td>2.667648</td>\n",
       "      <td>-0.942389</td>\n",
       "      <td>-0.109103</td>\n",
       "      <td>-0.874304</td>\n",
       "      <td>-0.224541</td>\n",
       "      <td>-0.128594</td>\n",
       "      <td>-0.297023</td>\n",
       "      <td>-0.627017</td>\n",
       "      <td>-0.060494</td>\n",
       "      <td>-1.195240</td>\n",
       "      <td>...</td>\n",
       "      <td>-0.211823</td>\n",
       "      <td>4.863456</td>\n",
       "      <td>-0.153395</td>\n",
       "      <td>-0.166375</td>\n",
       "      <td>-0.19337</td>\n",
       "      <td>-0.183414</td>\n",
       "      <td>-0.196412</td>\n",
       "      <td>-0.087037</td>\n",
       "      <td>-0.519892</td>\n",
       "      <td>0.519892</td>\n",
       "    </tr>\n",
       "  </tbody>\n",
       "</table>\n",
       "<p>5 rows × 312 columns</p>\n",
       "</div>"
      ],
      "text/plain": [
       "   AGER_TYP  AKT_DAT_KL  ALTER_HH  ALTERSKATEGORIE_FEIN  ANZ_HAUSHALTE_AKTIV  \\\n",
       "0 -0.573138    1.249922 -1.419539              1.560724             0.158256   \n",
       "1 -0.573138    1.249922  0.808202              0.675260             0.094457   \n",
       "2  1.857451   -0.942389  0.284028             -0.210205            -0.479738   \n",
       "3 -0.573138   -0.942389  1.201333              0.011161            -0.352140   \n",
       "4  2.667648   -0.942389 -0.109103             -0.874304            -0.224541   \n",
       "\n",
       "   ANZ_HH_TITEL  ANZ_KINDER  ANZ_PERSONEN  ANZ_TITEL    ARBEIT  ...  \\\n",
       "0     -0.128594   -0.297023      0.232945  -0.060494 -0.189851  ...   \n",
       "1     -0.128594   -0.297023     -0.627017  -0.060494 -0.189851  ...   \n",
       "2     -0.128594   -0.297023     -1.486979  -0.060494 -1.195240  ...   \n",
       "3     -0.128594   -0.297023      1.952869  -0.060494  0.815537  ...   \n",
       "4     -0.128594   -0.297023     -0.627017  -0.060494 -1.195240  ...   \n",
       "\n",
       "   CAMEO_DEU_2015_8B  CAMEO_DEU_2015_8C  CAMEO_DEU_2015_8D  CAMEO_DEU_2015_9A  \\\n",
       "0          -0.211823          -0.205615          -0.153395          -0.166375   \n",
       "1          -0.211823          -0.205615          -0.153395          -0.166375   \n",
       "2          -0.211823          -0.205615          -0.153395          -0.166375   \n",
       "3          -0.211823          -0.205615          -0.153395          -0.166375   \n",
       "4          -0.211823           4.863456          -0.153395          -0.166375   \n",
       "\n",
       "   CAMEO_DEU_2015_9B  CAMEO_DEU_2015_9C  CAMEO_DEU_2015_9D  CAMEO_DEU_2015_9E  \\\n",
       "0           -0.19337          -0.183414          -0.196412          -0.087037   \n",
       "1           -0.19337          -0.183414          -0.196412          -0.087037   \n",
       "2           -0.19337          -0.183414          -0.196412          -0.087037   \n",
       "3           -0.19337          -0.183414          -0.196412          -0.087037   \n",
       "4           -0.19337          -0.183414          -0.196412          -0.087037   \n",
       "\n",
       "   OST_WEST_KZ_O  OST_WEST_KZ_W  \n",
       "0      -0.519892       0.519892  \n",
       "1      -0.519892       0.519892  \n",
       "2      -0.519892       0.519892  \n",
       "3      -0.519892       0.519892  \n",
       "4      -0.519892       0.519892  \n",
       "\n",
       "[5 rows x 312 columns]"
      ]
     },
     "execution_count": 67,
     "metadata": {},
     "output_type": "execute_result"
    }
   ],
   "source": [
    "azdias.head()"
   ]
  },
  {
   "cell_type": "code",
   "execution_count": 68,
   "metadata": {},
   "outputs": [],
   "source": [
    "customers = pd.read_csv('customers_cleaned.csv')"
   ]
  },
  {
   "cell_type": "code",
   "execution_count": 69,
   "metadata": {},
   "outputs": [
    {
     "data": {
      "text/html": [
       "<div>\n",
       "<style scoped>\n",
       "    .dataframe tbody tr th:only-of-type {\n",
       "        vertical-align: middle;\n",
       "    }\n",
       "\n",
       "    .dataframe tbody tr th {\n",
       "        vertical-align: top;\n",
       "    }\n",
       "\n",
       "    .dataframe thead th {\n",
       "        text-align: right;\n",
       "    }\n",
       "</style>\n",
       "<table border=\"1\" class=\"dataframe\">\n",
       "  <thead>\n",
       "    <tr style=\"text-align: right;\">\n",
       "      <th></th>\n",
       "      <th>AGER_TYP</th>\n",
       "      <th>AKT_DAT_KL</th>\n",
       "      <th>ALTER_HH</th>\n",
       "      <th>ALTERSKATEGORIE_FEIN</th>\n",
       "      <th>ANZ_HAUSHALTE_AKTIV</th>\n",
       "      <th>ANZ_HH_TITEL</th>\n",
       "      <th>ANZ_KINDER</th>\n",
       "      <th>ANZ_PERSONEN</th>\n",
       "      <th>ANZ_TITEL</th>\n",
       "      <th>ARBEIT</th>\n",
       "      <th>...</th>\n",
       "      <th>CAMEO_DEU_2015_8B</th>\n",
       "      <th>CAMEO_DEU_2015_8C</th>\n",
       "      <th>CAMEO_DEU_2015_8D</th>\n",
       "      <th>CAMEO_DEU_2015_9A</th>\n",
       "      <th>CAMEO_DEU_2015_9B</th>\n",
       "      <th>CAMEO_DEU_2015_9C</th>\n",
       "      <th>CAMEO_DEU_2015_9D</th>\n",
       "      <th>CAMEO_DEU_2015_9E</th>\n",
       "      <th>OST_WEST_KZ_O</th>\n",
       "      <th>OST_WEST_KZ_W</th>\n",
       "    </tr>\n",
       "  </thead>\n",
       "  <tbody>\n",
       "    <tr>\n",
       "      <th>0</th>\n",
       "      <td>1.189681</td>\n",
       "      <td>-0.325074</td>\n",
       "      <td>0.192466</td>\n",
       "      <td>-0.068433</td>\n",
       "      <td>-0.235979</td>\n",
       "      <td>-0.105218</td>\n",
       "      <td>-0.238379</td>\n",
       "      <td>-0.166805</td>\n",
       "      <td>-0.116283</td>\n",
       "      <td>-2.144783</td>\n",
       "      <td>...</td>\n",
       "      <td>-0.142037</td>\n",
       "      <td>-0.121786</td>\n",
       "      <td>-0.10791</td>\n",
       "      <td>-0.073256</td>\n",
       "      <td>-0.069338</td>\n",
       "      <td>-0.071949</td>\n",
       "      <td>-0.10157</td>\n",
       "      <td>-0.089055</td>\n",
       "      <td>-0.250816</td>\n",
       "      <td>0.250816</td>\n",
       "    </tr>\n",
       "    <tr>\n",
       "      <th>1</th>\n",
       "      <td>-0.966005</td>\n",
       "      <td>4.271391</td>\n",
       "      <td>0.329163</td>\n",
       "      <td>-0.068433</td>\n",
       "      <td>-0.235979</td>\n",
       "      <td>-0.105218</td>\n",
       "      <td>-0.238379</td>\n",
       "      <td>0.656067</td>\n",
       "      <td>-0.116283</td>\n",
       "      <td>0.147901</td>\n",
       "      <td>...</td>\n",
       "      <td>-0.142037</td>\n",
       "      <td>-0.121786</td>\n",
       "      <td>-0.10791</td>\n",
       "      <td>-0.073256</td>\n",
       "      <td>-0.069338</td>\n",
       "      <td>-0.071949</td>\n",
       "      <td>-0.10157</td>\n",
       "      <td>-0.089055</td>\n",
       "      <td>-0.250816</td>\n",
       "      <td>0.250816</td>\n",
       "    </tr>\n",
       "    <tr>\n",
       "      <th>2</th>\n",
       "      <td>-0.966005</td>\n",
       "      <td>-0.325074</td>\n",
       "      <td>-0.354319</td>\n",
       "      <td>-2.897572</td>\n",
       "      <td>-0.235979</td>\n",
       "      <td>-0.105218</td>\n",
       "      <td>-0.238379</td>\n",
       "      <td>-0.989677</td>\n",
       "      <td>-0.116283</td>\n",
       "      <td>0.147901</td>\n",
       "      <td>...</td>\n",
       "      <td>-0.142037</td>\n",
       "      <td>-0.121786</td>\n",
       "      <td>-0.10791</td>\n",
       "      <td>-0.073256</td>\n",
       "      <td>-0.069338</td>\n",
       "      <td>-0.071949</td>\n",
       "      <td>-0.10157</td>\n",
       "      <td>-0.089055</td>\n",
       "      <td>-0.250816</td>\n",
       "      <td>0.250816</td>\n",
       "    </tr>\n",
       "    <tr>\n",
       "      <th>3</th>\n",
       "      <td>0.471119</td>\n",
       "      <td>-0.325074</td>\n",
       "      <td>-0.080926</td>\n",
       "      <td>-0.634261</td>\n",
       "      <td>-0.316443</td>\n",
       "      <td>-0.105218</td>\n",
       "      <td>-0.238379</td>\n",
       "      <td>-1.812549</td>\n",
       "      <td>-0.116283</td>\n",
       "      <td>-2.144783</td>\n",
       "      <td>...</td>\n",
       "      <td>-0.142037</td>\n",
       "      <td>-0.121786</td>\n",
       "      <td>-0.10791</td>\n",
       "      <td>-0.073256</td>\n",
       "      <td>-0.069338</td>\n",
       "      <td>-0.071949</td>\n",
       "      <td>-0.10157</td>\n",
       "      <td>-0.089055</td>\n",
       "      <td>-0.250816</td>\n",
       "      <td>0.250816</td>\n",
       "    </tr>\n",
       "    <tr>\n",
       "      <th>4</th>\n",
       "      <td>-0.966005</td>\n",
       "      <td>-0.325074</td>\n",
       "      <td>1.559431</td>\n",
       "      <td>1.063223</td>\n",
       "      <td>0.246806</td>\n",
       "      <td>-0.105218</td>\n",
       "      <td>-0.238379</td>\n",
       "      <td>1.478939</td>\n",
       "      <td>-0.116283</td>\n",
       "      <td>0.147901</td>\n",
       "      <td>...</td>\n",
       "      <td>-0.142037</td>\n",
       "      <td>-0.121786</td>\n",
       "      <td>-0.10791</td>\n",
       "      <td>-0.073256</td>\n",
       "      <td>-0.069338</td>\n",
       "      <td>-0.071949</td>\n",
       "      <td>-0.10157</td>\n",
       "      <td>-0.089055</td>\n",
       "      <td>-0.250816</td>\n",
       "      <td>0.250816</td>\n",
       "    </tr>\n",
       "  </tbody>\n",
       "</table>\n",
       "<p>5 rows × 312 columns</p>\n",
       "</div>"
      ],
      "text/plain": [
       "   AGER_TYP  AKT_DAT_KL  ALTER_HH  ALTERSKATEGORIE_FEIN  ANZ_HAUSHALTE_AKTIV  \\\n",
       "0  1.189681   -0.325074  0.192466             -0.068433            -0.235979   \n",
       "1 -0.966005    4.271391  0.329163             -0.068433            -0.235979   \n",
       "2 -0.966005   -0.325074 -0.354319             -2.897572            -0.235979   \n",
       "3  0.471119   -0.325074 -0.080926             -0.634261            -0.316443   \n",
       "4 -0.966005   -0.325074  1.559431              1.063223             0.246806   \n",
       "\n",
       "   ANZ_HH_TITEL  ANZ_KINDER  ANZ_PERSONEN  ANZ_TITEL    ARBEIT  ...  \\\n",
       "0     -0.105218   -0.238379     -0.166805  -0.116283 -2.144783  ...   \n",
       "1     -0.105218   -0.238379      0.656067  -0.116283  0.147901  ...   \n",
       "2     -0.105218   -0.238379     -0.989677  -0.116283  0.147901  ...   \n",
       "3     -0.105218   -0.238379     -1.812549  -0.116283 -2.144783  ...   \n",
       "4     -0.105218   -0.238379      1.478939  -0.116283  0.147901  ...   \n",
       "\n",
       "   CAMEO_DEU_2015_8B  CAMEO_DEU_2015_8C  CAMEO_DEU_2015_8D  CAMEO_DEU_2015_9A  \\\n",
       "0          -0.142037          -0.121786           -0.10791          -0.073256   \n",
       "1          -0.142037          -0.121786           -0.10791          -0.073256   \n",
       "2          -0.142037          -0.121786           -0.10791          -0.073256   \n",
       "3          -0.142037          -0.121786           -0.10791          -0.073256   \n",
       "4          -0.142037          -0.121786           -0.10791          -0.073256   \n",
       "\n",
       "   CAMEO_DEU_2015_9B  CAMEO_DEU_2015_9C  CAMEO_DEU_2015_9D  CAMEO_DEU_2015_9E  \\\n",
       "0          -0.069338          -0.071949           -0.10157          -0.089055   \n",
       "1          -0.069338          -0.071949           -0.10157          -0.089055   \n",
       "2          -0.069338          -0.071949           -0.10157          -0.089055   \n",
       "3          -0.069338          -0.071949           -0.10157          -0.089055   \n",
       "4          -0.069338          -0.071949           -0.10157          -0.089055   \n",
       "\n",
       "   OST_WEST_KZ_O  OST_WEST_KZ_W  \n",
       "0      -0.250816       0.250816  \n",
       "1      -0.250816       0.250816  \n",
       "2      -0.250816       0.250816  \n",
       "3      -0.250816       0.250816  \n",
       "4      -0.250816       0.250816  \n",
       "\n",
       "[5 rows x 312 columns]"
      ]
     },
     "execution_count": 69,
     "metadata": {},
     "output_type": "execute_result"
    }
   ],
   "source": [
    "customers.head()"
   ]
  },
  {
   "cell_type": "code",
   "execution_count": 70,
   "metadata": {},
   "outputs": [
    {
     "name": "stdout",
     "output_type": "stream",
     "text": [
      "(744305, 312)\n",
      "(191652, 312)\n"
     ]
    }
   ],
   "source": [
    "print(azdias.shape)\n",
    "print(customers.shape)"
   ]
  },
  {
   "cell_type": "markdown",
   "metadata": {},
   "source": [
    "### Dimensionality Reduction - PCA"
   ]
  },
  {
   "cell_type": "code",
   "execution_count": 71,
   "metadata": {},
   "outputs": [
    {
     "data": {
      "text/plain": [
       "PCA()"
      ]
     },
     "execution_count": 71,
     "metadata": {},
     "output_type": "execute_result"
    }
   ],
   "source": [
    "pca=PCA()\n",
    "pca.fit(azdias)"
   ]
  },
  {
   "cell_type": "code",
   "execution_count": 72,
   "metadata": {},
   "outputs": [
    {
     "data": {
      "text/plain": [
       "array([0.06315867, 0.04419733, 0.03180012, 0.02622891, 0.02521861,\n",
       "       0.02261799])"
      ]
     },
     "execution_count": 72,
     "metadata": {},
     "output_type": "execute_result"
    }
   ],
   "source": [
    "pca.explained_variance_ratio_[:6]"
   ]
  },
  {
   "cell_type": "code",
   "execution_count": 73,
   "metadata": {},
   "outputs": [
    {
     "data": {
      "image/png": "[encoded data removed]",
      "text/plain": [
       "<Figure size 720x576 with 1 Axes>"
      ]
     },
     "metadata": {
      "needs_background": "light"
     },
     "output_type": "display_data"
    }
   ],
   "source": [
    "plt.figure(figsize=(10,8))\n",
    "plt.plot(pca.explained_variance_ratio_.cumsum())\n",
    "plt.title(\"Exaplained Variance by Components\")\n",
    "plt.xlabel(\"Number of Component\")\n",
    "plt.ylabel(\"Cummulative Explained Variance\")\n",
    "plt.grid(True)\n",
    "plt.show()"
   ]
  },
  {
   "cell_type": "markdown",
   "metadata": {},
   "source": [
    "We want to preserve total  variability of more than 80%\n",
    "- as such we are going to keep the number of components to 200 for around 90% of Cummulative variance"
   ]
  },
  {
   "cell_type": "code",
   "execution_count": 74,
   "metadata": {},
   "outputs": [],
   "source": [
    "def perform_pca(df,n=200):\n",
    "    '''\n",
    "    Returns transformed data with PCA\n",
    "\n",
    "    '''\n",
    "    pca = PCA(n_components=n).fit(df)\n",
    "    reduced_data = pca.transform(df)\n",
    "    reduced_data = pd.DataFrame(reduced_data)\n",
    "    print(pca.explained_variance_ratio_.sum())\n",
    "    return reduced_data"
   ]
  },
  {
   "cell_type": "code",
   "execution_count": 75,
   "metadata": {},
   "outputs": [
    {
     "name": "stdout",
     "output_type": "stream",
     "text": [
      "0.9060338413292465\n",
      "0.9070585806576955\n"
     ]
    }
   ],
   "source": [
    "pca_azdias = perform_pca(azdias)\n",
    "pca_customers = perform_pca(customers)"
   ]
  },
  {
   "cell_type": "code",
   "execution_count": 76,
   "metadata": {},
   "outputs": [
    {
     "name": "stdout",
     "output_type": "stream",
     "text": [
      "(744305, 200)\n",
      "(191652, 200)\n"
     ]
    }
   ],
   "source": [
    "# shape of reduced components\n",
    "print(pca_azdias.shape)\n",
    "print(pca_customers.shape)"
   ]
  },
  {
   "cell_type": "markdown",
   "metadata": {},
   "source": [
    "### K-Means Clustering"
   ]
  },
  {
   "cell_type": "markdown",
   "metadata": {},
   "source": [
    "Determine the number of clusters"
   ]
  },
  {
   "cell_type": "code",
   "execution_count": 78,
   "metadata": {},
   "outputs": [],
   "source": [
    "pca_azdias_sample=pca_azdias.sample(20000)"
   ]
  },
  {
   "cell_type": "code",
   "execution_count": 79,
   "metadata": {},
   "outputs": [],
   "source": [
    "# Determine the Within Cluster Sum of Squares (WCSS) for each solution\n",
    "wcss=[]\n",
    "score=[]\n",
    "for i in range(1,21):\n",
    "    #print(i)\n",
    "    kmeans_pca=KMeans(n_clusters=i,init='k-means++',random_state=42)\n",
    "    model=kmeans_pca.fit(pca_azdias_sample)\n",
    "    wcss.append(model.inertia_)"
   ]
  },
  {
   "cell_type": "code",
   "execution_count": 86,
   "metadata": {},
   "outputs": [
    {
     "data": {
      "image/png": "[encoded data removed]",
      "text/plain": [
       "<Figure size 1008x432 with 1 Axes>"
      ]
     },
     "metadata": {
      "needs_background": "light"
     },
     "output_type": "display_data"
    }
   ],
   "source": [
    "plt.figure(figsize=(14,6))\n",
    "plt.plot(range(1,21),wcss,marker='o',linestyle='--')\n",
    "plt.xlabel('number of clusters, k')\n",
    "plt.ylabel('WCSS')\n",
    "plt.title('K-means with PCA Clustering')\n",
    "plt.grid(True)\n",
    "plt.show()"
   ]
  },
  {
   "cell_type": "markdown",
   "metadata": {},
   "source": [
    "According to the Elbow method, look like cluster 3-6"
   ]
  },
  {
   "cell_type": "code",
   "execution_count": 104,
   "metadata": {},
   "outputs": [],
   "source": [
    "kmeans = KMeans(3)\n",
    "model = kmeans.fit(pca_azdias)\n",
    "prediction_azdias = model.predict(pca_azdias)\n",
    "prediction_customers = model.predict(pca_customers)"
   ]
  },
  {
   "cell_type": "code",
   "execution_count": 105,
   "metadata": {},
   "outputs": [
    {
     "data": {
      "text/plain": [
       "<matplotlib.axes._subplots.AxesSubplot at 0x1ea50d6d6a0>"
      ]
     },
     "execution_count": 105,
     "metadata": {},
     "output_type": "execute_result"
    },
    {
     "data": {
      "image/png": "[encoded data removed]",
      "text/plain": [
       "<Figure size 432x288 with 1 Axes>"
      ]
     },
     "metadata": {
      "needs_background": "light"
     },
     "output_type": "display_data"
    }
   ],
   "source": [
    "sns.countplot(prediction_azdias)"
   ]
  },
  {
   "cell_type": "code",
   "execution_count": 106,
   "metadata": {},
   "outputs": [
    {
     "data": {
      "text/plain": [
       "<matplotlib.axes._subplots.AxesSubplot at 0x1ea50d7a1c0>"
      ]
     },
     "execution_count": 106,
     "metadata": {},
     "output_type": "execute_result"
    },
    {
     "data": {
      "image/png": "[encoded data removed]",
      "text/plain": [
       "<Figure size 432x288 with 1 Axes>"
      ]
     },
     "metadata": {
      "needs_background": "light"
     },
     "output_type": "display_data"
    }
   ],
   "source": [
    "sns.countplot(prediction_customers)"
   ]
  },
  {
   "cell_type": "code",
   "execution_count": 91,
   "metadata": {},
   "outputs": [],
   "source": [
    "kmeans = KMeans(4)\n",
    "model = kmeans.fit(pca_azdias)\n",
    "prediction_azdias = model.predict(pca_azdias)\n",
    "prediction_customers = model.predict(pca_customers)"
   ]
  },
  {
   "cell_type": "code",
   "execution_count": 92,
   "metadata": {},
   "outputs": [
    {
     "data": {
      "text/plain": [
       "<matplotlib.axes._subplots.AxesSubplot at 0x1ec4e4fd490>"
      ]
     },
     "execution_count": 92,
     "metadata": {},
     "output_type": "execute_result"
    },
    {
     "data": {
      "image/png": "[encoded data removed]",
      "text/plain": [
       "<Figure size 432x288 with 1 Axes>"
      ]
     },
     "metadata": {
      "needs_background": "light"
     },
     "output_type": "display_data"
    }
   ],
   "source": [
    "sns.countplot(prediction_azdias)"
   ]
  },
  {
   "cell_type": "code",
   "execution_count": 93,
   "metadata": {},
   "outputs": [
    {
     "data": {
      "text/plain": [
       "<matplotlib.axes._subplots.AxesSubplot at 0x1ec4e4ee370>"
      ]
     },
     "execution_count": 93,
     "metadata": {},
     "output_type": "execute_result"
    },
    {
     "data": {
      "image/png": "[encoded data removed]",
      "text/plain": [
       "<Figure size 432x288 with 1 Axes>"
      ]
     },
     "metadata": {
      "needs_background": "light"
     },
     "output_type": "display_data"
    }
   ],
   "source": [
    "sns.countplot(prediction_customers)"
   ]
  },
  {
   "cell_type": "code",
   "execution_count": 94,
   "metadata": {},
   "outputs": [],
   "source": [
    "kmeans = KMeans(5)\n",
    "model = kmeans.fit(pca_azdias)\n",
    "prediction_azdias = model.predict(pca_azdias)\n",
    "prediction_customers = model.predict(pca_customers)"
   ]
  },
  {
   "cell_type": "code",
   "execution_count": 95,
   "metadata": {},
   "outputs": [
    {
     "data": {
      "text/plain": [
       "<matplotlib.axes._subplots.AxesSubplot at 0x1eab3bcf580>"
      ]
     },
     "execution_count": 95,
     "metadata": {},
     "output_type": "execute_result"
    },
    {
     "data": {
      "image/png": "[encoded data removed]",
      "text/plain": [
       "<Figure size 432x288 with 1 Axes>"
      ]
     },
     "metadata": {
      "needs_background": "light"
     },
     "output_type": "display_data"
    }
   ],
   "source": [
    "sns.countplot(prediction_azdias)"
   ]
  },
  {
   "cell_type": "code",
   "execution_count": 96,
   "metadata": {},
   "outputs": [
    {
     "data": {
      "text/plain": [
       "<matplotlib.axes._subplots.AxesSubplot at 0x1eab3b9bf70>"
      ]
     },
     "execution_count": 96,
     "metadata": {},
     "output_type": "execute_result"
    },
    {
     "data": {
      "image/png": "[encoded data removed]",
      "text/plain": [
       "<Figure size 432x288 with 1 Axes>"
      ]
     },
     "metadata": {
      "needs_background": "light"
     },
     "output_type": "display_data"
    }
   ],
   "source": [
    "sns.countplot(prediction_customers)"
   ]
  },
  {
   "cell_type": "code",
   "execution_count": 97,
   "metadata": {},
   "outputs": [],
   "source": [
    "kmeans = KMeans(6)\n",
    "model = kmeans.fit(pca_azdias)\n",
    "prediction_azdias = model.predict(pca_azdias)\n",
    "prediction_customers = model.predict(pca_customers)"
   ]
  },
  {
   "cell_type": "code",
   "execution_count": 98,
   "metadata": {},
   "outputs": [
    {
     "data": {
      "text/plain": [
       "<matplotlib.axes._subplots.AxesSubplot at 0x1ec46f61700>"
      ]
     },
     "execution_count": 98,
     "metadata": {},
     "output_type": "execute_result"
    },
    {
     "data": {
      "image/png": "[encoded data removed]",
      "text/plain": [
       "<Figure size 432x288 with 1 Axes>"
      ]
     },
     "metadata": {
      "needs_background": "light"
     },
     "output_type": "display_data"
    }
   ],
   "source": [
    "sns.countplot(prediction_azdias)"
   ]
  },
  {
   "cell_type": "code",
   "execution_count": 99,
   "metadata": {},
   "outputs": [
    {
     "data": {
      "text/plain": [
       "<matplotlib.axes._subplots.AxesSubplot at 0x1ea50f1f040>"
      ]
     },
     "execution_count": 99,
     "metadata": {},
     "output_type": "execute_result"
    },
    {
     "data": {
      "image/png": "[encoded data removed]",
      "text/plain": [
       "<Figure size 432x288 with 1 Axes>"
      ]
     },
     "metadata": {
      "needs_background": "light"
     },
     "output_type": "display_data"
    }
   ],
   "source": [
    "sns.countplot(prediction_customers)"
   ]
  },
  {
   "cell_type": "code",
   "execution_count": null,
   "metadata": {},
   "outputs": [],
   "source": []
  },
  {
   "cell_type": "code",
   "execution_count": 69,
   "metadata": {},
   "outputs": [],
   "source": [
    "kmeans = KMeans(7)\n",
    "model = kmeans.fit(pca_azdias)\n",
    "prediction_azdias = model.predict(pca_azdias)\n",
    "prediction_customers = model.predict(pca_customers)"
   ]
  },
  {
   "cell_type": "code",
   "execution_count": 70,
   "metadata": {},
   "outputs": [
    {
     "data": {
      "text/plain": [
       "<matplotlib.axes._subplots.AxesSubplot at 0x2c15dcdffd0>"
      ]
     },
     "execution_count": 70,
     "metadata": {},
     "output_type": "execute_result"
    },
    {
     "data": {
      "image/png": "[encoded data removed]",
      "text/plain": [
       "<Figure size 432x288 with 1 Axes>"
      ]
     },
     "metadata": {
      "needs_background": "light"
     },
     "output_type": "display_data"
    }
   ],
   "source": [
    "sns.countplot(prediction_customers)"
   ]
  },
  {
   "cell_type": "code",
   "execution_count": 71,
   "metadata": {},
   "outputs": [
    {
     "data": {
      "text/plain": [
       "<matplotlib.axes._subplots.AxesSubplot at 0x2c15dcf5d90>"
      ]
     },
     "execution_count": 71,
     "metadata": {},
     "output_type": "execute_result"
    },
    {
     "data": {
      "image/png": "[encoded data removed]",
      "text/plain": [
       "<Figure size 432x288 with 1 Axes>"
      ]
     },
     "metadata": {
      "needs_background": "light"
     },
     "output_type": "display_data"
    }
   ],
   "source": [
    "sns.countplot(prediction_azdias)"
   ]
  },
  {
   "cell_type": "code",
   "execution_count": 75,
   "metadata": {},
   "outputs": [],
   "source": [
    "kmeans = KMeans(6)\n",
    "model = kmeans.fit(pca_azdias)\n",
    "prediction_azdias = model.predict(pca_azdias)\n",
    "prediction_customers = model.predict(pca_customers)"
   ]
  },
  {
   "cell_type": "code",
   "execution_count": 100,
   "metadata": {},
   "outputs": [
    {
     "data": {
      "text/plain": [
       "<matplotlib.axes._subplots.AxesSubplot at 0x1ea50c81dc0>"
      ]
     },
     "execution_count": 100,
     "metadata": {},
     "output_type": "execute_result"
    },
    {
     "data": {
      "image/png": "[encoded data removed]",
      "text/plain": [
       "<Figure size 432x288 with 1 Axes>"
      ]
     },
     "metadata": {
      "needs_background": "light"
     },
     "output_type": "display_data"
    }
   ],
   "source": [
    "sns.countplot(prediction_azdias)"
   ]
  },
  {
   "cell_type": "code",
   "execution_count": 101,
   "metadata": {},
   "outputs": [
    {
     "data": {
      "text/plain": [
       "<matplotlib.axes._subplots.AxesSubplot at 0x1ea50cb7d00>"
      ]
     },
     "execution_count": 101,
     "metadata": {},
     "output_type": "execute_result"
    },
    {
     "data": {
      "image/png": "[encoded data removed]",
      "text/plain": [
       "<Figure size 432x288 with 1 Axes>"
      ]
     },
     "metadata": {
      "needs_background": "light"
     },
     "output_type": "display_data"
    }
   ],
   "source": [
    "sns.countplot(prediction_customers)"
   ]
  },
  {
   "cell_type": "markdown",
   "metadata": {},
   "source": [
    "#### k-means with k =3, \n",
    "- 3 clusters seems to be better than the other"
   ]
  },
  {
   "cell_type": "code",
   "execution_count": 112,
   "metadata": {},
   "outputs": [],
   "source": [
    "kmeans = KMeans(3)\n",
    "model = kmeans.fit(pca_azdias)\n",
    "prediction_azdias = model.predict(pca_azdias)\n",
    "prediction_customers = model.predict(pca_customers)"
   ]
  },
  {
   "cell_type": "code",
   "execution_count": 113,
   "metadata": {},
   "outputs": [
    {
     "data": {
      "text/plain": [
       "<matplotlib.axes._subplots.AxesSubplot at 0x1eab4ef5220>"
      ]
     },
     "execution_count": 113,
     "metadata": {},
     "output_type": "execute_result"
    },
    {
     "data": {
      "image/png": "[encoded data removed]",
      "text/plain": [
       "<Figure size 432x288 with 1 Axes>"
      ]
     },
     "metadata": {
      "needs_background": "light"
     },
     "output_type": "display_data"
    }
   ],
   "source": [
    "sns.countplot(prediction_azdias)"
   ]
  },
  {
   "cell_type": "code",
   "execution_count": 114,
   "metadata": {},
   "outputs": [
    {
     "data": {
      "text/plain": [
       "<matplotlib.axes._subplots.AxesSubplot at 0x1eabd06ae50>"
      ]
     },
     "execution_count": 114,
     "metadata": {},
     "output_type": "execute_result"
    },
    {
     "data": {
      "image/png": "[encoded data removed]",
      "text/plain": [
       "<Figure size 432x288 with 1 Axes>"
      ]
     },
     "metadata": {
      "needs_background": "light"
     },
     "output_type": "display_data"
    }
   ],
   "source": [
    "sns.countplot(prediction_customers)"
   ]
  },
  {
   "cell_type": "code",
   "execution_count": 170,
   "metadata": {},
   "outputs": [],
   "source": [
    "from yellowbrick.cluster import KElbowVisualizer"
   ]
  },
  {
   "cell_type": "markdown",
   "metadata": {},
   "source": [
    "## Part 2: Supervised Learning Model\n",
    "\n",
    "Now that you've found which parts of the population are more likely to be customers of the mail-order company, it's time to build a prediction model. Each of the rows in the \"MAILOUT\" data files represents an individual that was targeted for a mailout campaign. Ideally, we should be able to use the demographic information from each individual to decide whether or not it will be worth it to include that person in the campaign.\n",
    "\n",
    "The \"MAILOUT\" data has been split into two approximately equal parts, each with almost 43 000 data rows. In this part, you can verify your model with the \"TRAIN\" partition, which includes a column, \"RESPONSE\", that states whether or not a person became a customer of the company following the campaign. In the next part, you'll need to create predictions on the \"TEST\" partition, where the \"RESPONSE\" column has been withheld."
   ]
  },
  {
   "cell_type": "code",
   "execution_count": 120,
   "metadata": {},
   "outputs": [],
   "source": [
    "from sklearn.model_selection import train_test_split\n",
    "from sklearn.model_selection import StratifiedKFold\n",
    "from sklearn.model_selection import GridSearchCV\n",
    "from xgboost.sklearn import XGBRegressor # Extreme Gradient Boosting\n",
    "from sklearn.metrics import roc_auc_score, fbeta_score, accuracy_score, precision_score, recall_score\n",
    "import xgboost as xgb\n",
    "from sklearn.impute import SimpleImputer"
   ]
  },
  {
   "cell_type": "code",
   "execution_count": 121,
   "metadata": {},
   "outputs": [],
   "source": [
    "# mailout_train = pd.read_csv('../../data/Term2/capstone/arvato_data/Udacity_MAILOUT_052018_TRAIN.csv', sep=';')"
   ]
  },
  {
   "cell_type": "code",
   "execution_count": 140,
   "metadata": {},
   "outputs": [
    {
     "name": "stderr",
     "output_type": "stream",
     "text": [
      "C:\\ProgramData\\Anaconda3\\lib\\site-packages\\IPython\\core\\interactiveshell.py:3071: DtypeWarning: Columns (19,20) have mixed types.Specify dtype option on import or set low_memory=False.\n",
      "  has_raised = await self.run_ast_nodes(code_ast.body, cell_name,\n"
     ]
    }
   ],
   "source": [
    "mailout_train = pd.read_csv('Udacity_MAILOUT_052018_TRAIN_reduce_mem.csv')"
   ]
  },
  {
   "cell_type": "code",
   "execution_count": 141,
   "metadata": {},
   "outputs": [
    {
     "name": "stdout",
     "output_type": "stream",
     "text": [
      "Shape before (42962, 366)\n",
      "{'D19_LETZTER_KAUF_BRANCHE', 'EINGEFUEGT_AM', 'OST_WEST_KZ', 'CAMEO_INTL_2015', 'CAMEO_DEU_2015', 'CAMEO_DEUG_2015'}\n",
      "shape after corr (42962, 276)\n",
      "Number of nan Values 0\n",
      "shape after (42962, 321)\n"
     ]
    }
   ],
   "source": [
    "X = mailout_train.drop('RESPONSE',axis=1)\n",
    "y = mailout_train['RESPONSE']\n",
    "df_mailout_train  = data_cleaning(X)\n",
    "# pca_X_df = perform_pca(df_mailout_train)\n",
    "# prediction_cluster = model.predict(pca_X_df)\n",
    "\n",
    "# df_mailout_train['Cluster']=prediction_cluster"
   ]
  },
  {
   "cell_type": "markdown",
   "metadata": {},
   "source": [
    "##### Split Data "
   ]
  },
  {
   "cell_type": "code",
   "execution_count": 142,
   "metadata": {},
   "outputs": [],
   "source": [
    "X_train,X_test,y_train,y_test = train_test_split(df_mailout_train,y,random_state=42,test_size=0.3)"
   ]
  },
  {
   "cell_type": "code",
   "execution_count": 143,
   "metadata": {},
   "outputs": [],
   "source": [
    "X_train,X_val,y_train,y_val = train_test_split(X_train,y_train,random_state=42,test_size=0.3)"
   ]
  },
  {
   "cell_type": "code",
   "execution_count": 144,
   "metadata": {},
   "outputs": [],
   "source": [
    "model_xg = XGBRegressor(base_score=0.5, booster='gbtree', colsample_bylevel=1,\n",
    "                        colsample_bytree=0.7, eval_metric='auc', gamma=1.0,\n",
    "                        learning_rate=0.01, max_delta_step=0, max_depth=7,\n",
    "                        min_child_weight=1, missing=None, n_estimators=250, n_jobs=-1,\n",
    "                        nthread=None, objective='binary:logistic', random_state=42,\n",
    "                        reg_alpha=1e-07, reg_lambda=1, scale_pos_weight=1, seed=None,\n",
    "                        silent=1, subsample=0.5)"
   ]
  },
  {
   "cell_type": "code",
   "execution_count": 145,
   "metadata": {},
   "outputs": [
    {
     "name": "stdout",
     "output_type": "stream",
     "text": [
      "[21:50:57] WARNING: C:/Users/Administrator/workspace/xgboost-win64_release_1.3.0/src/learner.cc:541: \n",
      "Parameters: { silent } might not be used.\n",
      "\n",
      "  This may not be accurate due to some parameters are only used in language bindings but\n",
      "  passed down to XGBoost core.  Or some parameters are not used but slip through this\n",
      "  verification. Please open an issue if you find above cases.\n",
      "\n",
      "\n"
     ]
    },
    {
     "data": {
      "text/plain": [
       "XGBRegressor(base_score=0.5, booster='gbtree', colsample_bylevel=1,\n",
       "             colsample_bynode=1, colsample_bytree=0.7, eval_metric='auc',\n",
       "             gamma=1.0, gpu_id=-1, importance_type='gain',\n",
       "             interaction_constraints='', learning_rate=0.01, max_delta_step=0,\n",
       "             max_depth=7, min_child_weight=1, missing=None,\n",
       "             monotone_constraints='()', n_estimators=250, n_jobs=-1, nthread=4,\n",
       "             num_parallel_tree=1, objective='binary:logistic', random_state=42,\n",
       "             reg_alpha=1e-07, reg_lambda=1, scale_pos_weight=1, seed=42,\n",
       "             silent=1, subsample=0.5, tree_method='exact',\n",
       "             validate_parameters=1, ...)"
      ]
     },
     "execution_count": 145,
     "metadata": {},
     "output_type": "execute_result"
    }
   ],
   "source": [
    "model_xg.fit(X_train,y_train)"
   ]
  },
  {
   "cell_type": "code",
   "execution_count": 146,
   "metadata": {},
   "outputs": [],
   "source": [
    "from sklearn.metrics import roc_auc_score\n",
    "pred_train = model_xg.predict(X_train)\n",
    "pred_test = model_xg.predict(X_test)\n",
    "pred_val = model_xg.predict(X_val)"
   ]
  },
  {
   "cell_type": "code",
   "execution_count": 147,
   "metadata": {},
   "outputs": [
    {
     "data": {
      "text/plain": [
       "0.9084999443701693"
      ]
     },
     "execution_count": 147,
     "metadata": {},
     "output_type": "execute_result"
    }
   ],
   "source": [
    "roc_auc_score(y_train,pred_train)"
   ]
  },
  {
   "cell_type": "code",
   "execution_count": 148,
   "metadata": {},
   "outputs": [
    {
     "data": {
      "text/plain": [
       "0.7758407076409347"
      ]
     },
     "execution_count": 148,
     "metadata": {},
     "output_type": "execute_result"
    }
   ],
   "source": [
    "roc_auc_score(y_test,pred_test)"
   ]
  },
  {
   "cell_type": "code",
   "execution_count": 149,
   "metadata": {},
   "outputs": [
    {
     "data": {
      "text/plain": [
       "0.7770589970636395"
      ]
     },
     "execution_count": 149,
     "metadata": {},
     "output_type": "execute_result"
    }
   ],
   "source": [
    "roc_auc_score(y_val,pred_val)"
   ]
  },
  {
   "cell_type": "code",
   "execution_count": 150,
   "metadata": {},
   "outputs": [
    {
     "data": {
      "image/png": "[encoded data removed]",
      "text/plain": [
       "<Figure size 432x288 with 1 Axes>"
      ]
     },
     "metadata": {
      "needs_background": "light"
     },
     "output_type": "display_data"
    }
   ],
   "source": [
    "# Calculate feature importances\n",
    "importances = model_xg.feature_importances_\n",
    "\n",
    "# Sort feature importances in descending order\n",
    "indices = np.argsort(importances)[::-1][:5]\n",
    "\n",
    "# Rearrange feature names so they match the sorted feature importances\n",
    "names = [X.columns[i] for i in indices][:5]\n",
    "\n",
    "\n",
    "# Create plot\n",
    "plt.figure()\n",
    "\n",
    "# Create plot title\n",
    "plt.title(\"Feature Importance\")\n",
    "\n",
    "# Add bars\n",
    "plt.bar(range(5), importances[indices])\n",
    "\n",
    "# Add feature names as x-axis labels\n",
    "plt.xticks(range(5) ,names, rotation=90)\n",
    "\n",
    "# Show plot\n",
    "plt.show()"
   ]
  },
  {
   "cell_type": "code",
   "execution_count": 166,
   "metadata": {},
   "outputs": [],
   "source": [
    "from yellowbrick.model_selection import FeatureImportances"
   ]
  },
  {
   "cell_type": "code",
   "execution_count": 169,
   "metadata": {},
   "outputs": [
    {
     "data": {
      "image/png": "[encoded data removed]",
      "text/plain": [
       "<Figure size 576x396 with 1 Axes>"
      ]
     },
     "metadata": {},
     "output_type": "display_data"
    },
    {
     "data": {
      "text/plain": [
       "<matplotlib.axes._subplots.AxesSubplot at 0x1eab44071c0>"
      ]
     },
     "execution_count": 169,
     "metadata": {},
     "output_type": "execute_result"
    }
   ],
   "source": [
    "viz = FeatureImportances(model_xg)\n",
    "viz.fit(df_mailout_train, y)\n",
    "viz.show()"
   ]
  },
  {
   "cell_type": "markdown",
   "metadata": {},
   "source": [
    "## Part 3: Kaggle Competition\n",
    "\n",
    "Now that you've created a model to predict which individuals are most likely to respond to a mailout campaign, it's time to test that model in competition through Kaggle. If you click on the link [here](http://www.kaggle.com/t/21e6d45d4c574c7fa2d868f0e8c83140), you'll be taken to the competition page where, if you have a Kaggle account, you can enter. If you're one of the top performers, you may have the chance to be contacted by a hiring manager from Arvato or Bertelsmann for an interview!\n",
    "\n",
    "Your entry to the competition should be a CSV file with two columns. The first column should be a copy of \"LNR\", which acts as an ID number for each individual in the \"TEST\" partition. The second column, \"RESPONSE\", should be some measure of how likely each individual became a customer – this might not be a straightforward probability. As you should have found in Part 2, there is a large output class imbalance, where most individuals did not respond to the mailout. Thus, predicting individual classes and using accuracy does not seem to be an appropriate performance evaluation method. Instead, the competition will be using AUC to evaluate performance. The exact values of the \"RESPONSE\" column do not matter as much: only that the higher values try to capture as many of the actual customers as possible, early in the ROC curve sweep."
   ]
  },
  {
   "cell_type": "code",
   "execution_count": 151,
   "metadata": {},
   "outputs": [],
   "source": [
    "# mailout_test = pd.read_csv('../../data/Term2/capstone/arvato_data/Udacity_MAILOUT_052018_TEST.csv', sep=';')"
   ]
  },
  {
   "cell_type": "code",
   "execution_count": 152,
   "metadata": {},
   "outputs": [
    {
     "name": "stderr",
     "output_type": "stream",
     "text": [
      "C:\\ProgramData\\Anaconda3\\lib\\site-packages\\IPython\\core\\interactiveshell.py:3071: DtypeWarning: Columns (19,20) have mixed types.Specify dtype option on import or set low_memory=False.\n",
      "  has_raised = await self.run_ast_nodes(code_ast.body, cell_name,\n"
     ]
    }
   ],
   "source": [
    "mailout_test = pd.read_csv('Udacity_MAILOUT_052018_TEST_reduce_mem.csv')"
   ]
  },
  {
   "cell_type": "code",
   "execution_count": 153,
   "metadata": {},
   "outputs": [
    {
     "name": "stdout",
     "output_type": "stream",
     "text": [
      "Shape before (42833, 366)\n",
      "{'D19_LETZTER_KAUF_BRANCHE', 'EINGEFUEGT_AM', 'OST_WEST_KZ', 'CAMEO_INTL_2015', 'CAMEO_DEU_2015', 'CAMEO_DEUG_2015'}\n",
      "shape after corr (42833, 276)\n",
      "Number of nan Values 0\n",
      "shape after (42833, 321)\n"
     ]
    }
   ],
   "source": [
    "mailout_test_clean = data_cleaning(mailout_test)\n"
   ]
  },
  {
   "cell_type": "code",
   "execution_count": 154,
   "metadata": {},
   "outputs": [
    {
     "data": {
      "text/plain": [
       "set()"
      ]
     },
     "execution_count": 154,
     "metadata": {},
     "output_type": "execute_result"
    }
   ],
   "source": [
    "# Differences in columns\n",
    "set(list(df_mailout_train.columns)) - set(list(mailout_test_clean.columns))"
   ]
  },
  {
   "cell_type": "code",
   "execution_count": 155,
   "metadata": {},
   "outputs": [
    {
     "data": {
      "text/plain": [
       "set()"
      ]
     },
     "execution_count": 155,
     "metadata": {},
     "output_type": "execute_result"
    }
   ],
   "source": [
    "# Differences in columns\n",
    "set(list(mailout_test_clean.columns)) - set(list(df_mailout_train.columns))"
   ]
  },
  {
   "cell_type": "code",
   "execution_count": 156,
   "metadata": {},
   "outputs": [],
   "source": [
    "testpred = model_xg.predict(mailout_test_clean)"
   ]
  },
  {
   "cell_type": "code",
   "execution_count": 159,
   "metadata": {},
   "outputs": [],
   "source": [
    "# prediction_for_kaggle = reg_model.predict(mailout_test_clean)\n",
    "df_kaggle = pd.DataFrame(index=mailout_test['LNR'].astype('int32'), data=testpred)\n",
    "df_kaggle.rename(columns={0: \"RESPONSE\"}, inplace=True)\n"
   ]
  },
  {
   "cell_type": "code",
   "execution_count": 160,
   "metadata": {},
   "outputs": [],
   "source": [
    "df_kaggle.to_csv('submission1.csv')"
   ]
  }
 ],
 "metadata": {
  "kernelspec": {
   "display_name": "Python 3",
   "language": "python",
   "name": "python3"
  },
  "language_info": {
   "codemirror_mode": {
    "name": "ipython",
    "version": 3
   },
   "file_extension": ".py",
   "mimetype": "text/x-python",
   "name": "python",
   "nbconvert_exporter": "python",
   "pygments_lexer": "ipython3",
   "version": "3.8.3"
  },
  "toc": {
   "base_numbering": 1,
   "nav_menu": {},
   "number_sections": true,
   "sideBar": true,
   "skip_h1_title": false,
   "title_cell": "Table of Contents",
   "title_sidebar": "Contents",
   "toc_cell": false,
   "toc_position": {},
   "toc_section_display": true,
   "toc_window_display": false
  }
 },
 "nbformat": 4,
 "nbformat_minor": 2
}
