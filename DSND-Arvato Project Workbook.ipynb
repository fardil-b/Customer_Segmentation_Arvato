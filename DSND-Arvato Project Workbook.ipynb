{
 "cells": [
  {
   "cell_type": "markdown",
   "metadata": {},
   "source": [
    "# Capstone Project: Create a Customer Segmentation Report for Arvato Financial Services\n",
    "\n",
    "In this project, you will analyze demographics data for customers of a mail-order sales company in Germany, comparing it against demographics information for the general population. You'll use unsupervised learning techniques to perform customer segmentation, identifying the parts of the population that best describe the core customer base of the company. Then, you'll apply what you've learned on a third dataset with demographics information for targets of a marketing campaign for the company, and use a model to predict which individuals are most likely to convert into becoming customers for the company. The data that you will use has been provided by our partners at Bertelsmann Arvato Analytics, and represents a real-life data science task.\n",
    "\n",
    "If you completed the first term of this program, you will be familiar with the first part of this project, from the unsupervised learning project. The versions of those two datasets used in this project will include many more features and has not been pre-cleaned. You are also free to choose whatever approach you'd like to analyzing the data rather than follow pre-determined steps. In your work on this project, make sure that you carefully document your steps and decisions, since your main deliverable for this project will be a blog post reporting your findings."
   ]
  },
  {
   "cell_type": "code",
   "execution_count": 59,
   "metadata": {},
   "outputs": [],
   "source": [
    "# import libraries \n",
    "import numpy as np\n",
    "import pandas as pd\n",
    "import time\n",
    "import seaborn as sns\n",
    "import matplotlib.pyplot as plt\n",
    "from matplotlib.pyplot import figure\n",
    "\n",
    "from sklearn.preprocessing import StandardScaler\n",
    "from sklearn.decomposition import PCA\n",
    "# from sklearn.preprocessing import Imputer\n",
    "from sklearn.cluster import KMeans\n",
    "\n",
    "# magic word for producing visualizations in notebook\n",
    "%matplotlib inline"
   ]
  },
  {
   "cell_type": "markdown",
   "metadata": {},
   "source": [
    "## Part 0: Get to Know the Data\n",
    "\n",
    "There are four data files associated with this project:\n",
    "\n",
    "- `Udacity_AZDIAS_052018.csv`: Demographics data for the general population of Germany; 891 211 persons (rows) x 366 features (columns).\n",
    "- `Udacity_CUSTOMERS_052018.csv`: Demographics data for customers of a mail-order company; 191 652 persons (rows) x 369 features (columns).\n",
    "- `Udacity_MAILOUT_052018_TRAIN.csv`: Demographics data for individuals who were targets of a marketing campaign; 42 982 persons (rows) x 367 (columns).\n",
    "- `Udacity_MAILOUT_052018_TEST.csv`: Demographics data for individuals who were targets of a marketing campaign; 42 833 persons (rows) x 366 (columns).\n",
    "\n",
    "Each row of the demographics files represents a single person, but also includes information outside of individuals, including information about their household, building, and neighborhood. Use the information from the first two files to figure out how customers (\"CUSTOMERS\") are similar to or differ from the general population at large (\"AZDIAS\"), then use your analysis to make predictions on the other two files (\"MAILOUT\"), predicting which recipients are most likely to become a customer for the mail-order company.\n",
    "\n",
    "The \"CUSTOMERS\" file contains three extra columns ('CUSTOMER_GROUP', 'ONLINE_PURCHASE', and 'PRODUCT_GROUP'), which provide broad information about the customers depicted in the file. The original \"MAILOUT\" file included one additional column, \"RESPONSE\", which indicated whether or not each recipient became a customer of the company. For the \"TRAIN\" subset, this column has been retained, but in the \"TEST\" subset it has been removed; it is against that withheld column that your final predictions will be assessed in the Kaggle competition.\n",
    "\n",
    "Otherwise, all of the remaining columns are the same between the three data files. For more information about the columns depicted in the files, you can refer to two Excel spreadsheets provided in the workspace. [One of them](./DIAS Information Levels - Attributes 2017.xlsx) is a top-level list of attributes and descriptions, organized by informational category. [The other](./DIAS Attributes - Values 2017.xlsx) is a detailed mapping of data values for each feature in alphabetical order.\n",
    "\n",
    "In the below cell, we've provided some initial code to load in the first two datasets. Note for all of the `.csv` data files in this project that they're semicolon (`;`) delimited, so an additional argument in the [`read_csv()`](https://pandas.pydata.org/pandas-docs/stable/generated/pandas.read_csv.html) call has been included to read in the data properly. Also, considering the size of the datasets, it may take some time for them to load completely.\n",
    "\n",
    "You'll notice when the data is loaded in that a warning message will immediately pop up. Before you really start digging into the modeling and analysis, you're going to need to perform some cleaning. Take some time to browse the structure of the data and look over the informational spreadsheets to understand the data values. Make some decisions on which features to keep, which features to drop, and if any revisions need to be made on data formats. It'll be a good idea to create a function with pre-processing steps, since you'll need to clean all of the datasets before you work with them."
   ]
  },
  {
   "cell_type": "code",
   "execution_count": 3,
   "metadata": {},
   "outputs": [],
   "source": [
    "#  load in the data\n",
    "azdias = pd.read_csv('../../data/Term2/capstone/arvato_data/Udacity_AZDIAS_052018.csv', sep=';')\n",
    "customers = pd.read_csv('../../data/Term2/capstone/arvato_data/Udacity_CUSTOMERS_052018.csv', sep=';')"
   ]
  },
  {
   "cell_type": "markdown",
   "metadata": {},
   "source": [
    "### Memory Reduction"
   ]
  },
  {
   "cell_type": "markdown",
   "metadata": {},
   "source": [
    "Due to the huge size of data, analysing the data is very time consuming. As such I started looking for solution online. I found a nice article \"[How to handle BigData Files on Low Memory?](https://towardsdatascience.com/how-to-learn-from-bigdata-files-on-low-memory-incremental-learning-d377282d38ff#e618)\""
   ]
  },
  {
   "cell_type": "code",
   "execution_count": 212,
   "metadata": {},
   "outputs": [],
   "source": [
    "def reduce_mem_usage(df):\n",
    "    \"\"\" \n",
    "    iterate through all the columns of a dataframe and \n",
    "    modify the data type to reduce memory usage.        \n",
    "    \"\"\"\n",
    "    start_mem = df.memory_usage().sum() / 1024**2\n",
    "    print(('Memory usage of dataframe is {:.2f}' \n",
    "                     'MB').format(start_mem))\n",
    "    \n",
    "    for col in df.columns:\n",
    "        col_type = df[col].dtype\n",
    "        \n",
    "        if col_type != object:\n",
    "            c_min = df[col].min()\n",
    "            c_max = df[col].max()\n",
    "            if str(col_type)[:3] == 'int':\n",
    "                if c_min > np.iinfo(np.int8).min and c_max <\\\n",
    "                  np.iinfo(np.int8).max:\n",
    "                    df[col] = df[col].astype(np.int8)\n",
    "                elif c_min > np.iinfo(np.int16).min and c_max <\\\n",
    "                   np.iinfo(np.int16).max:\n",
    "                    df[col] = df[col].astype(np.int16)\n",
    "                elif c_min > np.iinfo(np.int32).min and c_max <\\\n",
    "                   np.iinfo(np.int32).max:\n",
    "                    df[col] = df[col].astype(np.int32)\n",
    "                elif c_min > np.iinfo(np.int64).min and c_max <\\\n",
    "                   np.iinfo(np.int64).max:\n",
    "                    df[col] = df[col].astype(np.int64)  \n",
    "            else:\n",
    "                if c_min > np.finfo(np.float16).min and c_max <\\\n",
    "                   np.finfo(np.float16).max:\n",
    "                    df[col] = df[col].astype(np.float16)\n",
    "                elif c_min > np.finfo(np.float32).min and c_max <\\\n",
    "                   np.finfo(np.float32).max:\n",
    "                    df[col] = df[col].astype(np.float32)\n",
    "                else:\n",
    "                    df[col] = df[col].astype(np.float64)\n",
    "        else:\n",
    "            df[col] = df[col].astype('category')\n",
    "    end_mem = df.memory_usage().sum() / 1024**2\n",
    "    print(('Memory usage after optimization is: {:.2f}' \n",
    "                              'MB').format(end_mem))\n",
    "    print('Decreased by {:.1f}%'.format(100 * (start_mem - end_mem) \n",
    "                                             / start_mem))\n",
    "    \n",
    "    return df"
   ]
  },
  {
   "cell_type": "code",
   "execution_count": null,
   "metadata": {},
   "outputs": [],
   "source": [
    "# Reduce Memory of all dataset\n",
    "azdias_reduce = reduce_mem_usage(azdias)\n",
    "customers_reduce = reduce_mem_usage(customers)\n",
    "mailout_train_reduce = reduce_mem_usage(mailout_train)\n",
    "mailout_test_reduce = reduce_mem_usage(mailout_test)"
   ]
  },
  {
   "cell_type": "code",
   "execution_count": null,
   "metadata": {},
   "outputs": [],
   "source": [
    "# Save the reduced Memory file\n",
    "azdias_reduce.to_csv('Udacity_AZDIAS_reduce_mem_052018.csv')\n",
    "customers_reduce.to_csv('Udacity_CUSTOMERS_reduce_mem_052018.csv')\n",
    "mailout_train_reduce.to_csv('Udacity_MAILOUT_052018_TRAIN_reduce_mem.csv')\n",
    "mailout_test_reduce.to_csv('Udacity_MAILOUT_052018_TEST_reduce_mem.csv')"
   ]
  },
  {
   "cell_type": "markdown",
   "metadata": {},
   "source": [
    "### Loading memory reduced data"
   ]
  },
  {
   "cell_type": "code",
   "execution_count": 4,
   "metadata": {},
   "outputs": [
    {
     "name": "stderr",
     "output_type": "stream",
     "text": [
      "C:\\ProgramData\\Anaconda3\\lib\\site-packages\\IPython\\core\\interactiveshell.py:3071: DtypeWarning: Columns (19,20) have mixed types.Specify dtype option on import or set low_memory=False.\n",
      "  has_raised = await self.run_ast_nodes(code_ast.body, cell_name,\n"
     ]
    }
   ],
   "source": [
    "# Read data with after memory reduction\n",
    "azdias = pd.read_csv('Udacity_AZDIAS_reduce_mem_052018.csv')\n",
    "customers = pd.read_csv('Udacity_CUSTOMERS_reduce_mem_052018.csv')"
   ]
  },
  {
   "cell_type": "code",
   "execution_count": 5,
   "metadata": {},
   "outputs": [],
   "source": [
    "# Read information on the attributes \n",
    "# top-level list of attributes and descriptions, organized by informational category\n",
    "attributes_des = pd.read_excel('DIAS Information Levels - Attributes 2017.xlsx', header=1)\n",
    "# Detailed mapping of data values for each feature in alphabetical order\n",
    "attributes_info = pd.read_excel('DIAS Attributes - Values 2017.xlsx', header=1)"
   ]
  },
  {
   "cell_type": "code",
   "execution_count": 6,
   "metadata": {},
   "outputs": [
    {
     "data": {
      "text/html": [
       "<div>\n",
       "<style scoped>\n",
       "    .dataframe tbody tr th:only-of-type {\n",
       "        vertical-align: middle;\n",
       "    }\n",
       "\n",
       "    .dataframe tbody tr th {\n",
       "        vertical-align: top;\n",
       "    }\n",
       "\n",
       "    .dataframe thead th {\n",
       "        text-align: right;\n",
       "    }\n",
       "</style>\n",
       "<table border=\"1\" class=\"dataframe\">\n",
       "  <thead>\n",
       "    <tr style=\"text-align: right;\">\n",
       "      <th></th>\n",
       "      <th>Unnamed: 0</th>\n",
       "      <th>LNR</th>\n",
       "      <th>AGER_TYP</th>\n",
       "      <th>AKT_DAT_KL</th>\n",
       "      <th>ALTER_HH</th>\n",
       "      <th>ALTER_KIND1</th>\n",
       "      <th>ALTER_KIND2</th>\n",
       "      <th>ALTER_KIND3</th>\n",
       "      <th>ALTER_KIND4</th>\n",
       "      <th>ALTERSKATEGORIE_FEIN</th>\n",
       "      <th>...</th>\n",
       "      <th>VHN</th>\n",
       "      <th>VK_DHT4A</th>\n",
       "      <th>VK_DISTANZ</th>\n",
       "      <th>VK_ZG11</th>\n",
       "      <th>W_KEIT_KIND_HH</th>\n",
       "      <th>WOHNDAUER_2008</th>\n",
       "      <th>WOHNLAGE</th>\n",
       "      <th>ZABEOTYP</th>\n",
       "      <th>ANREDE_KZ</th>\n",
       "      <th>ALTERSKATEGORIE_GROB</th>\n",
       "    </tr>\n",
       "  </thead>\n",
       "  <tbody>\n",
       "    <tr>\n",
       "      <th>0</th>\n",
       "      <td>0</td>\n",
       "      <td>910215</td>\n",
       "      <td>-1</td>\n",
       "      <td>NaN</td>\n",
       "      <td>NaN</td>\n",
       "      <td>NaN</td>\n",
       "      <td>NaN</td>\n",
       "      <td>NaN</td>\n",
       "      <td>NaN</td>\n",
       "      <td>NaN</td>\n",
       "      <td>...</td>\n",
       "      <td>NaN</td>\n",
       "      <td>NaN</td>\n",
       "      <td>NaN</td>\n",
       "      <td>NaN</td>\n",
       "      <td>NaN</td>\n",
       "      <td>NaN</td>\n",
       "      <td>NaN</td>\n",
       "      <td>3</td>\n",
       "      <td>1</td>\n",
       "      <td>2</td>\n",
       "    </tr>\n",
       "    <tr>\n",
       "      <th>1</th>\n",
       "      <td>1</td>\n",
       "      <td>910220</td>\n",
       "      <td>-1</td>\n",
       "      <td>9.0</td>\n",
       "      <td>0.0</td>\n",
       "      <td>NaN</td>\n",
       "      <td>NaN</td>\n",
       "      <td>NaN</td>\n",
       "      <td>NaN</td>\n",
       "      <td>21.0</td>\n",
       "      <td>...</td>\n",
       "      <td>4.0</td>\n",
       "      <td>8.0</td>\n",
       "      <td>11.0</td>\n",
       "      <td>10.0</td>\n",
       "      <td>3.0</td>\n",
       "      <td>9.0</td>\n",
       "      <td>4.0</td>\n",
       "      <td>5</td>\n",
       "      <td>2</td>\n",
       "      <td>1</td>\n",
       "    </tr>\n",
       "    <tr>\n",
       "      <th>2</th>\n",
       "      <td>2</td>\n",
       "      <td>910225</td>\n",
       "      <td>-1</td>\n",
       "      <td>9.0</td>\n",
       "      <td>17.0</td>\n",
       "      <td>NaN</td>\n",
       "      <td>NaN</td>\n",
       "      <td>NaN</td>\n",
       "      <td>NaN</td>\n",
       "      <td>17.0</td>\n",
       "      <td>...</td>\n",
       "      <td>2.0</td>\n",
       "      <td>9.0</td>\n",
       "      <td>9.0</td>\n",
       "      <td>6.0</td>\n",
       "      <td>3.0</td>\n",
       "      <td>9.0</td>\n",
       "      <td>2.0</td>\n",
       "      <td>5</td>\n",
       "      <td>2</td>\n",
       "      <td>3</td>\n",
       "    </tr>\n",
       "    <tr>\n",
       "      <th>3</th>\n",
       "      <td>3</td>\n",
       "      <td>910226</td>\n",
       "      <td>2</td>\n",
       "      <td>1.0</td>\n",
       "      <td>13.0</td>\n",
       "      <td>NaN</td>\n",
       "      <td>NaN</td>\n",
       "      <td>NaN</td>\n",
       "      <td>NaN</td>\n",
       "      <td>13.0</td>\n",
       "      <td>...</td>\n",
       "      <td>0.0</td>\n",
       "      <td>7.0</td>\n",
       "      <td>10.0</td>\n",
       "      <td>11.0</td>\n",
       "      <td>NaN</td>\n",
       "      <td>9.0</td>\n",
       "      <td>7.0</td>\n",
       "      <td>3</td>\n",
       "      <td>2</td>\n",
       "      <td>4</td>\n",
       "    </tr>\n",
       "    <tr>\n",
       "      <th>4</th>\n",
       "      <td>4</td>\n",
       "      <td>910241</td>\n",
       "      <td>-1</td>\n",
       "      <td>1.0</td>\n",
       "      <td>20.0</td>\n",
       "      <td>NaN</td>\n",
       "      <td>NaN</td>\n",
       "      <td>NaN</td>\n",
       "      <td>NaN</td>\n",
       "      <td>14.0</td>\n",
       "      <td>...</td>\n",
       "      <td>2.0</td>\n",
       "      <td>3.0</td>\n",
       "      <td>5.0</td>\n",
       "      <td>4.0</td>\n",
       "      <td>2.0</td>\n",
       "      <td>9.0</td>\n",
       "      <td>3.0</td>\n",
       "      <td>4</td>\n",
       "      <td>1</td>\n",
       "      <td>3</td>\n",
       "    </tr>\n",
       "  </tbody>\n",
       "</table>\n",
       "<p>5 rows × 367 columns</p>\n",
       "</div>"
      ],
      "text/plain": [
       "   Unnamed: 0     LNR  AGER_TYP  AKT_DAT_KL  ALTER_HH  ALTER_KIND1  \\\n",
       "0           0  910215        -1         NaN       NaN          NaN   \n",
       "1           1  910220        -1         9.0       0.0          NaN   \n",
       "2           2  910225        -1         9.0      17.0          NaN   \n",
       "3           3  910226         2         1.0      13.0          NaN   \n",
       "4           4  910241        -1         1.0      20.0          NaN   \n",
       "\n",
       "   ALTER_KIND2  ALTER_KIND3  ALTER_KIND4  ALTERSKATEGORIE_FEIN  ...  VHN  \\\n",
       "0          NaN          NaN          NaN                   NaN  ...  NaN   \n",
       "1          NaN          NaN          NaN                  21.0  ...  4.0   \n",
       "2          NaN          NaN          NaN                  17.0  ...  2.0   \n",
       "3          NaN          NaN          NaN                  13.0  ...  0.0   \n",
       "4          NaN          NaN          NaN                  14.0  ...  2.0   \n",
       "\n",
       "   VK_DHT4A  VK_DISTANZ  VK_ZG11  W_KEIT_KIND_HH  WOHNDAUER_2008  WOHNLAGE  \\\n",
       "0       NaN         NaN      NaN             NaN             NaN       NaN   \n",
       "1       8.0        11.0     10.0             3.0             9.0       4.0   \n",
       "2       9.0         9.0      6.0             3.0             9.0       2.0   \n",
       "3       7.0        10.0     11.0             NaN             9.0       7.0   \n",
       "4       3.0         5.0      4.0             2.0             9.0       3.0   \n",
       "\n",
       "   ZABEOTYP ANREDE_KZ ALTERSKATEGORIE_GROB  \n",
       "0         3         1                    2  \n",
       "1         5         2                    1  \n",
       "2         5         2                    3  \n",
       "3         3         2                    4  \n",
       "4         4         1                    3  \n",
       "\n",
       "[5 rows x 367 columns]"
      ]
     },
     "execution_count": 6,
     "metadata": {},
     "output_type": "execute_result"
    }
   ],
   "source": [
    "# View the data\n",
    "azdias.head()"
   ]
  },
  {
   "cell_type": "code",
   "execution_count": 7,
   "metadata": {},
   "outputs": [
    {
     "data": {
      "text/html": [
       "<div>\n",
       "<style scoped>\n",
       "    .dataframe tbody tr th:only-of-type {\n",
       "        vertical-align: middle;\n",
       "    }\n",
       "\n",
       "    .dataframe tbody tr th {\n",
       "        vertical-align: top;\n",
       "    }\n",
       "\n",
       "    .dataframe thead th {\n",
       "        text-align: right;\n",
       "    }\n",
       "</style>\n",
       "<table border=\"1\" class=\"dataframe\">\n",
       "  <thead>\n",
       "    <tr style=\"text-align: right;\">\n",
       "      <th></th>\n",
       "      <th>Unnamed: 0</th>\n",
       "      <th>LNR</th>\n",
       "      <th>AGER_TYP</th>\n",
       "      <th>AKT_DAT_KL</th>\n",
       "      <th>ALTER_HH</th>\n",
       "      <th>ALTER_KIND1</th>\n",
       "      <th>ALTER_KIND2</th>\n",
       "      <th>ALTER_KIND3</th>\n",
       "      <th>ALTER_KIND4</th>\n",
       "      <th>ALTERSKATEGORIE_FEIN</th>\n",
       "      <th>...</th>\n",
       "      <th>VHN</th>\n",
       "      <th>VK_DHT4A</th>\n",
       "      <th>VK_DISTANZ</th>\n",
       "      <th>VK_ZG11</th>\n",
       "      <th>W_KEIT_KIND_HH</th>\n",
       "      <th>WOHNDAUER_2008</th>\n",
       "      <th>WOHNLAGE</th>\n",
       "      <th>ZABEOTYP</th>\n",
       "      <th>ANREDE_KZ</th>\n",
       "      <th>ALTERSKATEGORIE_GROB</th>\n",
       "    </tr>\n",
       "  </thead>\n",
       "  <tbody>\n",
       "    <tr>\n",
       "      <th>count</th>\n",
       "      <td>891221.000000</td>\n",
       "      <td>8.912210e+05</td>\n",
       "      <td>891221.000000</td>\n",
       "      <td>817722.000000</td>\n",
       "      <td>817722.000000</td>\n",
       "      <td>81058.000000</td>\n",
       "      <td>29499.000000</td>\n",
       "      <td>6170.000000</td>\n",
       "      <td>1205.000000</td>\n",
       "      <td>628274.000000</td>\n",
       "      <td>...</td>\n",
       "      <td>770025.000000</td>\n",
       "      <td>815304.000000</td>\n",
       "      <td>815304.000000</td>\n",
       "      <td>815304.000000</td>\n",
       "      <td>783619.000000</td>\n",
       "      <td>817722.000000</td>\n",
       "      <td>798073.000000</td>\n",
       "      <td>891221.000000</td>\n",
       "      <td>891221.000000</td>\n",
       "      <td>891221.000000</td>\n",
       "    </tr>\n",
       "    <tr>\n",
       "      <th>mean</th>\n",
       "      <td>445610.000000</td>\n",
       "      <td>6.372630e+05</td>\n",
       "      <td>-0.358435</td>\n",
       "      <td>4.421928</td>\n",
       "      <td>10.864126</td>\n",
       "      <td>11.745392</td>\n",
       "      <td>13.402658</td>\n",
       "      <td>14.476013</td>\n",
       "      <td>15.089627</td>\n",
       "      <td>13.700717</td>\n",
       "      <td>...</td>\n",
       "      <td>2.417322</td>\n",
       "      <td>6.001214</td>\n",
       "      <td>7.532130</td>\n",
       "      <td>5.945972</td>\n",
       "      <td>3.933406</td>\n",
       "      <td>7.908791</td>\n",
       "      <td>4.052836</td>\n",
       "      <td>3.362438</td>\n",
       "      <td>1.522098</td>\n",
       "      <td>2.777398</td>\n",
       "    </tr>\n",
       "    <tr>\n",
       "      <th>std</th>\n",
       "      <td>257273.486465</td>\n",
       "      <td>2.572735e+05</td>\n",
       "      <td>1.198724</td>\n",
       "      <td>3.638805</td>\n",
       "      <td>7.639683</td>\n",
       "      <td>4.097660</td>\n",
       "      <td>3.243300</td>\n",
       "      <td>2.712427</td>\n",
       "      <td>2.452932</td>\n",
       "      <td>5.079849</td>\n",
       "      <td>...</td>\n",
       "      <td>1.166572</td>\n",
       "      <td>2.856091</td>\n",
       "      <td>3.247789</td>\n",
       "      <td>2.771464</td>\n",
       "      <td>1.964701</td>\n",
       "      <td>1.923137</td>\n",
       "      <td>1.949539</td>\n",
       "      <td>1.352704</td>\n",
       "      <td>0.499512</td>\n",
       "      <td>1.068775</td>\n",
       "    </tr>\n",
       "    <tr>\n",
       "      <th>min</th>\n",
       "      <td>0.000000</td>\n",
       "      <td>1.916530e+05</td>\n",
       "      <td>-1.000000</td>\n",
       "      <td>1.000000</td>\n",
       "      <td>0.000000</td>\n",
       "      <td>2.000000</td>\n",
       "      <td>2.000000</td>\n",
       "      <td>4.000000</td>\n",
       "      <td>7.000000</td>\n",
       "      <td>0.000000</td>\n",
       "      <td>...</td>\n",
       "      <td>0.000000</td>\n",
       "      <td>1.000000</td>\n",
       "      <td>1.000000</td>\n",
       "      <td>1.000000</td>\n",
       "      <td>0.000000</td>\n",
       "      <td>1.000000</td>\n",
       "      <td>0.000000</td>\n",
       "      <td>1.000000</td>\n",
       "      <td>1.000000</td>\n",
       "      <td>1.000000</td>\n",
       "    </tr>\n",
       "    <tr>\n",
       "      <th>25%</th>\n",
       "      <td>222805.000000</td>\n",
       "      <td>4.144580e+05</td>\n",
       "      <td>-1.000000</td>\n",
       "      <td>1.000000</td>\n",
       "      <td>0.000000</td>\n",
       "      <td>8.000000</td>\n",
       "      <td>11.000000</td>\n",
       "      <td>13.000000</td>\n",
       "      <td>14.000000</td>\n",
       "      <td>11.000000</td>\n",
       "      <td>...</td>\n",
       "      <td>2.000000</td>\n",
       "      <td>3.000000</td>\n",
       "      <td>5.000000</td>\n",
       "      <td>4.000000</td>\n",
       "      <td>2.000000</td>\n",
       "      <td>8.000000</td>\n",
       "      <td>3.000000</td>\n",
       "      <td>3.000000</td>\n",
       "      <td>1.000000</td>\n",
       "      <td>2.000000</td>\n",
       "    </tr>\n",
       "    <tr>\n",
       "      <th>50%</th>\n",
       "      <td>445610.000000</td>\n",
       "      <td>6.372630e+05</td>\n",
       "      <td>-1.000000</td>\n",
       "      <td>3.000000</td>\n",
       "      <td>13.000000</td>\n",
       "      <td>12.000000</td>\n",
       "      <td>14.000000</td>\n",
       "      <td>15.000000</td>\n",
       "      <td>15.000000</td>\n",
       "      <td>14.000000</td>\n",
       "      <td>...</td>\n",
       "      <td>2.000000</td>\n",
       "      <td>6.000000</td>\n",
       "      <td>8.000000</td>\n",
       "      <td>6.000000</td>\n",
       "      <td>4.000000</td>\n",
       "      <td>9.000000</td>\n",
       "      <td>3.000000</td>\n",
       "      <td>3.000000</td>\n",
       "      <td>2.000000</td>\n",
       "      <td>3.000000</td>\n",
       "    </tr>\n",
       "    <tr>\n",
       "      <th>75%</th>\n",
       "      <td>668415.000000</td>\n",
       "      <td>8.600680e+05</td>\n",
       "      <td>-1.000000</td>\n",
       "      <td>9.000000</td>\n",
       "      <td>17.000000</td>\n",
       "      <td>15.000000</td>\n",
       "      <td>16.000000</td>\n",
       "      <td>17.000000</td>\n",
       "      <td>17.000000</td>\n",
       "      <td>17.000000</td>\n",
       "      <td>...</td>\n",
       "      <td>3.000000</td>\n",
       "      <td>9.000000</td>\n",
       "      <td>10.000000</td>\n",
       "      <td>8.000000</td>\n",
       "      <td>6.000000</td>\n",
       "      <td>9.000000</td>\n",
       "      <td>5.000000</td>\n",
       "      <td>4.000000</td>\n",
       "      <td>2.000000</td>\n",
       "      <td>4.000000</td>\n",
       "    </tr>\n",
       "    <tr>\n",
       "      <th>max</th>\n",
       "      <td>891220.000000</td>\n",
       "      <td>1.082873e+06</td>\n",
       "      <td>3.000000</td>\n",
       "      <td>9.000000</td>\n",
       "      <td>21.000000</td>\n",
       "      <td>18.000000</td>\n",
       "      <td>18.000000</td>\n",
       "      <td>18.000000</td>\n",
       "      <td>18.000000</td>\n",
       "      <td>25.000000</td>\n",
       "      <td>...</td>\n",
       "      <td>4.000000</td>\n",
       "      <td>11.000000</td>\n",
       "      <td>13.000000</td>\n",
       "      <td>11.000000</td>\n",
       "      <td>6.000000</td>\n",
       "      <td>9.000000</td>\n",
       "      <td>8.000000</td>\n",
       "      <td>6.000000</td>\n",
       "      <td>2.000000</td>\n",
       "      <td>9.000000</td>\n",
       "    </tr>\n",
       "  </tbody>\n",
       "</table>\n",
       "<p>8 rows × 361 columns</p>\n",
       "</div>"
      ],
      "text/plain": [
       "          Unnamed: 0           LNR       AGER_TYP     AKT_DAT_KL  \\\n",
       "count  891221.000000  8.912210e+05  891221.000000  817722.000000   \n",
       "mean   445610.000000  6.372630e+05      -0.358435       4.421928   \n",
       "std    257273.486465  2.572735e+05       1.198724       3.638805   \n",
       "min         0.000000  1.916530e+05      -1.000000       1.000000   \n",
       "25%    222805.000000  4.144580e+05      -1.000000       1.000000   \n",
       "50%    445610.000000  6.372630e+05      -1.000000       3.000000   \n",
       "75%    668415.000000  8.600680e+05      -1.000000       9.000000   \n",
       "max    891220.000000  1.082873e+06       3.000000       9.000000   \n",
       "\n",
       "            ALTER_HH   ALTER_KIND1   ALTER_KIND2  ALTER_KIND3  ALTER_KIND4  \\\n",
       "count  817722.000000  81058.000000  29499.000000  6170.000000  1205.000000   \n",
       "mean       10.864126     11.745392     13.402658    14.476013    15.089627   \n",
       "std         7.639683      4.097660      3.243300     2.712427     2.452932   \n",
       "min         0.000000      2.000000      2.000000     4.000000     7.000000   \n",
       "25%         0.000000      8.000000     11.000000    13.000000    14.000000   \n",
       "50%        13.000000     12.000000     14.000000    15.000000    15.000000   \n",
       "75%        17.000000     15.000000     16.000000    17.000000    17.000000   \n",
       "max        21.000000     18.000000     18.000000    18.000000    18.000000   \n",
       "\n",
       "       ALTERSKATEGORIE_FEIN  ...            VHN       VK_DHT4A     VK_DISTANZ  \\\n",
       "count         628274.000000  ...  770025.000000  815304.000000  815304.000000   \n",
       "mean              13.700717  ...       2.417322       6.001214       7.532130   \n",
       "std                5.079849  ...       1.166572       2.856091       3.247789   \n",
       "min                0.000000  ...       0.000000       1.000000       1.000000   \n",
       "25%               11.000000  ...       2.000000       3.000000       5.000000   \n",
       "50%               14.000000  ...       2.000000       6.000000       8.000000   \n",
       "75%               17.000000  ...       3.000000       9.000000      10.000000   \n",
       "max               25.000000  ...       4.000000      11.000000      13.000000   \n",
       "\n",
       "             VK_ZG11  W_KEIT_KIND_HH  WOHNDAUER_2008       WOHNLAGE  \\\n",
       "count  815304.000000   783619.000000   817722.000000  798073.000000   \n",
       "mean        5.945972        3.933406        7.908791       4.052836   \n",
       "std         2.771464        1.964701        1.923137       1.949539   \n",
       "min         1.000000        0.000000        1.000000       0.000000   \n",
       "25%         4.000000        2.000000        8.000000       3.000000   \n",
       "50%         6.000000        4.000000        9.000000       3.000000   \n",
       "75%         8.000000        6.000000        9.000000       5.000000   \n",
       "max        11.000000        6.000000        9.000000       8.000000   \n",
       "\n",
       "            ZABEOTYP      ANREDE_KZ  ALTERSKATEGORIE_GROB  \n",
       "count  891221.000000  891221.000000         891221.000000  \n",
       "mean        3.362438       1.522098              2.777398  \n",
       "std         1.352704       0.499512              1.068775  \n",
       "min         1.000000       1.000000              1.000000  \n",
       "25%         3.000000       1.000000              2.000000  \n",
       "50%         3.000000       2.000000              3.000000  \n",
       "75%         4.000000       2.000000              4.000000  \n",
       "max         6.000000       2.000000              9.000000  \n",
       "\n",
       "[8 rows x 361 columns]"
      ]
     },
     "execution_count": 7,
     "metadata": {},
     "output_type": "execute_result"
    }
   ],
   "source": [
    "azdias.describe()"
   ]
  },
  {
   "cell_type": "code",
   "execution_count": 8,
   "metadata": {},
   "outputs": [
    {
     "data": {
      "text/html": [
       "<div>\n",
       "<style scoped>\n",
       "    .dataframe tbody tr th:only-of-type {\n",
       "        vertical-align: middle;\n",
       "    }\n",
       "\n",
       "    .dataframe tbody tr th {\n",
       "        vertical-align: top;\n",
       "    }\n",
       "\n",
       "    .dataframe thead th {\n",
       "        text-align: right;\n",
       "    }\n",
       "</style>\n",
       "<table border=\"1\" class=\"dataframe\">\n",
       "  <thead>\n",
       "    <tr style=\"text-align: right;\">\n",
       "      <th></th>\n",
       "      <th>Unnamed: 0</th>\n",
       "      <th>LNR</th>\n",
       "      <th>AGER_TYP</th>\n",
       "      <th>AKT_DAT_KL</th>\n",
       "      <th>ALTER_HH</th>\n",
       "      <th>ALTER_KIND1</th>\n",
       "      <th>ALTER_KIND2</th>\n",
       "      <th>ALTER_KIND3</th>\n",
       "      <th>ALTER_KIND4</th>\n",
       "      <th>ALTERSKATEGORIE_FEIN</th>\n",
       "      <th>...</th>\n",
       "      <th>VK_ZG11</th>\n",
       "      <th>W_KEIT_KIND_HH</th>\n",
       "      <th>WOHNDAUER_2008</th>\n",
       "      <th>WOHNLAGE</th>\n",
       "      <th>ZABEOTYP</th>\n",
       "      <th>PRODUCT_GROUP</th>\n",
       "      <th>CUSTOMER_GROUP</th>\n",
       "      <th>ONLINE_PURCHASE</th>\n",
       "      <th>ANREDE_KZ</th>\n",
       "      <th>ALTERSKATEGORIE_GROB</th>\n",
       "    </tr>\n",
       "  </thead>\n",
       "  <tbody>\n",
       "    <tr>\n",
       "      <th>0</th>\n",
       "      <td>0</td>\n",
       "      <td>9626</td>\n",
       "      <td>2</td>\n",
       "      <td>1.0</td>\n",
       "      <td>10.0</td>\n",
       "      <td>NaN</td>\n",
       "      <td>NaN</td>\n",
       "      <td>NaN</td>\n",
       "      <td>NaN</td>\n",
       "      <td>10.0</td>\n",
       "      <td>...</td>\n",
       "      <td>2.0</td>\n",
       "      <td>6.0</td>\n",
       "      <td>9.0</td>\n",
       "      <td>7.0</td>\n",
       "      <td>3</td>\n",
       "      <td>COSMETIC_AND_FOOD</td>\n",
       "      <td>MULTI_BUYER</td>\n",
       "      <td>0</td>\n",
       "      <td>1</td>\n",
       "      <td>4</td>\n",
       "    </tr>\n",
       "    <tr>\n",
       "      <th>1</th>\n",
       "      <td>1</td>\n",
       "      <td>9628</td>\n",
       "      <td>-1</td>\n",
       "      <td>9.0</td>\n",
       "      <td>11.0</td>\n",
       "      <td>NaN</td>\n",
       "      <td>NaN</td>\n",
       "      <td>NaN</td>\n",
       "      <td>NaN</td>\n",
       "      <td>NaN</td>\n",
       "      <td>...</td>\n",
       "      <td>3.0</td>\n",
       "      <td>0.0</td>\n",
       "      <td>9.0</td>\n",
       "      <td>NaN</td>\n",
       "      <td>3</td>\n",
       "      <td>FOOD</td>\n",
       "      <td>SINGLE_BUYER</td>\n",
       "      <td>0</td>\n",
       "      <td>1</td>\n",
       "      <td>4</td>\n",
       "    </tr>\n",
       "    <tr>\n",
       "      <th>2</th>\n",
       "      <td>2</td>\n",
       "      <td>143872</td>\n",
       "      <td>-1</td>\n",
       "      <td>1.0</td>\n",
       "      <td>6.0</td>\n",
       "      <td>NaN</td>\n",
       "      <td>NaN</td>\n",
       "      <td>NaN</td>\n",
       "      <td>NaN</td>\n",
       "      <td>0.0</td>\n",
       "      <td>...</td>\n",
       "      <td>11.0</td>\n",
       "      <td>6.0</td>\n",
       "      <td>9.0</td>\n",
       "      <td>2.0</td>\n",
       "      <td>3</td>\n",
       "      <td>COSMETIC_AND_FOOD</td>\n",
       "      <td>MULTI_BUYER</td>\n",
       "      <td>0</td>\n",
       "      <td>2</td>\n",
       "      <td>4</td>\n",
       "    </tr>\n",
       "    <tr>\n",
       "      <th>3</th>\n",
       "      <td>3</td>\n",
       "      <td>143873</td>\n",
       "      <td>1</td>\n",
       "      <td>1.0</td>\n",
       "      <td>8.0</td>\n",
       "      <td>NaN</td>\n",
       "      <td>NaN</td>\n",
       "      <td>NaN</td>\n",
       "      <td>NaN</td>\n",
       "      <td>8.0</td>\n",
       "      <td>...</td>\n",
       "      <td>2.0</td>\n",
       "      <td>NaN</td>\n",
       "      <td>9.0</td>\n",
       "      <td>7.0</td>\n",
       "      <td>1</td>\n",
       "      <td>COSMETIC</td>\n",
       "      <td>MULTI_BUYER</td>\n",
       "      <td>0</td>\n",
       "      <td>1</td>\n",
       "      <td>4</td>\n",
       "    </tr>\n",
       "    <tr>\n",
       "      <th>4</th>\n",
       "      <td>4</td>\n",
       "      <td>143874</td>\n",
       "      <td>-1</td>\n",
       "      <td>1.0</td>\n",
       "      <td>20.0</td>\n",
       "      <td>NaN</td>\n",
       "      <td>NaN</td>\n",
       "      <td>NaN</td>\n",
       "      <td>NaN</td>\n",
       "      <td>14.0</td>\n",
       "      <td>...</td>\n",
       "      <td>4.0</td>\n",
       "      <td>2.0</td>\n",
       "      <td>9.0</td>\n",
       "      <td>3.0</td>\n",
       "      <td>1</td>\n",
       "      <td>FOOD</td>\n",
       "      <td>MULTI_BUYER</td>\n",
       "      <td>0</td>\n",
       "      <td>1</td>\n",
       "      <td>3</td>\n",
       "    </tr>\n",
       "  </tbody>\n",
       "</table>\n",
       "<p>5 rows × 370 columns</p>\n",
       "</div>"
      ],
      "text/plain": [
       "   Unnamed: 0     LNR  AGER_TYP  AKT_DAT_KL  ALTER_HH  ALTER_KIND1  \\\n",
       "0           0    9626         2         1.0      10.0          NaN   \n",
       "1           1    9628        -1         9.0      11.0          NaN   \n",
       "2           2  143872        -1         1.0       6.0          NaN   \n",
       "3           3  143873         1         1.0       8.0          NaN   \n",
       "4           4  143874        -1         1.0      20.0          NaN   \n",
       "\n",
       "   ALTER_KIND2  ALTER_KIND3  ALTER_KIND4  ALTERSKATEGORIE_FEIN  ...  VK_ZG11  \\\n",
       "0          NaN          NaN          NaN                  10.0  ...      2.0   \n",
       "1          NaN          NaN          NaN                   NaN  ...      3.0   \n",
       "2          NaN          NaN          NaN                   0.0  ...     11.0   \n",
       "3          NaN          NaN          NaN                   8.0  ...      2.0   \n",
       "4          NaN          NaN          NaN                  14.0  ...      4.0   \n",
       "\n",
       "   W_KEIT_KIND_HH  WOHNDAUER_2008  WOHNLAGE  ZABEOTYP      PRODUCT_GROUP  \\\n",
       "0             6.0             9.0       7.0         3  COSMETIC_AND_FOOD   \n",
       "1             0.0             9.0       NaN         3               FOOD   \n",
       "2             6.0             9.0       2.0         3  COSMETIC_AND_FOOD   \n",
       "3             NaN             9.0       7.0         1           COSMETIC   \n",
       "4             2.0             9.0       3.0         1               FOOD   \n",
       "\n",
       "   CUSTOMER_GROUP  ONLINE_PURCHASE ANREDE_KZ ALTERSKATEGORIE_GROB  \n",
       "0     MULTI_BUYER                0         1                    4  \n",
       "1    SINGLE_BUYER                0         1                    4  \n",
       "2     MULTI_BUYER                0         2                    4  \n",
       "3     MULTI_BUYER                0         1                    4  \n",
       "4     MULTI_BUYER                0         1                    3  \n",
       "\n",
       "[5 rows x 370 columns]"
      ]
     },
     "execution_count": 8,
     "metadata": {},
     "output_type": "execute_result"
    }
   ],
   "source": [
    "customers.head()"
   ]
  },
  {
   "cell_type": "code",
   "execution_count": 9,
   "metadata": {},
   "outputs": [
    {
     "data": {
      "text/html": [
       "<div>\n",
       "<style scoped>\n",
       "    .dataframe tbody tr th:only-of-type {\n",
       "        vertical-align: middle;\n",
       "    }\n",
       "\n",
       "    .dataframe tbody tr th {\n",
       "        vertical-align: top;\n",
       "    }\n",
       "\n",
       "    .dataframe thead th {\n",
       "        text-align: right;\n",
       "    }\n",
       "</style>\n",
       "<table border=\"1\" class=\"dataframe\">\n",
       "  <thead>\n",
       "    <tr style=\"text-align: right;\">\n",
       "      <th></th>\n",
       "      <th>Unnamed: 0</th>\n",
       "      <th>LNR</th>\n",
       "      <th>AGER_TYP</th>\n",
       "      <th>AKT_DAT_KL</th>\n",
       "      <th>ALTER_HH</th>\n",
       "      <th>ALTER_KIND1</th>\n",
       "      <th>ALTER_KIND2</th>\n",
       "      <th>ALTER_KIND3</th>\n",
       "      <th>ALTER_KIND4</th>\n",
       "      <th>ALTERSKATEGORIE_FEIN</th>\n",
       "      <th>...</th>\n",
       "      <th>VK_DHT4A</th>\n",
       "      <th>VK_DISTANZ</th>\n",
       "      <th>VK_ZG11</th>\n",
       "      <th>W_KEIT_KIND_HH</th>\n",
       "      <th>WOHNDAUER_2008</th>\n",
       "      <th>WOHNLAGE</th>\n",
       "      <th>ZABEOTYP</th>\n",
       "      <th>ONLINE_PURCHASE</th>\n",
       "      <th>ANREDE_KZ</th>\n",
       "      <th>ALTERSKATEGORIE_GROB</th>\n",
       "    </tr>\n",
       "  </thead>\n",
       "  <tbody>\n",
       "    <tr>\n",
       "      <th>count</th>\n",
       "      <td>191652.000000</td>\n",
       "      <td>191652.000000</td>\n",
       "      <td>191652.000000</td>\n",
       "      <td>145056.000000</td>\n",
       "      <td>145056.000000</td>\n",
       "      <td>11766.000000</td>\n",
       "      <td>5100.000000</td>\n",
       "      <td>1275.000000</td>\n",
       "      <td>236.000000</td>\n",
       "      <td>139810.000000</td>\n",
       "      <td>...</td>\n",
       "      <td>143781.000000</td>\n",
       "      <td>143781.000000</td>\n",
       "      <td>143781.000000</td>\n",
       "      <td>137910.000000</td>\n",
       "      <td>145056.000000</td>\n",
       "      <td>141725.000000</td>\n",
       "      <td>191652.000000</td>\n",
       "      <td>191652.000000</td>\n",
       "      <td>191652.000000</td>\n",
       "      <td>191652.000000</td>\n",
       "    </tr>\n",
       "    <tr>\n",
       "      <th>mean</th>\n",
       "      <td>95825.500000</td>\n",
       "      <td>95826.500000</td>\n",
       "      <td>0.344359</td>\n",
       "      <td>1.747525</td>\n",
       "      <td>11.352009</td>\n",
       "      <td>12.337243</td>\n",
       "      <td>13.672353</td>\n",
       "      <td>14.647059</td>\n",
       "      <td>15.377119</td>\n",
       "      <td>10.331579</td>\n",
       "      <td>...</td>\n",
       "      <td>4.374417</td>\n",
       "      <td>4.564769</td>\n",
       "      <td>3.168868</td>\n",
       "      <td>4.152716</td>\n",
       "      <td>8.646371</td>\n",
       "      <td>3.723133</td>\n",
       "      <td>2.576806</td>\n",
       "      <td>0.090247</td>\n",
       "      <td>1.376432</td>\n",
       "      <td>3.060907</td>\n",
       "    </tr>\n",
       "    <tr>\n",
       "      <th>std</th>\n",
       "      <td>55325.311233</td>\n",
       "      <td>55325.311233</td>\n",
       "      <td>1.391672</td>\n",
       "      <td>1.966334</td>\n",
       "      <td>6.275026</td>\n",
       "      <td>4.006050</td>\n",
       "      <td>3.243335</td>\n",
       "      <td>2.753787</td>\n",
       "      <td>2.307653</td>\n",
       "      <td>4.134828</td>\n",
       "      <td>...</td>\n",
       "      <td>2.924355</td>\n",
       "      <td>2.887035</td>\n",
       "      <td>2.233516</td>\n",
       "      <td>1.974375</td>\n",
       "      <td>1.154001</td>\n",
       "      <td>2.095540</td>\n",
       "      <td>1.168486</td>\n",
       "      <td>0.286536</td>\n",
       "      <td>0.484492</td>\n",
       "      <td>1.086254</td>\n",
       "    </tr>\n",
       "    <tr>\n",
       "      <th>min</th>\n",
       "      <td>0.000000</td>\n",
       "      <td>1.000000</td>\n",
       "      <td>-1.000000</td>\n",
       "      <td>1.000000</td>\n",
       "      <td>0.000000</td>\n",
       "      <td>2.000000</td>\n",
       "      <td>2.000000</td>\n",
       "      <td>5.000000</td>\n",
       "      <td>8.000000</td>\n",
       "      <td>0.000000</td>\n",
       "      <td>...</td>\n",
       "      <td>1.000000</td>\n",
       "      <td>1.000000</td>\n",
       "      <td>1.000000</td>\n",
       "      <td>0.000000</td>\n",
       "      <td>1.000000</td>\n",
       "      <td>0.000000</td>\n",
       "      <td>1.000000</td>\n",
       "      <td>0.000000</td>\n",
       "      <td>1.000000</td>\n",
       "      <td>1.000000</td>\n",
       "    </tr>\n",
       "    <tr>\n",
       "      <th>25%</th>\n",
       "      <td>47912.750000</td>\n",
       "      <td>47913.750000</td>\n",
       "      <td>-1.000000</td>\n",
       "      <td>1.000000</td>\n",
       "      <td>8.000000</td>\n",
       "      <td>9.000000</td>\n",
       "      <td>11.000000</td>\n",
       "      <td>13.000000</td>\n",
       "      <td>14.000000</td>\n",
       "      <td>9.000000</td>\n",
       "      <td>...</td>\n",
       "      <td>2.000000</td>\n",
       "      <td>2.000000</td>\n",
       "      <td>1.000000</td>\n",
       "      <td>2.000000</td>\n",
       "      <td>9.000000</td>\n",
       "      <td>2.000000</td>\n",
       "      <td>1.000000</td>\n",
       "      <td>0.000000</td>\n",
       "      <td>1.000000</td>\n",
       "      <td>3.000000</td>\n",
       "    </tr>\n",
       "    <tr>\n",
       "      <th>50%</th>\n",
       "      <td>95825.500000</td>\n",
       "      <td>95826.500000</td>\n",
       "      <td>0.000000</td>\n",
       "      <td>1.000000</td>\n",
       "      <td>11.000000</td>\n",
       "      <td>13.000000</td>\n",
       "      <td>14.000000</td>\n",
       "      <td>15.000000</td>\n",
       "      <td>16.000000</td>\n",
       "      <td>10.000000</td>\n",
       "      <td>...</td>\n",
       "      <td>4.000000</td>\n",
       "      <td>4.000000</td>\n",
       "      <td>3.000000</td>\n",
       "      <td>5.000000</td>\n",
       "      <td>9.000000</td>\n",
       "      <td>3.000000</td>\n",
       "      <td>3.000000</td>\n",
       "      <td>0.000000</td>\n",
       "      <td>1.000000</td>\n",
       "      <td>3.000000</td>\n",
       "    </tr>\n",
       "    <tr>\n",
       "      <th>75%</th>\n",
       "      <td>143738.250000</td>\n",
       "      <td>143739.250000</td>\n",
       "      <td>2.000000</td>\n",
       "      <td>1.000000</td>\n",
       "      <td>16.000000</td>\n",
       "      <td>16.000000</td>\n",
       "      <td>16.000000</td>\n",
       "      <td>17.000000</td>\n",
       "      <td>17.000000</td>\n",
       "      <td>13.000000</td>\n",
       "      <td>...</td>\n",
       "      <td>7.000000</td>\n",
       "      <td>7.000000</td>\n",
       "      <td>4.000000</td>\n",
       "      <td>6.000000</td>\n",
       "      <td>9.000000</td>\n",
       "      <td>5.000000</td>\n",
       "      <td>3.000000</td>\n",
       "      <td>0.000000</td>\n",
       "      <td>2.000000</td>\n",
       "      <td>4.000000</td>\n",
       "    </tr>\n",
       "    <tr>\n",
       "      <th>max</th>\n",
       "      <td>191651.000000</td>\n",
       "      <td>191652.000000</td>\n",
       "      <td>3.000000</td>\n",
       "      <td>9.000000</td>\n",
       "      <td>21.000000</td>\n",
       "      <td>18.000000</td>\n",
       "      <td>18.000000</td>\n",
       "      <td>18.000000</td>\n",
       "      <td>18.000000</td>\n",
       "      <td>25.000000</td>\n",
       "      <td>...</td>\n",
       "      <td>11.000000</td>\n",
       "      <td>13.000000</td>\n",
       "      <td>11.000000</td>\n",
       "      <td>6.000000</td>\n",
       "      <td>9.000000</td>\n",
       "      <td>8.000000</td>\n",
       "      <td>6.000000</td>\n",
       "      <td>1.000000</td>\n",
       "      <td>2.000000</td>\n",
       "      <td>9.000000</td>\n",
       "    </tr>\n",
       "  </tbody>\n",
       "</table>\n",
       "<p>8 rows × 362 columns</p>\n",
       "</div>"
      ],
      "text/plain": [
       "          Unnamed: 0            LNR       AGER_TYP     AKT_DAT_KL  \\\n",
       "count  191652.000000  191652.000000  191652.000000  145056.000000   \n",
       "mean    95825.500000   95826.500000       0.344359       1.747525   \n",
       "std     55325.311233   55325.311233       1.391672       1.966334   \n",
       "min         0.000000       1.000000      -1.000000       1.000000   \n",
       "25%     47912.750000   47913.750000      -1.000000       1.000000   \n",
       "50%     95825.500000   95826.500000       0.000000       1.000000   \n",
       "75%    143738.250000  143739.250000       2.000000       1.000000   \n",
       "max    191651.000000  191652.000000       3.000000       9.000000   \n",
       "\n",
       "            ALTER_HH   ALTER_KIND1  ALTER_KIND2  ALTER_KIND3  ALTER_KIND4  \\\n",
       "count  145056.000000  11766.000000  5100.000000  1275.000000   236.000000   \n",
       "mean       11.352009     12.337243    13.672353    14.647059    15.377119   \n",
       "std         6.275026      4.006050     3.243335     2.753787     2.307653   \n",
       "min         0.000000      2.000000     2.000000     5.000000     8.000000   \n",
       "25%         8.000000      9.000000    11.000000    13.000000    14.000000   \n",
       "50%        11.000000     13.000000    14.000000    15.000000    16.000000   \n",
       "75%        16.000000     16.000000    16.000000    17.000000    17.000000   \n",
       "max        21.000000     18.000000    18.000000    18.000000    18.000000   \n",
       "\n",
       "       ALTERSKATEGORIE_FEIN  ...       VK_DHT4A     VK_DISTANZ        VK_ZG11  \\\n",
       "count         139810.000000  ...  143781.000000  143781.000000  143781.000000   \n",
       "mean              10.331579  ...       4.374417       4.564769       3.168868   \n",
       "std                4.134828  ...       2.924355       2.887035       2.233516   \n",
       "min                0.000000  ...       1.000000       1.000000       1.000000   \n",
       "25%                9.000000  ...       2.000000       2.000000       1.000000   \n",
       "50%               10.000000  ...       4.000000       4.000000       3.000000   \n",
       "75%               13.000000  ...       7.000000       7.000000       4.000000   \n",
       "max               25.000000  ...      11.000000      13.000000      11.000000   \n",
       "\n",
       "       W_KEIT_KIND_HH  WOHNDAUER_2008       WOHNLAGE       ZABEOTYP  \\\n",
       "count   137910.000000   145056.000000  141725.000000  191652.000000   \n",
       "mean         4.152716        8.646371       3.723133       2.576806   \n",
       "std          1.974375        1.154001       2.095540       1.168486   \n",
       "min          0.000000        1.000000       0.000000       1.000000   \n",
       "25%          2.000000        9.000000       2.000000       1.000000   \n",
       "50%          5.000000        9.000000       3.000000       3.000000   \n",
       "75%          6.000000        9.000000       5.000000       3.000000   \n",
       "max          6.000000        9.000000       8.000000       6.000000   \n",
       "\n",
       "       ONLINE_PURCHASE      ANREDE_KZ  ALTERSKATEGORIE_GROB  \n",
       "count    191652.000000  191652.000000         191652.000000  \n",
       "mean          0.090247       1.376432              3.060907  \n",
       "std           0.286536       0.484492              1.086254  \n",
       "min           0.000000       1.000000              1.000000  \n",
       "25%           0.000000       1.000000              3.000000  \n",
       "50%           0.000000       1.000000              3.000000  \n",
       "75%           0.000000       2.000000              4.000000  \n",
       "max           1.000000       2.000000              9.000000  \n",
       "\n",
       "[8 rows x 362 columns]"
      ]
     },
     "execution_count": 9,
     "metadata": {},
     "output_type": "execute_result"
    }
   ],
   "source": [
    "customers. describe()"
   ]
  },
  {
   "cell_type": "code",
   "execution_count": 10,
   "metadata": {},
   "outputs": [
    {
     "data": {
      "text/html": [
       "<div>\n",
       "<style scoped>\n",
       "    .dataframe tbody tr th:only-of-type {\n",
       "        vertical-align: middle;\n",
       "    }\n",
       "\n",
       "    .dataframe tbody tr th {\n",
       "        vertical-align: top;\n",
       "    }\n",
       "\n",
       "    .dataframe thead th {\n",
       "        text-align: right;\n",
       "    }\n",
       "</style>\n",
       "<table border=\"1\" class=\"dataframe\">\n",
       "  <thead>\n",
       "    <tr style=\"text-align: right;\">\n",
       "      <th></th>\n",
       "      <th>Unnamed: 0</th>\n",
       "      <th>Attribute</th>\n",
       "      <th>Description</th>\n",
       "      <th>Value</th>\n",
       "      <th>Meaning</th>\n",
       "    </tr>\n",
       "  </thead>\n",
       "  <tbody>\n",
       "    <tr>\n",
       "      <th>0</th>\n",
       "      <td>NaN</td>\n",
       "      <td>AGER_TYP</td>\n",
       "      <td>best-ager typology</td>\n",
       "      <td>-1</td>\n",
       "      <td>unknown</td>\n",
       "    </tr>\n",
       "    <tr>\n",
       "      <th>1</th>\n",
       "      <td>NaN</td>\n",
       "      <td>NaN</td>\n",
       "      <td>NaN</td>\n",
       "      <td>0</td>\n",
       "      <td>no classification possible</td>\n",
       "    </tr>\n",
       "    <tr>\n",
       "      <th>2</th>\n",
       "      <td>NaN</td>\n",
       "      <td>NaN</td>\n",
       "      <td>NaN</td>\n",
       "      <td>1</td>\n",
       "      <td>passive elderly</td>\n",
       "    </tr>\n",
       "    <tr>\n",
       "      <th>3</th>\n",
       "      <td>NaN</td>\n",
       "      <td>NaN</td>\n",
       "      <td>NaN</td>\n",
       "      <td>2</td>\n",
       "      <td>cultural elderly</td>\n",
       "    </tr>\n",
       "    <tr>\n",
       "      <th>4</th>\n",
       "      <td>NaN</td>\n",
       "      <td>NaN</td>\n",
       "      <td>NaN</td>\n",
       "      <td>3</td>\n",
       "      <td>experience-driven elderly</td>\n",
       "    </tr>\n",
       "    <tr>\n",
       "      <th>5</th>\n",
       "      <td>NaN</td>\n",
       "      <td>ALTERSKATEGORIE_GROB</td>\n",
       "      <td>age classification through prename analysis</td>\n",
       "      <td>-1, 0</td>\n",
       "      <td>unknown</td>\n",
       "    </tr>\n",
       "    <tr>\n",
       "      <th>6</th>\n",
       "      <td>NaN</td>\n",
       "      <td>NaN</td>\n",
       "      <td>NaN</td>\n",
       "      <td>1</td>\n",
       "      <td>&lt; 30 years</td>\n",
       "    </tr>\n",
       "    <tr>\n",
       "      <th>7</th>\n",
       "      <td>NaN</td>\n",
       "      <td>NaN</td>\n",
       "      <td>NaN</td>\n",
       "      <td>2</td>\n",
       "      <td>30 - 45 years</td>\n",
       "    </tr>\n",
       "    <tr>\n",
       "      <th>8</th>\n",
       "      <td>NaN</td>\n",
       "      <td>NaN</td>\n",
       "      <td>NaN</td>\n",
       "      <td>3</td>\n",
       "      <td>46 - 60 years</td>\n",
       "    </tr>\n",
       "    <tr>\n",
       "      <th>9</th>\n",
       "      <td>NaN</td>\n",
       "      <td>NaN</td>\n",
       "      <td>NaN</td>\n",
       "      <td>4</td>\n",
       "      <td>&gt; 60 years</td>\n",
       "    </tr>\n",
       "  </tbody>\n",
       "</table>\n",
       "</div>"
      ],
      "text/plain": [
       "   Unnamed: 0             Attribute  \\\n",
       "0         NaN              AGER_TYP   \n",
       "1         NaN                   NaN   \n",
       "2         NaN                   NaN   \n",
       "3         NaN                   NaN   \n",
       "4         NaN                   NaN   \n",
       "5         NaN  ALTERSKATEGORIE_GROB   \n",
       "6         NaN                   NaN   \n",
       "7         NaN                   NaN   \n",
       "8         NaN                   NaN   \n",
       "9         NaN                   NaN   \n",
       "\n",
       "                                    Description  Value  \\\n",
       "0                            best-ager typology     -1   \n",
       "1                                           NaN      0   \n",
       "2                                           NaN      1   \n",
       "3                                           NaN      2   \n",
       "4                                           NaN      3   \n",
       "5  age classification through prename analysis   -1, 0   \n",
       "6                                           NaN      1   \n",
       "7                                           NaN      2   \n",
       "8                                           NaN      3   \n",
       "9                                           NaN      4   \n",
       "\n",
       "                      Meaning  \n",
       "0                     unknown  \n",
       "1  no classification possible  \n",
       "2             passive elderly  \n",
       "3            cultural elderly  \n",
       "4   experience-driven elderly  \n",
       "5                     unknown  \n",
       "6                  < 30 years  \n",
       "7               30 - 45 years  \n",
       "8               46 - 60 years  \n",
       "9                  > 60 years  "
      ]
     },
     "execution_count": 10,
     "metadata": {},
     "output_type": "execute_result"
    }
   ],
   "source": [
    "attributes_info.head(10)"
   ]
  },
  {
   "cell_type": "code",
   "execution_count": 11,
   "metadata": {},
   "outputs": [],
   "source": [
    "def drop_unnamed_cols(df):\n",
    "    \"\"\"\n",
    "    drop the Unnamed columns columns in the data\n",
    "\n",
    "    \"\"\"\n",
    "    df.drop(columns=['Unnamed: 0'], inplace=True)\n",
    "    return df"
   ]
  },
  {
   "cell_type": "code",
   "execution_count": 12,
   "metadata": {},
   "outputs": [
    {
     "data": {
      "text/html": [
       "<div>\n",
       "<style scoped>\n",
       "    .dataframe tbody tr th:only-of-type {\n",
       "        vertical-align: middle;\n",
       "    }\n",
       "\n",
       "    .dataframe tbody tr th {\n",
       "        vertical-align: top;\n",
       "    }\n",
       "\n",
       "    .dataframe thead th {\n",
       "        text-align: right;\n",
       "    }\n",
       "</style>\n",
       "<table border=\"1\" class=\"dataframe\">\n",
       "  <thead>\n",
       "    <tr style=\"text-align: right;\">\n",
       "      <th></th>\n",
       "      <th>Information level</th>\n",
       "      <th>Attribute</th>\n",
       "      <th>Description</th>\n",
       "      <th>Additional notes</th>\n",
       "    </tr>\n",
       "  </thead>\n",
       "  <tbody>\n",
       "    <tr>\n",
       "      <th>0</th>\n",
       "      <td>NaN</td>\n",
       "      <td>AGER_TYP</td>\n",
       "      <td>best-ager typology</td>\n",
       "      <td>in cooperation with Kantar TNS; the informatio...</td>\n",
       "    </tr>\n",
       "    <tr>\n",
       "      <th>1</th>\n",
       "      <td>Person</td>\n",
       "      <td>ALTERSKATEGORIE_GROB</td>\n",
       "      <td>age through prename analysis</td>\n",
       "      <td>modelled on millions of first name-age-referen...</td>\n",
       "    </tr>\n",
       "    <tr>\n",
       "      <th>2</th>\n",
       "      <td>NaN</td>\n",
       "      <td>ANREDE_KZ</td>\n",
       "      <td>gender</td>\n",
       "      <td>NaN</td>\n",
       "    </tr>\n",
       "    <tr>\n",
       "      <th>3</th>\n",
       "      <td>NaN</td>\n",
       "      <td>CJT_GESAMTTYP</td>\n",
       "      <td>Customer-Journey-Typology relating to the pref...</td>\n",
       "      <td>relating to the preferred information, marketi...</td>\n",
       "    </tr>\n",
       "    <tr>\n",
       "      <th>4</th>\n",
       "      <td>NaN</td>\n",
       "      <td>FINANZ_MINIMALIST</td>\n",
       "      <td>financial typology: low financial interest</td>\n",
       "      <td>Gfk-Typology based on a representative househo...</td>\n",
       "    </tr>\n",
       "    <tr>\n",
       "      <th>...</th>\n",
       "      <td>...</td>\n",
       "      <td>...</td>\n",
       "      <td>...</td>\n",
       "      <td>...</td>\n",
       "    </tr>\n",
       "    <tr>\n",
       "      <th>308</th>\n",
       "      <td>Community</td>\n",
       "      <td>ARBEIT</td>\n",
       "      <td>share of unemployed person in the community</td>\n",
       "      <td>NaN</td>\n",
       "    </tr>\n",
       "    <tr>\n",
       "      <th>309</th>\n",
       "      <td>NaN</td>\n",
       "      <td>EINWOHNER</td>\n",
       "      <td>inhabitants</td>\n",
       "      <td>NaN</td>\n",
       "    </tr>\n",
       "    <tr>\n",
       "      <th>310</th>\n",
       "      <td>NaN</td>\n",
       "      <td>GKZ</td>\n",
       "      <td>standardized community-code</td>\n",
       "      <td>NaN</td>\n",
       "    </tr>\n",
       "    <tr>\n",
       "      <th>311</th>\n",
       "      <td>NaN</td>\n",
       "      <td>ORTSGR_KLS9</td>\n",
       "      <td>classified number of inhabitants</td>\n",
       "      <td>NaN</td>\n",
       "    </tr>\n",
       "    <tr>\n",
       "      <th>312</th>\n",
       "      <td>NaN</td>\n",
       "      <td>RELAT_AB</td>\n",
       "      <td>share of unemployed in relation to the county ...</td>\n",
       "      <td>NaN</td>\n",
       "    </tr>\n",
       "  </tbody>\n",
       "</table>\n",
       "<p>313 rows × 4 columns</p>\n",
       "</div>"
      ],
      "text/plain": [
       "    Information level             Attribute  \\\n",
       "0                 NaN              AGER_TYP   \n",
       "1              Person  ALTERSKATEGORIE_GROB   \n",
       "2                 NaN             ANREDE_KZ   \n",
       "3                 NaN         CJT_GESAMTTYP   \n",
       "4                 NaN     FINANZ_MINIMALIST   \n",
       "..                ...                   ...   \n",
       "308         Community                ARBEIT   \n",
       "309               NaN             EINWOHNER   \n",
       "310               NaN                   GKZ   \n",
       "311               NaN           ORTSGR_KLS9   \n",
       "312               NaN              RELAT_AB   \n",
       "\n",
       "                                           Description  \\\n",
       "0                                   best-ager typology   \n",
       "1                        age through prename analysis    \n",
       "2                                               gender   \n",
       "3    Customer-Journey-Typology relating to the pref...   \n",
       "4           financial typology: low financial interest   \n",
       "..                                                 ...   \n",
       "308        share of unemployed person in the community   \n",
       "309                                        inhabitants   \n",
       "310                        standardized community-code   \n",
       "311                   classified number of inhabitants   \n",
       "312  share of unemployed in relation to the county ...   \n",
       "\n",
       "                                      Additional notes  \n",
       "0    in cooperation with Kantar TNS; the informatio...  \n",
       "1    modelled on millions of first name-age-referen...  \n",
       "2                                                  NaN  \n",
       "3    relating to the preferred information, marketi...  \n",
       "4    Gfk-Typology based on a representative househo...  \n",
       "..                                                 ...  \n",
       "308                                                NaN  \n",
       "309                                                NaN  \n",
       "310                                                NaN  \n",
       "311                                                NaN  \n",
       "312                                                NaN  \n",
       "\n",
       "[313 rows x 4 columns]"
      ]
     },
     "execution_count": 12,
     "metadata": {},
     "output_type": "execute_result"
    }
   ],
   "source": [
    "# drop the unnamed columns\n",
    "drop_unnamed_cols(azdias)\n",
    "drop_unnamed_cols(customers)\n",
    "drop_unnamed_cols(attributes_info)\n",
    "drop_unnamed_cols(attributes_des)"
   ]
  },
  {
   "cell_type": "code",
   "execution_count": 13,
   "metadata": {},
   "outputs": [
    {
     "data": {
      "text/html": [
       "<div>\n",
       "<style scoped>\n",
       "    .dataframe tbody tr th:only-of-type {\n",
       "        vertical-align: middle;\n",
       "    }\n",
       "\n",
       "    .dataframe tbody tr th {\n",
       "        vertical-align: top;\n",
       "    }\n",
       "\n",
       "    .dataframe thead th {\n",
       "        text-align: right;\n",
       "    }\n",
       "</style>\n",
       "<table border=\"1\" class=\"dataframe\">\n",
       "  <thead>\n",
       "    <tr style=\"text-align: right;\">\n",
       "      <th></th>\n",
       "      <th>Attribute</th>\n",
       "      <th>Description</th>\n",
       "      <th>Value</th>\n",
       "      <th>Meaning</th>\n",
       "    </tr>\n",
       "  </thead>\n",
       "  <tbody>\n",
       "    <tr>\n",
       "      <th>0</th>\n",
       "      <td>AGER_TYP</td>\n",
       "      <td>best-ager typology</td>\n",
       "      <td>-1</td>\n",
       "      <td>unknown</td>\n",
       "    </tr>\n",
       "    <tr>\n",
       "      <th>1</th>\n",
       "      <td>AGER_TYP</td>\n",
       "      <td>NaN</td>\n",
       "      <td>0</td>\n",
       "      <td>no classification possible</td>\n",
       "    </tr>\n",
       "    <tr>\n",
       "      <th>2</th>\n",
       "      <td>AGER_TYP</td>\n",
       "      <td>NaN</td>\n",
       "      <td>1</td>\n",
       "      <td>passive elderly</td>\n",
       "    </tr>\n",
       "    <tr>\n",
       "      <th>3</th>\n",
       "      <td>AGER_TYP</td>\n",
       "      <td>NaN</td>\n",
       "      <td>2</td>\n",
       "      <td>cultural elderly</td>\n",
       "    </tr>\n",
       "    <tr>\n",
       "      <th>4</th>\n",
       "      <td>AGER_TYP</td>\n",
       "      <td>NaN</td>\n",
       "      <td>3</td>\n",
       "      <td>experience-driven elderly</td>\n",
       "    </tr>\n",
       "    <tr>\n",
       "      <th>5</th>\n",
       "      <td>ALTERSKATEGORIE_GROB</td>\n",
       "      <td>age classification through prename analysis</td>\n",
       "      <td>-1, 0</td>\n",
       "      <td>unknown</td>\n",
       "    </tr>\n",
       "    <tr>\n",
       "      <th>6</th>\n",
       "      <td>ALTERSKATEGORIE_GROB</td>\n",
       "      <td>NaN</td>\n",
       "      <td>1</td>\n",
       "      <td>&lt; 30 years</td>\n",
       "    </tr>\n",
       "    <tr>\n",
       "      <th>7</th>\n",
       "      <td>ALTERSKATEGORIE_GROB</td>\n",
       "      <td>NaN</td>\n",
       "      <td>2</td>\n",
       "      <td>30 - 45 years</td>\n",
       "    </tr>\n",
       "    <tr>\n",
       "      <th>8</th>\n",
       "      <td>ALTERSKATEGORIE_GROB</td>\n",
       "      <td>NaN</td>\n",
       "      <td>3</td>\n",
       "      <td>46 - 60 years</td>\n",
       "    </tr>\n",
       "    <tr>\n",
       "      <th>9</th>\n",
       "      <td>ALTERSKATEGORIE_GROB</td>\n",
       "      <td>NaN</td>\n",
       "      <td>4</td>\n",
       "      <td>&gt; 60 years</td>\n",
       "    </tr>\n",
       "  </tbody>\n",
       "</table>\n",
       "</div>"
      ],
      "text/plain": [
       "              Attribute                                   Description  Value  \\\n",
       "0              AGER_TYP                            best-ager typology     -1   \n",
       "1              AGER_TYP                                           NaN      0   \n",
       "2              AGER_TYP                                           NaN      1   \n",
       "3              AGER_TYP                                           NaN      2   \n",
       "4              AGER_TYP                                           NaN      3   \n",
       "5  ALTERSKATEGORIE_GROB  age classification through prename analysis   -1, 0   \n",
       "6  ALTERSKATEGORIE_GROB                                           NaN      1   \n",
       "7  ALTERSKATEGORIE_GROB                                           NaN      2   \n",
       "8  ALTERSKATEGORIE_GROB                                           NaN      3   \n",
       "9  ALTERSKATEGORIE_GROB                                           NaN      4   \n",
       "\n",
       "                      Meaning  \n",
       "0                     unknown  \n",
       "1  no classification possible  \n",
       "2             passive elderly  \n",
       "3            cultural elderly  \n",
       "4   experience-driven elderly  \n",
       "5                     unknown  \n",
       "6                  < 30 years  \n",
       "7               30 - 45 years  \n",
       "8               46 - 60 years  \n",
       "9                  > 60 years  "
      ]
     },
     "execution_count": 13,
     "metadata": {},
     "output_type": "execute_result"
    }
   ],
   "source": [
    "# Fill in the null values in the attribute column\n",
    "attributes_info[\"Attribute\"] = attributes_info[\"Attribute\"].ffill()\n",
    "attributes_info.head(10)"
   ]
  },
  {
   "cell_type": "markdown",
   "metadata": {},
   "source": [
    "## Data Preprocesing "
   ]
  },
  {
   "cell_type": "markdown",
   "metadata": {},
   "source": [
    "#### Address mixed type column"
   ]
  },
  {
   "cell_type": "code",
   "execution_count": 11,
   "metadata": {},
   "outputs": [
    {
     "data": {
      "text/plain": [
       "Index(['CAMEO_DEUG_2015', 'CAMEO_INTL_2015'], dtype='object')"
      ]
     },
     "execution_count": 11,
     "metadata": {},
     "output_type": "execute_result"
    }
   ],
   "source": [
    "azdias.columns[18:20]"
   ]
  },
  {
   "cell_type": "code",
   "execution_count": 12,
   "metadata": {},
   "outputs": [
    {
     "data": {
      "text/plain": [
       "Index(['CAMEO_DEUG_2015', 'CAMEO_INTL_2015'], dtype='object')"
      ]
     },
     "execution_count": 12,
     "metadata": {},
     "output_type": "execute_result"
    }
   ],
   "source": [
    "customers.columns[18:20]"
   ]
  },
  {
   "cell_type": "code",
   "execution_count": 13,
   "metadata": {},
   "outputs": [
    {
     "data": {
      "text/plain": [
       "array([nan, 51.0, 24.0, 12.0, 43.0, 54.0, 22.0, 14.0, 13.0, 15.0, 33.0,\n",
       "       41.0, 34.0, 55.0, 25.0, 23.0, 31.0, 52.0, 35.0, 45.0, 44.0, 32.0,\n",
       "       '22', '24', '41', '12', '54', '51', '44', '35', '23', '25', '14',\n",
       "       '34', '52', '55', '31', '32', '15', '13', '43', '33', '45', 'XX'],\n",
       "      dtype=object)"
      ]
     },
     "execution_count": 13,
     "metadata": {},
     "output_type": "execute_result"
    }
   ],
   "source": [
    "azdias['CAMEO_INTL_2015'].unique()"
   ]
  },
  {
   "cell_type": "code",
   "execution_count": 14,
   "metadata": {},
   "outputs": [
    {
     "data": {
      "text/html": [
       "<div>\n",
       "<style scoped>\n",
       "    .dataframe tbody tr th:only-of-type {\n",
       "        vertical-align: middle;\n",
       "    }\n",
       "\n",
       "    .dataframe tbody tr th {\n",
       "        vertical-align: top;\n",
       "    }\n",
       "\n",
       "    .dataframe thead th {\n",
       "        text-align: right;\n",
       "    }\n",
       "</style>\n",
       "<table border=\"1\" class=\"dataframe\">\n",
       "  <thead>\n",
       "    <tr style=\"text-align: right;\">\n",
       "      <th></th>\n",
       "      <th>Attribute</th>\n",
       "      <th>Description</th>\n",
       "      <th>Value</th>\n",
       "      <th>Meaning</th>\n",
       "    </tr>\n",
       "  </thead>\n",
       "  <tbody>\n",
       "    <tr>\n",
       "      <th>51</th>\n",
       "      <td>CAMEO_DEUG_2015</td>\n",
       "      <td>CAMEO classification 2015 - Uppergroup</td>\n",
       "      <td>-1</td>\n",
       "      <td>unknown</td>\n",
       "    </tr>\n",
       "    <tr>\n",
       "      <th>52</th>\n",
       "      <td>CAMEO_DEUG_2015</td>\n",
       "      <td>NaN</td>\n",
       "      <td>1</td>\n",
       "      <td>upper class</td>\n",
       "    </tr>\n",
       "    <tr>\n",
       "      <th>53</th>\n",
       "      <td>CAMEO_DEUG_2015</td>\n",
       "      <td>NaN</td>\n",
       "      <td>2</td>\n",
       "      <td>upper middleclass</td>\n",
       "    </tr>\n",
       "    <tr>\n",
       "      <th>54</th>\n",
       "      <td>CAMEO_DEUG_2015</td>\n",
       "      <td>NaN</td>\n",
       "      <td>3</td>\n",
       "      <td>established middleclasse</td>\n",
       "    </tr>\n",
       "    <tr>\n",
       "      <th>55</th>\n",
       "      <td>CAMEO_DEUG_2015</td>\n",
       "      <td>NaN</td>\n",
       "      <td>4</td>\n",
       "      <td>consumption-oriented middleclass</td>\n",
       "    </tr>\n",
       "    <tr>\n",
       "      <th>56</th>\n",
       "      <td>CAMEO_DEUG_2015</td>\n",
       "      <td>NaN</td>\n",
       "      <td>5</td>\n",
       "      <td>active middleclass</td>\n",
       "    </tr>\n",
       "    <tr>\n",
       "      <th>57</th>\n",
       "      <td>CAMEO_DEUG_2015</td>\n",
       "      <td>NaN</td>\n",
       "      <td>6</td>\n",
       "      <td>low-consumption middleclass</td>\n",
       "    </tr>\n",
       "    <tr>\n",
       "      <th>58</th>\n",
       "      <td>CAMEO_DEUG_2015</td>\n",
       "      <td>NaN</td>\n",
       "      <td>7</td>\n",
       "      <td>lower middleclass</td>\n",
       "    </tr>\n",
       "    <tr>\n",
       "      <th>59</th>\n",
       "      <td>CAMEO_DEUG_2015</td>\n",
       "      <td>NaN</td>\n",
       "      <td>8</td>\n",
       "      <td>working class</td>\n",
       "    </tr>\n",
       "    <tr>\n",
       "      <th>60</th>\n",
       "      <td>CAMEO_DEUG_2015</td>\n",
       "      <td>NaN</td>\n",
       "      <td>9</td>\n",
       "      <td>urban working class</td>\n",
       "    </tr>\n",
       "  </tbody>\n",
       "</table>\n",
       "</div>"
      ],
      "text/plain": [
       "          Attribute                             Description Value  \\\n",
       "51  CAMEO_DEUG_2015  CAMEO classification 2015 - Uppergroup    -1   \n",
       "52  CAMEO_DEUG_2015                                     NaN     1   \n",
       "53  CAMEO_DEUG_2015                                     NaN     2   \n",
       "54  CAMEO_DEUG_2015                                     NaN     3   \n",
       "55  CAMEO_DEUG_2015                                     NaN     4   \n",
       "56  CAMEO_DEUG_2015                                     NaN     5   \n",
       "57  CAMEO_DEUG_2015                                     NaN     6   \n",
       "58  CAMEO_DEUG_2015                                     NaN     7   \n",
       "59  CAMEO_DEUG_2015                                     NaN     8   \n",
       "60  CAMEO_DEUG_2015                                     NaN     9   \n",
       "\n",
       "                              Meaning  \n",
       "51                            unknown  \n",
       "52                        upper class  \n",
       "53                  upper middleclass  \n",
       "54           established middleclasse  \n",
       "55  consumption-oriented middleclass   \n",
       "56                active middleclass   \n",
       "57        low-consumption middleclass  \n",
       "58                  lower middleclass  \n",
       "59                      working class  \n",
       "60                urban working class  "
      ]
     },
     "execution_count": 14,
     "metadata": {},
     "output_type": "execute_result"
    }
   ],
   "source": [
    "attributes_info[attributes_info[\"Attribute\"] == \"CAMEO_DEUG_2015\"]"
   ]
  },
  {
   "cell_type": "code",
   "execution_count": null,
   "metadata": {},
   "outputs": [],
   "source": [
    "# Replace the X and XX with nan\n",
    "azdias[['CAMEO_DEUG_2015','CAMEO_INTL_2015','CAMEO_DEU_2015']]=azdias[['CAMEO_DEUG_2015','CAMEO_INTL_2015','CAMEO_DEU_2015']].replace(['X','XX'],-1)\n",
    "azdias[['CAMEO_DEUG_2015','CAMEO_INTL_2015']]=azdias[['CAMEO_DEUG_2015','CAMEO_INTL_2015']].apply(pd.to_numeric)\n",
    "\n",
    "customers[['CAMEO_DEUG_2015','CAMEO_INTL_2015','CAMEO_DEU_2015']]=customers[['CAMEO_DEUG_2015','CAMEO_INTL_2015','CAMEO_DEU_2015']].replace(['X','XX'],-1)\n",
    "customers[['CAMEO_DEUG_2015','CAMEO_INTL_2015']]=customers[['CAMEO_DEUG_2015','CAMEO_INTL_2015']].apply(pd.to_numeric)"
   ]
  },
  {
   "cell_type": "markdown",
   "metadata": {},
   "source": [
    "##### Look at the extra columnns in customers"
   ]
  },
  {
   "cell_type": "code",
   "execution_count": null,
   "metadata": {},
   "outputs": [],
   "source": [
    "customers['PRODUCT_GROUP'].unique()"
   ]
  },
  {
   "cell_type": "code",
   "execution_count": null,
   "metadata": {},
   "outputs": [],
   "source": [
    "customers['ONLINE_PURCHASE'].describe()"
   ]
  },
  {
   "cell_type": "code",
   "execution_count": null,
   "metadata": {},
   "outputs": [],
   "source": [
    "customers['CUSTOMER_GROUP'].unique()"
   ]
  },
  {
   "cell_type": "code",
   "execution_count": null,
   "metadata": {},
   "outputs": [],
   "source": [
    "# Drop the additional columns\n",
    "customers.drop(['PRODUCT_GROUP', 'ONLINE_PURCHASE', 'CUSTOMER_GROUP'],axis=1,inplace=True)"
   ]
  },
  {
   "cell_type": "code",
   "execution_count": 19,
   "metadata": {},
   "outputs": [
    {
     "name": "stdout",
     "output_type": "stream",
     "text": [
      "(891221, 310)\n",
      "(191652, 310)\n"
     ]
    }
   ],
   "source": [
    "print(azdias.shape)\n",
    "print(customers.shape)"
   ]
  },
  {
   "cell_type": "markdown",
   "metadata": {},
   "source": [
    "### Looking at the missing values"
   ]
  },
  {
   "cell_type": "code",
   "execution_count": 15,
   "metadata": {},
   "outputs": [
    {
     "name": "stdout",
     "output_type": "stream",
     "text": [
      "                attribute                                 missing_or_unknown\n",
      "0                AGER_TYP                                   [-1, 0, 1, 2, 3]\n",
      "1    ALTERSKATEGORIE_GROB                            [-1,  0, 1, 2, 3, 4, 9]\n",
      "2                ALTER_HH  [0, 1, 2, 3, 4, 5, 6, 7, 8, 9, 10, 11, 12, 13,...\n",
      "3               ANREDE_KZ                                     [-1,  0, 1, 2]\n",
      "4     ANZ_HAUSHALTE_AKTIV                                                […]\n",
      "..                    ...                                                ...\n",
      "309        WOHNDAUER_2008                [-1,  0, 1, 2, 3, 4, 5, 6, 7, 8, 9]\n",
      "310              WOHNLAGE                       [-1, 0, 1, 2, 3, 4, 5, 7, 8]\n",
      "311    WACHSTUMSGEBIET_NB                            [-1,  0, 1, 2, 3, 4, 5]\n",
      "312        W_KEIT_KIND_HH                         [-1,  0, 1, 2, 3, 4, 5, 6]\n",
      "313              ZABEOTYP                         [-1,  9, 1, 2, 3, 4, 5, 6]\n",
      "\n",
      "[314 rows x 2 columns]\n"
     ]
    }
   ],
   "source": [
    "# Attributes with missing or unknown\n",
    "unknowns = []\n",
    "for attribute in attributes_info['Attribute'].unique():\n",
    "    _ = attributes_info.loc[attributes_info['Attribute'] == attribute, 'Value'].astype(str).str.cat(sep=',')\n",
    "    _ = _.split(',')\n",
    "    unknowns.append(_)\n",
    "    \n",
    "unknowns = pd.concat([pd.Series(attributes_info['Attribute'].unique()), pd.Series(unknowns)], axis=1)\n",
    "unknowns.columns = ['attribute', 'missing_or_unknown']\n",
    "print(unknowns)"
   ]
  },
  {
   "cell_type": "code",
   "execution_count": 16,
   "metadata": {},
   "outputs": [
    {
     "data": {
      "text/html": [
       "<div>\n",
       "<style scoped>\n",
       "    .dataframe tbody tr th:only-of-type {\n",
       "        vertical-align: middle;\n",
       "    }\n",
       "\n",
       "    .dataframe tbody tr th {\n",
       "        vertical-align: top;\n",
       "    }\n",
       "\n",
       "    .dataframe thead th {\n",
       "        text-align: right;\n",
       "    }\n",
       "</style>\n",
       "<table border=\"1\" class=\"dataframe\">\n",
       "  <thead>\n",
       "    <tr style=\"text-align: right;\">\n",
       "      <th></th>\n",
       "      <th>column</th>\n",
       "      <th>azdias_nan</th>\n",
       "      <th>azdiaz_nan_percent</th>\n",
       "      <th>customers_nan</th>\n",
       "      <th>customer_nan_percent</th>\n",
       "    </tr>\n",
       "  </thead>\n",
       "  <tbody>\n",
       "    <tr>\n",
       "      <th>7</th>\n",
       "      <td>ALTER_KIND4</td>\n",
       "      <td>890016</td>\n",
       "      <td>99.864792</td>\n",
       "      <td>191416</td>\n",
       "      <td>99.876860</td>\n",
       "    </tr>\n",
       "    <tr>\n",
       "      <th>6</th>\n",
       "      <td>ALTER_KIND3</td>\n",
       "      <td>885051</td>\n",
       "      <td>99.307691</td>\n",
       "      <td>190377</td>\n",
       "      <td>99.334732</td>\n",
       "    </tr>\n",
       "    <tr>\n",
       "      <th>5</th>\n",
       "      <td>ALTER_KIND2</td>\n",
       "      <td>861722</td>\n",
       "      <td>96.690047</td>\n",
       "      <td>186552</td>\n",
       "      <td>97.338927</td>\n",
       "    </tr>\n",
       "    <tr>\n",
       "      <th>4</th>\n",
       "      <td>ALTER_KIND1</td>\n",
       "      <td>810163</td>\n",
       "      <td>90.904837</td>\n",
       "      <td>179886</td>\n",
       "      <td>93.860748</td>\n",
       "    </tr>\n",
       "    <tr>\n",
       "      <th>100</th>\n",
       "      <td>EXTSEL992</td>\n",
       "      <td>654153</td>\n",
       "      <td>73.399639</td>\n",
       "      <td>85283</td>\n",
       "      <td>44.498883</td>\n",
       "    </tr>\n",
       "    <tr>\n",
       "      <th>...</th>\n",
       "      <td>...</td>\n",
       "      <td>...</td>\n",
       "      <td>...</td>\n",
       "      <td>...</td>\n",
       "      <td>...</td>\n",
       "    </tr>\n",
       "    <tr>\n",
       "      <th>346</th>\n",
       "      <td>SHOPPER_TYP</td>\n",
       "      <td>0</td>\n",
       "      <td>0.000000</td>\n",
       "      <td>0</td>\n",
       "      <td>0.000000</td>\n",
       "    </tr>\n",
       "    <tr>\n",
       "      <th>354</th>\n",
       "      <td>VERS_TYP</td>\n",
       "      <td>0</td>\n",
       "      <td>0.000000</td>\n",
       "      <td>0</td>\n",
       "      <td>0.000000</td>\n",
       "    </tr>\n",
       "    <tr>\n",
       "      <th>363</th>\n",
       "      <td>ZABEOTYP</td>\n",
       "      <td>0</td>\n",
       "      <td>0.000000</td>\n",
       "      <td>0</td>\n",
       "      <td>0.000000</td>\n",
       "    </tr>\n",
       "    <tr>\n",
       "      <th>364</th>\n",
       "      <td>ANREDE_KZ</td>\n",
       "      <td>0</td>\n",
       "      <td>0.000000</td>\n",
       "      <td>0</td>\n",
       "      <td>0.000000</td>\n",
       "    </tr>\n",
       "    <tr>\n",
       "      <th>365</th>\n",
       "      <td>ALTERSKATEGORIE_GROB</td>\n",
       "      <td>0</td>\n",
       "      <td>0.000000</td>\n",
       "      <td>0</td>\n",
       "      <td>0.000000</td>\n",
       "    </tr>\n",
       "  </tbody>\n",
       "</table>\n",
       "<p>366 rows × 5 columns</p>\n",
       "</div>"
      ],
      "text/plain": [
       "                   column  azdias_nan  azdiaz_nan_percent  customers_nan  \\\n",
       "7             ALTER_KIND4      890016           99.864792         191416   \n",
       "6             ALTER_KIND3      885051           99.307691         190377   \n",
       "5             ALTER_KIND2      861722           96.690047         186552   \n",
       "4             ALTER_KIND1      810163           90.904837         179886   \n",
       "100             EXTSEL992      654153           73.399639          85283   \n",
       "..                    ...         ...                 ...            ...   \n",
       "346           SHOPPER_TYP           0            0.000000              0   \n",
       "354              VERS_TYP           0            0.000000              0   \n",
       "363              ZABEOTYP           0            0.000000              0   \n",
       "364             ANREDE_KZ           0            0.000000              0   \n",
       "365  ALTERSKATEGORIE_GROB           0            0.000000              0   \n",
       "\n",
       "     customer_nan_percent  \n",
       "7               99.876860  \n",
       "6               99.334732  \n",
       "5               97.338927  \n",
       "4               93.860748  \n",
       "100             44.498883  \n",
       "..                    ...  \n",
       "346              0.000000  \n",
       "354              0.000000  \n",
       "363              0.000000  \n",
       "364              0.000000  \n",
       "365              0.000000  \n",
       "\n",
       "[366 rows x 5 columns]"
      ]
     },
     "execution_count": 16,
     "metadata": {},
     "output_type": "execute_result"
    }
   ],
   "source": [
    "# creating a dataframe to get count/percentage of missing values in azdias and customers\n",
    "azdias_nan=pd.DataFrame(azdias.isna().sum(axis=0)).reset_index()\n",
    "azdias_nan.columns=['column','azdias_nan']\n",
    "azdias_nan['azdiaz_nan_percent']=(azdias_nan['azdias_nan']/len(azdias))*100\n",
    "\n",
    "customers_nan=pd.DataFrame(customers.isna().sum(axis=0)).reset_index()\n",
    "customers_nan.columns=['column','customers_nan']\n",
    "customers_nan['customer_nan_percent']=(customers_nan['customers_nan']/len(customers))*100\n",
    "missing_values=pd.merge(azdias_nan, customers_nan, on='column')\n",
    "missing_values=missing_values.sort_values(by=['azdias_nan','customers_nan'],ascending=[False,False])\n",
    "missing_values"
   ]
  },
  {
   "cell_type": "code",
   "execution_count": 17,
   "metadata": {},
   "outputs": [
    {
     "data": {
      "image/png": "[encoded data removed]",
      "text/plain": [
       "<Figure size 1440x576 with 1 Axes>"
      ]
     },
     "metadata": {
      "needs_background": "light"
     },
     "output_type": "display_data"
    }
   ],
   "source": [
    "plt.figure(figsize=(20,8))\n",
    "# set width of bar\n",
    "barWidth = 0.25\n",
    "# set height of bar\n",
    "bars1 = missing_values['azdiaz_nan_percent'][:10]\n",
    "bars2 = missing_values['customer_nan_percent'][:10]\n",
    "label=missing_values['column'][:10]\n",
    "# Set position of bar on X axis\n",
    "r1 = np.arange(len(bars1))\n",
    "r2 = [x + barWidth for x in r1]\n",
    " \n",
    "# Make the plot\n",
    "plt.bar(r1, bars1, width=barWidth, edgecolor='white')\n",
    "plt.bar(r2, bars2, width=barWidth, edgecolor='white')\n",
    "\n",
    " \n",
    "# Add xticks on the middle of the group bars\n",
    "plt.xlabel('Features')\n",
    "plt.ylabel('Percentage')\n",
    "plt.xticks([r + barWidth/2 for r in range(len(bars1))], label,rotation=90)\n",
    " \n",
    "# Create legend & Show graphic\n",
    "plt.title('Top 10 Features with most missing values')\n",
    "plt.legend(['azdiaz_nan_percent','customer_nan_percent'],prop={'size': 12})\n",
    "plt.show()"
   ]
  },
  {
   "cell_type": "code",
   "execution_count": 18,
   "metadata": {},
   "outputs": [
    {
     "data": {
      "text/plain": [
       "['ALTER_KIND4', 'ALTER_KIND3', 'ALTER_KIND2', 'ALTER_KIND1']"
      ]
     },
     "execution_count": 18,
     "metadata": {},
     "output_type": "execute_result"
    }
   ],
   "source": [
    "# we will drop the columns with highest missing value\n",
    "# Only the first variable has more than 60% missing value\n",
    "drop_cols=list(label[:4])\n",
    "drop_cols"
   ]
  },
  {
   "cell_type": "markdown",
   "metadata": {},
   "source": [
    "#### Check categorical variables"
   ]
  },
  {
   "cell_type": "code",
   "execution_count": 19,
   "metadata": {},
   "outputs": [
    {
     "name": "stdout",
     "output_type": "stream",
     "text": [
      "Length of Numeric columns 360\n",
      "Length of categorical columns 6\n",
      "Categorial columns are {'D19_LETZTER_KAUF_BRANCHE', 'EINGEFUEGT_AM', 'OST_WEST_KZ', 'CAMEO_INTL_2015', 'CAMEO_DEU_2015', 'CAMEO_DEUG_2015'}\n"
     ]
    }
   ],
   "source": [
    "# Getting all numeric columns and categorical columns\n",
    "Numeric_columns=azdias.select_dtypes(include=np.number).columns.tolist()\n",
    "categorical_col=set(azdias.columns).difference(set(Numeric_columns))\n",
    "print(\"Length of Numeric columns\",len(Numeric_columns))\n",
    "print(\"Length of categorical columns\",len(categorical_col))\n",
    "print(\"Categorial columns are\",categorical_col)"
   ]
  },
  {
   "cell_type": "code",
   "execution_count": 20,
   "metadata": {},
   "outputs": [],
   "source": [
    "# convert variables to numeric types\n",
    "azdias[Numeric_columns] = azdias[Numeric_columns].apply(pd.to_numeric)\n",
    "customers[Numeric_columns] = customers[Numeric_columns].apply(pd.to_numeric)"
   ]
  },
  {
   "cell_type": "code",
   "execution_count": 21,
   "metadata": {},
   "outputs": [
    {
     "data": {
      "text/plain": [
       "{'D19_LETZTER_KAUF_BRANCHE': array(['D19_UNBEKANNT', 'D19_SCHUHE', 'D19_ENERGIE', 'D19_KOSMETIK',\n",
       "        'D19_VOLLSORTIMENT', 'D19_SONSTIGE', 'D19_BANKEN_GROSS',\n",
       "        'D19_DROGERIEARTIKEL', 'D19_HANDWERK', 'D19_BUCH_CD',\n",
       "        'D19_VERSICHERUNGEN', 'D19_VERSAND_REST', 'D19_TELKO_REST',\n",
       "        'D19_BANKEN_DIREKT', 'D19_BANKEN_REST', 'D19_FREIZEIT',\n",
       "        'D19_LEBENSMITTEL', 'D19_HAUS_DEKO', 'D19_BEKLEIDUNG_REST',\n",
       "        'D19_SAMMELARTIKEL', 'D19_TELKO_MOBILE', 'D19_REISEN',\n",
       "        'D19_BEKLEIDUNG_GEH', 'D19_TECHNIK', 'D19_NAHRUNGSERGAENZUNG',\n",
       "        'D19_DIGIT_SERV', 'D19_LOTTO', 'D19_RATGEBER', 'D19_TIERARTIKEL',\n",
       "        'D19_KINDERARTIKEL', 'D19_BIO_OEKO', 'D19_WEIN_FEINKOST',\n",
       "        'D19_GARTEN', 'D19_BILDUNG', 'D19_BANKEN_LOKAL'], dtype=object),\n",
       " 'EINGEFUEGT_AM': array(['1992-02-10 00:00:00', '1992-02-12 00:00:00',\n",
       "        '1997-04-21 00:00:00', ..., '2010-12-02 00:00:00',\n",
       "        '2005-03-19 00:00:00', '2011-11-18 00:00:00'], dtype=object),\n",
       " 'OST_WEST_KZ': array(['W', 'O'], dtype=object),\n",
       " 'CAMEO_INTL_2015': array([51.0, 24.0, 12.0, 43.0, 54.0, 22.0, 14.0, 13.0, 15.0, 33.0, 41.0,\n",
       "        34.0, 55.0, 25.0, 23.0, 31.0, 52.0, 35.0, 45.0, 44.0, 32.0, '22',\n",
       "        '24', '41', '12', '54', '51', '44', '35', '23', '25', '14', '34',\n",
       "        '52', '55', '31', '32', '15', '13', '43', '33', '45', 'XX'],\n",
       "       dtype=object),\n",
       " 'CAMEO_DEU_2015': array(['8A', '4C', '2A', '6B', '8C', '4A', '2D', '1A', '1E', '9D', '5C',\n",
       "        '8B', '7A', '5D', '9E', '9B', '1B', '3D', '4E', '4B', '3C', '5A',\n",
       "        '7B', '9A', '6D', '6E', '2C', '7C', '9C', '7D', '5E', '1D', '8D',\n",
       "        '6C', '6A', '5B', '4D', '3A', '2B', '7E', '3B', '6F', '5F', '1C',\n",
       "        'XX'], dtype=object),\n",
       " 'CAMEO_DEUG_2015': array([8.0, 4.0, 2.0, 6.0, 1.0, 9.0, 5.0, 7.0, 3.0, '4', '3', '7', '2',\n",
       "        '8', '9', '6', '5', '1', 'X'], dtype=object)}"
      ]
     },
     "execution_count": 21,
     "metadata": {},
     "output_type": "execute_result"
    }
   ],
   "source": [
    "# Further analysis of categorical columns\n",
    "category={}\n",
    "def categorical_check():\n",
    "    '''\n",
    "    return a list of unique categorical variables \n",
    "    \n",
    "    '''\n",
    "    for i in categorical_col:\n",
    "        category[i]=azdias[i].dropna().unique()\n",
    "    return category\n",
    "categorical_check()"
   ]
  },
  {
   "cell_type": "markdown",
   "metadata": {},
   "source": [
    "- 'EINGEFUEGT_AM' is time data\n",
    "- 'CAMEO_INTL_2015', 'CAMEO_DEU_2015' and 'CAMEO_DEUG_2015' have XX and X as values"
   ]
  },
  {
   "cell_type": "code",
   "execution_count": 22,
   "metadata": {},
   "outputs": [],
   "source": [
    "# After further analysis, these variables will be dropped\n",
    "azdias=azdias.drop('D19_LETZTER_KAUF_BRANCHE',axis=1)\n",
    "customers=customers.drop('D19_LETZTER_KAUF_BRANCHE',axis=1)\n",
    "\n",
    "azdias=azdias.drop('EINGEFUEGT_AM',axis=1)\n",
    "customers=customers.drop('EINGEFUEGT_AM',axis=1)"
   ]
  },
  {
   "cell_type": "markdown",
   "metadata": {},
   "source": [
    "#### Further analysis of missing values"
   ]
  },
  {
   "cell_type": "code",
   "execution_count": 24,
   "metadata": {},
   "outputs": [
    {
     "data": {
      "text/plain": [
       "unknown                            232\n",
       "average                            162\n",
       "low                                154\n",
       "high                               154\n",
       "very high                          142\n",
       "very low                           139\n",
       "none                               138\n",
       "Multibuyer 0-12 months              34\n",
       "no transaction known                34\n",
       "Prospects > 24 months               34\n",
       "Singlebuyer 13-24 months            34\n",
       "Doublebuyer 0-12 months             34\n",
       "Singlebuyer 0-12 months             34\n",
       "Buyer > 24 months                   34\n",
       "Multi-/Doublebuyer 13-24 months     34\n",
       "no transactions known               22\n",
       "highest affinity                    14\n",
       "low affinity                        14\n",
       "lowest affinity                     14\n",
       "very high affinity                  14\n",
       "Name: Meaning, dtype: int64"
      ]
     },
     "execution_count": 24,
     "metadata": {},
     "output_type": "execute_result"
    }
   ],
   "source": [
    "# Let's have a closer look at 'Meaning' column in attribute values\n",
    "attributes_info['Meaning'].value_counts()[:20]"
   ]
  },
  {
   "cell_type": "markdown",
   "metadata": {},
   "source": [
    "we have lots of unknown value in our dataset"
   ]
  },
  {
   "cell_type": "code",
   "execution_count": 25,
   "metadata": {},
   "outputs": [
    {
     "data": {
      "text/html": [
       "<div>\n",
       "<style scoped>\n",
       "    .dataframe tbody tr th:only-of-type {\n",
       "        vertical-align: middle;\n",
       "    }\n",
       "\n",
       "    .dataframe tbody tr th {\n",
       "        vertical-align: top;\n",
       "    }\n",
       "\n",
       "    .dataframe thead th {\n",
       "        text-align: right;\n",
       "    }\n",
       "</style>\n",
       "<table border=\"1\" class=\"dataframe\">\n",
       "  <thead>\n",
       "    <tr style=\"text-align: right;\">\n",
       "      <th></th>\n",
       "      <th>Attribute</th>\n",
       "      <th>Description</th>\n",
       "      <th>Value</th>\n",
       "      <th>Meaning</th>\n",
       "    </tr>\n",
       "  </thead>\n",
       "  <tbody>\n",
       "    <tr>\n",
       "      <th>0</th>\n",
       "      <td>AGER_TYP</td>\n",
       "      <td>best-ager typology</td>\n",
       "      <td>-1</td>\n",
       "      <td>unknown</td>\n",
       "    </tr>\n",
       "    <tr>\n",
       "      <th>5</th>\n",
       "      <td>ALTERSKATEGORIE_GROB</td>\n",
       "      <td>age classification through prename analysis</td>\n",
       "      <td>-1, 0</td>\n",
       "      <td>unknown</td>\n",
       "    </tr>\n",
       "    <tr>\n",
       "      <th>33</th>\n",
       "      <td>ANREDE_KZ</td>\n",
       "      <td>gender</td>\n",
       "      <td>-1, 0</td>\n",
       "      <td>unknown</td>\n",
       "    </tr>\n",
       "    <tr>\n",
       "      <th>40</th>\n",
       "      <td>BALLRAUM</td>\n",
       "      <td>distance to next urban centre</td>\n",
       "      <td>-1</td>\n",
       "      <td>unknown</td>\n",
       "    </tr>\n",
       "    <tr>\n",
       "      <th>48</th>\n",
       "      <td>BIP_FLAG</td>\n",
       "      <td>business-flag indicating companies in the buil...</td>\n",
       "      <td>-1</td>\n",
       "      <td>unknown</td>\n",
       "    </tr>\n",
       "    <tr>\n",
       "      <th>...</th>\n",
       "      <td>...</td>\n",
       "      <td>...</td>\n",
       "      <td>...</td>\n",
       "      <td>...</td>\n",
       "    </tr>\n",
       "    <tr>\n",
       "      <th>2219</th>\n",
       "      <td>WOHNDAUER_2008</td>\n",
       "      <td>length of residence</td>\n",
       "      <td>-1, 0</td>\n",
       "      <td>unknown</td>\n",
       "    </tr>\n",
       "    <tr>\n",
       "      <th>2229</th>\n",
       "      <td>WOHNLAGE</td>\n",
       "      <td>residential-area</td>\n",
       "      <td>-1</td>\n",
       "      <td>unknown</td>\n",
       "    </tr>\n",
       "    <tr>\n",
       "      <th>2238</th>\n",
       "      <td>WACHSTUMSGEBIET_NB</td>\n",
       "      <td>growing area (population growth in the last 5 ...</td>\n",
       "      <td>-1, 0</td>\n",
       "      <td>unknown</td>\n",
       "    </tr>\n",
       "    <tr>\n",
       "      <th>2244</th>\n",
       "      <td>W_KEIT_KIND_HH</td>\n",
       "      <td>likelihood of a child present in this household</td>\n",
       "      <td>-1, 0</td>\n",
       "      <td>unknown</td>\n",
       "    </tr>\n",
       "    <tr>\n",
       "      <th>2251</th>\n",
       "      <td>ZABEOTYP</td>\n",
       "      <td>typification of energy consumers</td>\n",
       "      <td>-1, 9</td>\n",
       "      <td>unknown</td>\n",
       "    </tr>\n",
       "  </tbody>\n",
       "</table>\n",
       "<p>232 rows × 4 columns</p>\n",
       "</div>"
      ],
      "text/plain": [
       "                 Attribute                                        Description  \\\n",
       "0                 AGER_TYP                                 best-ager typology   \n",
       "5     ALTERSKATEGORIE_GROB       age classification through prename analysis    \n",
       "33               ANREDE_KZ                                             gender   \n",
       "40                BALLRAUM                     distance to next urban centre    \n",
       "48                BIP_FLAG  business-flag indicating companies in the buil...   \n",
       "...                    ...                                                ...   \n",
       "2219        WOHNDAUER_2008                                length of residence   \n",
       "2229              WOHNLAGE                                  residential-area    \n",
       "2238    WACHSTUMSGEBIET_NB  growing area (population growth in the last 5 ...   \n",
       "2244        W_KEIT_KIND_HH    likelihood of a child present in this household   \n",
       "2251              ZABEOTYP                   typification of energy consumers   \n",
       "\n",
       "      Value  Meaning  \n",
       "0        -1  unknown  \n",
       "5     -1, 0  unknown  \n",
       "33    -1, 0  unknown  \n",
       "40       -1  unknown  \n",
       "48       -1  unknown  \n",
       "...     ...      ...  \n",
       "2219  -1, 0  unknown  \n",
       "2229     -1  unknown  \n",
       "2238  -1, 0  unknown  \n",
       "2244  -1, 0  unknown  \n",
       "2251  -1, 9  unknown  \n",
       "\n",
       "[232 rows x 4 columns]"
      ]
     },
     "execution_count": 25,
     "metadata": {},
     "output_type": "execute_result"
    }
   ],
   "source": [
    "# Investigate the unknown values\n",
    "unknown_attributes_info = attributes_info[attributes_info[\"Meaning\"] == \"unknown\"]\n",
    "unknown_attributes_info"
   ]
  },
  {
   "cell_type": "markdown",
   "metadata": {},
   "source": [
    "The unknown values are not consistent throughtout the dataset\n",
    "- Some are represented as (-1,0) or (-1,9) or just -1. \n",
    "- We need to fix this and make the data consistent."
   ]
  },
  {
   "cell_type": "code",
   "execution_count": 26,
   "metadata": {},
   "outputs": [],
   "source": [
    "# Make data consistent\n",
    "fix_unknown1=list(set(list(attributes_info[attributes_info['Value']=='-1, 0']['Attribute'])).intersection(set(azdias.columns)))\n",
    "fix_unknown9=list(set(list(attributes_info[attributes_info['Value']=='-1, 9']['Attribute'])).intersection(set(azdias.columns)))"
   ]
  },
  {
   "cell_type": "code",
   "execution_count": 27,
   "metadata": {},
   "outputs": [
    {
     "name": "stdout",
     "output_type": "stream",
     "text": [
      "['KKK', 'KBA05_GBZ', 'PRAEGENDE_JUGENDJAHRE', 'TITEL_KZ', 'HH_EINKOMMEN_SCORE', 'ANREDE_KZ', 'REGIOTYP', 'WOHNDAUER_2008', 'W_KEIT_KIND_HH', 'KBA05_BAUMAX', 'GEBAEUDETYP', 'NATIONALITAET_KZ', 'ALTERSKATEGORIE_GROB']\n"
     ]
    }
   ],
   "source": [
    "print(fix_unknown1)"
   ]
  },
  {
   "cell_type": "code",
   "execution_count": 28,
   "metadata": {},
   "outputs": [
    {
     "name": "stdout",
     "output_type": "stream",
     "text": [
      "['KBA05_ALTER1', 'KBA05_HERST2', 'SEMIO_FAM', 'KBA05_KRSAQUOT', 'KBA05_MOD1', 'KBA05_HERST1', 'SEMIO_MAT', 'SEMIO_TRADV', 'KBA05_AUTOQUOT', 'KBA05_MAXHERST', 'KBA05_DIESEL', 'KBA05_KRSOBER', 'KBA05_ZUL3', 'SEMIO_KAEM', 'SEMIO_VERT', 'KBA05_CCM3', 'KBA05_ALTER4', 'SEMIO_REL', 'KBA05_KW3', 'KBA05_SEG3', 'KBA05_HERST4', 'KBA05_ZUL4', 'KBA05_MAXAH', 'KBA05_KRSHERST3', 'KBA05_KRSHERST1', 'SEMIO_PFLICHT', 'KBA05_KRSVAN', 'KBA05_MOTRAD', 'KBA05_HERST5', 'KBA05_ANHANG', 'KBA05_ZUL1', 'KBA05_CCM2', 'SEMIO_RAT', 'KBA05_VORB0', 'KBA05_ALTER2', 'KBA05_SEG4', 'KBA05_MAXBJ', 'KBA05_MOD8', 'KBA05_KRSKLEIN', 'KBA05_SEG9', 'SEMIO_ERL', 'SEMIO_KRIT', 'KBA05_SEG5', 'KBA05_KW2', 'KBA05_SEG7', 'KBA05_MAXSEG', 'KBA05_HERSTTEMP', 'KBA05_ALTER3', 'KBA05_KRSHERST2', 'KBA05_KW1', 'KBA05_SEG10', 'KBA05_MOD2', 'KBA05_SEG2', 'KBA05_SEG8', 'KBA05_VORB1', 'KBA05_MOTOR', 'KBA05_KRSZUL', 'SEMIO_SOZ', 'RELAT_AB', 'KBA05_MAXVORB', 'KBA05_FRAU', 'KBA05_MOD4', 'SEMIO_DOM', 'KBA05_HERST3', 'KBA05_MOD3', 'KBA05_SEG6', 'SEMIO_LUST', 'KBA05_ZUL2', 'KBA05_CCM1', 'KBA05_MODTEMP', 'ZABEOTYP', 'KBA05_SEG1', 'SEMIO_KULT', 'KBA05_CCM4', 'KBA05_VORB2']\n"
     ]
    }
   ],
   "source": [
    "print(fix_unknown9)"
   ]
  },
  {
   "cell_type": "code",
   "execution_count": 29,
   "metadata": {},
   "outputs": [],
   "source": [
    "azdias[fix_unknown1]=azdias[fix_unknown1].replace(0,-1)\n",
    "azdias[fix_unknown9]=azdias[fix_unknown9].replace(9,-1)"
   ]
  },
  {
   "cell_type": "code",
   "execution_count": 30,
   "metadata": {},
   "outputs": [],
   "source": [
    "customers[fix_unknown1]=customers[fix_unknown1].replace(0,-1)\n",
    "customers[fix_unknown9]=customers[fix_unknown9].replace(9,-1)"
   ]
  },
  {
   "cell_type": "markdown",
   "metadata": {},
   "source": [
    "#### Missing value in rows and columns"
   ]
  },
  {
   "cell_type": "code",
   "execution_count": 31,
   "metadata": {},
   "outputs": [],
   "source": [
    "# Remove rows with most missing values\n",
    "azdias=azdias[azdias.isnull().sum(axis=1)<=20]\n",
    "\n",
    "customers=customers[customers.isnull().sum(axis=1)<=20]"
   ]
  },
  {
   "cell_type": "code",
   "execution_count": 33,
   "metadata": {},
   "outputs": [],
   "source": [
    "# Dropping columns with most missing values\n",
    "azdias=azdias.drop(drop_cols,axis=1)\n",
    "\n",
    "customers=customers.drop(drop_cols,axis=1)"
   ]
  },
  {
   "cell_type": "markdown",
   "metadata": {},
   "source": [
    "### Drop Correlated features above threshold of 75%\n"
   ]
  },
  {
   "cell_type": "code",
   "execution_count": null,
   "metadata": {},
   "outputs": [],
   "source": [
    "# find correlation matrix and drop variables with greater than 75% correlation  \n",
    "corr_matrix = azdias.corr().abs()\n",
    "upper_limit = corr_matrix.where(np.triu(np.ones(corr_matrix.shape), k=1).astype(np.bool))\n",
    "# identify columns to drop based on threshold limit\n",
    "drop_columns = [column for column in upper_limit.columns if any(upper_limit[column] > .75)]"
   ]
  },
  {
   "cell_type": "code",
   "execution_count": null,
   "metadata": {},
   "outputs": [],
   "source": [
    "azdias.drop(drop_columns,axis=1,inplace=True)"
   ]
  },
  {
   "cell_type": "code",
   "execution_count": null,
   "metadata": {},
   "outputs": [],
   "source": [
    "customers.drop(drop_columns,axis=1,inplace=True)"
   ]
  },
  {
   "cell_type": "markdown",
   "metadata": {},
   "source": [
    "### Imputing missing values\n",
    "Find and relace nan values witht the mode"
   ]
  },
  {
   "cell_type": "code",
   "execution_count": 35,
   "metadata": {},
   "outputs": [
    {
     "name": "stdout",
     "output_type": "stream",
     "text": [
      "2664489\n",
      "131091\n"
     ]
    }
   ],
   "source": [
    "print(azdias.isna().sum().sum())\n",
    "print(customers.isna().sum().sum())"
   ]
  },
  {
   "cell_type": "code",
   "execution_count": 36,
   "metadata": {},
   "outputs": [
    {
     "data": {
      "text/plain": [
       "Text(0.5, 0, 'Percent of missing values')"
      ]
     },
     "execution_count": 36,
     "metadata": {},
     "output_type": "execute_result"
    },
    {
     "data": {
      "image/png": "[encoded data removed]",
      "text/plain": [
       "<Figure size 432x288 with 1 Axes>"
      ]
     },
     "metadata": {
      "needs_background": "light"
     },
     "output_type": "display_data"
    }
   ],
   "source": [
    "#looking for nans in columns\n",
    "column_nans = azdias.isnull().mean()\n",
    "plt.hist(column_nans, bins = np.arange(0,1+.05,.05))\n",
    "plt.ylabel('features')\n",
    "plt.xlabel('Percent of missing values')"
   ]
  },
  {
   "cell_type": "code",
   "execution_count": 37,
   "metadata": {},
   "outputs": [],
   "source": [
    "azdias=azdias.fillna(azdias.mode().iloc[0])\n",
    "customers=customers.fillna(customers.mode().iloc[0])"
   ]
  },
  {
   "cell_type": "code",
   "execution_count": 38,
   "metadata": {},
   "outputs": [
    {
     "name": "stdout",
     "output_type": "stream",
     "text": [
      "0\n",
      "0\n"
     ]
    }
   ],
   "source": [
    "print(azdias.isna().sum().sum())\n",
    "print(customers.isna().sum().sum())"
   ]
  },
  {
   "cell_type": "code",
   "execution_count": 39,
   "metadata": {},
   "outputs": [
    {
     "name": "stdout",
     "output_type": "stream",
     "text": [
      "(745305, 360)\n",
      "(132095, 363)\n"
     ]
    }
   ],
   "source": [
    "print(azdias.shape)\n",
    "print(customers.shape)"
   ]
  },
  {
   "cell_type": "markdown",
   "metadata": {},
   "source": [
    "### One-hot encoding categorical variables"
   ]
  },
  {
   "cell_type": "code",
   "execution_count": 40,
   "metadata": {},
   "outputs": [
    {
     "name": "stdout",
     "output_type": "stream",
     "text": [
      "Length of Numeric columns in azdias 358\n",
      "Length of categorical columns in azdias 2\n",
      "Categorial columns in azdias are {'OST_WEST_KZ', 'CAMEO_DEU_2015'}\n"
     ]
    }
   ],
   "source": [
    "# Getting all numeric columns and categorical columns\n",
    "Numeric_columns=azdias.select_dtypes(include=np.number).columns.tolist()\n",
    "categorical_col=set(azdias.columns).difference(set(Numeric_columns))\n",
    "print(\"Length of Numeric columns in azdias\",len(Numeric_columns))\n",
    "print(\"Length of categorical columns in azdias\",len(categorical_col))\n",
    "print(\"Categorial columns in azdias are\",categorical_col)"
   ]
  },
  {
   "cell_type": "code",
   "execution_count": 42,
   "metadata": {},
   "outputs": [
    {
     "name": "stdout",
     "output_type": "stream",
     "text": [
      "Length of Numeric columns in customers 359\n",
      "Length of categorical columns in customers 4\n",
      "Categorial columns in customers are {'PRODUCT_GROUP', 'OST_WEST_KZ', 'CAMEO_DEU_2015', 'CUSTOMER_GROUP'}\n"
     ]
    }
   ],
   "source": [
    "# Getting all numeric columns and categorical columns\n",
    "Numeric_columns=customers.select_dtypes(include=np.number).columns.tolist()\n",
    "categorical_col=set(customers.columns).difference(set(Numeric_columns))\n",
    "print(\"Length of Numeric columns in customers\",len(Numeric_columns))\n",
    "print(\"Length of categorical columns in customers\",len(categorical_col))\n",
    "print(\"Categorial columns in customers are\",categorical_col)"
   ]
  },
  {
   "cell_type": "code",
   "execution_count": 43,
   "metadata": {},
   "outputs": [],
   "source": [
    "azdias=pd.get_dummies(azdias)\n",
    "customers=pd.get_dummies(customers)"
   ]
  },
  {
   "cell_type": "code",
   "execution_count": 44,
   "metadata": {},
   "outputs": [
    {
     "name": "stdout",
     "output_type": "stream",
     "text": [
      "(745305, 405)\n",
      "(132095, 411)\n"
     ]
    }
   ],
   "source": [
    "print(azdias.shape)\n",
    "print(customers.shape)"
   ]
  },
  {
   "cell_type": "markdown",
   "metadata": {},
   "source": [
    "### Standardize the data"
   ]
  },
  {
   "cell_type": "code",
   "execution_count": 45,
   "metadata": {},
   "outputs": [],
   "source": [
    "scaler = StandardScaler()\n",
    "azdias[azdias.columns] = scaler.fit_transform(azdias)\n",
    "customers[customers.columns] = scaler.fit_transform(customers)"
   ]
  },
  {
   "cell_type": "markdown",
   "metadata": {},
   "source": [
    "## Complete data preprocessing"
   ]
  },
  {
   "cell_type": "code",
   "execution_count": null,
   "metadata": {},
   "outputs": [],
   "source": [
    "azdias = pd.read_csv('Udacity_AZDIAS_reduce_mem_052018.csv')\n",
    "customers = pd.read_csv('Udacity_CUSTOMERS_reduce_mem_052018.csv')\n",
    "def drop_unnamed_cols(df):\n",
    "    \"\"\"\n",
    "    drop the Unnamed columns in the data\n",
    "\n",
    "    \"\"\"\n",
    "    df.drop(columns=['Unnamed: 0'], inplace=True)\n",
    "    return df\n",
    "\n",
    "fix_unknown1 = ['KKK', 'KBA05_GBZ', 'PRAEGENDE_JUGENDJAHRE', 'TITEL_KZ', 'HH_EINKOMMEN_SCORE', 'ANREDE_KZ', 'REGIOTYP', \n",
    "                'WOHNDAUER_2008', 'W_KEIT_KIND_HH', 'KBA05_BAUMAX', 'GEBAEUDETYP', 'NATIONALITAET_KZ', 'ALTERSKATEGORIE_GROB']\n",
    "\n",
    "fix_unknown9 =['KBA05_ALTER1', 'KBA05_HERST2', 'SEMIO_FAM', 'KBA05_KRSAQUOT', 'KBA05_MOD1', 'KBA05_HERST1', 'SEMIO_MAT', \n",
    "                'SEMIO_TRADV', 'KBA05_AUTOQUOT', 'KBA05_MAXHERST', 'KBA05_DIESEL', 'KBA05_KRSOBER', 'KBA05_ZUL3', 'SEMIO_KAEM',\n",
    "               'SEMIO_VERT', 'KBA05_CCM3', 'KBA05_ALTER4', 'SEMIO_REL', 'KBA05_KW3', 'KBA05_SEG3', 'KBA05_HERST4', \n",
    "               'KBA05_ZUL4', 'KBA05_MAXAH', 'KBA05_KRSHERST3', 'KBA05_KRSHERST1', 'SEMIO_PFLICHT', 'KBA05_KRSVAN', \n",
    "               'KBA05_MOTRAD', 'KBA05_HERST5', 'KBA05_ANHANG', 'KBA05_ZUL1', 'KBA05_CCM2', 'SEMIO_RAT', 'KBA05_VORB0', \n",
    "               'KBA05_ALTER2', 'KBA05_SEG4', 'KBA05_MAXBJ', 'KBA05_MOD8', 'KBA05_KRSKLEIN', 'KBA05_SEG9', 'SEMIO_ERL', \n",
    "               'SEMIO_KRIT', 'KBA05_SEG5', 'KBA05_KW2', 'KBA05_SEG7', 'KBA05_MAXSEG', 'KBA05_HERSTTEMP', 'KBA05_ALTER3', \n",
    "               'KBA05_KRSHERST2', 'KBA05_KW1', 'KBA05_SEG10', 'KBA05_MOD2', 'KBA05_SEG2', 'KBA05_SEG8', 'KBA05_VORB1', \n",
    "               'KBA05_MOTOR', 'KBA05_KRSZUL', 'SEMIO_SOZ', 'RELAT_AB', 'KBA05_MAXVORB', 'KBA05_FRAU', 'KBA05_MOD4', \n",
    "               'SEMIO_DOM', 'KBA05_HERST3', 'KBA05_MOD3', 'KBA05_SEG6', 'SEMIO_LUST', 'KBA05_ZUL2', 'KBA05_CCM1', \n",
    "               'KBA05_MODTEMP', 'ZABEOTYP', 'KBA05_SEG1', 'SEMIO_KULT', 'KBA05_CCM4', 'KBA05_VORB2']\n",
    "\n",
    "from sklearn.preprocessing import StandardScaler\n",
    "def data_cleaning(df,name=None):\n",
    "    '''\n",
    "    Function take data as uinput and pre_processed the data \n",
    "    Output is cleaned data\n",
    "    \n",
    "    '''\n",
    "#     drop_unnamed_cols(df)\n",
    "    print(\"Shape before\",df.shape)\n",
    "    if name=='customers':\n",
    "        df=df.drop(['PRODUCT_GROUP','CUSTOMER_GROUP','ONLINE_PURCHASE'],axis=1)\n",
    "    \n",
    "    if name=='azdias':\n",
    "        df=df[df.isnull().sum(axis=1)<=20].reset_index(drop=True)\n",
    "        \n",
    "    # finding numeric and categorical columns\n",
    "    Numeric_columns=df.select_dtypes(include=np.number).columns.tolist()\n",
    "    categorical_col=set(df.columns).difference(set(Numeric_columns))\n",
    "    \n",
    "    # numeric cols to numeric\n",
    "    print(categorical_col)\n",
    "    df[Numeric_columns]=df[Numeric_columns].apply(pd.to_numeric)\n",
    "    \n",
    "    # drop columns to avoid lot of columns\n",
    "    df=df.drop('D19_LETZTER_KAUF_BRANCHE',axis=1)\n",
    "    df=df.drop('EINGEFUEGT_AM',axis=1)\n",
    "    df=df.drop(['ALTER_KIND4', 'ALTER_KIND3', 'ALTER_KIND2', 'ALTER_KIND1'],axis=1)\n",
    "\n",
    "    \n",
    "    df[['CAMEO_DEUG_2015','CAMEO_INTL_2015','CAMEO_DEU_2015']]=df[['CAMEO_DEUG_2015','CAMEO_INTL_2015','CAMEO_DEU_2015']].replace(['X','XX'],-1)\n",
    "    df[['CAMEO_DEUG_2015','CAMEO_INTL_2015']]=df[['CAMEO_DEUG_2015','CAMEO_INTL_2015']].apply(pd.to_numeric)\n",
    "    #\n",
    "\n",
    "    df[fix_unknown1]=df[fix_unknown1].replace(0,-1)\n",
    "    df[fix_unknown9]=df[fix_unknown9].replace(9,-1)\n",
    "    \n",
    "    # find correlation matrix    \n",
    "    corr_matrix = df.corr().abs()\n",
    "    upper_limit = corr_matrix.where(np.triu(np.ones(corr_matrix.shape), k=1).astype(np.bool))\n",
    "    # identify columns to drop based on threshold limit\n",
    "    drop_columns = [column for column in upper_limit.columns if any(upper_limit[column] > .75)]\n",
    "    # drop columns from df\n",
    "    df = df.drop(drop_columns, axis=1)\n",
    "    print('shape after corr', df.shape)\n",
    "    \n",
    "    # fill nan with mode\n",
    "    df=df.fillna(df.mode().iloc[0])\n",
    "    print(\"Number of nan Values\",df.isna().sum().sum())\n",
    "    df=pd.get_dummies(df)\n",
    "    \n",
    "    # Standardised data\n",
    "    scaler = StandardScaler()\n",
    "    df[df.columns] = scaler.fit_transform(df)\n",
    "    print(\"shape after\",df.shape)\n",
    "    df = df.set_index('LNR')\n",
    "    \n",
    "    return df\n",
    "\n",
    "# azdias_clean=data_cleaning(azdias,'azdias')\n",
    "# customers_clean=data_cleaning(customers,'customers')"
   ]
  },
  {
   "cell_type": "markdown",
   "metadata": {},
   "source": [
    "#### Fix columns difference"
   ]
  },
  {
   "cell_type": "code",
   "execution_count": 15,
   "metadata": {},
   "outputs": [
    {
     "data": {
      "text/plain": [
       "(744305, 323)"
      ]
     },
     "execution_count": 15,
     "metadata": {},
     "output_type": "execute_result"
    }
   ],
   "source": [
    "azdias_clean.shape"
   ]
  },
  {
   "cell_type": "code",
   "execution_count": 16,
   "metadata": {},
   "outputs": [
    {
     "data": {
      "text/plain": [
       "(191652, 320)"
      ]
     },
     "execution_count": 16,
     "metadata": {},
     "output_type": "execute_result"
    }
   ],
   "source": [
    "customers_clean.shape"
   ]
  },
  {
   "cell_type": "code",
   "execution_count": 18,
   "metadata": {},
   "outputs": [
    {
     "name": "stdout",
     "output_type": "stream",
     "text": [
      "{'D19_KONSUMTYP', 'ANREDE_KZ', 'KBA13_BAUMAX', 'GEBAEUDETYP_RASTER', 'VK_DHT4A', 'CJT_TYP_3', 'WOHNDAUER_2008', 'KONSUMZELLE'}\n"
     ]
    }
   ],
   "source": [
    "# Difference in columns\n",
    "print(set(list(customers_clean.columns)) - set(list(azdias_clean.columns)))"
   ]
  },
  {
   "cell_type": "code",
   "execution_count": 19,
   "metadata": {},
   "outputs": [
    {
     "name": "stdout",
     "output_type": "stream",
     "text": [
      "{'VERS_TYP', 'FINANZ_UNAUFFAELLIGER', 'NATIONALITAET_KZ', 'SEMIO_REL', 'KBA13_BJ_2000', 'KOMBIALTER', 'SEMIO_KRIT', 'SEMIO_KAEM', 'FINANZ_ANLEGER', 'CJT_TYP_4', 'KBA13_HHZ'}\n"
     ]
    }
   ],
   "source": [
    "# Difference in columns\n",
    "print(set(list(azdias_clean.columns)) - set(list(customers_clean.columns)))"
   ]
  },
  {
   "cell_type": "code",
   "execution_count": 20,
   "metadata": {},
   "outputs": [],
   "source": [
    "# Drop columns\n",
    "customers_clean.drop(columns=['GEBAEUDETYP_RASTER', 'D19_KONSUMTYP', 'KBA13_BAUMAX', 'KONSUMZELLE', 'CJT_TYP_3', 'ANREDE_KZ',\n",
    "                              'WOHNDAUER_2008', 'VK_DHT4A'], inplace=True)\n",
    "\n",
    "azdias_clean.drop(columns=['SEMIO_REL', 'FINANZ_ANLEGER', 'KBA13_HHZ', 'KOMBIALTER', 'KBA13_BJ_2000', 'CJT_TYP_4', 'SEMIO_KAEM',\n",
    "                           'SEMIO_KRIT', 'FINANZ_UNAUFFAELLIGER', 'NATIONALITAET_KZ', 'VERS_TYP'], inplace=True)"
   ]
  },
  {
   "cell_type": "code",
   "execution_count": 21,
   "metadata": {},
   "outputs": [
    {
     "name": "stdout",
     "output_type": "stream",
     "text": [
      "(744305, 312)\n",
      "(191652, 312)\n"
     ]
    }
   ],
   "source": [
    "print(azdias_clean.shape)\n",
    "print(customers_clean.shape)\n"
   ]
  },
  {
   "cell_type": "code",
   "execution_count": 22,
   "metadata": {},
   "outputs": [
    {
     "data": {
      "text/html": [
       "<div>\n",
       "<style scoped>\n",
       "    .dataframe tbody tr th:only-of-type {\n",
       "        vertical-align: middle;\n",
       "    }\n",
       "\n",
       "    .dataframe tbody tr th {\n",
       "        vertical-align: top;\n",
       "    }\n",
       "\n",
       "    .dataframe thead th {\n",
       "        text-align: right;\n",
       "    }\n",
       "</style>\n",
       "<table border=\"1\" class=\"dataframe\">\n",
       "  <thead>\n",
       "    <tr style=\"text-align: right;\">\n",
       "      <th></th>\n",
       "      <th>AGER_TYP</th>\n",
       "      <th>AKT_DAT_KL</th>\n",
       "      <th>ALTER_HH</th>\n",
       "      <th>ALTERSKATEGORIE_FEIN</th>\n",
       "      <th>ANZ_HAUSHALTE_AKTIV</th>\n",
       "      <th>ANZ_HH_TITEL</th>\n",
       "      <th>ANZ_KINDER</th>\n",
       "      <th>ANZ_PERSONEN</th>\n",
       "      <th>ANZ_TITEL</th>\n",
       "      <th>ARBEIT</th>\n",
       "      <th>...</th>\n",
       "      <th>CAMEO_DEU_2015_8B</th>\n",
       "      <th>CAMEO_DEU_2015_8C</th>\n",
       "      <th>CAMEO_DEU_2015_8D</th>\n",
       "      <th>CAMEO_DEU_2015_9A</th>\n",
       "      <th>CAMEO_DEU_2015_9B</th>\n",
       "      <th>CAMEO_DEU_2015_9C</th>\n",
       "      <th>CAMEO_DEU_2015_9D</th>\n",
       "      <th>CAMEO_DEU_2015_9E</th>\n",
       "      <th>OST_WEST_KZ_O</th>\n",
       "      <th>OST_WEST_KZ_W</th>\n",
       "    </tr>\n",
       "  </thead>\n",
       "  <tbody>\n",
       "    <tr>\n",
       "      <th>count</th>\n",
       "      <td>7.443050e+05</td>\n",
       "      <td>7.443050e+05</td>\n",
       "      <td>7.443050e+05</td>\n",
       "      <td>7.443050e+05</td>\n",
       "      <td>7.443050e+05</td>\n",
       "      <td>7.443050e+05</td>\n",
       "      <td>7.443050e+05</td>\n",
       "      <td>7.443050e+05</td>\n",
       "      <td>7.443050e+05</td>\n",
       "      <td>7.443050e+05</td>\n",
       "      <td>...</td>\n",
       "      <td>7.443050e+05</td>\n",
       "      <td>7.443050e+05</td>\n",
       "      <td>7.443050e+05</td>\n",
       "      <td>7.443050e+05</td>\n",
       "      <td>7.443050e+05</td>\n",
       "      <td>7.443050e+05</td>\n",
       "      <td>7.443050e+05</td>\n",
       "      <td>7.443050e+05</td>\n",
       "      <td>7.443050e+05</td>\n",
       "      <td>7.443050e+05</td>\n",
       "    </tr>\n",
       "    <tr>\n",
       "      <th>mean</th>\n",
       "      <td>8.343793e-15</td>\n",
       "      <td>-1.123348e-14</td>\n",
       "      <td>-2.371110e-15</td>\n",
       "      <td>4.843493e-16</td>\n",
       "      <td>5.360674e-15</td>\n",
       "      <td>1.091576e-14</td>\n",
       "      <td>4.510088e-15</td>\n",
       "      <td>-1.590556e-14</td>\n",
       "      <td>-2.702642e-15</td>\n",
       "      <td>-1.852886e-15</td>\n",
       "      <td>...</td>\n",
       "      <td>-5.352440e-15</td>\n",
       "      <td>1.058515e-14</td>\n",
       "      <td>2.018845e-14</td>\n",
       "      <td>1.703655e-15</td>\n",
       "      <td>-3.483268e-14</td>\n",
       "      <td>-3.938322e-15</td>\n",
       "      <td>2.873153e-15</td>\n",
       "      <td>9.391989e-15</td>\n",
       "      <td>2.676556e-14</td>\n",
       "      <td>-2.676556e-14</td>\n",
       "    </tr>\n",
       "    <tr>\n",
       "      <th>std</th>\n",
       "      <td>1.000001e+00</td>\n",
       "      <td>1.000001e+00</td>\n",
       "      <td>1.000001e+00</td>\n",
       "      <td>1.000001e+00</td>\n",
       "      <td>1.000001e+00</td>\n",
       "      <td>1.000001e+00</td>\n",
       "      <td>1.000001e+00</td>\n",
       "      <td>1.000001e+00</td>\n",
       "      <td>1.000001e+00</td>\n",
       "      <td>1.000001e+00</td>\n",
       "      <td>...</td>\n",
       "      <td>1.000001e+00</td>\n",
       "      <td>1.000001e+00</td>\n",
       "      <td>1.000001e+00</td>\n",
       "      <td>1.000001e+00</td>\n",
       "      <td>1.000001e+00</td>\n",
       "      <td>1.000001e+00</td>\n",
       "      <td>1.000001e+00</td>\n",
       "      <td>1.000001e+00</td>\n",
       "      <td>1.000001e+00</td>\n",
       "      <td>1.000001e+00</td>\n",
       "    </tr>\n",
       "    <tr>\n",
       "      <th>min</th>\n",
       "      <td>-5.731380e-01</td>\n",
       "      <td>-9.423887e-01</td>\n",
       "      <td>-1.419539e+00</td>\n",
       "      <td>-3.087966e+00</td>\n",
       "      <td>-5.435379e-01</td>\n",
       "      <td>-1.285939e-01</td>\n",
       "      <td>-2.970230e-01</td>\n",
       "      <td>-1.486979e+00</td>\n",
       "      <td>-6.049438e-02</td>\n",
       "      <td>-2.200629e+00</td>\n",
       "      <td>...</td>\n",
       "      <td>-2.118226e-01</td>\n",
       "      <td>-2.056151e-01</td>\n",
       "      <td>-1.533955e-01</td>\n",
       "      <td>-1.663754e-01</td>\n",
       "      <td>-1.933705e-01</td>\n",
       "      <td>-1.834139e-01</td>\n",
       "      <td>-1.964120e-01</td>\n",
       "      <td>-8.703665e-02</td>\n",
       "      <td>-5.198924e-01</td>\n",
       "      <td>-1.923475e+00</td>\n",
       "    </tr>\n",
       "    <tr>\n",
       "      <th>25%</th>\n",
       "      <td>-5.731380e-01</td>\n",
       "      <td>-9.423887e-01</td>\n",
       "      <td>-1.419539e+00</td>\n",
       "      <td>-4.315714e-01</td>\n",
       "      <td>-4.159390e-01</td>\n",
       "      <td>-1.285939e-01</td>\n",
       "      <td>-2.970230e-01</td>\n",
       "      <td>-6.270170e-01</td>\n",
       "      <td>-6.049438e-02</td>\n",
       "      <td>-1.898515e-01</td>\n",
       "      <td>...</td>\n",
       "      <td>-2.118226e-01</td>\n",
       "      <td>-2.056151e-01</td>\n",
       "      <td>-1.533955e-01</td>\n",
       "      <td>-1.663754e-01</td>\n",
       "      <td>-1.933705e-01</td>\n",
       "      <td>-1.834139e-01</td>\n",
       "      <td>-1.964120e-01</td>\n",
       "      <td>-8.703665e-02</td>\n",
       "      <td>-5.198924e-01</td>\n",
       "      <td>5.198924e-01</td>\n",
       "    </tr>\n",
       "    <tr>\n",
       "      <th>50%</th>\n",
       "      <td>-5.731380e-01</td>\n",
       "      <td>-3.943110e-01</td>\n",
       "      <td>2.840275e-01</td>\n",
       "      <td>2.325272e-01</td>\n",
       "      <td>-2.883401e-01</td>\n",
       "      <td>-1.285939e-01</td>\n",
       "      <td>-2.970230e-01</td>\n",
       "      <td>-6.270170e-01</td>\n",
       "      <td>-6.049438e-02</td>\n",
       "      <td>-1.898515e-01</td>\n",
       "      <td>...</td>\n",
       "      <td>-2.118226e-01</td>\n",
       "      <td>-2.056151e-01</td>\n",
       "      <td>-1.533955e-01</td>\n",
       "      <td>-1.663754e-01</td>\n",
       "      <td>-1.933705e-01</td>\n",
       "      <td>-1.834139e-01</td>\n",
       "      <td>-1.964120e-01</td>\n",
       "      <td>-8.703665e-02</td>\n",
       "      <td>-5.198924e-01</td>\n",
       "      <td>5.198924e-01</td>\n",
       "    </tr>\n",
       "    <tr>\n",
       "      <th>75%</th>\n",
       "      <td>1.047255e+00</td>\n",
       "      <td>1.249922e+00</td>\n",
       "      <td>8.082019e-01</td>\n",
       "      <td>4.538934e-01</td>\n",
       "      <td>9.445668e-02</td>\n",
       "      <td>-1.285939e-01</td>\n",
       "      <td>-2.970230e-01</td>\n",
       "      <td>2.329449e-01</td>\n",
       "      <td>-6.049438e-02</td>\n",
       "      <td>8.155374e-01</td>\n",
       "      <td>...</td>\n",
       "      <td>-2.118226e-01</td>\n",
       "      <td>-2.056151e-01</td>\n",
       "      <td>-1.533955e-01</td>\n",
       "      <td>-1.663754e-01</td>\n",
       "      <td>-1.933705e-01</td>\n",
       "      <td>-1.834139e-01</td>\n",
       "      <td>-1.964120e-01</td>\n",
       "      <td>-8.703665e-02</td>\n",
       "      <td>-5.198924e-01</td>\n",
       "      <td>5.198924e-01</td>\n",
       "    </tr>\n",
       "    <tr>\n",
       "      <th>max</th>\n",
       "      <td>2.667648e+00</td>\n",
       "      <td>1.249922e+00</td>\n",
       "      <td>1.332376e+00</td>\n",
       "      <td>2.446189e+00</td>\n",
       "      <td>3.365297e+01</td>\n",
       "      <td>6.263205e+01</td>\n",
       "      <td>2.235523e+01</td>\n",
       "      <td>3.721131e+01</td>\n",
       "      <td>5.873973e+01</td>\n",
       "      <td>5.842482e+00</td>\n",
       "      <td>...</td>\n",
       "      <td>4.720930e+00</td>\n",
       "      <td>4.863456e+00</td>\n",
       "      <td>6.519097e+00</td>\n",
       "      <td>6.010503e+00</td>\n",
       "      <td>5.171420e+00</td>\n",
       "      <td>5.452149e+00</td>\n",
       "      <td>5.091338e+00</td>\n",
       "      <td>1.148941e+01</td>\n",
       "      <td>1.923475e+00</td>\n",
       "      <td>5.198924e-01</td>\n",
       "    </tr>\n",
       "  </tbody>\n",
       "</table>\n",
       "<p>8 rows × 312 columns</p>\n",
       "</div>"
      ],
      "text/plain": [
       "           AGER_TYP    AKT_DAT_KL      ALTER_HH  ALTERSKATEGORIE_FEIN  \\\n",
       "count  7.443050e+05  7.443050e+05  7.443050e+05          7.443050e+05   \n",
       "mean   8.343793e-15 -1.123348e-14 -2.371110e-15          4.843493e-16   \n",
       "std    1.000001e+00  1.000001e+00  1.000001e+00          1.000001e+00   \n",
       "min   -5.731380e-01 -9.423887e-01 -1.419539e+00         -3.087966e+00   \n",
       "25%   -5.731380e-01 -9.423887e-01 -1.419539e+00         -4.315714e-01   \n",
       "50%   -5.731380e-01 -3.943110e-01  2.840275e-01          2.325272e-01   \n",
       "75%    1.047255e+00  1.249922e+00  8.082019e-01          4.538934e-01   \n",
       "max    2.667648e+00  1.249922e+00  1.332376e+00          2.446189e+00   \n",
       "\n",
       "       ANZ_HAUSHALTE_AKTIV  ANZ_HH_TITEL    ANZ_KINDER  ANZ_PERSONEN  \\\n",
       "count         7.443050e+05  7.443050e+05  7.443050e+05  7.443050e+05   \n",
       "mean          5.360674e-15  1.091576e-14  4.510088e-15 -1.590556e-14   \n",
       "std           1.000001e+00  1.000001e+00  1.000001e+00  1.000001e+00   \n",
       "min          -5.435379e-01 -1.285939e-01 -2.970230e-01 -1.486979e+00   \n",
       "25%          -4.159390e-01 -1.285939e-01 -2.970230e-01 -6.270170e-01   \n",
       "50%          -2.883401e-01 -1.285939e-01 -2.970230e-01 -6.270170e-01   \n",
       "75%           9.445668e-02 -1.285939e-01 -2.970230e-01  2.329449e-01   \n",
       "max           3.365297e+01  6.263205e+01  2.235523e+01  3.721131e+01   \n",
       "\n",
       "          ANZ_TITEL        ARBEIT  ...  CAMEO_DEU_2015_8B  CAMEO_DEU_2015_8C  \\\n",
       "count  7.443050e+05  7.443050e+05  ...       7.443050e+05       7.443050e+05   \n",
       "mean  -2.702642e-15 -1.852886e-15  ...      -5.352440e-15       1.058515e-14   \n",
       "std    1.000001e+00  1.000001e+00  ...       1.000001e+00       1.000001e+00   \n",
       "min   -6.049438e-02 -2.200629e+00  ...      -2.118226e-01      -2.056151e-01   \n",
       "25%   -6.049438e-02 -1.898515e-01  ...      -2.118226e-01      -2.056151e-01   \n",
       "50%   -6.049438e-02 -1.898515e-01  ...      -2.118226e-01      -2.056151e-01   \n",
       "75%   -6.049438e-02  8.155374e-01  ...      -2.118226e-01      -2.056151e-01   \n",
       "max    5.873973e+01  5.842482e+00  ...       4.720930e+00       4.863456e+00   \n",
       "\n",
       "       CAMEO_DEU_2015_8D  CAMEO_DEU_2015_9A  CAMEO_DEU_2015_9B  \\\n",
       "count       7.443050e+05       7.443050e+05       7.443050e+05   \n",
       "mean        2.018845e-14       1.703655e-15      -3.483268e-14   \n",
       "std         1.000001e+00       1.000001e+00       1.000001e+00   \n",
       "min        -1.533955e-01      -1.663754e-01      -1.933705e-01   \n",
       "25%        -1.533955e-01      -1.663754e-01      -1.933705e-01   \n",
       "50%        -1.533955e-01      -1.663754e-01      -1.933705e-01   \n",
       "75%        -1.533955e-01      -1.663754e-01      -1.933705e-01   \n",
       "max         6.519097e+00       6.010503e+00       5.171420e+00   \n",
       "\n",
       "       CAMEO_DEU_2015_9C  CAMEO_DEU_2015_9D  CAMEO_DEU_2015_9E  OST_WEST_KZ_O  \\\n",
       "count       7.443050e+05       7.443050e+05       7.443050e+05   7.443050e+05   \n",
       "mean       -3.938322e-15       2.873153e-15       9.391989e-15   2.676556e-14   \n",
       "std         1.000001e+00       1.000001e+00       1.000001e+00   1.000001e+00   \n",
       "min        -1.834139e-01      -1.964120e-01      -8.703665e-02  -5.198924e-01   \n",
       "25%        -1.834139e-01      -1.964120e-01      -8.703665e-02  -5.198924e-01   \n",
       "50%        -1.834139e-01      -1.964120e-01      -8.703665e-02  -5.198924e-01   \n",
       "75%        -1.834139e-01      -1.964120e-01      -8.703665e-02  -5.198924e-01   \n",
       "max         5.452149e+00       5.091338e+00       1.148941e+01   1.923475e+00   \n",
       "\n",
       "       OST_WEST_KZ_W  \n",
       "count   7.443050e+05  \n",
       "mean   -2.676556e-14  \n",
       "std     1.000001e+00  \n",
       "min    -1.923475e+00  \n",
       "25%     5.198924e-01  \n",
       "50%     5.198924e-01  \n",
       "75%     5.198924e-01  \n",
       "max     5.198924e-01  \n",
       "\n",
       "[8 rows x 312 columns]"
      ]
     },
     "execution_count": 22,
     "metadata": {},
     "output_type": "execute_result"
    }
   ],
   "source": [
    "azdias_clean.describe()"
   ]
  },
  {
   "cell_type": "code",
   "execution_count": 24,
   "metadata": {},
   "outputs": [
    {
     "data": {
      "text/html": [
       "<div>\n",
       "<style scoped>\n",
       "    .dataframe tbody tr th:only-of-type {\n",
       "        vertical-align: middle;\n",
       "    }\n",
       "\n",
       "    .dataframe tbody tr th {\n",
       "        vertical-align: top;\n",
       "    }\n",
       "\n",
       "    .dataframe thead th {\n",
       "        text-align: right;\n",
       "    }\n",
       "</style>\n",
       "<table border=\"1\" class=\"dataframe\">\n",
       "  <thead>\n",
       "    <tr style=\"text-align: right;\">\n",
       "      <th></th>\n",
       "      <th>AGER_TYP</th>\n",
       "      <th>AKT_DAT_KL</th>\n",
       "      <th>ALTER_HH</th>\n",
       "      <th>ALTERSKATEGORIE_FEIN</th>\n",
       "      <th>ANZ_HAUSHALTE_AKTIV</th>\n",
       "      <th>ANZ_HH_TITEL</th>\n",
       "      <th>ANZ_KINDER</th>\n",
       "      <th>ANZ_PERSONEN</th>\n",
       "      <th>ANZ_TITEL</th>\n",
       "      <th>ARBEIT</th>\n",
       "      <th>...</th>\n",
       "      <th>CAMEO_DEU_2015_8B</th>\n",
       "      <th>CAMEO_DEU_2015_8C</th>\n",
       "      <th>CAMEO_DEU_2015_8D</th>\n",
       "      <th>CAMEO_DEU_2015_9A</th>\n",
       "      <th>CAMEO_DEU_2015_9B</th>\n",
       "      <th>CAMEO_DEU_2015_9C</th>\n",
       "      <th>CAMEO_DEU_2015_9D</th>\n",
       "      <th>CAMEO_DEU_2015_9E</th>\n",
       "      <th>OST_WEST_KZ_O</th>\n",
       "      <th>OST_WEST_KZ_W</th>\n",
       "    </tr>\n",
       "  </thead>\n",
       "  <tbody>\n",
       "    <tr>\n",
       "      <th>count</th>\n",
       "      <td>1.916520e+05</td>\n",
       "      <td>1.916520e+05</td>\n",
       "      <td>1.916520e+05</td>\n",
       "      <td>1.916520e+05</td>\n",
       "      <td>1.916520e+05</td>\n",
       "      <td>1.916520e+05</td>\n",
       "      <td>1.916520e+05</td>\n",
       "      <td>1.916520e+05</td>\n",
       "      <td>1.916520e+05</td>\n",
       "      <td>1.916520e+05</td>\n",
       "      <td>...</td>\n",
       "      <td>1.916520e+05</td>\n",
       "      <td>1.916520e+05</td>\n",
       "      <td>1.916520e+05</td>\n",
       "      <td>1.916520e+05</td>\n",
       "      <td>1.916520e+05</td>\n",
       "      <td>1.916520e+05</td>\n",
       "      <td>1.916520e+05</td>\n",
       "      <td>1.916520e+05</td>\n",
       "      <td>1.916520e+05</td>\n",
       "      <td>1.916520e+05</td>\n",
       "    </tr>\n",
       "    <tr>\n",
       "      <th>mean</th>\n",
       "      <td>-4.238650e-15</td>\n",
       "      <td>3.998211e-15</td>\n",
       "      <td>2.597975e-15</td>\n",
       "      <td>-1.138547e-15</td>\n",
       "      <td>-3.218478e-15</td>\n",
       "      <td>5.157062e-15</td>\n",
       "      <td>3.420783e-15</td>\n",
       "      <td>3.594420e-16</td>\n",
       "      <td>4.665904e-15</td>\n",
       "      <td>3.191686e-16</td>\n",
       "      <td>...</td>\n",
       "      <td>-1.793365e-15</td>\n",
       "      <td>-3.218736e-15</td>\n",
       "      <td>-3.250346e-15</td>\n",
       "      <td>-3.330061e-15</td>\n",
       "      <td>-1.176570e-15</td>\n",
       "      <td>3.265726e-15</td>\n",
       "      <td>5.354518e-17</td>\n",
       "      <td>-4.434903e-15</td>\n",
       "      <td>-2.903817e-15</td>\n",
       "      <td>2.901858e-15</td>\n",
       "    </tr>\n",
       "    <tr>\n",
       "      <th>std</th>\n",
       "      <td>1.000003e+00</td>\n",
       "      <td>1.000003e+00</td>\n",
       "      <td>1.000003e+00</td>\n",
       "      <td>1.000003e+00</td>\n",
       "      <td>1.000003e+00</td>\n",
       "      <td>1.000003e+00</td>\n",
       "      <td>1.000003e+00</td>\n",
       "      <td>1.000003e+00</td>\n",
       "      <td>1.000003e+00</td>\n",
       "      <td>1.000003e+00</td>\n",
       "      <td>...</td>\n",
       "      <td>1.000003e+00</td>\n",
       "      <td>1.000003e+00</td>\n",
       "      <td>1.000003e+00</td>\n",
       "      <td>1.000003e+00</td>\n",
       "      <td>1.000003e+00</td>\n",
       "      <td>1.000003e+00</td>\n",
       "      <td>1.000003e+00</td>\n",
       "      <td>1.000003e+00</td>\n",
       "      <td>1.000003e+00</td>\n",
       "      <td>1.000003e+00</td>\n",
       "    </tr>\n",
       "    <tr>\n",
       "      <th>min</th>\n",
       "      <td>-9.660048e-01</td>\n",
       "      <td>-3.250739e-01</td>\n",
       "      <td>-1.174498e+00</td>\n",
       "      <td>-2.897572e+00</td>\n",
       "      <td>-3.164432e-01</td>\n",
       "      <td>-1.052176e-01</td>\n",
       "      <td>-2.383791e-01</td>\n",
       "      <td>-1.812549e+00</td>\n",
       "      <td>-1.162835e-01</td>\n",
       "      <td>-2.144783e+00</td>\n",
       "      <td>...</td>\n",
       "      <td>-1.420366e-01</td>\n",
       "      <td>-1.217859e-01</td>\n",
       "      <td>-1.079096e-01</td>\n",
       "      <td>-7.325602e-02</td>\n",
       "      <td>-6.933771e-02</td>\n",
       "      <td>-7.194872e-02</td>\n",
       "      <td>-1.015705e-01</td>\n",
       "      <td>-8.905522e-02</td>\n",
       "      <td>-2.508160e-01</td>\n",
       "      <td>-3.986986e+00</td>\n",
       "    </tr>\n",
       "    <tr>\n",
       "      <th>25%</th>\n",
       "      <td>-9.660048e-01</td>\n",
       "      <td>-3.250739e-01</td>\n",
       "      <td>-1.174498e+00</td>\n",
       "      <td>-3.513469e-01</td>\n",
       "      <td>-2.359790e-01</td>\n",
       "      <td>-1.052176e-01</td>\n",
       "      <td>-2.383791e-01</td>\n",
       "      <td>-9.896773e-01</td>\n",
       "      <td>-1.162835e-01</td>\n",
       "      <td>-9.984408e-01</td>\n",
       "      <td>...</td>\n",
       "      <td>-1.420366e-01</td>\n",
       "      <td>-1.217859e-01</td>\n",
       "      <td>-1.079096e-01</td>\n",
       "      <td>-7.325602e-02</td>\n",
       "      <td>-6.933771e-02</td>\n",
       "      <td>-7.194872e-02</td>\n",
       "      <td>-1.015705e-01</td>\n",
       "      <td>-8.905522e-02</td>\n",
       "      <td>-2.508160e-01</td>\n",
       "      <td>2.508160e-01</td>\n",
       "    </tr>\n",
       "    <tr>\n",
       "      <th>50%</th>\n",
       "      <td>-2.474429e-01</td>\n",
       "      <td>-3.250739e-01</td>\n",
       "      <td>5.576999e-02</td>\n",
       "      <td>-6.843301e-02</td>\n",
       "      <td>-2.359790e-01</td>\n",
       "      <td>-1.052176e-01</td>\n",
       "      <td>-2.383791e-01</td>\n",
       "      <td>-1.668053e-01</td>\n",
       "      <td>-1.162835e-01</td>\n",
       "      <td>1.479014e-01</td>\n",
       "      <td>...</td>\n",
       "      <td>-1.420366e-01</td>\n",
       "      <td>-1.217859e-01</td>\n",
       "      <td>-1.079096e-01</td>\n",
       "      <td>-7.325602e-02</td>\n",
       "      <td>-6.933771e-02</td>\n",
       "      <td>-7.194872e-02</td>\n",
       "      <td>-1.015705e-01</td>\n",
       "      <td>-8.905522e-02</td>\n",
       "      <td>-2.508160e-01</td>\n",
       "      <td>2.508160e-01</td>\n",
       "    </tr>\n",
       "    <tr>\n",
       "      <th>75%</th>\n",
       "      <td>1.189681e+00</td>\n",
       "      <td>-3.250739e-01</td>\n",
       "      <td>8.759486e-01</td>\n",
       "      <td>4.973948e-01</td>\n",
       "      <td>-1.555148e-01</td>\n",
       "      <td>-1.052176e-01</td>\n",
       "      <td>-2.383791e-01</td>\n",
       "      <td>6.560666e-01</td>\n",
       "      <td>-1.162835e-01</td>\n",
       "      <td>1.479014e-01</td>\n",
       "      <td>...</td>\n",
       "      <td>-1.420366e-01</td>\n",
       "      <td>-1.217859e-01</td>\n",
       "      <td>-1.079096e-01</td>\n",
       "      <td>-7.325602e-02</td>\n",
       "      <td>-6.933771e-02</td>\n",
       "      <td>-7.194872e-02</td>\n",
       "      <td>-1.015705e-01</td>\n",
       "      <td>-8.905522e-02</td>\n",
       "      <td>-2.508160e-01</td>\n",
       "      <td>2.508160e-01</td>\n",
       "    </tr>\n",
       "    <tr>\n",
       "      <th>max</th>\n",
       "      <td>1.908243e+00</td>\n",
       "      <td>4.271391e+00</td>\n",
       "      <td>1.696127e+00</td>\n",
       "      <td>4.175275e+00</td>\n",
       "      <td>4.176631e+01</td>\n",
       "      <td>4.919838e+01</td>\n",
       "      <td>1.823360e+01</td>\n",
       "      <td>1.546776e+01</td>\n",
       "      <td>3.755438e+01</td>\n",
       "      <td>7.025955e+00</td>\n",
       "      <td>...</td>\n",
       "      <td>7.040441e+00</td>\n",
       "      <td>8.211133e+00</td>\n",
       "      <td>9.267017e+00</td>\n",
       "      <td>1.365075e+01</td>\n",
       "      <td>1.442217e+01</td>\n",
       "      <td>1.389879e+01</td>\n",
       "      <td>9.845381e+00</td>\n",
       "      <td>1.122899e+01</td>\n",
       "      <td>3.986986e+00</td>\n",
       "      <td>2.508160e-01</td>\n",
       "    </tr>\n",
       "  </tbody>\n",
       "</table>\n",
       "<p>8 rows × 312 columns</p>\n",
       "</div>"
      ],
      "text/plain": [
       "           AGER_TYP    AKT_DAT_KL      ALTER_HH  ALTERSKATEGORIE_FEIN  \\\n",
       "count  1.916520e+05  1.916520e+05  1.916520e+05          1.916520e+05   \n",
       "mean  -4.238650e-15  3.998211e-15  2.597975e-15         -1.138547e-15   \n",
       "std    1.000003e+00  1.000003e+00  1.000003e+00          1.000003e+00   \n",
       "min   -9.660048e-01 -3.250739e-01 -1.174498e+00         -2.897572e+00   \n",
       "25%   -9.660048e-01 -3.250739e-01 -1.174498e+00         -3.513469e-01   \n",
       "50%   -2.474429e-01 -3.250739e-01  5.576999e-02         -6.843301e-02   \n",
       "75%    1.189681e+00 -3.250739e-01  8.759486e-01          4.973948e-01   \n",
       "max    1.908243e+00  4.271391e+00  1.696127e+00          4.175275e+00   \n",
       "\n",
       "       ANZ_HAUSHALTE_AKTIV  ANZ_HH_TITEL    ANZ_KINDER  ANZ_PERSONEN  \\\n",
       "count         1.916520e+05  1.916520e+05  1.916520e+05  1.916520e+05   \n",
       "mean         -3.218478e-15  5.157062e-15  3.420783e-15  3.594420e-16   \n",
       "std           1.000003e+00  1.000003e+00  1.000003e+00  1.000003e+00   \n",
       "min          -3.164432e-01 -1.052176e-01 -2.383791e-01 -1.812549e+00   \n",
       "25%          -2.359790e-01 -1.052176e-01 -2.383791e-01 -9.896773e-01   \n",
       "50%          -2.359790e-01 -1.052176e-01 -2.383791e-01 -1.668053e-01   \n",
       "75%          -1.555148e-01 -1.052176e-01 -2.383791e-01  6.560666e-01   \n",
       "max           4.176631e+01  4.919838e+01  1.823360e+01  1.546776e+01   \n",
       "\n",
       "          ANZ_TITEL        ARBEIT  ...  CAMEO_DEU_2015_8B  CAMEO_DEU_2015_8C  \\\n",
       "count  1.916520e+05  1.916520e+05  ...       1.916520e+05       1.916520e+05   \n",
       "mean   4.665904e-15  3.191686e-16  ...      -1.793365e-15      -3.218736e-15   \n",
       "std    1.000003e+00  1.000003e+00  ...       1.000003e+00       1.000003e+00   \n",
       "min   -1.162835e-01 -2.144783e+00  ...      -1.420366e-01      -1.217859e-01   \n",
       "25%   -1.162835e-01 -9.984408e-01  ...      -1.420366e-01      -1.217859e-01   \n",
       "50%   -1.162835e-01  1.479014e-01  ...      -1.420366e-01      -1.217859e-01   \n",
       "75%   -1.162835e-01  1.479014e-01  ...      -1.420366e-01      -1.217859e-01   \n",
       "max    3.755438e+01  7.025955e+00  ...       7.040441e+00       8.211133e+00   \n",
       "\n",
       "       CAMEO_DEU_2015_8D  CAMEO_DEU_2015_9A  CAMEO_DEU_2015_9B  \\\n",
       "count       1.916520e+05       1.916520e+05       1.916520e+05   \n",
       "mean       -3.250346e-15      -3.330061e-15      -1.176570e-15   \n",
       "std         1.000003e+00       1.000003e+00       1.000003e+00   \n",
       "min        -1.079096e-01      -7.325602e-02      -6.933771e-02   \n",
       "25%        -1.079096e-01      -7.325602e-02      -6.933771e-02   \n",
       "50%        -1.079096e-01      -7.325602e-02      -6.933771e-02   \n",
       "75%        -1.079096e-01      -7.325602e-02      -6.933771e-02   \n",
       "max         9.267017e+00       1.365075e+01       1.442217e+01   \n",
       "\n",
       "       CAMEO_DEU_2015_9C  CAMEO_DEU_2015_9D  CAMEO_DEU_2015_9E  OST_WEST_KZ_O  \\\n",
       "count       1.916520e+05       1.916520e+05       1.916520e+05   1.916520e+05   \n",
       "mean        3.265726e-15       5.354518e-17      -4.434903e-15  -2.903817e-15   \n",
       "std         1.000003e+00       1.000003e+00       1.000003e+00   1.000003e+00   \n",
       "min        -7.194872e-02      -1.015705e-01      -8.905522e-02  -2.508160e-01   \n",
       "25%        -7.194872e-02      -1.015705e-01      -8.905522e-02  -2.508160e-01   \n",
       "50%        -7.194872e-02      -1.015705e-01      -8.905522e-02  -2.508160e-01   \n",
       "75%        -7.194872e-02      -1.015705e-01      -8.905522e-02  -2.508160e-01   \n",
       "max         1.389879e+01       9.845381e+00       1.122899e+01   3.986986e+00   \n",
       "\n",
       "       OST_WEST_KZ_W  \n",
       "count   1.916520e+05  \n",
       "mean    2.901858e-15  \n",
       "std     1.000003e+00  \n",
       "min    -3.986986e+00  \n",
       "25%     2.508160e-01  \n",
       "50%     2.508160e-01  \n",
       "75%     2.508160e-01  \n",
       "max     2.508160e-01  \n",
       "\n",
       "[8 rows x 312 columns]"
      ]
     },
     "execution_count": 24,
     "metadata": {},
     "output_type": "execute_result"
    }
   ],
   "source": [
    "customers_clean.describe()"
   ]
  },
  {
   "cell_type": "code",
   "execution_count": 65,
   "metadata": {},
   "outputs": [],
   "source": [
    "# Save cleaned data\n",
    "azdias_clean.to_csv('azdias_cleaned.csv', index=False)\n",
    "customers_clean.to_csv('customers_cleaned.csv', index=False)"
   ]
  },
  {
   "cell_type": "markdown",
   "metadata": {},
   "source": [
    "## Part 1: Customer Segmentation Report\n",
    "\n",
    "The main bulk of your analysis will come in this part of the project. Here, you should use unsupervised learning techniques to describe the relationship between the demographics of the company's existing customers and the general population of Germany. By the end of this part, you should be able to describe parts of the general population that are more likely to be part of the mail-order company's main customer base, and which parts of the general population are less so."
   ]
  },
  {
   "cell_type": "code",
   "execution_count": 25,
   "metadata": {},
   "outputs": [],
   "source": [
    "# Load the data\n",
    "azdias = pd.read_csv('azdias_cleaned.csv')"
   ]
  },
  {
   "cell_type": "code",
   "execution_count": 26,
   "metadata": {},
   "outputs": [
    {
     "data": {
      "text/html": [
       "<div>\n",
       "<style scoped>\n",
       "    .dataframe tbody tr th:only-of-type {\n",
       "        vertical-align: middle;\n",
       "    }\n",
       "\n",
       "    .dataframe tbody tr th {\n",
       "        vertical-align: top;\n",
       "    }\n",
       "\n",
       "    .dataframe thead th {\n",
       "        text-align: right;\n",
       "    }\n",
       "</style>\n",
       "<table border=\"1\" class=\"dataframe\">\n",
       "  <thead>\n",
       "    <tr style=\"text-align: right;\">\n",
       "      <th></th>\n",
       "      <th>AGER_TYP</th>\n",
       "      <th>AKT_DAT_KL</th>\n",
       "      <th>ALTER_HH</th>\n",
       "      <th>ALTERSKATEGORIE_FEIN</th>\n",
       "      <th>ANZ_HAUSHALTE_AKTIV</th>\n",
       "      <th>ANZ_HH_TITEL</th>\n",
       "      <th>ANZ_KINDER</th>\n",
       "      <th>ANZ_PERSONEN</th>\n",
       "      <th>ANZ_TITEL</th>\n",
       "      <th>ARBEIT</th>\n",
       "      <th>...</th>\n",
       "      <th>CAMEO_DEU_2015_8B</th>\n",
       "      <th>CAMEO_DEU_2015_8C</th>\n",
       "      <th>CAMEO_DEU_2015_8D</th>\n",
       "      <th>CAMEO_DEU_2015_9A</th>\n",
       "      <th>CAMEO_DEU_2015_9B</th>\n",
       "      <th>CAMEO_DEU_2015_9C</th>\n",
       "      <th>CAMEO_DEU_2015_9D</th>\n",
       "      <th>CAMEO_DEU_2015_9E</th>\n",
       "      <th>OST_WEST_KZ_O</th>\n",
       "      <th>OST_WEST_KZ_W</th>\n",
       "    </tr>\n",
       "  </thead>\n",
       "  <tbody>\n",
       "    <tr>\n",
       "      <th>0</th>\n",
       "      <td>-0.573138</td>\n",
       "      <td>1.249922</td>\n",
       "      <td>-1.419539</td>\n",
       "      <td>1.560724</td>\n",
       "      <td>0.158256</td>\n",
       "      <td>-0.128594</td>\n",
       "      <td>-0.297023</td>\n",
       "      <td>0.232945</td>\n",
       "      <td>-0.060494</td>\n",
       "      <td>-0.189851</td>\n",
       "      <td>...</td>\n",
       "      <td>-0.211823</td>\n",
       "      <td>-0.205615</td>\n",
       "      <td>-0.153395</td>\n",
       "      <td>-0.166375</td>\n",
       "      <td>-0.19337</td>\n",
       "      <td>-0.183414</td>\n",
       "      <td>-0.196412</td>\n",
       "      <td>-0.087037</td>\n",
       "      <td>-0.519892</td>\n",
       "      <td>0.519892</td>\n",
       "    </tr>\n",
       "    <tr>\n",
       "      <th>1</th>\n",
       "      <td>-0.573138</td>\n",
       "      <td>1.249922</td>\n",
       "      <td>0.808202</td>\n",
       "      <td>0.675260</td>\n",
       "      <td>0.094457</td>\n",
       "      <td>-0.128594</td>\n",
       "      <td>-0.297023</td>\n",
       "      <td>-0.627017</td>\n",
       "      <td>-0.060494</td>\n",
       "      <td>-0.189851</td>\n",
       "      <td>...</td>\n",
       "      <td>-0.211823</td>\n",
       "      <td>-0.205615</td>\n",
       "      <td>-0.153395</td>\n",
       "      <td>-0.166375</td>\n",
       "      <td>-0.19337</td>\n",
       "      <td>-0.183414</td>\n",
       "      <td>-0.196412</td>\n",
       "      <td>-0.087037</td>\n",
       "      <td>-0.519892</td>\n",
       "      <td>0.519892</td>\n",
       "    </tr>\n",
       "    <tr>\n",
       "      <th>2</th>\n",
       "      <td>1.857451</td>\n",
       "      <td>-0.942389</td>\n",
       "      <td>0.284028</td>\n",
       "      <td>-0.210205</td>\n",
       "      <td>-0.479738</td>\n",
       "      <td>-0.128594</td>\n",
       "      <td>-0.297023</td>\n",
       "      <td>-1.486979</td>\n",
       "      <td>-0.060494</td>\n",
       "      <td>-1.195240</td>\n",
       "      <td>...</td>\n",
       "      <td>-0.211823</td>\n",
       "      <td>-0.205615</td>\n",
       "      <td>-0.153395</td>\n",
       "      <td>-0.166375</td>\n",
       "      <td>-0.19337</td>\n",
       "      <td>-0.183414</td>\n",
       "      <td>-0.196412</td>\n",
       "      <td>-0.087037</td>\n",
       "      <td>-0.519892</td>\n",
       "      <td>0.519892</td>\n",
       "    </tr>\n",
       "    <tr>\n",
       "      <th>3</th>\n",
       "      <td>-0.573138</td>\n",
       "      <td>-0.942389</td>\n",
       "      <td>1.201333</td>\n",
       "      <td>0.011161</td>\n",
       "      <td>-0.352140</td>\n",
       "      <td>-0.128594</td>\n",
       "      <td>-0.297023</td>\n",
       "      <td>1.952869</td>\n",
       "      <td>-0.060494</td>\n",
       "      <td>0.815537</td>\n",
       "      <td>...</td>\n",
       "      <td>-0.211823</td>\n",
       "      <td>-0.205615</td>\n",
       "      <td>-0.153395</td>\n",
       "      <td>-0.166375</td>\n",
       "      <td>-0.19337</td>\n",
       "      <td>-0.183414</td>\n",
       "      <td>-0.196412</td>\n",
       "      <td>-0.087037</td>\n",
       "      <td>-0.519892</td>\n",
       "      <td>0.519892</td>\n",
       "    </tr>\n",
       "    <tr>\n",
       "      <th>4</th>\n",
       "      <td>2.667648</td>\n",
       "      <td>-0.942389</td>\n",
       "      <td>-0.109103</td>\n",
       "      <td>-0.874304</td>\n",
       "      <td>-0.224541</td>\n",
       "      <td>-0.128594</td>\n",
       "      <td>-0.297023</td>\n",
       "      <td>-0.627017</td>\n",
       "      <td>-0.060494</td>\n",
       "      <td>-1.195240</td>\n",
       "      <td>...</td>\n",
       "      <td>-0.211823</td>\n",
       "      <td>4.863456</td>\n",
       "      <td>-0.153395</td>\n",
       "      <td>-0.166375</td>\n",
       "      <td>-0.19337</td>\n",
       "      <td>-0.183414</td>\n",
       "      <td>-0.196412</td>\n",
       "      <td>-0.087037</td>\n",
       "      <td>-0.519892</td>\n",
       "      <td>0.519892</td>\n",
       "    </tr>\n",
       "  </tbody>\n",
       "</table>\n",
       "<p>5 rows × 312 columns</p>\n",
       "</div>"
      ],
      "text/plain": [
       "   AGER_TYP  AKT_DAT_KL  ALTER_HH  ALTERSKATEGORIE_FEIN  ANZ_HAUSHALTE_AKTIV  \\\n",
       "0 -0.573138    1.249922 -1.419539              1.560724             0.158256   \n",
       "1 -0.573138    1.249922  0.808202              0.675260             0.094457   \n",
       "2  1.857451   -0.942389  0.284028             -0.210205            -0.479738   \n",
       "3 -0.573138   -0.942389  1.201333              0.011161            -0.352140   \n",
       "4  2.667648   -0.942389 -0.109103             -0.874304            -0.224541   \n",
       "\n",
       "   ANZ_HH_TITEL  ANZ_KINDER  ANZ_PERSONEN  ANZ_TITEL    ARBEIT  ...  \\\n",
       "0     -0.128594   -0.297023      0.232945  -0.060494 -0.189851  ...   \n",
       "1     -0.128594   -0.297023     -0.627017  -0.060494 -0.189851  ...   \n",
       "2     -0.128594   -0.297023     -1.486979  -0.060494 -1.195240  ...   \n",
       "3     -0.128594   -0.297023      1.952869  -0.060494  0.815537  ...   \n",
       "4     -0.128594   -0.297023     -0.627017  -0.060494 -1.195240  ...   \n",
       "\n",
       "   CAMEO_DEU_2015_8B  CAMEO_DEU_2015_8C  CAMEO_DEU_2015_8D  CAMEO_DEU_2015_9A  \\\n",
       "0          -0.211823          -0.205615          -0.153395          -0.166375   \n",
       "1          -0.211823          -0.205615          -0.153395          -0.166375   \n",
       "2          -0.211823          -0.205615          -0.153395          -0.166375   \n",
       "3          -0.211823          -0.205615          -0.153395          -0.166375   \n",
       "4          -0.211823           4.863456          -0.153395          -0.166375   \n",
       "\n",
       "   CAMEO_DEU_2015_9B  CAMEO_DEU_2015_9C  CAMEO_DEU_2015_9D  CAMEO_DEU_2015_9E  \\\n",
       "0           -0.19337          -0.183414          -0.196412          -0.087037   \n",
       "1           -0.19337          -0.183414          -0.196412          -0.087037   \n",
       "2           -0.19337          -0.183414          -0.196412          -0.087037   \n",
       "3           -0.19337          -0.183414          -0.196412          -0.087037   \n",
       "4           -0.19337          -0.183414          -0.196412          -0.087037   \n",
       "\n",
       "   OST_WEST_KZ_O  OST_WEST_KZ_W  \n",
       "0      -0.519892       0.519892  \n",
       "1      -0.519892       0.519892  \n",
       "2      -0.519892       0.519892  \n",
       "3      -0.519892       0.519892  \n",
       "4      -0.519892       0.519892  \n",
       "\n",
       "[5 rows x 312 columns]"
      ]
     },
     "execution_count": 26,
     "metadata": {},
     "output_type": "execute_result"
    }
   ],
   "source": [
    "azdias.head()"
   ]
  },
  {
   "cell_type": "code",
   "execution_count": 27,
   "metadata": {},
   "outputs": [],
   "source": [
    "customers = pd.read_csv('customers_cleaned.csv')"
   ]
  },
  {
   "cell_type": "code",
   "execution_count": 28,
   "metadata": {},
   "outputs": [
    {
     "data": {
      "text/html": [
       "<div>\n",
       "<style scoped>\n",
       "    .dataframe tbody tr th:only-of-type {\n",
       "        vertical-align: middle;\n",
       "    }\n",
       "\n",
       "    .dataframe tbody tr th {\n",
       "        vertical-align: top;\n",
       "    }\n",
       "\n",
       "    .dataframe thead th {\n",
       "        text-align: right;\n",
       "    }\n",
       "</style>\n",
       "<table border=\"1\" class=\"dataframe\">\n",
       "  <thead>\n",
       "    <tr style=\"text-align: right;\">\n",
       "      <th></th>\n",
       "      <th>AGER_TYP</th>\n",
       "      <th>AKT_DAT_KL</th>\n",
       "      <th>ALTER_HH</th>\n",
       "      <th>ALTERSKATEGORIE_FEIN</th>\n",
       "      <th>ANZ_HAUSHALTE_AKTIV</th>\n",
       "      <th>ANZ_HH_TITEL</th>\n",
       "      <th>ANZ_KINDER</th>\n",
       "      <th>ANZ_PERSONEN</th>\n",
       "      <th>ANZ_TITEL</th>\n",
       "      <th>ARBEIT</th>\n",
       "      <th>...</th>\n",
       "      <th>CAMEO_DEU_2015_8B</th>\n",
       "      <th>CAMEO_DEU_2015_8C</th>\n",
       "      <th>CAMEO_DEU_2015_8D</th>\n",
       "      <th>CAMEO_DEU_2015_9A</th>\n",
       "      <th>CAMEO_DEU_2015_9B</th>\n",
       "      <th>CAMEO_DEU_2015_9C</th>\n",
       "      <th>CAMEO_DEU_2015_9D</th>\n",
       "      <th>CAMEO_DEU_2015_9E</th>\n",
       "      <th>OST_WEST_KZ_O</th>\n",
       "      <th>OST_WEST_KZ_W</th>\n",
       "    </tr>\n",
       "  </thead>\n",
       "  <tbody>\n",
       "    <tr>\n",
       "      <th>0</th>\n",
       "      <td>1.189681</td>\n",
       "      <td>-0.325074</td>\n",
       "      <td>0.192466</td>\n",
       "      <td>-0.068433</td>\n",
       "      <td>-0.235979</td>\n",
       "      <td>-0.105218</td>\n",
       "      <td>-0.238379</td>\n",
       "      <td>-0.166805</td>\n",
       "      <td>-0.116283</td>\n",
       "      <td>-2.144783</td>\n",
       "      <td>...</td>\n",
       "      <td>-0.142037</td>\n",
       "      <td>-0.121786</td>\n",
       "      <td>-0.10791</td>\n",
       "      <td>-0.073256</td>\n",
       "      <td>-0.069338</td>\n",
       "      <td>-0.071949</td>\n",
       "      <td>-0.10157</td>\n",
       "      <td>-0.089055</td>\n",
       "      <td>-0.250816</td>\n",
       "      <td>0.250816</td>\n",
       "    </tr>\n",
       "    <tr>\n",
       "      <th>1</th>\n",
       "      <td>-0.966005</td>\n",
       "      <td>4.271391</td>\n",
       "      <td>0.329163</td>\n",
       "      <td>-0.068433</td>\n",
       "      <td>-0.235979</td>\n",
       "      <td>-0.105218</td>\n",
       "      <td>-0.238379</td>\n",
       "      <td>0.656067</td>\n",
       "      <td>-0.116283</td>\n",
       "      <td>0.147901</td>\n",
       "      <td>...</td>\n",
       "      <td>-0.142037</td>\n",
       "      <td>-0.121786</td>\n",
       "      <td>-0.10791</td>\n",
       "      <td>-0.073256</td>\n",
       "      <td>-0.069338</td>\n",
       "      <td>-0.071949</td>\n",
       "      <td>-0.10157</td>\n",
       "      <td>-0.089055</td>\n",
       "      <td>-0.250816</td>\n",
       "      <td>0.250816</td>\n",
       "    </tr>\n",
       "    <tr>\n",
       "      <th>2</th>\n",
       "      <td>-0.966005</td>\n",
       "      <td>-0.325074</td>\n",
       "      <td>-0.354319</td>\n",
       "      <td>-2.897572</td>\n",
       "      <td>-0.235979</td>\n",
       "      <td>-0.105218</td>\n",
       "      <td>-0.238379</td>\n",
       "      <td>-0.989677</td>\n",
       "      <td>-0.116283</td>\n",
       "      <td>0.147901</td>\n",
       "      <td>...</td>\n",
       "      <td>-0.142037</td>\n",
       "      <td>-0.121786</td>\n",
       "      <td>-0.10791</td>\n",
       "      <td>-0.073256</td>\n",
       "      <td>-0.069338</td>\n",
       "      <td>-0.071949</td>\n",
       "      <td>-0.10157</td>\n",
       "      <td>-0.089055</td>\n",
       "      <td>-0.250816</td>\n",
       "      <td>0.250816</td>\n",
       "    </tr>\n",
       "    <tr>\n",
       "      <th>3</th>\n",
       "      <td>0.471119</td>\n",
       "      <td>-0.325074</td>\n",
       "      <td>-0.080926</td>\n",
       "      <td>-0.634261</td>\n",
       "      <td>-0.316443</td>\n",
       "      <td>-0.105218</td>\n",
       "      <td>-0.238379</td>\n",
       "      <td>-1.812549</td>\n",
       "      <td>-0.116283</td>\n",
       "      <td>-2.144783</td>\n",
       "      <td>...</td>\n",
       "      <td>-0.142037</td>\n",
       "      <td>-0.121786</td>\n",
       "      <td>-0.10791</td>\n",
       "      <td>-0.073256</td>\n",
       "      <td>-0.069338</td>\n",
       "      <td>-0.071949</td>\n",
       "      <td>-0.10157</td>\n",
       "      <td>-0.089055</td>\n",
       "      <td>-0.250816</td>\n",
       "      <td>0.250816</td>\n",
       "    </tr>\n",
       "    <tr>\n",
       "      <th>4</th>\n",
       "      <td>-0.966005</td>\n",
       "      <td>-0.325074</td>\n",
       "      <td>1.559431</td>\n",
       "      <td>1.063223</td>\n",
       "      <td>0.246806</td>\n",
       "      <td>-0.105218</td>\n",
       "      <td>-0.238379</td>\n",
       "      <td>1.478939</td>\n",
       "      <td>-0.116283</td>\n",
       "      <td>0.147901</td>\n",
       "      <td>...</td>\n",
       "      <td>-0.142037</td>\n",
       "      <td>-0.121786</td>\n",
       "      <td>-0.10791</td>\n",
       "      <td>-0.073256</td>\n",
       "      <td>-0.069338</td>\n",
       "      <td>-0.071949</td>\n",
       "      <td>-0.10157</td>\n",
       "      <td>-0.089055</td>\n",
       "      <td>-0.250816</td>\n",
       "      <td>0.250816</td>\n",
       "    </tr>\n",
       "  </tbody>\n",
       "</table>\n",
       "<p>5 rows × 312 columns</p>\n",
       "</div>"
      ],
      "text/plain": [
       "   AGER_TYP  AKT_DAT_KL  ALTER_HH  ALTERSKATEGORIE_FEIN  ANZ_HAUSHALTE_AKTIV  \\\n",
       "0  1.189681   -0.325074  0.192466             -0.068433            -0.235979   \n",
       "1 -0.966005    4.271391  0.329163             -0.068433            -0.235979   \n",
       "2 -0.966005   -0.325074 -0.354319             -2.897572            -0.235979   \n",
       "3  0.471119   -0.325074 -0.080926             -0.634261            -0.316443   \n",
       "4 -0.966005   -0.325074  1.559431              1.063223             0.246806   \n",
       "\n",
       "   ANZ_HH_TITEL  ANZ_KINDER  ANZ_PERSONEN  ANZ_TITEL    ARBEIT  ...  \\\n",
       "0     -0.105218   -0.238379     -0.166805  -0.116283 -2.144783  ...   \n",
       "1     -0.105218   -0.238379      0.656067  -0.116283  0.147901  ...   \n",
       "2     -0.105218   -0.238379     -0.989677  -0.116283  0.147901  ...   \n",
       "3     -0.105218   -0.238379     -1.812549  -0.116283 -2.144783  ...   \n",
       "4     -0.105218   -0.238379      1.478939  -0.116283  0.147901  ...   \n",
       "\n",
       "   CAMEO_DEU_2015_8B  CAMEO_DEU_2015_8C  CAMEO_DEU_2015_8D  CAMEO_DEU_2015_9A  \\\n",
       "0          -0.142037          -0.121786           -0.10791          -0.073256   \n",
       "1          -0.142037          -0.121786           -0.10791          -0.073256   \n",
       "2          -0.142037          -0.121786           -0.10791          -0.073256   \n",
       "3          -0.142037          -0.121786           -0.10791          -0.073256   \n",
       "4          -0.142037          -0.121786           -0.10791          -0.073256   \n",
       "\n",
       "   CAMEO_DEU_2015_9B  CAMEO_DEU_2015_9C  CAMEO_DEU_2015_9D  CAMEO_DEU_2015_9E  \\\n",
       "0          -0.069338          -0.071949           -0.10157          -0.089055   \n",
       "1          -0.069338          -0.071949           -0.10157          -0.089055   \n",
       "2          -0.069338          -0.071949           -0.10157          -0.089055   \n",
       "3          -0.069338          -0.071949           -0.10157          -0.089055   \n",
       "4          -0.069338          -0.071949           -0.10157          -0.089055   \n",
       "\n",
       "   OST_WEST_KZ_O  OST_WEST_KZ_W  \n",
       "0      -0.250816       0.250816  \n",
       "1      -0.250816       0.250816  \n",
       "2      -0.250816       0.250816  \n",
       "3      -0.250816       0.250816  \n",
       "4      -0.250816       0.250816  \n",
       "\n",
       "[5 rows x 312 columns]"
      ]
     },
     "execution_count": 28,
     "metadata": {},
     "output_type": "execute_result"
    }
   ],
   "source": [
    "customers.head()"
   ]
  },
  {
   "cell_type": "code",
   "execution_count": 29,
   "metadata": {
    "scrolled": true
   },
   "outputs": [
    {
     "name": "stdout",
     "output_type": "stream",
     "text": [
      "(744305, 312)\n",
      "(191652, 312)\n"
     ]
    }
   ],
   "source": [
    "print(azdias.shape)\n",
    "print(customers.shape)"
   ]
  },
  {
   "cell_type": "markdown",
   "metadata": {},
   "source": [
    "### Dimensionality Reduction - PCA"
   ]
  },
  {
   "cell_type": "markdown",
   "metadata": {},
   "source": [
    "The data is now ready for dimensionality reduction. \n",
    "Use sklearn's PCA class to apply principal component analysis on the data, thus finding the vectors of maximal variance in the data. "
   ]
  },
  {
   "cell_type": "code",
   "execution_count": 47,
   "metadata": {},
   "outputs": [],
   "source": [
    "# Perform PCA \n",
    "pca = PCA()\n",
    "azdias_pca = pca.fit_transform(azdias)"
   ]
  },
  {
   "cell_type": "code",
   "execution_count": 48,
   "metadata": {},
   "outputs": [],
   "source": [
    "# Using this function from Udacity's class\n",
    "def scree_plot(pca, num_components=None):\n",
    "    '''\n",
    "    Creates a scree plot associated with the principal components \n",
    "    \n",
    "    INPUT: pca - the result of instantian of PCA in scikit learn\n",
    "            \n",
    "    OUTPUT:\n",
    "            None\n",
    "    '''\n",
    "    if (num_components == None):\n",
    "        num_components = len(pca.explained_variance_ratio_)\n",
    "    ind = np.arange(num_components)\n",
    "    vals = pca.explained_variance_ratio_[:num_components]\n",
    " \n",
    "    plt.figure(figsize=(18, 12))\n",
    "    ax = plt.subplot(111)\n",
    "    cumvals = np.cumsum(vals)\n",
    "    ax.bar(ind, vals)\n",
    "    ax.plot(ind, cumvals)\n",
    " \n",
    "    ax.set_xlabel(\"Principal Component\")\n",
    "    ax.set_ylabel(\"Variance Explained (%)\")\n",
    "    plt.title('Explained Variance Per Principal Component')"
   ]
  },
  {
   "cell_type": "code",
   "execution_count": 49,
   "metadata": {},
   "outputs": [
    {
     "data": {
      "image/png": "[encoded data removed]",
      "text/plain": [
       "<Figure size 1296x864 with 1 Axes>"
      ]
     },
     "metadata": {
      "needs_background": "light"
     },
     "output_type": "display_data"
    }
   ],
   "source": [
    "scree_plot(pca)"
   ]
  },
  {
   "cell_type": "code",
   "execution_count": 50,
   "metadata": {},
   "outputs": [
    {
     "name": "stdout",
     "output_type": "stream",
     "text": [
      "10 components explains 26.902190737478104% of variance\n",
      "30 components explains 41.69724273591772% of variance\n",
      "50 components explains 50.50828836219898% of variance\n",
      "70 components explains 57.43200162028395% of variance\n",
      "90 components explains 63.942451103513% of variance\n",
      "110 components explains 70.1637418158014% of variance\n",
      "130 components explains 75.7430885215517% of variance\n",
      "150 components explains 80.72916389575636% of variance\n",
      "170 components explains 85.17967055399541% of variance\n",
      "190 components explains 89.07342290572663% of variance\n",
      "210 components explains 92.3025479234256% of variance\n",
      "230 components explains 94.80731100329045% of variance\n",
      "250 components explains 96.75943904448626% of variance\n",
      "270 components explains 98.25973590670007% of variance\n",
      "290 components explains 99.35660537025502% of variance\n",
      "310 components explains 100.0% of variance\n"
     ]
    }
   ],
   "source": [
    "# Variance Explained by increasing components\n",
    "for i in np.arange(10, len(pca.explained_variance_ratio_), 20):\n",
    "    print('{} components explains {}% of variance'.format(i,(pca.explained_variance_ratio_[:i].sum()) * 100))"
   ]
  },
  {
   "cell_type": "code",
   "execution_count": 53,
   "metadata": {},
   "outputs": [
    {
     "data": {
      "text/plain": [
       "0.8721086702452737"
      ]
     },
     "execution_count": 53,
     "metadata": {},
     "output_type": "execute_result"
    }
   ],
   "source": [
    "# Choosing number of componetns\n",
    "pca.explained_variance_ratio_[:180].sum()"
   ]
  },
  {
   "cell_type": "markdown",
   "metadata": {},
   "source": [
    "Choosing 180 components, the variance explained is around 87%"
   ]
  },
  {
   "cell_type": "code",
   "execution_count": 54,
   "metadata": {},
   "outputs": [],
   "source": [
    "# Re-apply PCA to the data while selecting for number of components to retain.\n",
    "pca = PCA(n_components=180)\n",
    "azdias_pca = pca.fit_transform(azdias)"
   ]
  },
  {
   "cell_type": "code",
   "execution_count": 55,
   "metadata": {},
   "outputs": [
    {
     "data": {
      "image/png": "[encoded data removed]",
      "text/plain": [
       "<Figure size 1296x864 with 1 Axes>"
      ]
     },
     "metadata": {
      "needs_background": "light"
     },
     "output_type": "display_data"
    }
   ],
   "source": [
    "scree_plot(pca,num_components=180)"
   ]
  },
  {
   "cell_type": "markdown",
   "metadata": {},
   "source": [
    "With 180 componets we were able to explained 87% of variability, we have reduced the number of features from 312 to only 180\n",
    "- We have reduced the data by 132 features and still kept 87 % of variance explained.\n"
   ]
  },
  {
   "cell_type": "code",
   "execution_count": 57,
   "metadata": {},
   "outputs": [],
   "source": [
    "# Visualize PCA Results\n",
    "def pca_results(df, pca, component_no, features_no):\n",
    "    '''\n",
    "    Create a DataFrame of the PCA results\n",
    "    Visualizes the PCA results for a speacific component number for a speacific number of features\n",
    "    \n",
    "    '''\n",
    "    \n",
    "    pca_comp = pd.DataFrame(np.round(pca.components_, 4), columns=df.keys()).iloc[component_no - 1]\n",
    "    pca_comp.sort_values(ascending=False, inplace=True)\n",
    "    # Capturing most interesting features which at the end and beginning of sorted list\n",
    "    pca_comp = pd.concat([pca_comp.head(features_no), pca_comp.tail(features_no)])\n",
    "    \n",
    "    pca_comp.plot(kind='bar', \n",
    "                  title='Most {} weighted features for PCA component {}'.format(features_no*2, component_no),\n",
    "                  figsize=(12, 6));\n",
    "    plt.show()\n",
    "    \n",
    "    return pca_comp"
   ]
  },
  {
   "cell_type": "code",
   "execution_count": 58,
   "metadata": {},
   "outputs": [
    {
     "data": {
      "image/png": "[encoded data removed]",
      "text/plain": [
       "<Figure size 864x432 with 1 Axes>"
      ]
     },
     "metadata": {
      "needs_background": "light"
     },
     "output_type": "display_data"
    },
    {
     "data": {
      "text/plain": [
       "HH_EINKOMMEN_SCORE    0.1610\n",
       "CAMEO_DEUG_2015       0.1595\n",
       "KBA13_ANTG4           0.1430\n",
       "FINANZ_HAUSBAUER      0.1244\n",
       "ARBEIT                0.1163\n",
       "KBA05_GBZ            -0.1489\n",
       "KBA13_ANTG1          -0.1509\n",
       "LP_STATUS_FEIN       -0.1539\n",
       "KBA05_AUTOQUOT       -0.1557\n",
       "KBA05_ANTG1          -0.1558\n",
       "Name: 0, dtype: float64"
      ]
     },
     "execution_count": 58,
     "metadata": {},
     "output_type": "execute_result"
    }
   ],
   "source": [
    "# Map weights for the first principal component to corresponding feature names\n",
    "# and then print the linked values, sorted by weight.\n",
    "pca_results(azdias, pca, 1, 5)"
   ]
  },
  {
   "cell_type": "code",
   "execution_count": 60,
   "metadata": {},
   "outputs": [],
   "source": [
    "\n",
    "# Map weights for the first principal component to corresponding feature names\n",
    "# and then print the linked values, sorted by weight.\n",
    "# HINT: Try defining a function here or in a new cell that you can reuse in the\n",
    "# other cells.\n",
    "\n",
    "# Map weights for the third principal component to corresponding feature names\n",
    "# and then print the linked values, sorted by weight.\n",
    "\n",
    "# Plot features_no features with the most positive and negative variance\n",
    "# for a component_no PCA component\n",
    "def pca_results(df, pca, component_no, features_no, show_plot=True):\n",
    "    \n",
    "    # Build a dataframe with features_no features capturing most variability\n",
    "    # for a given component number (component_no)\n",
    "    pca_comp = pd.DataFrame(np.round(pca.components_, 4), columns=df.keys()).iloc[component_no - 1]\n",
    "    pca_comp.sort_values(ascending=False, inplace=True)\n",
    "    pca_comp = pd.concat([pca_comp.head(features_no), pca_comp.tail(features_no)])\n",
    "    \n",
    "    if show_plot:\n",
    "        # Plot the result\n",
    "        pca_comp.plot(kind='bar', \n",
    "                  title='Most {} weighted features for PCA component {}'.format(features_no*2, component_no),\n",
    "                  figsize=(12, 6))\n",
    "        plt.show()\n",
    "    \n",
    "    return pca_comp"
   ]
  },
  {
   "cell_type": "code",
   "execution_count": 61,
   "metadata": {},
   "outputs": [
    {
     "data": {
      "image/png": "[encoded data removed]",
      "text/plain": [
       "<Figure size 864x432 with 1 Axes>"
      ]
     },
     "metadata": {
      "needs_background": "light"
     },
     "output_type": "display_data"
    },
    {
     "name": "stdout",
     "output_type": "stream",
     "text": [
      "KBA13_CCM_1200      0.2470\n",
      "KBA13_CCM_2500      0.2227\n",
      "RETOURTYP_BK_S      0.2086\n",
      "GREEN_AVANTGARDE    0.2043\n",
      "KBA13_KW_60         0.1744\n",
      "KBA13_CCM_1000     -0.1530\n",
      "KBA13_AUDI         -0.1558\n",
      "KBA13_KW_120       -0.1997\n",
      "UMFELD_ALT         -0.2972\n",
      "KBA13_KW_50        -0.3114\n",
      "Name: 179, dtype: float64\n"
     ]
    },
    {
     "data": {
      "image/png": "[encoded data removed]",
      "text/plain": [
       "<Figure size 864x432 with 1 Axes>"
      ]
     },
     "metadata": {
      "needs_background": "light"
     },
     "output_type": "display_data"
    },
    {
     "name": "stdout",
     "output_type": "stream",
     "text": [
      "HH_EINKOMMEN_SCORE    0.1610\n",
      "CAMEO_DEUG_2015       0.1595\n",
      "KBA13_ANTG4           0.1430\n",
      "FINANZ_HAUSBAUER      0.1244\n",
      "ARBEIT                0.1163\n",
      "KBA05_GBZ            -0.1489\n",
      "KBA13_ANTG1          -0.1509\n",
      "LP_STATUS_FEIN       -0.1539\n",
      "KBA05_AUTOQUOT       -0.1557\n",
      "KBA05_ANTG1          -0.1558\n",
      "Name: 0, dtype: float64\n"
     ]
    },
    {
     "data": {
      "image/png": "[encoded data removed]",
      "text/plain": [
       "<Figure size 864x432 with 1 Axes>"
      ]
     },
     "metadata": {
      "needs_background": "light"
     },
     "output_type": "display_data"
    },
    {
     "name": "stdout",
     "output_type": "stream",
     "text": [
      "KBA13_HERST_BMW_BENZ           0.2009\n",
      "KBA13_SEG_OBEREMITTELKLASSE    0.1758\n",
      "KBA13_BMW                      0.1745\n",
      "KBA13_SITZE_4                  0.1592\n",
      "KBA13_SEG_SPORTWAGEN           0.1559\n",
      "KBA13_HERST_FORD_OPEL         -0.1196\n",
      "KBA13_ALTERHALTER_60          -0.1224\n",
      "KBA13_HALTER_20               -0.1312\n",
      "KBA13_KMH_180                 -0.1340\n",
      "KBA13_KMH_140_210             -0.1519\n",
      "Name: 1, dtype: float64\n"
     ]
    }
   ],
   "source": [
    "\n",
    "# Check first 3 components\n",
    "for i in np.arange(0, 3, 1):\n",
    "    res = pca_results(azdias, pca, i, 5)\n",
    "    print(res)"
   ]
  },
  {
   "cell_type": "markdown",
   "metadata": {},
   "source": [
    "#### Interprete PCA Results\n",
    "\n",
    "The top 10 weighted features for the PCA for the first 3 components."
   ]
  },
  {
   "cell_type": "markdown",
   "metadata": {},
   "source": [
    "##### COMPONENT 0"
   ]
  },
  {
   "cell_type": "markdown",
   "metadata": {},
   "source": [
    "***Positively correlated features***\n",
    "- **_KBA13_CCM_1200_** -  share of cars with 1000ccm to 1199ccm within the PLZ8\n",
    "- **_KBA13_CCM_2500_** - share of cars with 2000ccm to 2499ccm within the PLZ8\n",
    "- **_RETOURTYP_BK_S_** - return type- how likely a shopper is going to return to shop again \n",
    "- **_GREEN_AVANTGARDE_** - the environmental sustainability is the dominating movement in the youth of these consumers\n",
    "- **_KBA13_KW_60_** - share of cars with an engine power between 51 and 60 KW - PLZ8\n",
    "\n",
    "***Negatively correlated features***\n",
    "- **_KBA13_CCM_1000_** - share of cars with less than 1000ccm within the PLZ8\n",
    "- **_KBA13_AUDI_** - share of AUDI within the PLZ8\n",
    "- **_KBA13_KW_120_** - share of cars with an engine power between 111 and 120 KW - PLZ8\n",
    "- **_UMFELD_ALT_** -\n",
    "- **_KBA13_KW_50_** - share of cars with an engine power between 41 and 50 KW - PLZ8\n"
   ]
  },
  {
   "cell_type": "markdown",
   "metadata": {},
   "source": [
    "##### COMPONENT 1"
   ]
  },
  {
   "cell_type": "markdown",
   "metadata": {},
   "source": [
    "***Positively correlated features***\n",
    "- **_HH_EINKOMMEN_SCORE_** - estimated household net income\n",
    "- **_CAMEO_DEUG_2015_** - Typology clasification based on classes (upper/lower class)\n",
    "- **_KBA13_ANTG4_** - unknown attributes with associated with car in PLZ8\n",
    "- **_FINANZ_HAUSBAUER_** - financial typology: main focus is the own house\n",
    "- **_ARBEIT_** - share of unemployed person in the community\t\n",
    "\n",
    "***Negatively correlated features***\n",
    "- **_KBA05_GBZ_** - number of buildings in the microcell\t\n",
    "- **_KBA13_ANTG1_** - share of unknown car in PLZ8\n",
    "- **_LP_STATUS_FEIN_** - social status \n",
    "- **_KBA05_AUTOQUOT_** - share of cars per household\t\n",
    "- **_KBA05_ANTG1_50_** - number of 1-2 family houses in the cell\t"
   ]
  },
  {
   "cell_type": "markdown",
   "metadata": {},
   "source": [
    "##### COMPONENT 2"
   ]
  },
  {
   "cell_type": "markdown",
   "metadata": {},
   "source": [
    "***Positively correlated features***\n",
    "- **_KBA13_HERST_BMW_BENZ_** - share of BMW & Mercedes Benz within the PLZ8\n",
    "- **_KBA13_SEG_OBEREMITTELKLASSE_** - share of upper middle class cars and upper class cars (BMW5er, BMW7er etc.)\n",
    "- **_KBA13_BMW_** - share of BMW within the PLZ8\t\n",
    "- **_KBA13_SITZE_4_** - number of cars with less than 5 seats in the PLZ8\n",
    "- **_KBA13_SEG_SPORTWAGEN_** - share of sportscars within the PLZ8\t\n",
    "\n",
    "***Negatively correlated features***\n",
    "- **_KBA13_HERST_FORD_OPEL_** - share of Ford & Opel/Vauxhall within the PLZ8\t\t\n",
    "- **_KBA13_ALTERHALTER_60_** - share of car owners between 46 and 60 within the PLZ8\n",
    "- **_KBA13_HALTER_20_** - share of car owners below 21 within the PLZ8\n",
    "- **_KBA13_KMH_180_** - share of cars with max speed between 110 km/h and 180km/h within the PLZ8\t\n",
    "- **_KBA13_KMH_140_210_** - share of cars with max speed between 140 and 210 km/h within the PLZ8"
   ]
  },
  {
   "cell_type": "markdown",
   "metadata": {},
   "source": [
    "###  Clustering"
   ]
  },
  {
   "cell_type": "markdown",
   "metadata": {},
   "source": [
    "Apply k-means clustering to the dataset and use the average within-cluster distances from each point to their assigned cluster's centroid to decide on a number of clusters to keep."
   ]
  },
  {
   "cell_type": "markdown",
   "metadata": {},
   "source": [
    "#### K-Means - General population (azdias)"
   ]
  },
  {
   "cell_type": "code",
   "execution_count": 184,
   "metadata": {},
   "outputs": [],
   "source": [
    "# K-Means fucntion from Udacity k-means\n",
    "def get_kmeans_score(data, center):\n",
    "    '''\n",
    "    returns the kmeans score regarding SSE for points to centers\n",
    "    INPUT:\n",
    "        data - the dataset you want to fit kmeans to\n",
    "        center - the number of centers you want (the k value)\n",
    "    OUTPUT:\n",
    "        score - the SSE score for the kmeans model fit to the data\n",
    "    '''\n",
    "    #instantiate kmeans\n",
    "    kmeans = KMeans(n_clusters=center, max_iter=30) \n",
    "\n",
    "    # Then fit the model to your data using the fit method\n",
    "    model = kmeans.fit(data)\n",
    "    \n",
    "    # Obtain a score related to the model fit\n",
    "    score = np.abs(model.score(data))\n",
    "    \n",
    "    return score"
   ]
  },
  {
   "cell_type": "code",
   "execution_count": 185,
   "metadata": {},
   "outputs": [],
   "source": [
    "# Over a number of different cluster counts...\n",
    "# run k-means clustering on the data and...\n",
    "# compute the average within-cluster distances.\n",
    "\n",
    "scores = []\n",
    "centers = np.arange(1,30,2)\n",
    "\n",
    "for center in centers:\n",
    "    scores.append(get_kmeans_score(azdias_pca, center))"
   ]
  },
  {
   "cell_type": "code",
   "execution_count": 186,
   "metadata": {},
   "outputs": [
    {
     "data": {
      "image/png": "[encoded data removed]",
      "text/plain": [
       "<Figure size 576x396 with 1 Axes>"
      ]
     },
     "metadata": {},
     "output_type": "display_data"
    }
   ],
   "source": [
    "# Investigate the change in within-cluster distance across number of clusters.\n",
    "plt.plot(centers, scores, linestyle='--', marker='o', color='b');\n",
    "plt.xlabel('Centers');\n",
    "plt.ylabel('SSE');\n",
    "plt.title('SSE vs. Centers');"
   ]
  },
  {
   "cell_type": "markdown",
   "metadata": {},
   "source": [
    "To find the right number of clusters, Elbow Method were used. Unfortunatelly there is no clearly distinguishable elbow in the plot, nevertheless the plot starts to flatten more after K = 22 so 22 is chosen as the number of clusters for the full dataset."
   ]
  },
  {
   "cell_type": "code",
   "execution_count": 187,
   "metadata": {},
   "outputs": [
    {
     "data": {
      "text/plain": [
       "array([[-3.20821035, -3.60203422, -5.14383919, ...,  0.72651149,\n",
       "        -0.73178889, -0.75640715],\n",
       "       [-3.05669414, -0.97492101,  1.38158378, ..., -0.14130874,\n",
       "         0.21353974, -0.85775866],\n",
       "       [-3.01630546, -5.1754569 ,  2.57128741, ..., -0.83877368,\n",
       "         0.35747054,  0.2872013 ],\n",
       "       ...,\n",
       "       [-3.94199963,  2.36402336, -0.79743758, ..., -0.69291247,\n",
       "        -0.87816196, -1.02325298],\n",
       "       [ 5.45383941,  2.35557783,  2.25302965, ..., -1.23103393,\n",
       "         0.46970119, -0.98848325],\n",
       "       [-6.14226593,  0.73065701, -6.88825624, ...,  2.29241563,\n",
       "        -0.11851782, -0.63637582]])"
      ]
     },
     "execution_count": 187,
     "metadata": {},
     "output_type": "execute_result"
    }
   ],
   "source": [
    "# Create a toy dataset to reduce computation time\n",
    "# Reduce the size to 25%\n",
    "azdias_pca_sample = azdias_pca[np.random.choice(azdias_pca.shape[0], int(azdias_pca.shape[0]*0.25), replace=False)]\n",
    "azdias_pca_sample"
   ]
  },
  {
   "cell_type": "code",
   "execution_count": 188,
   "metadata": {},
   "outputs": [
    {
     "name": "stderr",
     "output_type": "stream",
     "text": [
      "C:\\ProgramData\\Anaconda3\\lib\\site-packages\\sklearn\\cluster\\_kmeans.py:973: FutureWarning: 'n_jobs' was deprecated in version 0.23 and will be removed in 0.25.\n",
      "  warnings.warn(\"'n_jobs' was deprecated in version 0.23 and will be\"\n"
     ]
    },
    {
     "name": "stdout",
     "output_type": "stream",
     "text": [
      "Clustering done for 10 k, with SSE 42337008.71951024\n"
     ]
    },
    {
     "name": "stderr",
     "output_type": "stream",
     "text": [
      "C:\\ProgramData\\Anaconda3\\lib\\site-packages\\sklearn\\cluster\\_kmeans.py:973: FutureWarning: 'n_jobs' was deprecated in version 0.23 and will be removed in 0.25.\n",
      "  warnings.warn(\"'n_jobs' was deprecated in version 0.23 and will be\"\n"
     ]
    },
    {
     "name": "stdout",
     "output_type": "stream",
     "text": [
      "Clustering done for 11 k, with SSE 42108385.569391504\n"
     ]
    },
    {
     "name": "stderr",
     "output_type": "stream",
     "text": [
      "C:\\ProgramData\\Anaconda3\\lib\\site-packages\\sklearn\\cluster\\_kmeans.py:973: FutureWarning: 'n_jobs' was deprecated in version 0.23 and will be removed in 0.25.\n",
      "  warnings.warn(\"'n_jobs' was deprecated in version 0.23 and will be\"\n"
     ]
    },
    {
     "name": "stdout",
     "output_type": "stream",
     "text": [
      "Clustering done for 12 k, with SSE 41906210.49174486\n"
     ]
    },
    {
     "name": "stderr",
     "output_type": "stream",
     "text": [
      "C:\\ProgramData\\Anaconda3\\lib\\site-packages\\sklearn\\cluster\\_kmeans.py:973: FutureWarning: 'n_jobs' was deprecated in version 0.23 and will be removed in 0.25.\n",
      "  warnings.warn(\"'n_jobs' was deprecated in version 0.23 and will be\"\n"
     ]
    },
    {
     "name": "stdout",
     "output_type": "stream",
     "text": [
      "Clustering done for 13 k, with SSE 41654754.68684188\n"
     ]
    },
    {
     "name": "stderr",
     "output_type": "stream",
     "text": [
      "C:\\ProgramData\\Anaconda3\\lib\\site-packages\\sklearn\\cluster\\_kmeans.py:973: FutureWarning: 'n_jobs' was deprecated in version 0.23 and will be removed in 0.25.\n",
      "  warnings.warn(\"'n_jobs' was deprecated in version 0.23 and will be\"\n"
     ]
    },
    {
     "name": "stdout",
     "output_type": "stream",
     "text": [
      "Clustering done for 14 k, with SSE 41508817.79501742\n"
     ]
    },
    {
     "name": "stderr",
     "output_type": "stream",
     "text": [
      "C:\\ProgramData\\Anaconda3\\lib\\site-packages\\sklearn\\cluster\\_kmeans.py:973: FutureWarning: 'n_jobs' was deprecated in version 0.23 and will be removed in 0.25.\n",
      "  warnings.warn(\"'n_jobs' was deprecated in version 0.23 and will be\"\n"
     ]
    },
    {
     "name": "stdout",
     "output_type": "stream",
     "text": [
      "Clustering done for 15 k, with SSE 41285869.88956661\n"
     ]
    },
    {
     "name": "stderr",
     "output_type": "stream",
     "text": [
      "C:\\ProgramData\\Anaconda3\\lib\\site-packages\\sklearn\\cluster\\_kmeans.py:973: FutureWarning: 'n_jobs' was deprecated in version 0.23 and will be removed in 0.25.\n",
      "  warnings.warn(\"'n_jobs' was deprecated in version 0.23 and will be\"\n"
     ]
    },
    {
     "name": "stdout",
     "output_type": "stream",
     "text": [
      "Clustering done for 16 k, with SSE 41241457.3415008\n"
     ]
    },
    {
     "name": "stderr",
     "output_type": "stream",
     "text": [
      "C:\\ProgramData\\Anaconda3\\lib\\site-packages\\sklearn\\cluster\\_kmeans.py:973: FutureWarning: 'n_jobs' was deprecated in version 0.23 and will be removed in 0.25.\n",
      "  warnings.warn(\"'n_jobs' was deprecated in version 0.23 and will be\"\n"
     ]
    },
    {
     "name": "stdout",
     "output_type": "stream",
     "text": [
      "Clustering done for 17 k, with SSE 40966761.46979014\n"
     ]
    },
    {
     "name": "stderr",
     "output_type": "stream",
     "text": [
      "C:\\ProgramData\\Anaconda3\\lib\\site-packages\\sklearn\\cluster\\_kmeans.py:973: FutureWarning: 'n_jobs' was deprecated in version 0.23 and will be removed in 0.25.\n",
      "  warnings.warn(\"'n_jobs' was deprecated in version 0.23 and will be\"\n"
     ]
    },
    {
     "name": "stdout",
     "output_type": "stream",
     "text": [
      "Clustering done for 18 k, with SSE 40845352.977612875\n"
     ]
    },
    {
     "name": "stderr",
     "output_type": "stream",
     "text": [
      "C:\\ProgramData\\Anaconda3\\lib\\site-packages\\sklearn\\cluster\\_kmeans.py:973: FutureWarning: 'n_jobs' was deprecated in version 0.23 and will be removed in 0.25.\n",
      "  warnings.warn(\"'n_jobs' was deprecated in version 0.23 and will be\"\n"
     ]
    },
    {
     "name": "stdout",
     "output_type": "stream",
     "text": [
      "Clustering done for 19 k, with SSE 40718156.47682739\n"
     ]
    },
    {
     "name": "stderr",
     "output_type": "stream",
     "text": [
      "C:\\ProgramData\\Anaconda3\\lib\\site-packages\\sklearn\\cluster\\_kmeans.py:973: FutureWarning: 'n_jobs' was deprecated in version 0.23 and will be removed in 0.25.\n",
      "  warnings.warn(\"'n_jobs' was deprecated in version 0.23 and will be\"\n"
     ]
    },
    {
     "name": "stdout",
     "output_type": "stream",
     "text": [
      "Clustering done for 20 k, with SSE 40577453.279080756\n"
     ]
    },
    {
     "name": "stderr",
     "output_type": "stream",
     "text": [
      "C:\\ProgramData\\Anaconda3\\lib\\site-packages\\sklearn\\cluster\\_kmeans.py:973: FutureWarning: 'n_jobs' was deprecated in version 0.23 and will be removed in 0.25.\n",
      "  warnings.warn(\"'n_jobs' was deprecated in version 0.23 and will be\"\n"
     ]
    },
    {
     "name": "stdout",
     "output_type": "stream",
     "text": [
      "Clustering done for 21 k, with SSE 40513453.43081363\n"
     ]
    },
    {
     "name": "stderr",
     "output_type": "stream",
     "text": [
      "C:\\ProgramData\\Anaconda3\\lib\\site-packages\\sklearn\\cluster\\_kmeans.py:973: FutureWarning: 'n_jobs' was deprecated in version 0.23 and will be removed in 0.25.\n",
      "  warnings.warn(\"'n_jobs' was deprecated in version 0.23 and will be\"\n"
     ]
    },
    {
     "name": "stdout",
     "output_type": "stream",
     "text": [
      "Clustering done for 22 k, with SSE 40394317.27126055\n"
     ]
    },
    {
     "name": "stderr",
     "output_type": "stream",
     "text": [
      "C:\\ProgramData\\Anaconda3\\lib\\site-packages\\sklearn\\cluster\\_kmeans.py:973: FutureWarning: 'n_jobs' was deprecated in version 0.23 and will be removed in 0.25.\n",
      "  warnings.warn(\"'n_jobs' was deprecated in version 0.23 and will be\"\n"
     ]
    },
    {
     "name": "stdout",
     "output_type": "stream",
     "text": [
      "Clustering done for 23 k, with SSE 40303808.14636363\n"
     ]
    },
    {
     "name": "stderr",
     "output_type": "stream",
     "text": [
      "C:\\ProgramData\\Anaconda3\\lib\\site-packages\\sklearn\\cluster\\_kmeans.py:973: FutureWarning: 'n_jobs' was deprecated in version 0.23 and will be removed in 0.25.\n",
      "  warnings.warn(\"'n_jobs' was deprecated in version 0.23 and will be\"\n"
     ]
    },
    {
     "name": "stdout",
     "output_type": "stream",
     "text": [
      "Clustering done for 24 k, with SSE 40113295.162932016\n"
     ]
    },
    {
     "name": "stderr",
     "output_type": "stream",
     "text": [
      "C:\\ProgramData\\Anaconda3\\lib\\site-packages\\sklearn\\cluster\\_kmeans.py:973: FutureWarning: 'n_jobs' was deprecated in version 0.23 and will be removed in 0.25.\n",
      "  warnings.warn(\"'n_jobs' was deprecated in version 0.23 and will be\"\n"
     ]
    },
    {
     "name": "stdout",
     "output_type": "stream",
     "text": [
      "Clustering done for 25 k, with SSE 40007746.871411614\n"
     ]
    },
    {
     "name": "stderr",
     "output_type": "stream",
     "text": [
      "C:\\ProgramData\\Anaconda3\\lib\\site-packages\\sklearn\\cluster\\_kmeans.py:973: FutureWarning: 'n_jobs' was deprecated in version 0.23 and will be removed in 0.25.\n",
      "  warnings.warn(\"'n_jobs' was deprecated in version 0.23 and will be\"\n"
     ]
    },
    {
     "name": "stdout",
     "output_type": "stream",
     "text": [
      "Clustering done for 26 k, with SSE 39924864.91257075\n"
     ]
    },
    {
     "name": "stderr",
     "output_type": "stream",
     "text": [
      "C:\\ProgramData\\Anaconda3\\lib\\site-packages\\sklearn\\cluster\\_kmeans.py:973: FutureWarning: 'n_jobs' was deprecated in version 0.23 and will be removed in 0.25.\n",
      "  warnings.warn(\"'n_jobs' was deprecated in version 0.23 and will be\"\n"
     ]
    },
    {
     "name": "stdout",
     "output_type": "stream",
     "text": [
      "Clustering done for 27 k, with SSE 39764339.511834346\n"
     ]
    },
    {
     "name": "stderr",
     "output_type": "stream",
     "text": [
      "C:\\ProgramData\\Anaconda3\\lib\\site-packages\\sklearn\\cluster\\_kmeans.py:973: FutureWarning: 'n_jobs' was deprecated in version 0.23 and will be removed in 0.25.\n",
      "  warnings.warn(\"'n_jobs' was deprecated in version 0.23 and will be\"\n"
     ]
    },
    {
     "name": "stdout",
     "output_type": "stream",
     "text": [
      "Clustering done for 28 k, with SSE 39704357.21721037\n"
     ]
    },
    {
     "name": "stderr",
     "output_type": "stream",
     "text": [
      "C:\\ProgramData\\Anaconda3\\lib\\site-packages\\sklearn\\cluster\\_kmeans.py:973: FutureWarning: 'n_jobs' was deprecated in version 0.23 and will be removed in 0.25.\n",
      "  warnings.warn(\"'n_jobs' was deprecated in version 0.23 and will be\"\n"
     ]
    },
    {
     "name": "stdout",
     "output_type": "stream",
     "text": [
      "Clustering done for 29 k, with SSE 39630365.446084544\n"
     ]
    },
    {
     "name": "stderr",
     "output_type": "stream",
     "text": [
      "C:\\ProgramData\\Anaconda3\\lib\\site-packages\\sklearn\\cluster\\_kmeans.py:973: FutureWarning: 'n_jobs' was deprecated in version 0.23 and will be removed in 0.25.\n",
      "  warnings.warn(\"'n_jobs' was deprecated in version 0.23 and will be\"\n"
     ]
    },
    {
     "name": "stdout",
     "output_type": "stream",
     "text": [
      "Clustering done for 30 k, with SSE 39517074.27236323\n"
     ]
    }
   ],
   "source": [
    "# Over a number of different cluster counts...\n",
    "    # run k-means clustering on the data and...\n",
    "    # compute the average within-cluster distances.\n",
    "\n",
    "sse = [] # Sum of Squared Errors\n",
    "k_range = np.arange(10, 31)\n",
    "\n",
    "for k in k_range:\n",
    "    kmeans = KMeans(k, random_state=1234, max_iter=30, n_jobs=-1).fit(azdias_pca_sample)\n",
    "    score = np.abs(kmeans.score(azdias_pca_sample))\n",
    "    sse.append(score)\n",
    "    print('Clustering done for {} k, with SSE {}'.format(k, score))"
   ]
  },
  {
   "cell_type": "code",
   "execution_count": 189,
   "metadata": {},
   "outputs": [
    {
     "data": {
      "image/png": "[encoded data removed]",
      "text/plain": [
       "<Figure size 1296x576 with 1 Axes>"
      ]
     },
     "metadata": {},
     "output_type": "display_data"
    }
   ],
   "source": [
    "# Investigate the change in within-cluster distance across number of clusters.\n",
    "# Use the Elbow Method to identify the right value of k\n",
    "plt.figure(figsize=(18, 8))\n",
    "plt.xticks(np.arange(0, k_range[-1]+1, step=1))\n",
    "plt.xlabel('K')\n",
    "plt.ylabel('SSE')\n",
    "plt.title('SSE vs. K')\n",
    "plt.plot(k_range, sse, linestyle='-', marker='o');"
   ]
  },
  {
   "cell_type": "markdown",
   "metadata": {},
   "source": [
    "By using elbow method we can see a strong leveling off at 24 clusters, which suggests 24 clusters should be used"
   ]
  },
  {
   "cell_type": "code",
   "execution_count": 190,
   "metadata": {},
   "outputs": [
    {
     "name": "stderr",
     "output_type": "stream",
     "text": [
      "C:\\ProgramData\\Anaconda3\\lib\\site-packages\\sklearn\\cluster\\_kmeans.py:973: FutureWarning: 'n_jobs' was deprecated in version 0.23 and will be removed in 0.25.\n",
      "  warnings.warn(\"'n_jobs' was deprecated in version 0.23 and will be\"\n"
     ]
    }
   ],
   "source": [
    "# Re-fit the k-means model with the selected number of clusters and obtain\n",
    "k = 24\n",
    "kmeans = KMeans(k, random_state=1234, max_iter=30, n_jobs=-1).fit(azdias_pca)\n",
    "population_clusters = kmeans.predict(azdias_pca)"
   ]
  },
  {
   "cell_type": "markdown",
   "metadata": {},
   "source": [
    "### Apply all the process to the customers dataset"
   ]
  },
  {
   "cell_type": "code",
   "execution_count": 191,
   "metadata": {},
   "outputs": [],
   "source": [
    "# Load the cleaned customer dataset\n",
    "customers = pd.read_csv('customers_cleaned.csv')"
   ]
  },
  {
   "cell_type": "code",
   "execution_count": 192,
   "metadata": {},
   "outputs": [],
   "source": [
    "# Applying PCA\n",
    "customers_pca = pca.transform(customers)"
   ]
  },
  {
   "cell_type": "code",
   "execution_count": 193,
   "metadata": {},
   "outputs": [
    {
     "name": "stderr",
     "output_type": "stream",
     "text": [
      "C:\\ProgramData\\Anaconda3\\lib\\site-packages\\sklearn\\cluster\\_kmeans.py:973: FutureWarning: 'n_jobs' was deprecated in version 0.23 and will be removed in 0.25.\n",
      "  warnings.warn(\"'n_jobs' was deprecated in version 0.23 and will be\"\n"
     ]
    }
   ],
   "source": [
    "### Step 3: Clustering\n",
    "# Cluster predictions for the general population demographics data.\n",
    "kmeans = KMeans(k, random_state=1234, max_iter=30, n_jobs=-1).fit(customers_pca)\n",
    "customer_clusters = kmeans.predict(customers_pca)"
   ]
  },
  {
   "cell_type": "markdown",
   "metadata": {},
   "source": [
    "### Compare Customer Data to Demographics Data¶\n"
   ]
  },
  {
   "cell_type": "code",
   "execution_count": 194,
   "metadata": {},
   "outputs": [],
   "source": [
    "# Compare the proportion of data in each cluster for the customer data to the\n",
    "# proportion of data in each cluster for the general population.\n",
    "population_clusters = pd.Series(population_clusters)\n",
    "popc = population_clusters.value_counts().sort_index()\n",
    "popc = pd.Series(popc)\n",
    "\n",
    "customer_clusters = pd.Series(customer_clusters)\n",
    "custc = customer_clusters.value_counts().sort_index()\n",
    "custc = pd.Series(custc)\n"
   ]
  },
  {
   "cell_type": "code",
   "execution_count": 195,
   "metadata": {},
   "outputs": [
    {
     "data": {
      "text/html": [
       "<div>\n",
       "<style scoped>\n",
       "    .dataframe tbody tr th:only-of-type {\n",
       "        vertical-align: middle;\n",
       "    }\n",
       "\n",
       "    .dataframe tbody tr th {\n",
       "        vertical-align: top;\n",
       "    }\n",
       "\n",
       "    .dataframe thead th {\n",
       "        text-align: right;\n",
       "    }\n",
       "</style>\n",
       "<table border=\"1\" class=\"dataframe\">\n",
       "  <thead>\n",
       "    <tr style=\"text-align: right;\">\n",
       "      <th></th>\n",
       "      <th>cluster</th>\n",
       "      <th>population</th>\n",
       "      <th>customers</th>\n",
       "      <th>customer_prop</th>\n",
       "      <th>population_prop</th>\n",
       "    </tr>\n",
       "  </thead>\n",
       "  <tbody>\n",
       "    <tr>\n",
       "      <th>1</th>\n",
       "      <td>0</td>\n",
       "      <td>35366</td>\n",
       "      <td>198</td>\n",
       "      <td>0.001033</td>\n",
       "      <td>0.047515</td>\n",
       "    </tr>\n",
       "    <tr>\n",
       "      <th>2</th>\n",
       "      <td>1</td>\n",
       "      <td>38586</td>\n",
       "      <td>10863</td>\n",
       "      <td>0.056681</td>\n",
       "      <td>0.051842</td>\n",
       "    </tr>\n",
       "    <tr>\n",
       "      <th>3</th>\n",
       "      <td>2</td>\n",
       "      <td>59705</td>\n",
       "      <td>47488</td>\n",
       "      <td>0.247782</td>\n",
       "      <td>0.080216</td>\n",
       "    </tr>\n",
       "    <tr>\n",
       "      <th>4</th>\n",
       "      <td>3</td>\n",
       "      <td>56778</td>\n",
       "      <td>932</td>\n",
       "      <td>0.004863</td>\n",
       "      <td>0.076283</td>\n",
       "    </tr>\n",
       "    <tr>\n",
       "      <th>5</th>\n",
       "      <td>4</td>\n",
       "      <td>13764</td>\n",
       "      <td>126</td>\n",
       "      <td>0.000657</td>\n",
       "      <td>0.018492</td>\n",
       "    </tr>\n",
       "    <tr>\n",
       "      <th>6</th>\n",
       "      <td>5</td>\n",
       "      <td>12607</td>\n",
       "      <td>12885</td>\n",
       "      <td>0.067231</td>\n",
       "      <td>0.016938</td>\n",
       "    </tr>\n",
       "    <tr>\n",
       "      <th>7</th>\n",
       "      <td>6</td>\n",
       "      <td>25978</td>\n",
       "      <td>2981</td>\n",
       "      <td>0.015554</td>\n",
       "      <td>0.034902</td>\n",
       "    </tr>\n",
       "    <tr>\n",
       "      <th>8</th>\n",
       "      <td>7</td>\n",
       "      <td>36688</td>\n",
       "      <td>1143</td>\n",
       "      <td>0.005964</td>\n",
       "      <td>0.049292</td>\n",
       "    </tr>\n",
       "    <tr>\n",
       "      <th>9</th>\n",
       "      <td>8</td>\n",
       "      <td>69189</td>\n",
       "      <td>9408</td>\n",
       "      <td>0.049089</td>\n",
       "      <td>0.092958</td>\n",
       "    </tr>\n",
       "    <tr>\n",
       "      <th>10</th>\n",
       "      <td>9</td>\n",
       "      <td>15710</td>\n",
       "      <td>14066</td>\n",
       "      <td>0.073393</td>\n",
       "      <td>0.021107</td>\n",
       "    </tr>\n",
       "    <tr>\n",
       "      <th>11</th>\n",
       "      <td>10</td>\n",
       "      <td>7727</td>\n",
       "      <td>1638</td>\n",
       "      <td>0.008547</td>\n",
       "      <td>0.010381</td>\n",
       "    </tr>\n",
       "    <tr>\n",
       "      <th>12</th>\n",
       "      <td>11</td>\n",
       "      <td>39294</td>\n",
       "      <td>2424</td>\n",
       "      <td>0.012648</td>\n",
       "      <td>0.052793</td>\n",
       "    </tr>\n",
       "    <tr>\n",
       "      <th>13</th>\n",
       "      <td>12</td>\n",
       "      <td>673</td>\n",
       "      <td>9098</td>\n",
       "      <td>0.047471</td>\n",
       "      <td>0.000904</td>\n",
       "    </tr>\n",
       "    <tr>\n",
       "      <th>14</th>\n",
       "      <td>13</td>\n",
       "      <td>698</td>\n",
       "      <td>963</td>\n",
       "      <td>0.005025</td>\n",
       "      <td>0.000938</td>\n",
       "    </tr>\n",
       "    <tr>\n",
       "      <th>15</th>\n",
       "      <td>14</td>\n",
       "      <td>62671</td>\n",
       "      <td>803</td>\n",
       "      <td>0.004190</td>\n",
       "      <td>0.084201</td>\n",
       "    </tr>\n",
       "    <tr>\n",
       "      <th>16</th>\n",
       "      <td>15</td>\n",
       "      <td>48532</td>\n",
       "      <td>15120</td>\n",
       "      <td>0.078893</td>\n",
       "      <td>0.065204</td>\n",
       "    </tr>\n",
       "    <tr>\n",
       "      <th>17</th>\n",
       "      <td>16</td>\n",
       "      <td>24983</td>\n",
       "      <td>901</td>\n",
       "      <td>0.004701</td>\n",
       "      <td>0.033566</td>\n",
       "    </tr>\n",
       "    <tr>\n",
       "      <th>18</th>\n",
       "      <td>17</td>\n",
       "      <td>283</td>\n",
       "      <td>11774</td>\n",
       "      <td>0.061434</td>\n",
       "      <td>0.000380</td>\n",
       "    </tr>\n",
       "    <tr>\n",
       "      <th>19</th>\n",
       "      <td>18</td>\n",
       "      <td>28246</td>\n",
       "      <td>2407</td>\n",
       "      <td>0.012559</td>\n",
       "      <td>0.037949</td>\n",
       "    </tr>\n",
       "    <tr>\n",
       "      <th>20</th>\n",
       "      <td>19</td>\n",
       "      <td>59991</td>\n",
       "      <td>9357</td>\n",
       "      <td>0.048823</td>\n",
       "      <td>0.080600</td>\n",
       "    </tr>\n",
       "    <tr>\n",
       "      <th>21</th>\n",
       "      <td>20</td>\n",
       "      <td>29893</td>\n",
       "      <td>6139</td>\n",
       "      <td>0.032032</td>\n",
       "      <td>0.040162</td>\n",
       "    </tr>\n",
       "    <tr>\n",
       "      <th>22</th>\n",
       "      <td>21</td>\n",
       "      <td>50299</td>\n",
       "      <td>6689</td>\n",
       "      <td>0.034902</td>\n",
       "      <td>0.067578</td>\n",
       "    </tr>\n",
       "    <tr>\n",
       "      <th>23</th>\n",
       "      <td>22</td>\n",
       "      <td>24750</td>\n",
       "      <td>6525</td>\n",
       "      <td>0.034046</td>\n",
       "      <td>0.033252</td>\n",
       "    </tr>\n",
       "    <tr>\n",
       "      <th>24</th>\n",
       "      <td>23</td>\n",
       "      <td>1894</td>\n",
       "      <td>17724</td>\n",
       "      <td>0.092480</td>\n",
       "      <td>0.002545</td>\n",
       "    </tr>\n",
       "  </tbody>\n",
       "</table>\n",
       "</div>"
      ],
      "text/plain": [
       "    cluster  population  customers  customer_prop  population_prop\n",
       "1         0       35366        198       0.001033         0.047515\n",
       "2         1       38586      10863       0.056681         0.051842\n",
       "3         2       59705      47488       0.247782         0.080216\n",
       "4         3       56778        932       0.004863         0.076283\n",
       "5         4       13764        126       0.000657         0.018492\n",
       "6         5       12607      12885       0.067231         0.016938\n",
       "7         6       25978       2981       0.015554         0.034902\n",
       "8         7       36688       1143       0.005964         0.049292\n",
       "9         8       69189       9408       0.049089         0.092958\n",
       "10        9       15710      14066       0.073393         0.021107\n",
       "11       10        7727       1638       0.008547         0.010381\n",
       "12       11       39294       2424       0.012648         0.052793\n",
       "13       12         673       9098       0.047471         0.000904\n",
       "14       13         698        963       0.005025         0.000938\n",
       "15       14       62671        803       0.004190         0.084201\n",
       "16       15       48532      15120       0.078893         0.065204\n",
       "17       16       24983        901       0.004701         0.033566\n",
       "18       17         283      11774       0.061434         0.000380\n",
       "19       18       28246       2407       0.012559         0.037949\n",
       "20       19       59991       9357       0.048823         0.080600\n",
       "21       20       29893       6139       0.032032         0.040162\n",
       "22       21       50299       6689       0.034902         0.067578\n",
       "23       22       24750       6525       0.034046         0.033252\n",
       "24       23        1894      17724       0.092480         0.002545"
      ]
     },
     "execution_count": 195,
     "metadata": {},
     "output_type": "execute_result"
    }
   ],
   "source": [
    "# Create a dataset summarizing clustering information\n",
    "pop_cust = pd.concat([popc, custc], axis=1).reset_index()\n",
    "pop_cust.columns = ['cluster', 'population', 'customers']\n",
    "\n",
    "# Recalculate index\n",
    "pop_cust.index = pop_cust.index + 1\n",
    "# Sort by cluster (index)\n",
    "pop_cust.sort_index(inplace=True)\n",
    "\n",
    "# Calculate proprotions\n",
    "pop_cust['customer_prop'] = pop_cust['customers'] / pop_cust['customers'].sum()\n",
    "pop_cust['population_prop'] = pop_cust['population'] / pop_cust['population'].sum()\n",
    "pop_cust"
   ]
  },
  {
   "cell_type": "code",
   "execution_count": 196,
   "metadata": {},
   "outputs": [
    {
     "data": {
      "image/png": "[encoded data removed]",
      "text/plain": [
       "<Figure size 1296x576 with 1 Axes>"
      ]
     },
     "metadata": {},
     "output_type": "display_data"
    }
   ],
   "source": [
    "# Compare visually\n",
    "pop_cust.plot(x='cluster', y=['population_prop', 'customer_prop'], kind='bar', figsize=(18, 8))\n",
    "plt.title('Population vs. Customer Data Comparison')\n",
    "plt.xlabel('Cluster Number')\n",
    "plt.ylabel('Proportion of persons in cluster')\n",
    "plt.show()"
   ]
  },
  {
   "cell_type": "markdown",
   "metadata": {},
   "source": [
    "## Part 2: Supervised Learning Model\n",
    "\n",
    "Now that you've found which parts of the population are more likely to be customers of the mail-order company, it's time to build a prediction model. Each of the rows in the \"MAILOUT\" data files represents an individual that was targeted for a mailout campaign. Ideally, we should be able to use the demographic information from each individual to decide whether or not it will be worth it to include that person in the campaign.\n",
    "\n",
    "The \"MAILOUT\" data has been split into two approximately equal parts, each with almost 43 000 data rows. In this part, you can verify your model with the \"TRAIN\" partition, which includes a column, \"RESPONSE\", that states whether or not a person became a customer of the company following the campaign. In the next part, you'll need to create predictions on the \"TEST\" partition, where the \"RESPONSE\" column has been withheld."
   ]
  },
  {
   "cell_type": "code",
   "execution_count": 120,
   "metadata": {},
   "outputs": [],
   "source": [
    "# Load the libraries\n",
    "from sklearn.model_selection import train_test_split\n",
    "from sklearn.model_selection import StratifiedKFold\n",
    "from sklearn.model_selection import GridSearchCV\n",
    "from xgboost.sklearn import XGBRegressor # Extreme Gradient Boosting\n",
    "from sklearn.metrics import roc_auc_score, fbeta_score, accuracy_score, precision_score, recall_score\n",
    "import xgboost as xgb\n",
    "from sklearn.impute import SimpleImputer"
   ]
  },
  {
   "cell_type": "code",
   "execution_count": 140,
   "metadata": {},
   "outputs": [
    {
     "name": "stderr",
     "output_type": "stream",
     "text": [
      "C:\\ProgramData\\Anaconda3\\lib\\site-packages\\IPython\\core\\interactiveshell.py:3071: DtypeWarning: Columns (19,20) have mixed types.Specify dtype option on import or set low_memory=False.\n",
      "  has_raised = await self.run_ast_nodes(code_ast.body, cell_name,\n"
     ]
    }
   ],
   "source": [
    "# Load Memory reduced train data\n",
    "mailout_train = pd.read_csv('Udacity_MAILOUT_052018_TRAIN_reduce_mem.csv')"
   ]
  },
  {
   "cell_type": "code",
   "execution_count": 141,
   "metadata": {},
   "outputs": [
    {
     "name": "stdout",
     "output_type": "stream",
     "text": [
      "Shape before (42962, 366)\n",
      "{'D19_LETZTER_KAUF_BRANCHE', 'EINGEFUEGT_AM', 'OST_WEST_KZ', 'CAMEO_INTL_2015', 'CAMEO_DEU_2015', 'CAMEO_DEUG_2015'}\n",
      "shape after corr (42962, 276)\n",
      "Number of nan Values 0\n",
      "shape after (42962, 321)\n"
     ]
    }
   ],
   "source": [
    "# Choose the response \n",
    "X = mailout_train.drop('RESPONSE',axis=1)\n",
    "y = mailout_train['RESPONSE']\n",
    "df_mailout_train  = data_cleaning(X)"
   ]
  },
  {
   "cell_type": "code",
   "execution_count": 142,
   "metadata": {},
   "outputs": [],
   "source": [
    "X_train,X_test,y_train,y_test = train_test_split(df_mailout_train,y,random_state=42,test_size=0.3)"
   ]
  },
  {
   "cell_type": "code",
   "execution_count": 143,
   "metadata": {},
   "outputs": [],
   "source": [
    "X_train,X_val,y_train,y_val = train_test_split(X_train,y_train,random_state=42,test_size=0.3)"
   ]
  },
  {
   "cell_type": "markdown",
   "metadata": {},
   "source": [
    "##### XGB Model"
   ]
  },
  {
   "cell_type": "code",
   "execution_count": 144,
   "metadata": {},
   "outputs": [],
   "source": [
    "model_xg = XGBRegressor(base_score=0.5, booster='gbtree', colsample_bylevel=1,\n",
    "                        colsample_bytree=0.7, eval_metric='auc', gamma=1.0,\n",
    "                        learning_rate=0.01, max_delta_step=0, max_depth=7,\n",
    "                        min_child_weight=1, missing=None, n_estimators=250, n_jobs=-1,\n",
    "                        nthread=None, objective='binary:logistic', random_state=42,\n",
    "                        reg_alpha=1e-07, reg_lambda=1, scale_pos_weight=1, seed=None,\n",
    "                        silent=1, subsample=0.5)"
   ]
  },
  {
   "cell_type": "code",
   "execution_count": 145,
   "metadata": {},
   "outputs": [
    {
     "name": "stdout",
     "output_type": "stream",
     "text": [
      "[21:50:57] WARNING: C:/Users/Administrator/workspace/xgboost-win64_release_1.3.0/src/learner.cc:541: \n",
      "Parameters: { silent } might not be used.\n",
      "\n",
      "  This may not be accurate due to some parameters are only used in language bindings but\n",
      "  passed down to XGBoost core.  Or some parameters are not used but slip through this\n",
      "  verification. Please open an issue if you find above cases.\n",
      "\n",
      "\n"
     ]
    },
    {
     "data": {
      "text/plain": [
       "XGBRegressor(base_score=0.5, booster='gbtree', colsample_bylevel=1,\n",
       "             colsample_bynode=1, colsample_bytree=0.7, eval_metric='auc',\n",
       "             gamma=1.0, gpu_id=-1, importance_type='gain',\n",
       "             interaction_constraints='', learning_rate=0.01, max_delta_step=0,\n",
       "             max_depth=7, min_child_weight=1, missing=None,\n",
       "             monotone_constraints='()', n_estimators=250, n_jobs=-1, nthread=4,\n",
       "             num_parallel_tree=1, objective='binary:logistic', random_state=42,\n",
       "             reg_alpha=1e-07, reg_lambda=1, scale_pos_weight=1, seed=42,\n",
       "             silent=1, subsample=0.5, tree_method='exact',\n",
       "             validate_parameters=1, ...)"
      ]
     },
     "execution_count": 145,
     "metadata": {},
     "output_type": "execute_result"
    }
   ],
   "source": [
    "#Fit model\n",
    "model_xg.fit(X_train,y_train)"
   ]
  },
  {
   "cell_type": "code",
   "execution_count": 146,
   "metadata": {},
   "outputs": [],
   "source": [
    "# Evaluate Model\n",
    "from sklearn.metrics import roc_auc_score\n",
    "pred_train = model_xg.predict(X_train)\n",
    "pred_test = model_xg.predict(X_test)\n",
    "pred_val = model_xg.predict(X_val)"
   ]
  },
  {
   "cell_type": "code",
   "execution_count": 147,
   "metadata": {},
   "outputs": [
    {
     "data": {
      "text/plain": [
       "0.9084999443701693"
      ]
     },
     "execution_count": 147,
     "metadata": {},
     "output_type": "execute_result"
    }
   ],
   "source": [
    "# Train\n",
    "roc_auc_score(y_train,pred_train)"
   ]
  },
  {
   "cell_type": "code",
   "execution_count": 148,
   "metadata": {},
   "outputs": [
    {
     "data": {
      "text/plain": [
       "0.7758407076409347"
      ]
     },
     "execution_count": 148,
     "metadata": {},
     "output_type": "execute_result"
    }
   ],
   "source": [
    "# Test\n",
    "roc_auc_score(y_test,pred_test)"
   ]
  },
  {
   "cell_type": "code",
   "execution_count": 149,
   "metadata": {},
   "outputs": [
    {
     "data": {
      "text/plain": [
       "0.7770589970636395"
      ]
     },
     "execution_count": 149,
     "metadata": {},
     "output_type": "execute_result"
    }
   ],
   "source": [
    "# Validation\n",
    "roc_auc_score(y_val,pred_val)"
   ]
  },
  {
   "cell_type": "code",
   "execution_count": 150,
   "metadata": {},
   "outputs": [
    {
     "data": {
      "image/png": "[encoded data removed]",
      "text/plain": [
       "<Figure size 432x288 with 1 Axes>"
      ]
     },
     "metadata": {
      "needs_background": "light"
     },
     "output_type": "display_data"
    }
   ],
   "source": [
    "# Calculate feature importances\n",
    "importances = model_xg.feature_importances_\n",
    "\n",
    "# Sort feature importances in descending order\n",
    "indices = np.argsort(importances)[::-1][:5]\n",
    "\n",
    "# Rearrange feature names so they match the sorted feature importances\n",
    "names = [X.columns[i] for i in indices][:5]\n",
    "\n",
    "\n",
    "# Create plot\n",
    "plt.figure()\n",
    "\n",
    "# Create plot title\n",
    "plt.title(\"Feature Importance\")\n",
    "\n",
    "# Add bars\n",
    "plt.bar(range(5), importances[indices])\n",
    "\n",
    "# Add feature names as x-axis labels\n",
    "plt.xticks(range(5) ,names, rotation=90)\n",
    "\n",
    "# Show plot\n",
    "plt.show()"
   ]
  },
  {
   "cell_type": "markdown",
   "metadata": {},
   "source": [
    "## Part 3: Kaggle Competition\n",
    "\n",
    "Now that you've created a model to predict which individuals are most likely to respond to a mailout campaign, it's time to test that model in competition through Kaggle. If you click on the link [here](http://www.kaggle.com/t/21e6d45d4c574c7fa2d868f0e8c83140), you'll be taken to the competition page where, if you have a Kaggle account, you can enter. If you're one of the top performers, you may have the chance to be contacted by a hiring manager from Arvato or Bertelsmann for an interview!\n",
    "\n",
    "Your entry to the competition should be a CSV file with two columns. The first column should be a copy of \"LNR\", which acts as an ID number for each individual in the \"TEST\" partition. The second column, \"RESPONSE\", should be some measure of how likely each individual became a customer – this might not be a straightforward probability. As you should have found in Part 2, there is a large output class imbalance, where most individuals did not respond to the mailout. Thus, predicting individual classes and using accuracy does not seem to be an appropriate performance evaluation method. Instead, the competition will be using AUC to evaluate performance. The exact values of the \"RESPONSE\" column do not matter as much: only that the higher values try to capture as many of the actual customers as possible, early in the ROC curve sweep."
   ]
  },
  {
   "cell_type": "code",
   "execution_count": 134,
   "metadata": {
    "scrolled": true
   },
   "outputs": [
    {
     "name": "stderr",
     "output_type": "stream",
     "text": [
      "C:\\ProgramData\\Anaconda3\\lib\\site-packages\\IPython\\core\\interactiveshell.py:3071: DtypeWarning: Columns (19,20) have mixed types.Specify dtype option on import or set low_memory=False.\n",
      "  has_raised = await self.run_ast_nodes(code_ast.body, cell_name,\n"
     ]
    }
   ],
   "source": [
    "# Load Test data\n",
    "mailout_test = pd.read_csv('Udacity_MAILOUT_052018_TEST_reduce_mem.csv')"
   ]
  },
  {
   "cell_type": "code",
   "execution_count": 135,
   "metadata": {},
   "outputs": [
    {
     "data": {
      "text/html": [
       "<div>\n",
       "<style scoped>\n",
       "    .dataframe tbody tr th:only-of-type {\n",
       "        vertical-align: middle;\n",
       "    }\n",
       "\n",
       "    .dataframe tbody tr th {\n",
       "        vertical-align: top;\n",
       "    }\n",
       "\n",
       "    .dataframe thead th {\n",
       "        text-align: right;\n",
       "    }\n",
       "</style>\n",
       "<table border=\"1\" class=\"dataframe\">\n",
       "  <thead>\n",
       "    <tr style=\"text-align: right;\">\n",
       "      <th></th>\n",
       "      <th>Unnamed: 0</th>\n",
       "      <th>LNR</th>\n",
       "      <th>AGER_TYP</th>\n",
       "      <th>AKT_DAT_KL</th>\n",
       "      <th>ALTER_HH</th>\n",
       "      <th>ALTER_KIND1</th>\n",
       "      <th>ALTER_KIND2</th>\n",
       "      <th>ALTER_KIND3</th>\n",
       "      <th>ALTER_KIND4</th>\n",
       "      <th>ALTERSKATEGORIE_FEIN</th>\n",
       "      <th>...</th>\n",
       "      <th>VHN</th>\n",
       "      <th>VK_DHT4A</th>\n",
       "      <th>VK_DISTANZ</th>\n",
       "      <th>VK_ZG11</th>\n",
       "      <th>W_KEIT_KIND_HH</th>\n",
       "      <th>WOHNDAUER_2008</th>\n",
       "      <th>WOHNLAGE</th>\n",
       "      <th>ZABEOTYP</th>\n",
       "      <th>ANREDE_KZ</th>\n",
       "      <th>ALTERSKATEGORIE_GROB</th>\n",
       "    </tr>\n",
       "  </thead>\n",
       "  <tbody>\n",
       "    <tr>\n",
       "      <th>0</th>\n",
       "      <td>0</td>\n",
       "      <td>1754</td>\n",
       "      <td>2</td>\n",
       "      <td>1.0</td>\n",
       "      <td>7.0</td>\n",
       "      <td>NaN</td>\n",
       "      <td>NaN</td>\n",
       "      <td>NaN</td>\n",
       "      <td>NaN</td>\n",
       "      <td>6.0</td>\n",
       "      <td>...</td>\n",
       "      <td>4.0</td>\n",
       "      <td>5.0</td>\n",
       "      <td>6.0</td>\n",
       "      <td>3.0</td>\n",
       "      <td>6.0</td>\n",
       "      <td>9.0</td>\n",
       "      <td>3.0</td>\n",
       "      <td>3</td>\n",
       "      <td>1</td>\n",
       "      <td>4</td>\n",
       "    </tr>\n",
       "    <tr>\n",
       "      <th>1</th>\n",
       "      <td>1</td>\n",
       "      <td>1770</td>\n",
       "      <td>-1</td>\n",
       "      <td>1.0</td>\n",
       "      <td>0.0</td>\n",
       "      <td>NaN</td>\n",
       "      <td>NaN</td>\n",
       "      <td>NaN</td>\n",
       "      <td>NaN</td>\n",
       "      <td>0.0</td>\n",
       "      <td>...</td>\n",
       "      <td>1.0</td>\n",
       "      <td>5.0</td>\n",
       "      <td>2.0</td>\n",
       "      <td>1.0</td>\n",
       "      <td>6.0</td>\n",
       "      <td>9.0</td>\n",
       "      <td>5.0</td>\n",
       "      <td>3</td>\n",
       "      <td>1</td>\n",
       "      <td>4</td>\n",
       "    </tr>\n",
       "    <tr>\n",
       "      <th>2</th>\n",
       "      <td>2</td>\n",
       "      <td>1465</td>\n",
       "      <td>2</td>\n",
       "      <td>9.0</td>\n",
       "      <td>16.0</td>\n",
       "      <td>NaN</td>\n",
       "      <td>NaN</td>\n",
       "      <td>NaN</td>\n",
       "      <td>NaN</td>\n",
       "      <td>11.0</td>\n",
       "      <td>...</td>\n",
       "      <td>3.0</td>\n",
       "      <td>9.0</td>\n",
       "      <td>6.0</td>\n",
       "      <td>3.0</td>\n",
       "      <td>2.0</td>\n",
       "      <td>9.0</td>\n",
       "      <td>4.0</td>\n",
       "      <td>3</td>\n",
       "      <td>2</td>\n",
       "      <td>4</td>\n",
       "    </tr>\n",
       "    <tr>\n",
       "      <th>3</th>\n",
       "      <td>3</td>\n",
       "      <td>1470</td>\n",
       "      <td>-1</td>\n",
       "      <td>7.0</td>\n",
       "      <td>0.0</td>\n",
       "      <td>NaN</td>\n",
       "      <td>NaN</td>\n",
       "      <td>NaN</td>\n",
       "      <td>NaN</td>\n",
       "      <td>0.0</td>\n",
       "      <td>...</td>\n",
       "      <td>2.0</td>\n",
       "      <td>6.0</td>\n",
       "      <td>6.0</td>\n",
       "      <td>3.0</td>\n",
       "      <td>NaN</td>\n",
       "      <td>9.0</td>\n",
       "      <td>2.0</td>\n",
       "      <td>3</td>\n",
       "      <td>2</td>\n",
       "      <td>4</td>\n",
       "    </tr>\n",
       "    <tr>\n",
       "      <th>4</th>\n",
       "      <td>4</td>\n",
       "      <td>1478</td>\n",
       "      <td>1</td>\n",
       "      <td>1.0</td>\n",
       "      <td>21.0</td>\n",
       "      <td>NaN</td>\n",
       "      <td>NaN</td>\n",
       "      <td>NaN</td>\n",
       "      <td>NaN</td>\n",
       "      <td>13.0</td>\n",
       "      <td>...</td>\n",
       "      <td>1.0</td>\n",
       "      <td>2.0</td>\n",
       "      <td>4.0</td>\n",
       "      <td>3.0</td>\n",
       "      <td>3.0</td>\n",
       "      <td>9.0</td>\n",
       "      <td>7.0</td>\n",
       "      <td>4</td>\n",
       "      <td>2</td>\n",
       "      <td>4</td>\n",
       "    </tr>\n",
       "  </tbody>\n",
       "</table>\n",
       "<p>5 rows × 367 columns</p>\n",
       "</div>"
      ],
      "text/plain": [
       "   Unnamed: 0   LNR  AGER_TYP  AKT_DAT_KL  ALTER_HH  ALTER_KIND1  ALTER_KIND2  \\\n",
       "0           0  1754         2         1.0       7.0          NaN          NaN   \n",
       "1           1  1770        -1         1.0       0.0          NaN          NaN   \n",
       "2           2  1465         2         9.0      16.0          NaN          NaN   \n",
       "3           3  1470        -1         7.0       0.0          NaN          NaN   \n",
       "4           4  1478         1         1.0      21.0          NaN          NaN   \n",
       "\n",
       "   ALTER_KIND3  ALTER_KIND4  ALTERSKATEGORIE_FEIN  ...  VHN  VK_DHT4A  \\\n",
       "0          NaN          NaN                   6.0  ...  4.0       5.0   \n",
       "1          NaN          NaN                   0.0  ...  1.0       5.0   \n",
       "2          NaN          NaN                  11.0  ...  3.0       9.0   \n",
       "3          NaN          NaN                   0.0  ...  2.0       6.0   \n",
       "4          NaN          NaN                  13.0  ...  1.0       2.0   \n",
       "\n",
       "   VK_DISTANZ  VK_ZG11  W_KEIT_KIND_HH  WOHNDAUER_2008  WOHNLAGE  ZABEOTYP  \\\n",
       "0         6.0      3.0             6.0             9.0       3.0         3   \n",
       "1         2.0      1.0             6.0             9.0       5.0         3   \n",
       "2         6.0      3.0             2.0             9.0       4.0         3   \n",
       "3         6.0      3.0             NaN             9.0       2.0         3   \n",
       "4         4.0      3.0             3.0             9.0       7.0         4   \n",
       "\n",
       "  ANREDE_KZ ALTERSKATEGORIE_GROB  \n",
       "0         1                    4  \n",
       "1         1                    4  \n",
       "2         2                    4  \n",
       "3         2                    4  \n",
       "4         2                    4  \n",
       "\n",
       "[5 rows x 367 columns]"
      ]
     },
     "execution_count": 135,
     "metadata": {},
     "output_type": "execute_result"
    }
   ],
   "source": [
    "mailout_test.head()"
   ]
  },
  {
   "cell_type": "code",
   "execution_count": 136,
   "metadata": {},
   "outputs": [],
   "source": [
    "mailout_test = mailout_test.drop(['Unnamed: 0'], axis=1)"
   ]
  },
  {
   "cell_type": "code",
   "execution_count": 137,
   "metadata": {},
   "outputs": [
    {
     "data": {
      "text/html": [
       "<div>\n",
       "<style scoped>\n",
       "    .dataframe tbody tr th:only-of-type {\n",
       "        vertical-align: middle;\n",
       "    }\n",
       "\n",
       "    .dataframe tbody tr th {\n",
       "        vertical-align: top;\n",
       "    }\n",
       "\n",
       "    .dataframe thead th {\n",
       "        text-align: right;\n",
       "    }\n",
       "</style>\n",
       "<table border=\"1\" class=\"dataframe\">\n",
       "  <thead>\n",
       "    <tr style=\"text-align: right;\">\n",
       "      <th></th>\n",
       "      <th>LNR</th>\n",
       "      <th>AGER_TYP</th>\n",
       "      <th>AKT_DAT_KL</th>\n",
       "      <th>ALTER_HH</th>\n",
       "      <th>ALTER_KIND1</th>\n",
       "      <th>ALTER_KIND2</th>\n",
       "      <th>ALTER_KIND3</th>\n",
       "      <th>ALTER_KIND4</th>\n",
       "      <th>ALTERSKATEGORIE_FEIN</th>\n",
       "      <th>ANZ_HAUSHALTE_AKTIV</th>\n",
       "      <th>...</th>\n",
       "      <th>VHN</th>\n",
       "      <th>VK_DHT4A</th>\n",
       "      <th>VK_DISTANZ</th>\n",
       "      <th>VK_ZG11</th>\n",
       "      <th>W_KEIT_KIND_HH</th>\n",
       "      <th>WOHNDAUER_2008</th>\n",
       "      <th>WOHNLAGE</th>\n",
       "      <th>ZABEOTYP</th>\n",
       "      <th>ANREDE_KZ</th>\n",
       "      <th>ALTERSKATEGORIE_GROB</th>\n",
       "    </tr>\n",
       "  </thead>\n",
       "  <tbody>\n",
       "    <tr>\n",
       "      <th>0</th>\n",
       "      <td>1754</td>\n",
       "      <td>2</td>\n",
       "      <td>1.0</td>\n",
       "      <td>7.0</td>\n",
       "      <td>NaN</td>\n",
       "      <td>NaN</td>\n",
       "      <td>NaN</td>\n",
       "      <td>NaN</td>\n",
       "      <td>6.0</td>\n",
       "      <td>2.0</td>\n",
       "      <td>...</td>\n",
       "      <td>4.0</td>\n",
       "      <td>5.0</td>\n",
       "      <td>6.0</td>\n",
       "      <td>3.0</td>\n",
       "      <td>6.0</td>\n",
       "      <td>9.0</td>\n",
       "      <td>3.0</td>\n",
       "      <td>3</td>\n",
       "      <td>1</td>\n",
       "      <td>4</td>\n",
       "    </tr>\n",
       "    <tr>\n",
       "      <th>1</th>\n",
       "      <td>1770</td>\n",
       "      <td>-1</td>\n",
       "      <td>1.0</td>\n",
       "      <td>0.0</td>\n",
       "      <td>NaN</td>\n",
       "      <td>NaN</td>\n",
       "      <td>NaN</td>\n",
       "      <td>NaN</td>\n",
       "      <td>0.0</td>\n",
       "      <td>20.0</td>\n",
       "      <td>...</td>\n",
       "      <td>1.0</td>\n",
       "      <td>5.0</td>\n",
       "      <td>2.0</td>\n",
       "      <td>1.0</td>\n",
       "      <td>6.0</td>\n",
       "      <td>9.0</td>\n",
       "      <td>5.0</td>\n",
       "      <td>3</td>\n",
       "      <td>1</td>\n",
       "      <td>4</td>\n",
       "    </tr>\n",
       "    <tr>\n",
       "      <th>2</th>\n",
       "      <td>1465</td>\n",
       "      <td>2</td>\n",
       "      <td>9.0</td>\n",
       "      <td>16.0</td>\n",
       "      <td>NaN</td>\n",
       "      <td>NaN</td>\n",
       "      <td>NaN</td>\n",
       "      <td>NaN</td>\n",
       "      <td>11.0</td>\n",
       "      <td>2.0</td>\n",
       "      <td>...</td>\n",
       "      <td>3.0</td>\n",
       "      <td>9.0</td>\n",
       "      <td>6.0</td>\n",
       "      <td>3.0</td>\n",
       "      <td>2.0</td>\n",
       "      <td>9.0</td>\n",
       "      <td>4.0</td>\n",
       "      <td>3</td>\n",
       "      <td>2</td>\n",
       "      <td>4</td>\n",
       "    </tr>\n",
       "    <tr>\n",
       "      <th>3</th>\n",
       "      <td>1470</td>\n",
       "      <td>-1</td>\n",
       "      <td>7.0</td>\n",
       "      <td>0.0</td>\n",
       "      <td>NaN</td>\n",
       "      <td>NaN</td>\n",
       "      <td>NaN</td>\n",
       "      <td>NaN</td>\n",
       "      <td>0.0</td>\n",
       "      <td>1.0</td>\n",
       "      <td>...</td>\n",
       "      <td>2.0</td>\n",
       "      <td>6.0</td>\n",
       "      <td>6.0</td>\n",
       "      <td>3.0</td>\n",
       "      <td>NaN</td>\n",
       "      <td>9.0</td>\n",
       "      <td>2.0</td>\n",
       "      <td>3</td>\n",
       "      <td>2</td>\n",
       "      <td>4</td>\n",
       "    </tr>\n",
       "    <tr>\n",
       "      <th>4</th>\n",
       "      <td>1478</td>\n",
       "      <td>1</td>\n",
       "      <td>1.0</td>\n",
       "      <td>21.0</td>\n",
       "      <td>NaN</td>\n",
       "      <td>NaN</td>\n",
       "      <td>NaN</td>\n",
       "      <td>NaN</td>\n",
       "      <td>13.0</td>\n",
       "      <td>1.0</td>\n",
       "      <td>...</td>\n",
       "      <td>1.0</td>\n",
       "      <td>2.0</td>\n",
       "      <td>4.0</td>\n",
       "      <td>3.0</td>\n",
       "      <td>3.0</td>\n",
       "      <td>9.0</td>\n",
       "      <td>7.0</td>\n",
       "      <td>4</td>\n",
       "      <td>2</td>\n",
       "      <td>4</td>\n",
       "    </tr>\n",
       "  </tbody>\n",
       "</table>\n",
       "<p>5 rows × 366 columns</p>\n",
       "</div>"
      ],
      "text/plain": [
       "    LNR  AGER_TYP  AKT_DAT_KL  ALTER_HH  ALTER_KIND1  ALTER_KIND2  \\\n",
       "0  1754         2         1.0       7.0          NaN          NaN   \n",
       "1  1770        -1         1.0       0.0          NaN          NaN   \n",
       "2  1465         2         9.0      16.0          NaN          NaN   \n",
       "3  1470        -1         7.0       0.0          NaN          NaN   \n",
       "4  1478         1         1.0      21.0          NaN          NaN   \n",
       "\n",
       "   ALTER_KIND3  ALTER_KIND4  ALTERSKATEGORIE_FEIN  ANZ_HAUSHALTE_AKTIV  ...  \\\n",
       "0          NaN          NaN                   6.0                  2.0  ...   \n",
       "1          NaN          NaN                   0.0                 20.0  ...   \n",
       "2          NaN          NaN                  11.0                  2.0  ...   \n",
       "3          NaN          NaN                   0.0                  1.0  ...   \n",
       "4          NaN          NaN                  13.0                  1.0  ...   \n",
       "\n",
       "   VHN  VK_DHT4A  VK_DISTANZ  VK_ZG11  W_KEIT_KIND_HH  WOHNDAUER_2008  \\\n",
       "0  4.0       5.0         6.0      3.0             6.0             9.0   \n",
       "1  1.0       5.0         2.0      1.0             6.0             9.0   \n",
       "2  3.0       9.0         6.0      3.0             2.0             9.0   \n",
       "3  2.0       6.0         6.0      3.0             NaN             9.0   \n",
       "4  1.0       2.0         4.0      3.0             3.0             9.0   \n",
       "\n",
       "   WOHNLAGE ZABEOTYP ANREDE_KZ ALTERSKATEGORIE_GROB  \n",
       "0       3.0        3         1                    4  \n",
       "1       5.0        3         1                    4  \n",
       "2       4.0        3         2                    4  \n",
       "3       2.0        3         2                    4  \n",
       "4       7.0        4         2                    4  \n",
       "\n",
       "[5 rows x 366 columns]"
      ]
     },
     "execution_count": 137,
     "metadata": {},
     "output_type": "execute_result"
    }
   ],
   "source": [
    "mailout_test.head()"
   ]
  },
  {
   "cell_type": "code",
   "execution_count": 138,
   "metadata": {},
   "outputs": [
    {
     "name": "stdout",
     "output_type": "stream",
     "text": [
      "Shape before (42833, 366)\n",
      "{'OST_WEST_KZ', 'D19_LETZTER_KAUF_BRANCHE', 'CAMEO_INTL_2015', 'CAMEO_DEU_2015', 'CAMEO_DEUG_2015', 'EINGEFUEGT_AM'}\n",
      "shape after corr (42833, 276)\n",
      "Number of nan Values 0\n",
      "shape after (42833, 321)\n"
     ]
    }
   ],
   "source": [
    "# Apply the preprocessing step\n",
    "mailout_test_clean = data_cleaning(mailout_test)"
   ]
  },
  {
   "cell_type": "code",
   "execution_count": 156,
   "metadata": {},
   "outputs": [],
   "source": [
    "# Make prediction\n",
    "testpred = model_xg.predict(mailout_test_clean)"
   ]
  },
  {
   "cell_type": "code",
   "execution_count": 159,
   "metadata": {
    "code_folding": []
   },
   "outputs": [],
   "source": [
    "# prediction_for_kaggle = reg_model.predict(mailout_test_clean)\n",
    "df_kaggle = pd.DataFrame(index=mailout_test['LNR'].astype('int32'), data=testpred)\n",
    "df_kaggle.rename(columns={0: \"RESPONSE\"}, inplace=True)\n"
   ]
  },
  {
   "cell_type": "code",
   "execution_count": 160,
   "metadata": {},
   "outputs": [],
   "source": [
    "# Kaggle submission csv file\n",
    "df_kaggle.to_csv('submission1.csv')"
   ]
  },
  {
   "cell_type": "markdown",
   "metadata": {},
   "source": [
    "For first try I got a score of 0.79473 but I will try to make some improvement"
   ]
  },
  {
   "attachments": {
    "image.png": {
     "image/png": "[encoded data removed]"
    }
   },
   "cell_type": "markdown",
   "metadata": {},
   "source": [
    "![image.png](attachment:image.png)"
   ]
  },
  {
   "cell_type": "markdown",
   "metadata": {},
   "source": [
    "## Improvement"
   ]
  },
  {
   "cell_type": "code",
   "execution_count": 172,
   "metadata": {},
   "outputs": [],
   "source": [
    "# import packages\n",
    "from sklearn.linear_model import LogisticRegression\n",
    "from sklearn.tree import DecisionTreeClassifier\n",
    "from sklearn.ensemble import RandomForestClassifier\n",
    "from sklearn.ensemble import GradientBoostingRegressor, AdaBoostRegressor\n",
    "from sklearn.ensemble import AdaBoostClassifier, GradientBoostingClassifier\n",
    "import xgboost as xgb\n",
    "from sklearn.model_selection import GridSearchCV\n",
    "\n",
    "from sklearn.metrics import accuracy_score, roc_auc_score, confusion_matrix\n",
    "from sklearn.model_selection import train_test_split, cross_val_score\n",
    "SEED=42"
   ]
  },
  {
   "cell_type": "code",
   "execution_count": 128,
   "metadata": {},
   "outputs": [
    {
     "name": "stderr",
     "output_type": "stream",
     "text": [
      "C:\\ProgramData\\Anaconda3\\lib\\site-packages\\IPython\\core\\interactiveshell.py:3071: DtypeWarning: Columns (19,20) have mixed types.Specify dtype option on import or set low_memory=False.\n",
      "  has_raised = await self.run_ast_nodes(code_ast.body, cell_name,\n"
     ]
    }
   ],
   "source": [
    "# Load train data\n",
    "mailout_train = pd.read_csv('Udacity_MAILOUT_052018_TRAIN_reduce_mem.csv')"
   ]
  },
  {
   "cell_type": "code",
   "execution_count": 129,
   "metadata": {},
   "outputs": [
    {
     "data": {
      "text/html": [
       "<div>\n",
       "<style scoped>\n",
       "    .dataframe tbody tr th:only-of-type {\n",
       "        vertical-align: middle;\n",
       "    }\n",
       "\n",
       "    .dataframe tbody tr th {\n",
       "        vertical-align: top;\n",
       "    }\n",
       "\n",
       "    .dataframe thead th {\n",
       "        text-align: right;\n",
       "    }\n",
       "</style>\n",
       "<table border=\"1\" class=\"dataframe\">\n",
       "  <thead>\n",
       "    <tr style=\"text-align: right;\">\n",
       "      <th></th>\n",
       "      <th>Unnamed: 0</th>\n",
       "      <th>LNR</th>\n",
       "      <th>AGER_TYP</th>\n",
       "      <th>AKT_DAT_KL</th>\n",
       "      <th>ALTER_HH</th>\n",
       "      <th>ALTER_KIND1</th>\n",
       "      <th>ALTER_KIND2</th>\n",
       "      <th>ALTER_KIND3</th>\n",
       "      <th>ALTER_KIND4</th>\n",
       "      <th>ALTERSKATEGORIE_FEIN</th>\n",
       "      <th>...</th>\n",
       "      <th>VK_DHT4A</th>\n",
       "      <th>VK_DISTANZ</th>\n",
       "      <th>VK_ZG11</th>\n",
       "      <th>W_KEIT_KIND_HH</th>\n",
       "      <th>WOHNDAUER_2008</th>\n",
       "      <th>WOHNLAGE</th>\n",
       "      <th>ZABEOTYP</th>\n",
       "      <th>RESPONSE</th>\n",
       "      <th>ANREDE_KZ</th>\n",
       "      <th>ALTERSKATEGORIE_GROB</th>\n",
       "    </tr>\n",
       "  </thead>\n",
       "  <tbody>\n",
       "    <tr>\n",
       "      <th>0</th>\n",
       "      <td>0</td>\n",
       "      <td>1763</td>\n",
       "      <td>2</td>\n",
       "      <td>1.0</td>\n",
       "      <td>8.0</td>\n",
       "      <td>NaN</td>\n",
       "      <td>NaN</td>\n",
       "      <td>NaN</td>\n",
       "      <td>NaN</td>\n",
       "      <td>8.0</td>\n",
       "      <td>...</td>\n",
       "      <td>5.0</td>\n",
       "      <td>2.0</td>\n",
       "      <td>1.0</td>\n",
       "      <td>6.0</td>\n",
       "      <td>9.0</td>\n",
       "      <td>3.0</td>\n",
       "      <td>3</td>\n",
       "      <td>0</td>\n",
       "      <td>2</td>\n",
       "      <td>4</td>\n",
       "    </tr>\n",
       "    <tr>\n",
       "      <th>1</th>\n",
       "      <td>1</td>\n",
       "      <td>1771</td>\n",
       "      <td>1</td>\n",
       "      <td>4.0</td>\n",
       "      <td>13.0</td>\n",
       "      <td>NaN</td>\n",
       "      <td>NaN</td>\n",
       "      <td>NaN</td>\n",
       "      <td>NaN</td>\n",
       "      <td>13.0</td>\n",
       "      <td>...</td>\n",
       "      <td>1.0</td>\n",
       "      <td>2.0</td>\n",
       "      <td>1.0</td>\n",
       "      <td>4.0</td>\n",
       "      <td>9.0</td>\n",
       "      <td>7.0</td>\n",
       "      <td>1</td>\n",
       "      <td>0</td>\n",
       "      <td>2</td>\n",
       "      <td>3</td>\n",
       "    </tr>\n",
       "    <tr>\n",
       "      <th>2</th>\n",
       "      <td>2</td>\n",
       "      <td>1776</td>\n",
       "      <td>1</td>\n",
       "      <td>1.0</td>\n",
       "      <td>9.0</td>\n",
       "      <td>NaN</td>\n",
       "      <td>NaN</td>\n",
       "      <td>NaN</td>\n",
       "      <td>NaN</td>\n",
       "      <td>7.0</td>\n",
       "      <td>...</td>\n",
       "      <td>6.0</td>\n",
       "      <td>4.0</td>\n",
       "      <td>2.0</td>\n",
       "      <td>NaN</td>\n",
       "      <td>9.0</td>\n",
       "      <td>2.0</td>\n",
       "      <td>3</td>\n",
       "      <td>0</td>\n",
       "      <td>1</td>\n",
       "      <td>4</td>\n",
       "    </tr>\n",
       "    <tr>\n",
       "      <th>3</th>\n",
       "      <td>3</td>\n",
       "      <td>1460</td>\n",
       "      <td>2</td>\n",
       "      <td>1.0</td>\n",
       "      <td>6.0</td>\n",
       "      <td>NaN</td>\n",
       "      <td>NaN</td>\n",
       "      <td>NaN</td>\n",
       "      <td>NaN</td>\n",
       "      <td>6.0</td>\n",
       "      <td>...</td>\n",
       "      <td>8.0</td>\n",
       "      <td>11.0</td>\n",
       "      <td>11.0</td>\n",
       "      <td>6.0</td>\n",
       "      <td>9.0</td>\n",
       "      <td>1.0</td>\n",
       "      <td>3</td>\n",
       "      <td>0</td>\n",
       "      <td>2</td>\n",
       "      <td>4</td>\n",
       "    </tr>\n",
       "    <tr>\n",
       "      <th>4</th>\n",
       "      <td>4</td>\n",
       "      <td>1783</td>\n",
       "      <td>2</td>\n",
       "      <td>1.0</td>\n",
       "      <td>9.0</td>\n",
       "      <td>NaN</td>\n",
       "      <td>NaN</td>\n",
       "      <td>NaN</td>\n",
       "      <td>NaN</td>\n",
       "      <td>9.0</td>\n",
       "      <td>...</td>\n",
       "      <td>2.0</td>\n",
       "      <td>2.0</td>\n",
       "      <td>1.0</td>\n",
       "      <td>6.0</td>\n",
       "      <td>9.0</td>\n",
       "      <td>3.0</td>\n",
       "      <td>3</td>\n",
       "      <td>0</td>\n",
       "      <td>1</td>\n",
       "      <td>3</td>\n",
       "    </tr>\n",
       "  </tbody>\n",
       "</table>\n",
       "<p>5 rows × 368 columns</p>\n",
       "</div>"
      ],
      "text/plain": [
       "   Unnamed: 0   LNR  AGER_TYP  AKT_DAT_KL  ALTER_HH  ALTER_KIND1  ALTER_KIND2  \\\n",
       "0           0  1763         2         1.0       8.0          NaN          NaN   \n",
       "1           1  1771         1         4.0      13.0          NaN          NaN   \n",
       "2           2  1776         1         1.0       9.0          NaN          NaN   \n",
       "3           3  1460         2         1.0       6.0          NaN          NaN   \n",
       "4           4  1783         2         1.0       9.0          NaN          NaN   \n",
       "\n",
       "   ALTER_KIND3  ALTER_KIND4  ALTERSKATEGORIE_FEIN  ...  VK_DHT4A  VK_DISTANZ  \\\n",
       "0          NaN          NaN                   8.0  ...       5.0         2.0   \n",
       "1          NaN          NaN                  13.0  ...       1.0         2.0   \n",
       "2          NaN          NaN                   7.0  ...       6.0         4.0   \n",
       "3          NaN          NaN                   6.0  ...       8.0        11.0   \n",
       "4          NaN          NaN                   9.0  ...       2.0         2.0   \n",
       "\n",
       "   VK_ZG11  W_KEIT_KIND_HH  WOHNDAUER_2008  WOHNLAGE  ZABEOTYP  RESPONSE  \\\n",
       "0      1.0             6.0             9.0       3.0         3         0   \n",
       "1      1.0             4.0             9.0       7.0         1         0   \n",
       "2      2.0             NaN             9.0       2.0         3         0   \n",
       "3     11.0             6.0             9.0       1.0         3         0   \n",
       "4      1.0             6.0             9.0       3.0         3         0   \n",
       "\n",
       "  ANREDE_KZ ALTERSKATEGORIE_GROB  \n",
       "0         2                    4  \n",
       "1         2                    3  \n",
       "2         1                    4  \n",
       "3         2                    4  \n",
       "4         1                    3  \n",
       "\n",
       "[5 rows x 368 columns]"
      ]
     },
     "execution_count": 129,
     "metadata": {},
     "output_type": "execute_result"
    }
   ],
   "source": [
    "mailout_train.head()"
   ]
  },
  {
   "cell_type": "code",
   "execution_count": 130,
   "metadata": {},
   "outputs": [],
   "source": [
    "mailout_train = mailout_train.drop(['Unnamed: 0'], axis=1)"
   ]
  },
  {
   "cell_type": "code",
   "execution_count": 131,
   "metadata": {},
   "outputs": [
    {
     "data": {
      "text/html": [
       "<div>\n",
       "<style scoped>\n",
       "    .dataframe tbody tr th:only-of-type {\n",
       "        vertical-align: middle;\n",
       "    }\n",
       "\n",
       "    .dataframe tbody tr th {\n",
       "        vertical-align: top;\n",
       "    }\n",
       "\n",
       "    .dataframe thead th {\n",
       "        text-align: right;\n",
       "    }\n",
       "</style>\n",
       "<table border=\"1\" class=\"dataframe\">\n",
       "  <thead>\n",
       "    <tr style=\"text-align: right;\">\n",
       "      <th></th>\n",
       "      <th>LNR</th>\n",
       "      <th>AGER_TYP</th>\n",
       "      <th>AKT_DAT_KL</th>\n",
       "      <th>ALTER_HH</th>\n",
       "      <th>ALTER_KIND1</th>\n",
       "      <th>ALTER_KIND2</th>\n",
       "      <th>ALTER_KIND3</th>\n",
       "      <th>ALTER_KIND4</th>\n",
       "      <th>ALTERSKATEGORIE_FEIN</th>\n",
       "      <th>ANZ_HAUSHALTE_AKTIV</th>\n",
       "      <th>...</th>\n",
       "      <th>VK_DHT4A</th>\n",
       "      <th>VK_DISTANZ</th>\n",
       "      <th>VK_ZG11</th>\n",
       "      <th>W_KEIT_KIND_HH</th>\n",
       "      <th>WOHNDAUER_2008</th>\n",
       "      <th>WOHNLAGE</th>\n",
       "      <th>ZABEOTYP</th>\n",
       "      <th>RESPONSE</th>\n",
       "      <th>ANREDE_KZ</th>\n",
       "      <th>ALTERSKATEGORIE_GROB</th>\n",
       "    </tr>\n",
       "  </thead>\n",
       "  <tbody>\n",
       "    <tr>\n",
       "      <th>0</th>\n",
       "      <td>1763</td>\n",
       "      <td>2</td>\n",
       "      <td>1.0</td>\n",
       "      <td>8.0</td>\n",
       "      <td>NaN</td>\n",
       "      <td>NaN</td>\n",
       "      <td>NaN</td>\n",
       "      <td>NaN</td>\n",
       "      <td>8.0</td>\n",
       "      <td>15.0</td>\n",
       "      <td>...</td>\n",
       "      <td>5.0</td>\n",
       "      <td>2.0</td>\n",
       "      <td>1.0</td>\n",
       "      <td>6.0</td>\n",
       "      <td>9.0</td>\n",
       "      <td>3.0</td>\n",
       "      <td>3</td>\n",
       "      <td>0</td>\n",
       "      <td>2</td>\n",
       "      <td>4</td>\n",
       "    </tr>\n",
       "    <tr>\n",
       "      <th>1</th>\n",
       "      <td>1771</td>\n",
       "      <td>1</td>\n",
       "      <td>4.0</td>\n",
       "      <td>13.0</td>\n",
       "      <td>NaN</td>\n",
       "      <td>NaN</td>\n",
       "      <td>NaN</td>\n",
       "      <td>NaN</td>\n",
       "      <td>13.0</td>\n",
       "      <td>1.0</td>\n",
       "      <td>...</td>\n",
       "      <td>1.0</td>\n",
       "      <td>2.0</td>\n",
       "      <td>1.0</td>\n",
       "      <td>4.0</td>\n",
       "      <td>9.0</td>\n",
       "      <td>7.0</td>\n",
       "      <td>1</td>\n",
       "      <td>0</td>\n",
       "      <td>2</td>\n",
       "      <td>3</td>\n",
       "    </tr>\n",
       "    <tr>\n",
       "      <th>2</th>\n",
       "      <td>1776</td>\n",
       "      <td>1</td>\n",
       "      <td>1.0</td>\n",
       "      <td>9.0</td>\n",
       "      <td>NaN</td>\n",
       "      <td>NaN</td>\n",
       "      <td>NaN</td>\n",
       "      <td>NaN</td>\n",
       "      <td>7.0</td>\n",
       "      <td>0.0</td>\n",
       "      <td>...</td>\n",
       "      <td>6.0</td>\n",
       "      <td>4.0</td>\n",
       "      <td>2.0</td>\n",
       "      <td>NaN</td>\n",
       "      <td>9.0</td>\n",
       "      <td>2.0</td>\n",
       "      <td>3</td>\n",
       "      <td>0</td>\n",
       "      <td>1</td>\n",
       "      <td>4</td>\n",
       "    </tr>\n",
       "    <tr>\n",
       "      <th>3</th>\n",
       "      <td>1460</td>\n",
       "      <td>2</td>\n",
       "      <td>1.0</td>\n",
       "      <td>6.0</td>\n",
       "      <td>NaN</td>\n",
       "      <td>NaN</td>\n",
       "      <td>NaN</td>\n",
       "      <td>NaN</td>\n",
       "      <td>6.0</td>\n",
       "      <td>4.0</td>\n",
       "      <td>...</td>\n",
       "      <td>8.0</td>\n",
       "      <td>11.0</td>\n",
       "      <td>11.0</td>\n",
       "      <td>6.0</td>\n",
       "      <td>9.0</td>\n",
       "      <td>1.0</td>\n",
       "      <td>3</td>\n",
       "      <td>0</td>\n",
       "      <td>2</td>\n",
       "      <td>4</td>\n",
       "    </tr>\n",
       "    <tr>\n",
       "      <th>4</th>\n",
       "      <td>1783</td>\n",
       "      <td>2</td>\n",
       "      <td>1.0</td>\n",
       "      <td>9.0</td>\n",
       "      <td>NaN</td>\n",
       "      <td>NaN</td>\n",
       "      <td>NaN</td>\n",
       "      <td>NaN</td>\n",
       "      <td>9.0</td>\n",
       "      <td>53.0</td>\n",
       "      <td>...</td>\n",
       "      <td>2.0</td>\n",
       "      <td>2.0</td>\n",
       "      <td>1.0</td>\n",
       "      <td>6.0</td>\n",
       "      <td>9.0</td>\n",
       "      <td>3.0</td>\n",
       "      <td>3</td>\n",
       "      <td>0</td>\n",
       "      <td>1</td>\n",
       "      <td>3</td>\n",
       "    </tr>\n",
       "  </tbody>\n",
       "</table>\n",
       "<p>5 rows × 367 columns</p>\n",
       "</div>"
      ],
      "text/plain": [
       "    LNR  AGER_TYP  AKT_DAT_KL  ALTER_HH  ALTER_KIND1  ALTER_KIND2  \\\n",
       "0  1763         2         1.0       8.0          NaN          NaN   \n",
       "1  1771         1         4.0      13.0          NaN          NaN   \n",
       "2  1776         1         1.0       9.0          NaN          NaN   \n",
       "3  1460         2         1.0       6.0          NaN          NaN   \n",
       "4  1783         2         1.0       9.0          NaN          NaN   \n",
       "\n",
       "   ALTER_KIND3  ALTER_KIND4  ALTERSKATEGORIE_FEIN  ANZ_HAUSHALTE_AKTIV  ...  \\\n",
       "0          NaN          NaN                   8.0                 15.0  ...   \n",
       "1          NaN          NaN                  13.0                  1.0  ...   \n",
       "2          NaN          NaN                   7.0                  0.0  ...   \n",
       "3          NaN          NaN                   6.0                  4.0  ...   \n",
       "4          NaN          NaN                   9.0                 53.0  ...   \n",
       "\n",
       "   VK_DHT4A  VK_DISTANZ  VK_ZG11  W_KEIT_KIND_HH  WOHNDAUER_2008  WOHNLAGE  \\\n",
       "0       5.0         2.0      1.0             6.0             9.0       3.0   \n",
       "1       1.0         2.0      1.0             4.0             9.0       7.0   \n",
       "2       6.0         4.0      2.0             NaN             9.0       2.0   \n",
       "3       8.0        11.0     11.0             6.0             9.0       1.0   \n",
       "4       2.0         2.0      1.0             6.0             9.0       3.0   \n",
       "\n",
       "   ZABEOTYP RESPONSE ANREDE_KZ ALTERSKATEGORIE_GROB  \n",
       "0         3        0         2                    4  \n",
       "1         1        0         2                    3  \n",
       "2         3        0         1                    4  \n",
       "3         3        0         2                    4  \n",
       "4         3        0         1                    3  \n",
       "\n",
       "[5 rows x 367 columns]"
      ]
     },
     "execution_count": 131,
     "metadata": {},
     "output_type": "execute_result"
    }
   ],
   "source": [
    "mailout_train.head()"
   ]
  },
  {
   "cell_type": "code",
   "execution_count": 132,
   "metadata": {},
   "outputs": [],
   "source": [
    "# Define the response variable\n",
    "X = mailout_train.drop('RESPONSE',axis=1)\n",
    "y = mailout_train['RESPONSE']"
   ]
  },
  {
   "cell_type": "code",
   "execution_count": 133,
   "metadata": {},
   "outputs": [
    {
     "name": "stdout",
     "output_type": "stream",
     "text": [
      "Shape before (42962, 366)\n",
      "{'OST_WEST_KZ', 'D19_LETZTER_KAUF_BRANCHE', 'CAMEO_INTL_2015', 'CAMEO_DEU_2015', 'CAMEO_DEUG_2015', 'EINGEFUEGT_AM'}\n",
      "shape after corr (42962, 276)\n",
      "Number of nan Values 0\n",
      "shape after (42962, 321)\n"
     ]
    }
   ],
   "source": [
    "# Data Pre_processing \n",
    "df_mailout_train  = data_cleaning(X)"
   ]
  },
  {
   "cell_type": "code",
   "execution_count": 143,
   "metadata": {},
   "outputs": [],
   "source": [
    "# Split the data\n",
    "X_train,X_test,y_train,y_test = train_test_split(df_mailout_train,y,stratify=y,random_state=SEED,test_size=0.2)"
   ]
  },
  {
   "cell_type": "markdown",
   "metadata": {},
   "source": [
    "#### Compare models"
   ]
  },
  {
   "cell_type": "code",
   "execution_count": 154,
   "metadata": {},
   "outputs": [],
   "source": [
    "X_train, X_val, y_train, y_val = train_test_split(df_mailout_train, y, stratify=y, test_size=0.2, random_state=SEED)"
   ]
  },
  {
   "cell_type": "code",
   "execution_count": 155,
   "metadata": {},
   "outputs": [],
   "source": [
    "def train_and_predict(model, X_train, y_train, X_test, y_test):\n",
    "    \"\"\"\n",
    "    Fit a model on X_train, y_train\n",
    "    predicts on X_text, y_test \n",
    "    Calculate AUROC on predictions made on test data\n",
    "    \n",
    "    Outputs - AUROC score, time elapse for training and prediction    \n",
    "    \"\"\"\n",
    "    start = time.time()\n",
    "    model = model.fit(X_train, y_train)\n",
    "    \n",
    "    roc_score = roc_auc_score(y_test, model.predict_proba(X_test)[:,1])\n",
    "    \n",
    "    end = time.time()\n",
    "    time_elapsed = end - start\n",
    "    \n",
    "    return roc_score, time_elapsed"
   ]
  },
  {
   "cell_type": "code",
   "execution_count": 156,
   "metadata": {},
   "outputs": [],
   "source": [
    "models = [(\"LogisticRegression\", LogisticRegression(random_state=SEED)),\n",
    "         (\"DecisionTreeClassifier\", DecisionTreeClassifier(random_state=SEED)),\n",
    "         (\"RandomForestClassifier\", RandomForestClassifier(random_state=SEED)),\n",
    "         (\"GradientBoostingClassifier\", GradientBoostingClassifier(random_state=SEED)),\n",
    "         (\"AdaBoostClassifier\", AdaBoostClassifier(random_state=SEED)),\n",
    "         (\"XGBClassifier\",xgb.XGBClassifier(random_state=SEED))]"
   ]
  },
  {
   "cell_type": "code",
   "execution_count": 157,
   "metadata": {},
   "outputs": [
    {
     "name": "stderr",
     "output_type": "stream",
     "text": [
      "C:\\ProgramData\\Anaconda3\\lib\\site-packages\\xgboost\\sklearn.py:888: UserWarning: The use of label encoder in XGBClassifier is deprecated and will be removed in a future release. To remove this warning, do the following: 1) Pass option use_label_encoder=False when constructing XGBClassifier object; and 2) Encode your labels (y) as integers starting with 0, i.e. 0, 1, 2, ..., [num_class - 1].\n",
      "  warnings.warn(label_encoder_deprecation_msg, UserWarning)\n"
     ]
    },
    {
     "name": "stdout",
     "output_type": "stream",
     "text": [
      "[19:30:13] WARNING: C:/Users/Administrator/workspace/xgboost-win64_release_1.3.0/src/learner.cc:1061: Starting in XGBoost 1.3.0, the default evaluation metric used with the objective 'binary:logistic' was changed from 'error' to 'logloss'. Explicitly set eval_metric if you'd like to restore the old behavior.\n"
     ]
    }
   ],
   "source": [
    "results = {\"Model\":[],\n",
    "          \"AUCROC_score\":[],\n",
    "          \"Time_in_sec\":[]}\n",
    "\n",
    "for name, model in models:\n",
    "    roc, time_ = train_and_predict(model, X_train, y_train, X_val, y_val)\n",
    "    results[\"Model\"].append(name)\n",
    "    results[\"AUCROC_score\"].append(roc)\n",
    "    results[\"Time_in_sec\"].append(time_)"
   ]
  },
  {
   "cell_type": "code",
   "execution_count": 158,
   "metadata": {},
   "outputs": [
    {
     "data": {
      "text/html": [
       "<div>\n",
       "<style scoped>\n",
       "    .dataframe tbody tr th:only-of-type {\n",
       "        vertical-align: middle;\n",
       "    }\n",
       "\n",
       "    .dataframe tbody tr th {\n",
       "        vertical-align: top;\n",
       "    }\n",
       "\n",
       "    .dataframe thead th {\n",
       "        text-align: right;\n",
       "    }\n",
       "</style>\n",
       "<table border=\"1\" class=\"dataframe\">\n",
       "  <thead>\n",
       "    <tr style=\"text-align: right;\">\n",
       "      <th></th>\n",
       "      <th>Model</th>\n",
       "      <th>AUCROC_score</th>\n",
       "      <th>Time_in_sec</th>\n",
       "    </tr>\n",
       "  </thead>\n",
       "  <tbody>\n",
       "    <tr>\n",
       "      <th>0</th>\n",
       "      <td>LogisticRegression</td>\n",
       "      <td>0.689629</td>\n",
       "      <td>1.935</td>\n",
       "    </tr>\n",
       "    <tr>\n",
       "      <th>1</th>\n",
       "      <td>DecisionTreeClassifier</td>\n",
       "      <td>0.540728</td>\n",
       "      <td>2.31003</td>\n",
       "    </tr>\n",
       "    <tr>\n",
       "      <th>2</th>\n",
       "      <td>RandomForestClassifier</td>\n",
       "      <td>0.578212</td>\n",
       "      <td>13.6376</td>\n",
       "    </tr>\n",
       "    <tr>\n",
       "      <th>3</th>\n",
       "      <td>GradientBoostingClassifier</td>\n",
       "      <td>0.76548</td>\n",
       "      <td>53.774</td>\n",
       "    </tr>\n",
       "    <tr>\n",
       "      <th>4</th>\n",
       "      <td>AdaBoostClassifier</td>\n",
       "      <td>0.734101</td>\n",
       "      <td>14.3908</td>\n",
       "    </tr>\n",
       "    <tr>\n",
       "      <th>5</th>\n",
       "      <td>XGBClassifier</td>\n",
       "      <td>0.695248</td>\n",
       "      <td>16.8857</td>\n",
       "    </tr>\n",
       "  </tbody>\n",
       "</table>\n",
       "</div>"
      ],
      "text/plain": [
       "                        Model AUCROC_score Time_in_sec\n",
       "0          LogisticRegression     0.689629       1.935\n",
       "1      DecisionTreeClassifier     0.540728     2.31003\n",
       "2      RandomForestClassifier     0.578212     13.6376\n",
       "3  GradientBoostingClassifier      0.76548      53.774\n",
       "4          AdaBoostClassifier     0.734101     14.3908\n",
       "5               XGBClassifier     0.695248     16.8857"
      ]
     },
     "execution_count": 158,
     "metadata": {},
     "output_type": "execute_result"
    }
   ],
   "source": [
    "results = pd.DataFrame.from_dict(results, orient='index').transpose()\n",
    "results"
   ]
  },
  {
   "cell_type": "markdown",
   "metadata": {},
   "source": [
    "#### Grid Search "
   ]
  },
  {
   "cell_type": "markdown",
   "metadata": {},
   "source": [
    "##### AdaBoostClassifier"
   ]
  },
  {
   "cell_type": "code",
   "execution_count": 160,
   "metadata": {},
   "outputs": [],
   "source": [
    "#Define the paramaters for GridSearch\n",
    "param_grid = {\"n_estimators\": [50,100,150,200],\n",
    "              \"learning_rate\": [0.01,0.1,0.5,0.9,1.],\n",
    "              \"algorithm\":[\"SAMME.R\"]\n",
    "              }\n",
    "\n",
    "\n",
    "adaboost_grid = GridSearchCV(estimator = AdaBoostClassifier(random_state=SEED), \n",
    "                           param_grid = param_grid, \n",
    "                           scoring = \"roc_auc\", \n",
    "                           cv = 5, n_jobs = -1, verbose=2)"
   ]
  },
  {
   "cell_type": "code",
   "execution_count": 225,
   "metadata": {},
   "outputs": [
    {
     "name": "stdout",
     "output_type": "stream",
     "text": [
      "Best Score:  0.7597514028459369\n",
      "Best Params:  {'learning_rate': 0.01, 'max_depth': 2, 'min_samples_split': 3, 'n_estimators': 1000}\n",
      "Wall time: 1h 46min 59s\n"
     ]
    }
   ],
   "source": [
    "%%time\n",
    "adaboost_grid.fit(X_train, y_train)\n",
    "\n",
    "best_adaboost = adaboost_grid.best_estimator_\n",
    "\n",
    "print(\"Best Score: \", adaboost_grid.best_score_)\n",
    "print(\"Best Params: \", adaboost_grid.best_params_)"
   ]
  },
  {
   "cell_type": "code",
   "execution_count": 226,
   "metadata": {},
   "outputs": [
    {
     "name": "stdout",
     "output_type": "stream",
     "text": [
      "ROC score on validation data: 0.7613\n"
     ]
    }
   ],
   "source": [
    "preds_adaboost = best_adaboost.predict_proba(X_val)[:,1]\n",
    "\n",
    "print(\"ROC score on validation data: {:.4f}\".format(roc_auc_score(y_val, preds_adaboost)))"
   ]
  },
  {
   "cell_type": "code",
   "execution_count": 227,
   "metadata": {},
   "outputs": [],
   "source": [
    "\n",
    "def plot_feature_importances(model, model_name, feature_names, num_features=10):\n",
    "    \"\"\"\n",
    "    Plots top n feature importances for the given model\n",
    "    \"\"\"\n",
    "\n",
    "    \n",
    "    feature_importance_values= np.zeros((len(model.feature_importances_)))\n",
    "    \n",
    "    feature_importance_values += model.feature_importances_\n",
    "\n",
    "    feature_importances = pd.DataFrame({'feature': feature_names, 'importance': feature_importance_values})\n",
    "\n",
    "    # sort based on importance\n",
    "    feature_importances = feature_importances.sort_values('importance', ascending = False).reset_index(drop = True)\n",
    "\n",
    "    # normalize the feature importances to add up to one\n",
    "    feature_importances['normalized_importance'] = feature_importances['importance'] / feature_importances['importance'].sum()\n",
    "    feature_importances['cumulative_importance'] = np.cumsum(feature_importances['normalized_importance'])\n",
    "    \n",
    "    fig = plt.figure(figsize=(8, 5))\n",
    "    ax = fig.add_subplot(111)\n",
    "    \n",
    "    ax.barh(list(reversed(list(feature_importances.index[:num_features]))), \n",
    "                feature_importances['normalized_importance'][:num_features], \n",
    "                align = 'center')\n",
    "\n",
    "    # Set ticks and labels\n",
    "    ax.set_yticks(list(reversed(list(feature_importances.index[:num_features]))))\n",
    "    ax.set_yticklabels(feature_importances['feature'][:num_features])\n",
    "    ax.set_xlabel('Normalized Importance')\n",
    "    ax.set_title(f'Feature Importances ({model_name})')"
   ]
  },
  {
   "cell_type": "code",
   "execution_count": 228,
   "metadata": {},
   "outputs": [
    {
     "data": {
      "image/png": "[encoded data removed]",
      "text/plain": [
       "<Figure size 576x360 with 1 Axes>"
      ]
     },
     "metadata": {},
     "output_type": "display_data"
    }
   ],
   "source": [
    "plot_feature_importances(model=best_adaboost, model_name=\"AdaBoost\", feature_names=df_mailout_train.columns)"
   ]
  },
  {
   "cell_type": "markdown",
   "metadata": {},
   "source": [
    "##### XGBClassifier"
   ]
  },
  {
   "cell_type": "code",
   "execution_count": 167,
   "metadata": {},
   "outputs": [],
   "source": [
    "xgb_param_grid = {\"max_depth\": [5,10,20,30],\n",
    "              \"learning_rate\": [0.01,0.1,0.5,0.9,1.],\n",
    "              \"gamma\":[0.1,0.5,1.0],\n",
    "              \"n_estimators\":[50,100,150,200]\n",
    "              }\n",
    "\n",
    "xgb_grid = GridSearchCV(estimator = xgb.XGBClassifier(objective=\"binary:logistic\", \n",
    "                                                            n_jobs=-1, eval_metric=\"auc\",\n",
    "                                                            silent=1,random_state=SEED), \n",
    "                           param_grid = xgb_param_grid, \n",
    "                           scoring = \"roc_auc\",\n",
    "                           cv = 5, n_jobs = -1, verbose=2)"
   ]
  },
  {
   "cell_type": "code",
   "execution_count": 168,
   "metadata": {},
   "outputs": [
    {
     "name": "stdout",
     "output_type": "stream",
     "text": [
      "Fitting 5 folds for each of 240 candidates, totalling 1200 fits\n"
     ]
    },
    {
     "name": "stderr",
     "output_type": "stream",
     "text": [
      "[Parallel(n_jobs=-1)]: Using backend LokyBackend with 4 concurrent workers.\n",
      "[Parallel(n_jobs=-1)]: Done  33 tasks      | elapsed:  8.3min\n",
      "[Parallel(n_jobs=-1)]: Done 154 tasks      | elapsed: 78.4min\n",
      "[Parallel(n_jobs=-1)]: Done 357 tasks      | elapsed: 168.6min\n",
      "[Parallel(n_jobs=-1)]: Done 640 tasks      | elapsed: 294.5min\n",
      "[Parallel(n_jobs=-1)]: Done 1005 tasks      | elapsed: 452.8min\n",
      "[Parallel(n_jobs=-1)]: Done 1200 out of 1200 | elapsed: 551.4min finished\n",
      "C:\\ProgramData\\Anaconda3\\lib\\site-packages\\xgboost\\sklearn.py:888: UserWarning: The use of label encoder in XGBClassifier is deprecated and will be removed in a future release. To remove this warning, do the following: 1) Pass option use_label_encoder=False when constructing XGBClassifier object; and 2) Encode your labels (y) as integers starting with 0, i.e. 0, 1, 2, ..., [num_class - 1].\n",
      "  warnings.warn(label_encoder_deprecation_msg, UserWarning)\n"
     ]
    },
    {
     "name": "stdout",
     "output_type": "stream",
     "text": [
      "[05:15:42] WARNING: C:/Users/Administrator/workspace/xgboost-win64_release_1.3.0/src/learner.cc:541: \n",
      "Parameters: { silent } might not be used.\n",
      "\n",
      "  This may not be accurate due to some parameters are only used in language bindings but\n",
      "  passed down to XGBoost core.  Or some parameters are not used but slip through this\n",
      "  verification. Please open an issue if you find above cases.\n",
      "\n",
      "\n",
      "Wall time: 9h 11min 34s\n"
     ]
    }
   ],
   "source": [
    "%%time\n",
    "xgb_grid.fit(X_train, y_train)\n",
    "\n",
    "best_xgb = xgb_grid.best_estimator_"
   ]
  },
  {
   "cell_type": "code",
   "execution_count": 169,
   "metadata": {},
   "outputs": [
    {
     "name": "stdout",
     "output_type": "stream",
     "text": [
      "Best Score:  0.7633140979328148\n",
      "Best Params:  {'gamma': 0.1, 'learning_rate': 0.1, 'max_depth': 5, 'n_estimators': 50}\n"
     ]
    }
   ],
   "source": [
    "print(\"Best Score: \", xgb_grid.best_score_)\n",
    "print(\"Best Params: \", xgb_grid.best_params_)"
   ]
  },
  {
   "cell_type": "code",
   "execution_count": 170,
   "metadata": {},
   "outputs": [
    {
     "name": "stdout",
     "output_type": "stream",
     "text": [
      "ROC score on validation data: 0.7703\n"
     ]
    }
   ],
   "source": [
    "preds_xgb = best_xgb.predict_proba(X_val)[:,1]\n",
    "\n",
    "print(\"ROC score on validation data: {:.4f}\".format(roc_auc_score(y_val, preds_xgb)))"
   ]
  },
  {
   "cell_type": "code",
   "execution_count": 171,
   "metadata": {},
   "outputs": [
    {
     "data": {
      "image/png": "[encoded data removed]",
      "text/plain": [
       "<Figure size 576x360 with 1 Axes>"
      ]
     },
     "metadata": {
      "needs_background": "light"
     },
     "output_type": "display_data"
    }
   ],
   "source": [
    "plot_feature_importances(model=best_xgb, model_name=\"XGBClassifier\", feature_names=df_mailout_train.columns)\n"
   ]
  },
  {
   "cell_type": "markdown",
   "metadata": {},
   "source": [
    "### Kaggle Submisson"
   ]
  },
  {
   "cell_type": "markdown",
   "metadata": {},
   "source": [
    "#### AdaBoost"
   ]
  },
  {
   "cell_type": "code",
   "execution_count": 229,
   "metadata": {},
   "outputs": [
    {
     "data": {
      "text/plain": [
       "GradientBoostingClassifier(learning_rate=0.01, max_depth=2, min_samples_split=3,\n",
       "                           n_estimators=1000)"
      ]
     },
     "execution_count": 229,
     "metadata": {},
     "output_type": "execute_result"
    }
   ],
   "source": [
    "# fit model\n",
    "best_adaboost.fit(df_mailout_train, y)"
   ]
  },
  {
   "cell_type": "code",
   "execution_count": 230,
   "metadata": {},
   "outputs": [],
   "source": [
    "# Make prediction on test data\n",
    "preds_test_adaboost = best_adaboost.predict_proba(mailout_test_clean)[:,1]\n"
   ]
  },
  {
   "cell_type": "code",
   "execution_count": 231,
   "metadata": {},
   "outputs": [],
   "source": [
    "# convert to dataFrame with appropriate columns\n",
    "kaggle_adaboost = pd.DataFrame(index=mailout_test[\"LNR\"], data=preds_test_adaboost)\n",
    "kaggle_adaboost.rename(columns={0: \"RESPONSE\"}, inplace=True)"
   ]
  },
  {
   "cell_type": "code",
   "execution_count": 232,
   "metadata": {},
   "outputs": [],
   "source": [
    "# save model to csv for submission\n",
    "kaggle_adaboost.to_csv('submission5.csv')"
   ]
  },
  {
   "cell_type": "markdown",
   "metadata": {},
   "source": [
    "#### XGBoost"
   ]
  },
  {
   "cell_type": "code",
   "execution_count": 179,
   "metadata": {},
   "outputs": [
    {
     "name": "stderr",
     "output_type": "stream",
     "text": [
      "C:\\ProgramData\\Anaconda3\\lib\\site-packages\\xgboost\\sklearn.py:888: UserWarning: The use of label encoder in XGBClassifier is deprecated and will be removed in a future release. To remove this warning, do the following: 1) Pass option use_label_encoder=False when constructing XGBClassifier object; and 2) Encode your labels (y) as integers starting with 0, i.e. 0, 1, 2, ..., [num_class - 1].\n",
      "  warnings.warn(label_encoder_deprecation_msg, UserWarning)\n"
     ]
    },
    {
     "name": "stdout",
     "output_type": "stream",
     "text": [
      "[05:55:55] WARNING: C:/Users/Administrator/workspace/xgboost-win64_release_1.3.0/src/learner.cc:541: \n",
      "Parameters: { silent } might not be used.\n",
      "\n",
      "  This may not be accurate due to some parameters are only used in language bindings but\n",
      "  passed down to XGBoost core.  Or some parameters are not used but slip through this\n",
      "  verification. Please open an issue if you find above cases.\n",
      "\n",
      "\n"
     ]
    },
    {
     "data": {
      "text/plain": [
       "XGBClassifier(base_score=0.5, booster='gbtree', colsample_bylevel=1,\n",
       "              colsample_bynode=1, colsample_bytree=1, eval_metric='auc',\n",
       "              gamma=0.1, gpu_id=-1, importance_type='gain',\n",
       "              interaction_constraints='', learning_rate=0.1, max_delta_step=0,\n",
       "              max_depth=5, min_child_weight=1, missing=nan,\n",
       "              monotone_constraints='()', n_estimators=50, n_jobs=-1,\n",
       "              num_parallel_tree=1, random_state=42, reg_alpha=0, reg_lambda=1,\n",
       "              scale_pos_weight=1, silent=1, subsample=1, tree_method='exact',\n",
       "              validate_parameters=1, verbosity=None)"
      ]
     },
     "execution_count": 179,
     "metadata": {},
     "output_type": "execute_result"
    }
   ],
   "source": [
    "# fit XGBoost model\n",
    "best_xgb.fit(df_mailout_train, y)"
   ]
  },
  {
   "cell_type": "code",
   "execution_count": 180,
   "metadata": {},
   "outputs": [],
   "source": [
    "# Make prediction\n",
    "preds_test_xgb = best_xgb.predict_proba(mailout_test_clean)[:,1]"
   ]
  },
  {
   "cell_type": "code",
   "execution_count": 181,
   "metadata": {},
   "outputs": [],
   "source": [
    "## convert to dataFrame with appropriate columns\n",
    "kaggle_xgb = pd.DataFrame(index=mailout_test[\"LNR\"], data=preds_test_xgb)\n",
    "kaggle_xgb.rename(columns={0: \"RESPONSE\"}, inplace=True)"
   ]
  },
  {
   "cell_type": "code",
   "execution_count": 182,
   "metadata": {},
   "outputs": [],
   "source": [
    "# save model to csv for submission\n",
    "kaggle_xgb.to_csv(\"submission3.csv\")"
   ]
  },
  {
   "attachments": {
    "image.png": {
     "image/png": "[encoded data removed]"
    }
   },
   "cell_type": "markdown",
   "metadata": {},
   "source": [
    "![image.png](attachment:image.png)"
   ]
  },
  {
   "attachments": {
    "image.png": {
     "image/png": "[encoded data removed]"
    }
   },
   "cell_type": "markdown",
   "metadata": {},
   "source": [
    "![image.png](attachment:image.png)"
   ]
  },
  {
   "cell_type": "markdown",
   "metadata": {},
   "source": [
    "The Adaboost model with hyperparameter tuning performns better and is also take less time"
   ]
  },
  {
   "cell_type": "code",
   "execution_count": null,
   "metadata": {},
   "outputs": [],
   "source": []
  }
 ],
 "metadata": {
  "kernelspec": {
   "display_name": "Python 3",
   "language": "python",
   "name": "python3"
  },
  "language_info": {
   "codemirror_mode": {
    "name": "ipython",
    "version": 3
   },
   "file_extension": ".py",
   "mimetype": "text/x-python",
   "name": "python",
   "nbconvert_exporter": "python",
   "pygments_lexer": "ipython3",
   "version": "3.8.3"
  },
  "toc": {
   "base_numbering": 1,
   "nav_menu": {},
   "number_sections": true,
   "sideBar": true,
   "skip_h1_title": false,
   "title_cell": "Table of Contents",
   "title_sidebar": "Contents",
   "toc_cell": false,
   "toc_position": {
    "height": "calc(100% - 180px)",
    "left": "10px",
    "top": "150px",
    "width": "293px"
   },
   "toc_section_display": true,
   "toc_window_display": true
  }
 },
 "nbformat": 4,
 "nbformat_minor": 2
}
